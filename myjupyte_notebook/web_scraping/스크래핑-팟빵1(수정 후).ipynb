{
 "cells": [
  {
   "cell_type": "code",
   "execution_count": 14,
   "metadata": {},
   "outputs": [],
   "source": [
    "import requests\n",
    "from bs4 import BeautifulSoup\n",
    "from urllib.parse import urljoin # referer << 웹툰에서 실제 만화 회차를 보려면 주어진 고유 값(주소)\n"
   ]
  },
  {
   "cell_type": "code",
   "execution_count": 12,
   "metadata": {},
   "outputs": [
    {
     "output_type": "execute_result",
     "data": {
      "text/plain": "'http://www.podbbang.com/podbbangchnew/episode_list?id=16255&page=1'"
     },
     "metadata": {},
     "execution_count": 12
    }
   ],
   "source": [
    "#여행바이러스 라디오(52건)\n",
    "page_url = \"http://www.podbbang.com/podbbangchnew/episode_list?id=16255&page=1\"   # 16255 에피소드 번호 // page=1 >> 은 몇번째 페이지인지\n",
    "#엄마의 미드공부(71건)\n",
    "#page_url = 'http://www.podbbang.com/podbbangchnew/episode_list?id=16524&page=1'\n",
    "page_url"
   ]
  },
  {
   "cell_type": "code",
   "execution_count": 4,
   "metadata": {},
   "outputs": [],
   "source": [
    "headers = {\n",
    "    'User-Agent': 'Mozilla/5.0 (Windows NT 10.0; Win64; x64) AppleWebKit/537.36 (KHTML, like Gecko) Chrome/65.0.3325.181 Safari/537.36',\n",
    "} # User-Agent << 반드시 줘야 웹 스크래핑 가능 = 멜론이랑 똑같음 \n",
    "r = requests.get(page_url,headers=headers)\n",
    "# 인코딩 설정\n",
    "r.encoding = \"utf-8\"                       \n",
    "html = r.text\n",
    "soup = BeautifulSoup(html,\"html.parser\")"
   ]
  },
  {
   "cell_type": "code",
   "execution_count": 17,
   "metadata": {
    "tags": []
   },
   "outputs": [
    {
     "output_type": "stream",
     "name": "stdout",
     "text": "46. 소소하게 여행중독 #2 : 문상건 작가의 아시아와 세이셸 http://www.podbbang.com/download?pid=16255&eid=22816888\n46 소소하게 여행중독 2  문상건 작가의 아시아와 세이셸.mp3\n45. 소소하게 여행중독 - 문상건 작가의 인도 여행기 http://www.podbbang.com/download?pid=16255&eid=22810950\n45 소소하게 여행중독  문상건 작가의 인도 여행기.mp3\n44. 여행직업탐구 : 국외여행인솔자 뽀개기 feat. 서주희 http://www.podbbang.com/download?pid=16255&eid=22795328\n44 여행직업탐구  국외여행인솔자 뽀개기 feat 서주희.mp3\n43. 코이카(KOICA) 뽀개기 feat.서주희 http://www.podbbang.com/download?pid=16255&eid=22792568\n43 코이카KOICA 뽀개기 feat서주희.mp3\n42. 6개월 동안의 신혼여행 feat 밤송이 http://www.podbbang.com/download?pid=16255&eid=22786239\n42 6개월 동안의 신혼여행 feat 밤송이.mp3\n춤추는 쥬디의 플래시몹 in 멕시코시티 http://www.podbbang.com/download?pid=16255&eid=22777956\n춤추는 쥬디의 플래시몹 in 멕시코시티.mp3\n41. 춤추는 쥬디의 멕시코 여행 http://www.podbbang.com/download?pid=16255&eid=22777932\n41 춤추는 쥬디의 멕시코 여행.mp3\n40. 여행하다 배우다 : 남미에서 살사, 스페인어 정복하기 feat. 쥬디 http://www.podbbang.com/download?pid=16255&eid=22772684\n40 여행하다 배우다  남미에서 살사 스페인어 정복하기 feat 쥬디.mp3\n39. 불의 나라 아제르바이잔, 바람의 도시 바쿠 feat 바쿠소녀 송의영 http://www.podbbang.com/download?pid=16255&eid=22766327\n39 불의 나라 아제르바이잔 바람의 도시 바쿠 feat 바쿠소녀 송의영.mp3\n38. 조지아(Georgia)를 아시나요? feat 바쿠소녀 송의영 http://www.podbbang.com/download?pid=16255&eid=22760194\n38 조지아Georgia를 아시나요 feat 바쿠소녀 송의영.mp3\n"
    }
   ],
   "source": [
    "for li_tag in soup.select('li'):                                         # 각 동영상들 태그 parsing\n",
    "#     print(li_tag)\n",
    "    title = li_tag.find('dt')['title']                                   # dt태그의 [속성값]\n",
    "    #유료인 경우 a tag가 없으므로 한번 체크를 해준다.\n",
    "    if li_tag.find('a'):\n",
    "        link = urljoin(page_url, li_tag.find('a')['href'])                # 무료면 a 태그가 있음\n",
    "    else:\n",
    "        link = None                                                 # 유료는 없는데 없으면 넘겨라\n",
    "    print(title,link)\n",
    "\n",
    "    req_headers = {\n",
    "        'referer' : 'http://www.podbbang.com/ch/16255',\n",
    "        'User-Agent' : 'Mozilla/5.0 (Windows NT 10.0; Win64; x64) AppleWebKit/537.36 (KHTML, like Gecko) Chrome/65.0.3325.181 Safari/537.36'\n",
    "    }\n",
    "\n",
    "    if link:\n",
    "        mp3_bin = requests.get(link, headers=req_headers).content # binary file 가져오려면 content 함수 써야함\n",
    "        title = clean_text(title)\n",
    "        file_name = '{}.mp3'.format(title)\n",
    "        print(file_name)\n",
    "        with open('mp3/'+file_name,'wb') as f:\n",
    "            f.write(mp3_bin)"
   ]
  },
  {
   "cell_type": "code",
   "execution_count": 6,
   "metadata": {},
   "outputs": [],
   "source": [
    "import re\n",
    "# 클리닝 함수 (file에 특수문자가 있을 경우 )\n",
    "def clean_text(text):\n",
    "    text = text.replace(\"\\n\", \"\") # \\n 다 대체하겠다\n",
    "    cleaned_text = re.sub('[\\{\\}\\[\\]\\/?.,;:|\\)*~`!^\\-_+<>@\\#$%&\\\\\\=\\(\\'\\\"]', \n",
    "                          '', text) # 특수 문자 substring 으로 대체\n",
    "    return cleaned_text"
   ]
  },
  {
   "cell_type": "code",
   "execution_count": 7,
   "metadata": {},
   "outputs": [
    {
     "output_type": "execute_result",
     "data": {
      "text/plain": "'김영철의 파워FM  진짜 미국식 영어 757회  Thanks  Cheers 고마워요'"
     },
     "metadata": {},
     "execution_count": 7
    }
   ],
   "source": [
    "clean_text('김영철의 파워FM - 진짜 미국식 영어 757회 - Thanks. / Cheers! (고마워요.)') # 함수 테스트 (특수문자 제거)"
   ]
  },
  {
   "cell_type": "code",
   "execution_count": 8,
   "metadata": {},
   "outputs": [
    {
     "output_type": "execute_result",
     "data": {
      "text/plain": "'조지아Georgia를 아시나요 feat 바쿠소녀 송의영'"
     },
     "metadata": {},
     "execution_count": 8
    }
   ],
   "source": [
    "clean_text('조지아(Georgia)를 아시나요? feat 바쿠소녀 송의영') # 함수 테스트2"
   ]
  }
 ],
 "metadata": {
  "kernelspec": {
   "display_name": "Python 3",
   "language": "python",
   "name": "python3"
  },
  "language_info": {
   "codemirror_mode": {
    "name": "ipython",
    "version": 3
   },
   "file_extension": ".py",
   "mimetype": "text/x-python",
   "name": "python",
   "nbconvert_exporter": "python",
   "pygments_lexer": "ipython3",
   "version": "3.7.0"
  }
 },
 "nbformat": 4,
 "nbformat_minor": 2
}