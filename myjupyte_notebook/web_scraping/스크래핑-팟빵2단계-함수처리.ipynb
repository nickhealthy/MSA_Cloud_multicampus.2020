{
 "cells": [
  {
   "cell_type": "code",
   "execution_count": 23,
   "metadata": {
    "tags": []
   },
   "outputs": [],
   "source": [
    "import requests\n",
    "from bs4 import BeautifulSoup\n",
    "from urllib.parse import urljoin \n",
    "import re\n",
    "from itertools import count # 내장모듈, 카운트를 지정안해놔도 알아서 세준다. \n",
    "from time import sleep\n",
    "\n",
    "# 클리닝 함수 (file에 특수문자가 있을 경우 )\n",
    "def clean_text(text):\n",
    "    text = text.replace(\"\\n\", \"\") # \\n 다 대체하겠다\n",
    "    cleaned_text = re.sub('[\\{\\}\\[\\]\\/?.,;:|\\)*~`!^\\-_+<>@\\#$%&\\\\\\=\\(\\'\\\"]', \n",
    "                          '', text) # 특수 문자 substring 으로 대체\n",
    "    return cleaned_text\n",
    "\n",
    "# pid 는 팟캐스트 id\n",
    "def get_potcast(pid):\n",
    "    page_url = \"http://www.podbbang.com/podbbangchnew/episode_list\"   # 16255 에피소드 번호 // page=1 >> 은 몇번째 페이지인지\n",
    "    headers = {\n",
    "    'User-Agent': 'Mozilla/5.0 (Windows NT 10.0; Win64; x64) AppleWebKit/537.36 (KHTML, like Gecko) Chrome/65.0.3325.181 Safari/537.36',\n",
    "    } # User-Agent << 반드시 줘야 웹 스크래핑 가능 = 멜론이랑 똑같음\n",
    "    for page_id in count(1): # 페이지를 돌리는 것\n",
    "        params_dict = {\n",
    "            'id' : pid,\n",
    "            'page' : page_id    \n",
    "        }\n",
    "        res = requests.get(page_url, params=params_dict, headers=headers)\n",
    "        res.encoding = 'utf-8'\n",
    "        #print(res.status_code, res.encoding)\n",
    "        html = res.text\n",
    "        soup = BeautifulSoup(html, 'html.parser')\n",
    "\n",
    "        for li_tag in soup.select('li'):                                         # 각 동영상들 태그 parsing\n",
    "            try:\n",
    "                title = li_tag.find('dt')['title']                                   # dt태그의 [속성값]\n",
    "                #유료인 경우 a tag가 없으므로 한번 체크를 해준다.\n",
    "                if li_tag.find('a'):\n",
    "                    link = urljoin(page_url, li_tag.find('a')['href'])                # 무료면 a 태그가 있음\n",
    "                else:\n",
    "                    link = None                                                 # 유료는 없는데 없으면 넘겨라\n",
    "                print(title,link)\n",
    "\n",
    "            except(TypeError,KeyError):\n",
    "                # li_tag 가 없는 경우는 TypeError 가 발생한다.\n",
    "                print('END')\n",
    "                return None  # 함수가 아니니까 None\n",
    "            else:\n",
    "                req_headers = {\n",
    "                    'referer' : 'http://www.podbbang.com/ch/16255',\n",
    "                    'User-Agent' : 'Mozilla/5.0 (Windows NT 10.0; Win64; x64) AppleWebKit/537.36 (KHTML, like Gecko) Chrome/65.0.3325.181 Safari/537.36'\n",
    "                }\n",
    "\n",
    "                if link:\n",
    "                    mp3_bin = requests.get(link, headers=req_headers).content # binary file 가져오려면 content 함수 써야함\n",
    "                    title = clean_text(title)\n",
    "                    file_name = '{}.mp3'.format(title)\n",
    "                    print(file_name)\n",
    "                    with open('mp3/'+file_name,'wb') as f:\n",
    "                        f.write(mp3_bin)\n",
    "                #sleep(10) 10초간 프로세스를 중지, 기계가 아니라 사람처럼 보이게 하려고\n",
    "                sleep(0.5)"
   ]
  },
  {
   "cell_type": "code",
   "execution_count": 24,
   "metadata": {
    "tags": []
   },
   "outputs": [
    {
     "output_type": "stream",
     "name": "stdout",
     "text": "46. 소소하게 여행중독 #2 : 문상건 작가의 아시아와 세이셸 http://www.podbbang.com/download?pid=16255&eid=22816888\n46 소소하게 여행중독 2  문상건 작가의 아시아와 세이셸.mp3\n45. 소소하게 여행중독 - 문상건 작가의 인도 여행기 http://www.podbbang.com/download?pid=16255&eid=22810950\n45 소소하게 여행중독  문상건 작가의 인도 여행기.mp3\n44. 여행직업탐구 : 국외여행인솔자 뽀개기 feat. 서주희 http://www.podbbang.com/download?pid=16255&eid=22795328\n44 여행직업탐구  국외여행인솔자 뽀개기 feat 서주희.mp3\n43. 코이카(KOICA) 뽀개기 feat.서주희 http://www.podbbang.com/download?pid=16255&eid=22792568\n43 코이카KOICA 뽀개기 feat서주희.mp3\n42. 6개월 동안의 신혼여행 feat 밤송이 http://www.podbbang.com/download?pid=16255&eid=22786239\n42 6개월 동안의 신혼여행 feat 밤송이.mp3\n춤추는 쥬디의 플래시몹 in 멕시코시티 http://www.podbbang.com/download?pid=16255&eid=22777956\n춤추는 쥬디의 플래시몹 in 멕시코시티.mp3\n41. 춤추는 쥬디의 멕시코 여행 http://www.podbbang.com/download?pid=16255&eid=22777932\n41 춤추는 쥬디의 멕시코 여행.mp3\n40. 여행하다 배우다 : 남미에서 살사, 스페인어 정복하기 feat. 쥬디 http://www.podbbang.com/download?pid=16255&eid=22772684\n40 여행하다 배우다  남미에서 살사 스페인어 정복하기 feat 쥬디.mp3\n39. 불의 나라 아제르바이잔, 바람의 도시 바쿠 feat 바쿠소녀 송의영 http://www.podbbang.com/download?pid=16255&eid=22766327\n39 불의 나라 아제르바이잔 바람의 도시 바쿠 feat 바쿠소녀 송의영.mp3\n38. 조지아(Georgia)를 아시나요? feat 바쿠소녀 송의영 http://www.podbbang.com/download?pid=16255&eid=22760194\n38 조지아Georgia를 아시나요 feat 바쿠소녀 송의영.mp3\n37. 세계의 지붕 파미르 고원을 넘다(키르기스스탄, 타지키스탄) - 자전거 여행가 김상아 http://www.podbbang.com/download?pid=16255&eid=22753111\n37 세계의 지붕 파미르 고원을 넘다키르기스스탄 타지키스탄  자전거 여행가 김상아.mp3\n36. 퇴사하고 자전거 세계여행 - 첫 나라 인도 feat 김상아 http://www.podbbang.com/download?pid=16255&eid=22746277\n36 퇴사하고 자전거 세계여행  첫 나라 인도 feat 김상아.mp3\n35. 그 남자, 그 여자의 아프리카 feat. 보혜, 현 커플 http://www.podbbang.com/download?pid=16255&eid=22741337\n35 그 남자 그 여자의 아프리카 feat 보혜 현 커플.mp3\n34. 여행하다 연애하다 - 강보혜, 이현 커플 http://www.podbbang.com/download?pid=16255&eid=22734924\n34 여행하다 연애하다  강보혜 이현 커플.mp3\n여바라 댓글 이벤트 당첨자 발표!! http://www.podbbang.com/download?pid=16255&eid=22729570\n여바라 댓글 이벤트 당첨자 발표.mp3\n33. 도전을 도전한다 2부 - 오바마를 찾아서 feat. 박재병 http://www.podbbang.com/download?pid=16255&eid=22728970\n33 도전을 도전한다 2부  오바마를 찾아서 feat 박재병.mp3\n32. 도전을 도전한다 1부 - 호세 무히카를 만나다 feat. 박재병 http://www.podbbang.com/download?pid=16255&eid=22723160\n32 도전을 도전한다 1부  호세 무히카를 만나다 feat 박재병.mp3\n31. 노숙자의 삶이 궁금해서 노숙자가 돼봤어요 feat. 박재병 http://www.podbbang.com/download?pid=16255&eid=22719007\n31 노숙자의 삶이 궁금해서 노숙자가 돼봤어요 feat 박재병.mp3\n30. 내가 걸어가는 내 모습을 바라본다 - 변종모 작가 http://www.podbbang.com/download?pid=16255&eid=22712686\n30 내가 걸어가는 내 모습을 바라본다  변종모 작가.mp3\n29. 아무 것도 하고 싶지 않다 격렬히 아무 것도 하고 싶지 않다 - 변종모 작가 http://www.podbbang.com/download?pid=16255&eid=22703661\n29 아무 것도 하고 싶지 않다 격렬히 아무 것도 하고 싶지 않다  변종모 작가.mp3\n28. 히치하이킹, 세상에서 가장 아름다운 교통수단 - 타박타박 영연 http://www.podbbang.com/download?pid=16255&eid=22695884\n28 히치하이킹 세상에서 가장 아름다운 교통수단  타박타박 영연.mp3\n27. 5만원으로 떠난 노르웨이 - 타박타박 최영연 http://www.podbbang.com/download?pid=16255&eid=22690053\n27 5만원으로 떠난 노르웨이  타박타박 최영연.mp3\n26. 총맞은 여행가 임효선의 값비싼 전화위복기 http://www.podbbang.com/download?pid=16255&eid=22684477\n26 총맞은 여행가 임효선의 값비싼 전화위복기.mp3\n번외클립 설계자들 : 인도 최저가 여행 http://www.podbbang.com/download?pid=16255&eid=22677974\n번외클립 설계자들  인도 최저가 여행.mp3\n25. 총맞은 여행가 임효선의 좌충우돌 초보여행기 http://www.podbbang.com/download?pid=16255&eid=22672143\n25 총맞은 여행가 임효선의 좌충우돌 초보여행기.mp3\n24. 여행은 살아보는 거야 feat 방콕러 박민우 http://www.podbbang.com/download?pid=16255&eid=22667113\n24 여행은 살아보는 거야 feat 방콕러 박민우.mp3\n23. 이십년차 배낭여행자의 생존법 - 찌질왕 박민우 http://www.podbbang.com/download?pid=16255&eid=22661288\n23 이십년차 배낭여행자의 생존법  찌질왕 박민우.mp3\n22. 협찬 여행을 알려주마 : 열정여행가 김훈호 http://www.podbbang.com/download?pid=16255&eid=22654678\n22 협찬 여행을 알려주마  열정여행가 김훈호.mp3\n21. 알래스카부터 아르헨티나까지, 열정 여행가 김훈호 작가의 자전거 여행도전기 http://www.podbbang.com/download?pid=16255&eid=22647212\n21 알래스카부터 아르헨티나까지 열정 여행가 김훈호 작가의 자전거 여행도전기.mp3\n20. 파키스탄 훈자 : 산도 타고, 썸도 타고 + 훈자여행 막간 팁 http://www.podbbang.com/download?pid=16255&eid=22635321\n20 파키스탄 훈자  산도 타고 썸도 타고  훈자여행 막간 팁.mp3\n19. 파키스탄 훈자 : 군용 헬기와 비행기 탄 썰 (feat. 이상호기자) http://www.podbbang.com/download?pid=16255&eid=22629485\n19 파키스탄 훈자  군용 헬기와 비행기 탄 썰 feat 이상호기자.mp3\n18. 힐링 여행 추천 두번째 이야기 : 파키스탄 훈자로 가는 길 http://www.podbbang.com/download?pid=16255&eid=22624207\n18 힐링 여행 추천 두번째 이야기  파키스탄 훈자로 가는 길.mp3\n17. 인생의 쉼표, 자전거와 바이크로 바라본 또바호수 3부 http://www.podbbang.com/download?pid=16255&eid=22618851\n17 인생의 쉼표 자전거와 바이크로 바라본 또바호수 3부.mp3\n16. 휴양지 가성비의 끝판왕 : 인도네시아 또바호수 2부 http://www.podbbang.com/download?pid=16255&eid=22613057\n16 휴양지 가성비의 끝판왕  인도네시아 또바호수 2부.mp3\n15. 힐링여행 : 인도네시아의 숨은 보석 또바호수 1부 http://www.podbbang.com/download?pid=16255&eid=22607677\n15 힐링여행  인도네시아의 숨은 보석 또바호수 1부.mp3\n번외클립#3 장기배낭여행꿀팁 : 가벼운 배낭을 위한 제안 http://www.podbbang.com/download?pid=16255&eid=22604448\n번외클립3 장기배낭여행꿀팁  가벼운 배낭을 위한 제안.mp3\n번외클립#2 장기배낭여행꿀팁 : 숙소, 이제 입맛대로 고르자 http://www.podbbang.com/download?pid=16255&eid=22603580\n번외클립2 장기배낭여행꿀팁  숙소 이제 입맛대로 고르자.mp3\n번외클립#1 장기배낭여행꿀팁 : 취향별 항공권 구입방법 http://www.podbbang.com/download?pid=16255&eid=22602720\n번외클립1 장기배낭여행꿀팁  취향별 항공권 구입방법.mp3\n14. 본격 일본 교토 카페 탐방 + 설계자들 베트남 다낭 http://www.podbbang.com/download?pid=16255&eid=22601886\n14 본격 일본 교토 카페 탐방  설계자들 베트남 다낭.mp3\n13. 일본 교토 남부 : 우지, 마차의 맛 http://www.podbbang.com/download?pid=16255&eid=22596517\n13 일본 교토 남부  우지 마차의 맛.mp3\n12. 일본 교토, 벚꽃엔딩 : 킨카쿠지, 료안지, 니조조 http://www.podbbang.com/download?pid=16255&eid=22591245\n12 일본 교토 벚꽃엔딩  킨카쿠지 료안지 니조조.mp3\n11. 일본 오사카, 유니버설 스튜디오 재팬으로 무브무브! + 본격! 장기여행 배낭싸기 노하우 http://www.podbbang.com/download?pid=16255&eid=22590221\n11 일본 오사카 유니버설 스튜디오 재팬으로 무브무브  본격 장기여행 배낭싸기 노하우.mp3\n10. 중국인이 사는 태국 마을 : 도이매싸롱 + 숙소구하기 꿀팁 http://www.podbbang.com/download?pid=16255&eid=22588906\n10 중국인이 사는 태국 마을  도이매싸롱  숙소구하기 꿀팁.mp3\n9. 태국 : '난' 정말 그대 그대만을 좋아했어 http://www.podbbang.com/download?pid=16255&eid=22588626\n9 태국  난 정말 그대 그대만을 좋아했어.mp3\n8. 태국의 빠리, 치앙마이 & 밍이 만난 사람들, 람빵 http://www.podbbang.com/download?pid=16255&eid=22588624\n8 태국의 빠리 치앙마이  밍이 만난 사람들 람빵.mp3\n7. 태국의 빠리, 치앙마이 3부 + 설계자들 카우치서핑 http://www.podbbang.com/download?pid=16255&eid=22588623\n7 태국의 빠리 치앙마이 3부  설계자들 카우치서핑.mp3\n6. 태국의 빠리, 치앙마이 2부 치앙마이 친구들 룽랑, 임이 알려드립니다 http://www.podbbang.com/download?pid=16255&eid=22588622\n6 태국의 빠리 치앙마이 2부 치앙마이 친구들 룽랑 임이 알려드립니다.mp3\n5. 태국의 빠리, 치앙마이 1부 + 설계자들 인도 최저가 여행 http://www.podbbang.com/download?pid=16255&eid=22588621\n5 태국의 빠리 치앙마이 1부  설계자들 인도 최저가 여행.mp3\n4. 라오스 : 욕망이 멈췄던 곳 3부 폰사완, 루앙프라방, 루앙남타 http://www.podbbang.com/download?pid=16255&eid=22588620\n4 라오스  욕망이 멈췄던 곳 3부 폰사완 루앙프라방 루앙남타.mp3\n3. 라오스 : 욕망이 멈췄던 곳 2부 방비엥 + 설계자들 미얀마 http://www.podbbang.com/download?pid=16255&eid=22588619\n3 라오스  욕망이 멈췄던 곳 2부 방비엥  설계자들 미얀마.mp3\n2. 라오스 : 욕망이 멈췄던 곳 1부 비엔티안, 방비엥 + 취향별 항공권 구입방법 http://www.podbbang.com/download?pid=16255&eid=22588616\n2 라오스  욕망이 멈췄던 곳 1부 비엔티안 방비엥  취향별 항공권 구입방법.mp3\n1. 프롤로그:장기 배낭 여행의 시작, 여바라행 편도 티켓 http://www.podbbang.com/download?pid=16255&eid=22588614\n1 프롤로그장기 배낭 여행의 시작 여바라행 편도 티켓.mp3\nEND\n"
    }
   ],
   "source": [
    "get_potcast(16255)\n",
    "\n",
    "#엄마의 미드공부(71건)\n",
    "#page_url = 'http://www.podbbang.com/podbbangchnew/episode_list?id=16524&page=1'"
   ]
  }
 ],
 "metadata": {
  "kernelspec": {
   "display_name": "Python 3",
   "language": "python",
   "name": "python3"
  },
  "language_info": {
   "codemirror_mode": {
    "name": "ipython",
    "version": 3
   },
   "file_extension": ".py",
   "mimetype": "text/x-python",
   "name": "python",
   "nbconvert_exporter": "python",
   "pygments_lexer": "ipython3",
   "version": "3.7.0"
  }
 },
 "nbformat": 4,
 "nbformat_minor": 2
}