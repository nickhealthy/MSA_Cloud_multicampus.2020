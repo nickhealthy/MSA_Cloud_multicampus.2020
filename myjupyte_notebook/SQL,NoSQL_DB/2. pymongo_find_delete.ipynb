{
 "metadata": {
  "language_info": {
   "codemirror_mode": {
    "name": "ipython",
    "version": 3
   },
   "file_extension": ".py",
   "mimetype": "text/x-python",
   "name": "python",
   "nbconvert_exporter": "python",
   "pygments_lexer": "ipython3",
   "version": "3.7.0-final"
  },
  "orig_nbformat": 2,
  "kernelspec": {
   "name": "python3",
   "display_name": "Python 3"
  }
 },
 "nbformat": 4,
 "nbformat_minor": 2,
 "cells": [
  {
   "cell_type": "code",
   "execution_count": 2,
   "metadata": {
    "tags": []
   },
   "outputs": [
    {
     "output_type": "stream",
     "name": "stdout",
     "text": "Name: pymongo\nVersion: 3.10.1\nSummary: Python driver for MongoDB <http://www.mongodb.org>\nHome-page: http://github.com/mongodb/mongo-python-driver\nAuthor: Mike Dirolf\nAuthor-email: mongodb-user@googlegroups.com\nLicense: Apache License, Version 2.0\nLocation: c:\\anaconda3\\lib\\site-packages\nRequires: \nRequired-by: \nYou are using pip version 10.0.1, however version 20.2b1 is available.\nYou should consider upgrading via the 'python -m pip install --upgrade pip' command.\n"
    }
   ],
   "source": [
    "!pip show pymongo"
   ]
  },
  {
   "cell_type": "markdown",
   "metadata": {},
   "source": [
    "### Pymongo을 사용해서 MongoDB 제어하기\n",
    "\n",
    "1. pymongo 라이브러리 import\n",
    "2. MongoDB 접속\n",
    "3. Database, Collection 생성\n",
    "4. Collection의 document를 CRUD 하기"
   ]
  },
  {
   "cell_type": "code",
   "execution_count": 5,
   "metadata": {
    "tags": []
   },
   "outputs": [
    {
     "output_type": "stream",
     "name": "stdout",
     "text": "MongoClient(host=['localhost:27017'], document_class=dict, tz_aware=False, connect=True)\nDatabase(MongoClient(host=['localhost:27017'], document_class=dict, tz_aware=False, connect=True), 'pymongo_db')\npymongo_db\nCollection(Database(MongoClient(host=['localhost:27017'], document_class=dict, tz_aware=False, connect=True), 'pymongo_db'), 'pymongo_col')\npymongo_col\n"
    }
   ],
   "source": [
    "import pymongo\n",
    "\n",
    "# MongoDB에 connetion 생성\n",
    "conn = pymongo.MongoClient('localhost', 27017)\n",
    "print(conn)\n",
    "\n",
    "# database 생성\n",
    "db = conn.pymongo_db # 맨 오른쪽이 db이름\n",
    "print(db)\n",
    "print(db.name) # db name comfirm\n",
    "\n",
    "# collection 셍성\n",
    "col = db.pymongo_col\n",
    "print(col)\n",
    "print(col.name)"
   ]
  },
  {
   "cell_type": "markdown",
   "metadata": {},
   "source": [
    "Insert_one(), Insert_many() 함수"
   ]
  },
  {
   "cell_type": "code",
   "execution_count": 20,
   "metadata": {
    "tags": []
   },
   "outputs": [
    {
     "output_type": "stream",
     "name": "stdout",
     "text": "<pymongo.results.InsertOneResult object at 0x0000020BEFDAE548>\n5f2262268743d2f9a5e8719f\n"
    }
   ],
   "source": [
    "post = {'author':'길동', 'text':'첫번째 글', 'tags':['mongodb', 'python', 'pymongo']}\n",
    "result = col.insert_one(post)\n",
    "print(result)\n",
    "print(result.inserted_id) # 아이디 값 알아내기"
   ]
  },
  {
   "cell_type": "code",
   "execution_count": 9,
   "metadata": {},
   "outputs": [
    {
     "output_type": "execute_result",
     "data": {
      "text/plain": "<pymongo.cursor.Cursor at 0x20bef39d0f0>"
     },
     "metadata": {},
     "execution_count": 9
    }
   ],
   "source": [
    "col.find()"
   ]
  },
  {
   "cell_type": "code",
   "execution_count": 11,
   "metadata": {
    "tags": []
   },
   "outputs": [
    {
     "output_type": "stream",
     "name": "stdout",
     "text": "<class 'dict'>\n{'_id': ObjectId('5f225fe48743d2f9a5e87199'), 'author': '길동', 'text': '첫번째 글', 'tags': ['mongodb', 'python', 'pymongo']}\n"
    }
   ],
   "source": [
    "for post in col.find():\n",
    "    print(type(post))\n",
    "    print(post)"
   ]
  },
  {
   "cell_type": "code",
   "execution_count": 14,
   "metadata": {},
   "outputs": [
    {
     "output_type": "execute_result",
     "data": {
      "text/plain": "1"
     },
     "metadata": {},
     "execution_count": 14
    }
   ],
   "source": [
    "#document 갯수 알아내기\n",
    "col.count_documents({})"
   ]
  },
  {
   "cell_type": "code",
   "execution_count": 15,
   "metadata": {},
   "outputs": [
    {
     "output_type": "execute_result",
     "data": {
      "text/plain": "<pymongo.results.InsertManyResult at 0x20bedb9e588>"
     },
     "metadata": {},
     "execution_count": 15
    }
   ],
   "source": [
    "posts = [\n",
    "    {\"author\" : \"둘리\", 'age':10},\n",
    "    {\"author\" : \"바다\", 'age':20},\n",
    "    {\"author\" : \"연못\", 'age':30}\n",
    "]\n",
    "col.insert_many(posts)"
   ]
  },
  {
   "cell_type": "code",
   "execution_count": 33,
   "metadata": {
    "tags": []
   },
   "outputs": [
    {
     "output_type": "stream",
     "name": "stdout",
     "text": "7\n{'_id': ObjectId('5f225fe48743d2f9a5e87199'), 'author': '길동', 'text': '첫번째 글', 'tags': ['mongodb', 'python', 'pymongo']}\n{'_id': ObjectId('5f2261618743d2f9a5e8719a'), 'author': '둘리', 'age': 10}\n{'_id': ObjectId('5f2261618743d2f9a5e8719b'), 'author': '바다', 'age': 10}\n{'_id': ObjectId('5f2261618743d2f9a5e8719c'), 'author': '연못', 'age': 10}\n{'_id': ObjectId('5f2262138743d2f9a5e8719d'), 'author': '길동', 'text': '첫번째 글', 'tags': ['mongodb', 'python', 'pymongo']}\n{'_id': ObjectId('5f22621a8743d2f9a5e8719e'), 'author': '길동', 'text': '첫번째 글', 'tags': ['mongodb', 'python', 'pymongo']}\n{'_id': ObjectId('5f2262268743d2f9a5e8719f'), 'author': '길동', 'text': '첫번째 글', 'tags': ['mongodb', 'python', 'pymongo']}\n"
    }
   ],
   "source": [
    "print(col.count_documents({}))\n",
    "for post in col.find({}):\n",
    "    print(post)"
   ]
  },
  {
   "cell_type": "code",
   "execution_count": 34,
   "metadata": {
    "tags": []
   },
   "outputs": [
    {
     "output_type": "stream",
     "name": "stdout",
     "text": "{'author': '둘리', 'age': 10}\n{'author': '바다', 'age': 10}\n{'author': '연못', 'age': 10}\n{'author': '길동', 'text': '첫번째 글'}\n{'author': '길동', 'text': '첫번째 글'}\n{'author': '길동', 'text': '첫번째 글'}\n{'author': '길동', 'text': '첫번째 글'}\n"
    }
   ],
   "source": [
    "for post in col.find({},{'author':1, 'age':1,'text':1, '_id':0}).sort('age',pymongo.DESCENDING):\n",
    "    print(post)\n"
   ]
  },
  {
   "cell_type": "markdown",
   "metadata": {},
   "source": [
    "collection 새로만들기"
   ]
  },
  {
   "cell_type": "code",
   "execution_count": 35,
   "metadata": {
    "tags": []
   },
   "outputs": [
    {
     "output_type": "stream",
     "name": "stdout",
     "text": "Collection(Database(MongoClient(host=['localhost:27017'], document_class=dict, tz_aware=False, connect=True), 'pymongo_db'), 'employees')\n"
    }
   ],
   "source": [
    "#employees collection 생성하기\n",
    "emp = db.employees\n",
    "print(emp)"
   ]
  },
  {
   "cell_type": "code",
   "execution_count": 36,
   "metadata": {},
   "outputs": [
    {
     "output_type": "execute_result",
     "data": {
      "text/plain": "datetime.datetime(2016, 1, 2, 0, 0)"
     },
     "metadata": {},
     "execution_count": 36
    }
   ],
   "source": [
    "from datetime import datetime\n",
    "\n",
    "datetime.strptime(\"2016-01-02\",'%Y-%m-%d') # pymongo에선 ISODate 대신에 datetime.strptime"
   ]
  },
  {
   "cell_type": "code",
   "execution_count": 37,
   "metadata": {},
   "outputs": [
    {
     "output_type": "execute_result",
     "data": {
      "text/plain": "<pymongo.results.InsertManyResult at 0x20bf030d5c8>"
     },
     "metadata": {},
     "execution_count": 37
    }
   ],
   "source": [
    "emp_list = [\n",
    "  {\"number\":1001,\"last_name\":\"Smith\",\"first_name\":\"John\",\"salary\":62000,\"department\":\"sales\", \"hire_date\":datetime.strptime(\"2016-01-02\", '%Y-%m-%d')},\n",
    "  {\"number\":1002,\"last_name\":\"Anderson\",\"first_name\":\"Jane\",\"salary\":57500,\"department\":\"marketing\", \"hire_date\":datetime.strptime(\"2013-11-09\", '%Y-%m-%d')},\n",
    "  {\"number\":1003,\"last_name\":\"Everest\",\"first_name\":\"Brad\",\"salary\":71000,\"department\":\"sales\", \"hire_date\":datetime.strptime(\"2017-02-03\", '%Y-%m-%d')},\n",
    "  {\"number\":1004,\"last_name\":\"Horvath\",\"first_name\":\"Jack\",\"salary\":42000,\"department\":\"marketing\", \"hire_date\":datetime.strptime(\"2017-06-01\", '%Y-%m-%d')}\n",
    "]\n",
    "\n",
    "emp.insert_many(emp_list)"
   ]
  },
  {
   "cell_type": "code",
   "execution_count": 52,
   "metadata": {
    "tags": []
   },
   "outputs": [
    {
     "output_type": "stream",
     "name": "stdout",
     "text": "{'_id': ObjectId('5f22661c8743d2f9a5e871a0'), 'number': 1001, 'last_name': 'Smith', 'first_name': 'John', 'salary': 62000, 'department': 'sales', 'hire_date': datetime.datetime(2016, 1, 2, 0, 0)}\n{'_id': ObjectId('5f22661c8743d2f9a5e871a1'), 'number': 1002, 'last_name': 'Anderson', 'first_name': 'Jane', 'salary': 57500, 'department': 'marketing', 'hire_date': datetime.datetime(2013, 11, 9, 0, 0)}\n{'_id': ObjectId('5f22661c8743d2f9a5e871a2'), 'number': 1003, 'last_name': 'Everest', 'first_name': 'Brad', 'salary': 71000, 'department': 'sales', 'hire_date': datetime.datetime(2017, 2, 3, 0, 0)}\n{'_id': ObjectId('5f22661c8743d2f9a5e871a3'), 'number': 1004, 'last_name': 'Horvath', 'first_name': 'Jack', 'salary': 42000, 'department': 'marketing', 'hire_date': datetime.datetime(2017, 6, 1, 0, 0)}\n"
    }
   ],
   "source": [
    "for employee in emp.find():\n",
    "    print(employee)"
   ]
  },
  {
   "cell_type": "code",
   "execution_count": 60,
   "metadata": {
    "tags": []
   },
   "outputs": [
    {
     "output_type": "stream",
     "name": "stdout",
     "text": "{'number': 1001, 'last_name': 'Smith', 'first_name': 'John', 'salary': 62000, 'department': 'sales', 'hire_date': datetime.datetime(2016, 1, 2, 0, 0)}\n{'number': 1002, 'last_name': 'Anderson', 'first_name': 'Jane', 'salary': 57500, 'department': 'marketing', 'hire_date': datetime.datetime(2013, 11, 9, 0, 0)}\n"
    }
   ],
   "source": [
    "# first_name like %a%\n",
    "filter = {\"first_name\":{\"$regex\":\"a\"}}\n",
    "filter = {\"first_name\":{\"$regex\":\"^J\"}}\n",
    "filter = {\"lirst_name\":{\"$regex\":\"h$\"}}\n",
    "\n",
    "from datetime import datetime\n",
    "from_dt = datetime.strptime(\"2016-01-02\", '%Y-%m-%d')\n",
    "to_dt = datetime.strptime(\"2017-05-30\", '%Y-%m-%d')\n",
    "filter = {\n",
    "    'hire_date':{\"$gte\":from_dt},\n",
    "    \"hire_date\":{\"$lte\":to_dt}\n",
    "}\n",
    "filter = {\n",
    "    \"hire_date\":{\"$gte\":from_dt, '$lte':to_dt}\n",
    "}\n",
    "filter = {\n",
    "    \"hire_date\":{\"$gte\":from_dt, \"$lte\":to_dt},\n",
    "}\n",
    "filter = {\n",
    "    \"number\":{\"$in\":[1001,1002]},\n",
    "}\n",
    "\n",
    "for employee in emp.find(filter,{\"_id\":0}):\n",
    "    print(employee)"
   ]
  },
  {
   "cell_type": "code",
   "execution_count": 79,
   "metadata": {},
   "outputs": [
    {
     "output_type": "execute_result",
     "data": {
      "text/plain": "<pymongo.results.UpdateResult at 0x20beff55e88>"
     },
     "metadata": {},
     "execution_count": 79
    }
   ],
   "source": [
    "### update_one(), update_many()\n",
    "emp.update_one({'number':1001}, {'$set':{'department':'marketing'}})\n",
    "# number = 1001, salary 62000-> 63000\n",
    "emp.update_one({'number':1001}, {'$set':{'salary':'63000'}})\n",
    "#emp.update_one({'number':1001}, {'$inc':{'salary':1000}})"
   ]
  },
  {
   "cell_type": "code",
   "execution_count": 74,
   "metadata": {
    "tags": []
   },
   "outputs": [
    {
     "output_type": "stream",
     "name": "stdout",
     "text": "{'_id': ObjectId('5f22661c8743d2f9a5e871a0'), 'number': 1001, 'last_name': 'Smith', 'first_name': 'John', 'salary': '63000', 'department': 'marketing', 'hire_date': datetime.datetime(2016, 1, 2, 0, 0)}\n{'_id': ObjectId('5f22661c8743d2f9a5e871a1'), 'number': 1002, 'last_name': 'Anderson', 'first_name': 'Jane', 'salary': 57500, 'department': 'marketing', 'hire_date': datetime.datetime(2013, 11, 9, 0, 0)}\n{'_id': ObjectId('5f22661c8743d2f9a5e871a2'), 'number': 1003, 'last_name': 'Everest', 'first_name': 'Brad', 'salary': 71000, 'department': 'sales', 'hire_date': datetime.datetime(2017, 2, 3, 0, 0)}\n{'_id': ObjectId('5f22661c8743d2f9a5e871a3'), 'number': 1004, 'last_name': 'Horvath', 'first_name': 'Jack', 'salary': 42000, 'department': 'marketing', 'hire_date': datetime.datetime(2017, 6, 1, 0, 0)}\n"
    }
   ],
   "source": [
    "for employees in emp.find():\n",
    "    print(employees)"
   ]
  },
  {
   "cell_type": "code",
   "execution_count": 80,
   "metadata": {},
   "outputs": [
    {
     "output_type": "execute_result",
     "data": {
      "text/plain": "<pymongo.results.UpdateResult at 0x20beed6fe48>"
     },
     "metadata": {},
     "execution_count": 80
    }
   ],
   "source": [
    "emp.update_many({}, {'$set':{'status':'A'}}) # 모든 document 값에 대하여 status field 새로 생성 후 값 'A'를 집어넣기"
   ]
  },
  {
   "cell_type": "code",
   "execution_count": 83,
   "metadata": {
    "tags": []
   },
   "outputs": [
    {
     "output_type": "stream",
     "name": "stdout",
     "text": "{'number': 1001, 'last_name': 'Smith', 'first_name': 'John', 'salary': '63000', 'department': 'marketing', 'hire_date': datetime.datetime(2016, 1, 2, 0, 0), 'status': 'A'}\n{'number': 1002, 'last_name': 'Anderson', 'first_name': 'Jane', 'salary': 57500, 'department': 'marketing', 'hire_date': datetime.datetime(2013, 11, 9, 0, 0), 'status': 'A'}\n{'number': 1003, 'last_name': 'Everest', 'first_name': 'Brad', 'salary': 71000, 'department': 'sales', 'hire_date': datetime.datetime(2017, 2, 3, 0, 0), 'status': 'A'}\n{'number': 1004, 'last_name': 'Horvath', 'first_name': 'Jack', 'salary': 42000, 'department': 'marketing', 'hire_date': datetime.datetime(2017, 6, 1, 0, 0), 'status': 'A'}\n"
    }
   ],
   "source": [
    "for employees in emp.find({},{'_id': 0}):\n",
    "    print(employees)"
   ]
  },
  {
   "cell_type": "code",
   "execution_count": 88,
   "metadata": {
    "tags": []
   },
   "outputs": [
    {
     "output_type": "stream",
     "name": "stdout",
     "text": "{'_id': ObjectId('5f22661c8743d2f9a5e871a0'), 'number': 1001, 'last_name': 'Smith', 'first_name': 'John', 'salary': '63000', 'department': 'marketing', 'hire_date': datetime.datetime(2016, 1, 2, 0, 0), 'status': 'A'}\n{'_id': ObjectId('5f22661c8743d2f9a5e871a1'), 'number': 1002, 'last_name': 'Anderson', 'first_name': 'Jane', 'salary': 57500, 'department': 'marketing', 'hire_date': datetime.datetime(2013, 11, 9, 0, 0), 'status': 'A'}\n{'_id': ObjectId('5f22661c8743d2f9a5e871a2'), 'number': 1003, 'last_name': 'Everest', 'first_name': 'Brad', 'salary': 71000, 'department': 'sales', 'hire_date': datetime.datetime(2017, 2, 3, 0, 0), 'status': 'B'}\n{'_id': ObjectId('5f22661c8743d2f9a5e871a3'), 'number': 1004, 'last_name': 'Horvath', 'first_name': 'Jack', 'salary': 42000, 'department': 'marketing', 'hire_date': datetime.datetime(2017, 6, 1, 0, 0), 'status': 'B'}\n"
    }
   ],
   "source": [
    "# update_many()\n",
    "# number in [1003, 1004] status = 'B' 로 update\n",
    "\n",
    "emp.update_many({'number':{'$in':[1003,1004]}}, {'$set':{'status':'B'}})\n",
    "for employees in emp.find():\n",
    "    print(employees)"
   ]
  },
  {
   "cell_type": "code",
   "execution_count": 90,
   "metadata": {
    "tags": []
   },
   "outputs": [
    {
     "output_type": "stream",
     "name": "stdout",
     "text": "{'_id': ObjectId('5f22661c8743d2f9a5e871a0'), 'number': 1001, 'last_name': 'Smith', 'first_name': 'John', 'salary': '63000', 'department': 'marketing', 'hire_date': datetime.datetime(2016, 1, 2, 0, 0), 'status': 'A'}\n{'_id': ObjectId('5f22661c8743d2f9a5e871a1'), 'number': 1002, 'last_name': 'Anderson', 'first_name': 'Jane', 'salary': 57500, 'department': 'marketing', 'hire_date': datetime.datetime(2013, 11, 9, 0, 0), 'status': 'A'}\n"
    }
   ],
   "source": [
    "# delete_many()\n",
    "# status = 'B' 인 employee 삭제하기\n",
    "emp.delete_many({'status':'B'})\n",
    "for employees in emp.find():\n",
    "    print(employees)"
   ]
  }
 ]
}