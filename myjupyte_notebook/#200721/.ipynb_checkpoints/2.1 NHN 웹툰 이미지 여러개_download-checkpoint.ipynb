{
 "cells": [
  {
   "cell_type": "markdown",
   "metadata": {},
   "source": [
    "### 특정 웹툰 페이지 모든 image를 다운로드\n",
    "* soup.select('img[src$=.jpg]')\n",
    "* img 폴더를 생성하고 img 폴더 하위에 파일을 저장"
   ]
  },
  {
   "cell_type": "code",
   "execution_count": 8,
   "metadata": {},
   "outputs": [
    {
     "name": "stdout",
     "output_type": "stream",
     "text": [
      "24\n",
      "https://shared-comic.pstatic.net/thumb/webtoon/626906/thumbnail/title_thumbnail_20150810235651_t218x120.jpg\n",
      "https://image-comic.pstatic.net/webtoon/626906/602/20200720170605_25afe583d26a90598d9dc108ff5f5c98_IMAG01_1.jpg\n",
      "https://image-comic.pstatic.net/webtoon/626906/602/20200720170605_25afe583d26a90598d9dc108ff5f5c98_IMAG01_2.jpg\n",
      "https://image-comic.pstatic.net/webtoon/626906/602/20200720170605_25afe583d26a90598d9dc108ff5f5c98_IMAG01_3.jpg\n",
      "https://image-comic.pstatic.net/webtoon/626906/602/20200720170605_25afe583d26a90598d9dc108ff5f5c98_IMAG01_4.jpg\n",
      "https://image-comic.pstatic.net/webtoon/626906/602/20200720170605_25afe583d26a90598d9dc108ff5f5c98_IMAG01_5.jpg\n",
      "https://image-comic.pstatic.net/webtoon/626906/602/20200720170605_25afe583d26a90598d9dc108ff5f5c98_IMAG01_6.jpg\n",
      "https://image-comic.pstatic.net/webtoon/626906/602/20200720170605_25afe583d26a90598d9dc108ff5f5c98_IMAG01_7.jpg\n",
      "https://image-comic.pstatic.net/webtoon/626906/602/20200720170605_25afe583d26a90598d9dc108ff5f5c98_IMAG01_8.jpg\n",
      "https://image-comic.pstatic.net/webtoon/626906/602/20200720170605_25afe583d26a90598d9dc108ff5f5c98_IMAG01_9.jpg\n",
      "https://image-comic.pstatic.net/webtoon/626906/602/20200720170605_25afe583d26a90598d9dc108ff5f5c98_IMAG01_10.jpg\n",
      "https://image-comic.pstatic.net/webtoon/626906/602/20200720170605_25afe583d26a90598d9dc108ff5f5c98_IMAG01_11.jpg\n",
      "https://image-comic.pstatic.net/webtoon/626906/602/20200720170605_25afe583d26a90598d9dc108ff5f5c98_IMAG01_12.jpg\n",
      "https://image-comic.pstatic.net/webtoon/626906/602/20200720170605_25afe583d26a90598d9dc108ff5f5c98_IMAG01_13.jpg\n",
      "https://image-comic.pstatic.net/webtoon/626906/602/20200720170605_25afe583d26a90598d9dc108ff5f5c98_IMAG01_14.jpg\n",
      "https://image-comic.pstatic.net/webtoon/626906/602/20200720170605_25afe583d26a90598d9dc108ff5f5c98_IMAG01_15.jpg\n",
      "https://shared-comic.pstatic.net/thumb/webtoon/626906/599/thumbnail_202x120_a67685f1-2838-4f48-8b94-21fde8dc0803.jpg\n",
      "https://shared-comic.pstatic.net/thumb/webtoon/626906/600/thumbnail_202x120_7b8898b1-39c2-4730-a703-877ec4cb1b0c.jpg\n",
      "https://shared-comic.pstatic.net/thumb/webtoon/626906/601/thumbnail_202x120_df2399c5-6e37-4a0c-9e3f-ce6059f599d2.jpg\n",
      "https://shared-comic.pstatic.net/thumb/webtoon/626906/602/thumbnail_202x120_8cc7212c-63d3-433e-8204-c70486fd2c2d.jpg\n",
      "https://shared-comic.pstatic.net/thumb/webtoon/25613/thumbnail/title_thumbnail_20140103150651_t83x90.jpg\n",
      "https://shared-comic.pstatic.net/thumb/webtoon/563782/thumbnail/title_thumbnail_20130607184714_t83x90.jpg\n",
      "https://shared-comic.pstatic.net/thumb/webtoon/55143/thumbnail/title_thumbnail_20120329122039_t83x90.jpg\n",
      "https://shared-comic.pstatic.net/thumb/webtoon/318992/thumbnail/title_thumbnail_20110408115556_t83x90.jpg\n"
     ]
    }
   ],
   "source": [
    "import requests\n",
    "from bs4 import BeautifulSoup\n",
    "import os\n",
    "\n",
    "main_url = 'https://comic.naver.com/webtoon/detail.nhn?titleId=626906&no=602&amp;weekday=tue'\n",
    "res = requests.get(main_url)\n",
    "# text 파일로 데이터를 받아온다.\n",
    "html = res.text\n",
    "soup = BeautifulSoup(html, 'html.parser')\n",
    "# soup / 데이터 parsing\n",
    "\n",
    "img_urls = []\n",
    "for img_url in soup.select(\"img[src$='.jpg']\"):# 태그 셀렉터 / 속성 셀렉터 / $ 는 마지막 뒤에 문장들을 가져옴\n",
    "    # print(img_url)\n",
    "    img_urls.append(img_url['src']) # 'src' 속성 값만 빼내와야함\n",
    "\n",
    "# print(len(img_urls), img_urls)\n",
    "\n",
    "# 디렉토리 생성\n",
    "if not os.path.isdir('img'): # dir img가 없으면\n",
    "    os.mkdir('img') # img dir를 만든다\n",
    "\n",
    "print(len(img_urls))\n",
    "for img_url in img_urls:\n",
    "    print(img_url)  #  'src' 태그 안에 있는 값만 가져옴\n",
    "    \n",
    "\n",
    "# dir 파일이 없으면 생성\n",
    "# for 문으로 soup.select 를 이용해 img태그의 sec.jpg속성만 빼옴\n",
    "# binary 파일로 변환"
   ]
  },
  {
   "cell_type": "markdown",
   "metadata": {},
   "source": [
    "### 웹툰 메인페이지 스크래핑\n",
    "* 추천 웹툰의 title와 link 를 가져오기\n",
    "* {title:'패밀리사이즈', link:'/webtoon/list.nhn?titleId=626906'}\n",
    "* [{title:'',link:''}{}{}, {} = 웹툰한개 ] 이중 리스트화 시킨다."
   ]
  }
 ],
 "metadata": {
  "kernelspec": {
   "display_name": "Python 3",
   "language": "python",
   "name": "python3"
  },
  "language_info": {
   "codemirror_mode": {
    "name": "ipython",
    "version": 3
   },
   "file_extension": ".py",
   "mimetype": "text/x-python",
   "name": "python",
   "nbconvert_exporter": "python",
   "pygments_lexer": "ipython3",
   "version": "3.7.0"
  }
 },
 "nbformat": 4,
 "nbformat_minor": 2
}
