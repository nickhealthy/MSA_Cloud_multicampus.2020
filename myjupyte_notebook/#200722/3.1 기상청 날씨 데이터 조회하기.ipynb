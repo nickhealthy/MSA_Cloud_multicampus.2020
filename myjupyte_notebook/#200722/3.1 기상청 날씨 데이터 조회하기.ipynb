{
 "cells": [
  {
   "cell_type": "markdown",
   "metadata": {},
   "source": [
    "### 기상청 날씨 데이터 조회\n",
    "* find(), find_all 함수 사용"
   ]
  },
  {
   "cell_type": "code",
   "execution_count": 1,
   "metadata": {
    "tags": []
   },
   "outputs": [
    {
     "output_type": "stream",
     "name": "stdout",
     "text": "[<title>기상청 육상 중기예보</title>, <title>전국 육상 중기예보 - 2020년 07월 26일 (일)요일 06:00 발표</title>, <title>전국 육상중기예보</title>]\n"
    }
   ],
   "source": [
    "import requests\n",
    "from bs4 import BeautifulSoup\n",
    "\n",
    "url = \"http://www.kma.go.kr/weather/forecast/mid-term-rss3.jsp\"\n",
    "\n",
    "res = requests.get(url) # 통신 설정\n",
    "html = res.text\n",
    "soup = BeautifulSoup(html, 'html.parser')\n",
    "\n",
    "#print(soup.find('title').string)\n",
    "print(soup.find_all('title')) \n",
    "# print(type(soup.find_all('title'))) # type ResultSet\n",
    "# for title in soup.find_all('title'): #list 니까 for문\n",
    "#     print(title.text)  # 그냥 title 만 해주면 태그 값도 같이 가져옴 >> .text 를 해줘야함\n",
    "    \n",
    "# print(soup.find('wf').string)  # wf 태그 하나만 가져옴"
   ]
  },
  {
   "cell_type": "code",
   "execution_count": 2,
   "metadata": {
    "tags": []
   },
   "outputs": [
    {
     "output_type": "stream",
     "name": "stdout",
     "text": "<header>\n<title>전국 육상중기예보</title>\n<tm>202007260600</tm>\n<wf><![CDATA[○ (강수) 29일(수)은 중부지방, 전라도, 경북에 비가 오겠고, 30일(목)은 중부지방(강원영동 제외), 8월 1일(토)~3일(월)은 서울.경기도와 강원영서에 비가 오겠습니다.<br />○ (기온) 이번 예보기간의 낮 기온은 27~34도로 어제(21~29도)보다 높겠고, 특히 30일(목)부터 경북내륙을 중심으로 33도 이상 올라 덥겠습니다.<br />          8월 2일(일)부터 동해안과 남부내륙을 중심으로 아침최저기온이 25도 이상으로 열대야가 나타나는 곳이 있겠습니다.<br /><br />* 29일(수)~30일(목)은 정체전선의 위치와 저기압의 이동경로에 따라 강수시점과 지역이 변경될 가능성이 있으니, 앞으로 발표되는 기상정보를 참고하기 바랍니다.]]></wf>\n</header>\n○ (강수) 29일(수)은 중부지방, 전라도, 경북에 비가 오겠고, 30일(목)은 중부지방(강원영동 제외), 8월 1일(토)~3일(월)은 서울.경기도와 강원영서에 비가 오겠습니다.<br />○ (기온) 이번 예보기간의 낮 기온은 27~34도로 어제(21~29도)보다 높겠고, 특히 30일(목)부터 경북내륙을 중심으로 33도 이상 올라 덥겠습니다.<br />          8월 2일(일)부터 동해안과 남부내륙을 중심으로 아침최저기온이 25도 이상으로 열대야가 나타나는 곳이 있겠습니다.<br /><br />* 29일(수)~30일(목)은 정체전선의 위치와 저기압의 이동경로에 따라 강수시점과 지역이 변경될 가능성이 있으니, 앞으로 발표되는 기상정보를 참고하기 바랍니다.\n"
    }
   ],
   "source": [
    "for tag in soup.find_all('header'): #find_all 도 select 처럼 list\n",
    "    print(tag)\n",
    "    print(tag.find('wf').string)"
   ]
  },
  {
   "cell_type": "markdown",
   "metadata": {},
   "source": [
    "### location 태그에 있는 'wl_ver' : '3' 속성 값 가져오기\n",
    "* province\n",
    "* city"
   ]
  },
  {
   "cell_type": "code",
   "execution_count": 3,
   "metadata": {
    "tags": []
   },
   "outputs": [
    {
     "output_type": "stream",
     "name": "stdout",
     "text": "서울ㆍ인천ㆍ경기도 서울\n"
    }
   ],
   "source": [
    "title = soup.find('location', attrs={'wl_ver' : '3'}).find('province').text #attrs 속성값\n",
    "city = soup.find('location', attrs={'wl_ver' : '3'}).find('city').text #attrs 속성값\n",
    "print(title, city)"
   ]
  },
  {
   "cell_type": "markdown",
   "metadata": {},
   "source": [
    "### location 태그에 있는 'wl_ver' : '3' 속성 값중 data 태그들 가져오기\n",
    "* find는 element.Tag\n",
    "<br>\n",
    "<br>\n",
    "* 1개의 data는 dict에 저장하고, dict를 list에 저장한다.\n",
    "* 리스트 출력하기"
   ]
  },
  {
   "cell_type": "code",
   "execution_count": 8,
   "metadata": {
    "tags": [
     "outputPrepend"
    ]
   },
   "outputs": [
    {
     "output_type": "stream",
     "name": "stdout",
     "text": "29'}, {'mode': 'A02', 'wf': '흐림', 'tmn': '23', 'tmx': '29'}, {'mode': 'A02', 'wf': '흐림', 'tmn': '23', 'tmx': '29'}, {'mode': 'A02', 'wf': '흐림', 'tmn': '23', 'tmx': '30'}, {'mode': 'A02', 'wf': '흐림', 'tmn': '23', 'tmx': '30'}, {'mode': 'A01', 'wf': '흐림', 'tmn': '23', 'tmx': '30'}, {'mode': 'A01', 'wf': '흐림', 'tmn': '24', 'tmx': '31'}, {'mode': 'A01', 'wf': '흐림', 'tmn': '24', 'tmx': '32'}, {'mode': 'A02', 'wf': '흐리고 비', 'tmn': '23', 'tmx': '30'}, {'mode': 'A02', 'wf': '흐리고 비', 'tmn': '23', 'tmx': '30'}, {'mode': 'A02', 'wf': '흐리고 비', 'tmn': '22', 'tmx': '31'}, {'mode': 'A02', 'wf': '흐리고 비', 'tmn': '22', 'tmx': '31'}, {'mode': 'A02', 'wf': '흐림', 'tmn': '23', 'tmx': '32'}, {'mode': 'A02', 'wf': '흐림', 'tmn': '23', 'tmx': '32'}, {'mode': 'A02', 'wf': '흐림', 'tmn': '23', 'tmx': '32'}, {'mode': 'A02', 'wf': '흐림', 'tmn': '23', 'tmx': '32'}, {'mode': 'A02', 'wf': '흐림', 'tmn': '22', 'tmx': '32'}, {'mode': 'A02', 'wf': '흐림', 'tmn': '22', 'tmx': '32'}, {'mode': 'A01', 'wf': '흐림', 'tmn': '22', 'tmx': '31'}, {'mode': 'A01', 'wf': '흐림', 'tmn': '22', 'tmx': '33'}, {'mode': 'A01', 'wf': '흐림', 'tmn': '23', 'tmx': '33'}, {'mode': 'A02', 'wf': '흐리고 비', 'tmn': '24', 'tmx': '29'}, {'mode': 'A02', 'wf': '흐리고 비', 'tmn': '24', 'tmx': '29'}, {'mode': 'A02', 'wf': '흐림', 'tmn': '24', 'tmx': '31'}, {'mode': 'A02', 'wf': '흐림', 'tmn': '24', 'tmx': '31'}, {'mode': 'A02', 'wf': '흐림', 'tmn': '24', 'tmx': '31'}, {'mode': 'A02', 'wf': '흐림', 'tmn': '24', 'tmx': '31'}, {'mode': 'A02', 'wf': '흐림', 'tmn': '24', 'tmx': '30'}, {'mode': 'A02', 'wf': '흐림', 'tmn': '24', 'tmx': '30'}, {'mode': 'A02', 'wf': '흐림', 'tmn': '24', 'tmx': '31'}, {'mode': 'A02', 'wf': '흐림', 'tmn': '24', 'tmx': '31'}, {'mode': 'A01', 'wf': '흐림', 'tmn': '24', 'tmx': '31'}, {'mode': 'A01', 'wf': '흐림', 'tmn': '24', 'tmx': '32'}, {'mode': 'A01', 'wf': '흐림', 'tmn': '24', 'tmx': '31'}, {'mode': 'A02', 'wf': '흐리고 비', 'tmn': '23', 'tmx': '27'}, {'mode': 'A02', 'wf': '흐리고 비', 'tmn': '23', 'tmx': '27'}, {'mode': 'A02', 'wf': '흐림', 'tmn': '24', 'tmx': '29'}, {'mode': 'A02', 'wf': '흐림', 'tmn': '24', 'tmx': '29'}, {'mode': 'A02', 'wf': '흐림', 'tmn': '24', 'tmx': '30'}, {'mode': 'A02', 'wf': '흐림', 'tmn': '24', 'tmx': '30'}, {'mode': 'A02', 'wf': '흐림', 'tmn': '24', 'tmx': '29'}, {'mode': 'A02', 'wf': '흐림', 'tmn': '24', 'tmx': '29'}, {'mode': 'A02', 'wf': '흐림', 'tmn': '24', 'tmx': '30'}, {'mode': 'A02', 'wf': '흐림', 'tmn': '24', 'tmx': '30'}, {'mode': 'A01', 'wf': '흐림', 'tmn': '24', 'tmx': '29'}, {'mode': 'A01', 'wf': '흐림', 'tmn': '24', 'tmx': '30'}, {'mode': 'A01', 'wf': '흐림', 'tmn': '24', 'tmx': '30'}, {'mode': 'A02', 'wf': '흐리고 비', 'tmn': '23', 'tmx': '28'}, {'mode': 'A02', 'wf': '흐리고 비', 'tmn': '23', 'tmx': '28'}, {'mode': 'A02', 'wf': '흐림', 'tmn': '23', 'tmx': '28'}, {'mode': 'A02', 'wf': '흐림', 'tmn': '23', 'tmx': '28'}, {'mode': 'A02', 'wf': '흐림', 'tmn': '24', 'tmx': '29'}, {'mode': 'A02', 'wf': '흐림', 'tmn': '24', 'tmx': '29'}, {'mode': 'A02', 'wf': '흐림', 'tmn': '24', 'tmx': '28'}, {'mode': 'A02', 'wf': '흐림', 'tmn': '24', 'tmx': '28'}, {'mode': 'A02', 'wf': '흐림', 'tmn': '24', 'tmx': '28'}, {'mode': 'A02', 'wf': '흐림', 'tmn': '24', 'tmx': '28'}, {'mode': 'A01', 'wf': '흐림', 'tmn': '24', 'tmx': '28'}, {'mode': 'A01', 'wf': '흐림', 'tmn': '24', 'tmx': '28'}, {'mode': 'A01', 'wf': '흐림', 'tmn': '24', 'tmx': '28'}, {'mode': 'A02', 'wf': '흐리고 비', 'tmn': '24', 'tmx': '30'}, {'mode': 'A02', 'wf': '흐리고 비', 'tmn': '24', 'tmx': '30'}, {'mode': 'A02', 'wf': '흐림', 'tmn': '24', 'tmx': '31'}, {'mode': 'A02', 'wf': '흐림', 'tmn': '24', 'tmx': '31'}, {'mode': 'A02', 'wf': '흐림', 'tmn': '24', 'tmx': '32'}, {'mode': 'A02', 'wf': '흐림', 'tmn': '24', 'tmx': '32'}, {'mode': 'A02', 'wf': '흐림', 'tmn': '24', 'tmx': '31'}, {'mode': 'A02', 'wf': '흐림', 'tmn': '24', 'tmx': '31'}, {'mode': 'A02', 'wf': '흐림', 'tmn': '24', 'tmx': '32'}, {'mode': 'A02', 'wf': '흐림', 'tmn': '24', 'tmx': '32'}, {'mode': 'A01', 'wf': '흐림', 'tmn': '25', 'tmx': '31'}, {'mode': 'A01', 'wf': '흐림', 'tmn': '24', 'tmx': '31'}, {'mode': 'A01', 'wf': '흐림', 'tmn': '24', 'tmx': '31'}, {'mode': 'A02', 'wf': '흐리고 비', 'tmn': '23', 'tmx': '30'}, {'mode': 'A02', 'wf': '흐리고 비', 'tmn': '23', 'tmx': '30'}, {'mode': 'A02', 'wf': '흐림', 'tmn': '23', 'tmx': '31'}, {'mode': 'A02', 'wf': '흐림', 'tmn': '23', 'tmx': '31'}, {'mode': 'A02', 'wf': '흐림', 'tmn': '24', 'tmx': '31'}, {'mode': 'A02', 'wf': '흐림', 'tmn': '24', 'tmx': '31'}, {'mode': 'A02', 'wf': '흐림', 'tmn': '23', 'tmx': '31'}, {'mode': 'A02', 'wf': '흐림', 'tmn': '23', 'tmx': '31'}, {'mode': 'A02', 'wf': '흐림', 'tmn': '23', 'tmx': '30'}, {'mode': 'A02', 'wf': '흐림', 'tmn': '23', 'tmx': '30'}, {'mode': 'A01', 'wf': '흐림', 'tmn': '24', 'tmx': '30'}, {'mode': 'A01', 'wf': '흐림', 'tmn': '24', 'tmx': '30'}, {'mode': 'A01', 'wf': '흐림', 'tmn': '23', 'tmx': '29'}, {'mode': 'A02', 'wf': '흐리고 비', 'tmn': '23', 'tmx': '30'}, {'mode': 'A02', 'wf': '흐리고 비', 'tmn': '23', 'tmx': '30'}, {'mode': 'A02', 'wf': '흐림', 'tmn': '24', 'tmx': '31'}, {'mode': 'A02', 'wf': '흐림', 'tmn': '24', 'tmx': '31'}, {'mode': 'A02', 'wf': '흐림', 'tmn': '24', 'tmx': '32'}, {'mode': 'A02', 'wf': '흐림', 'tmn': '24', 'tmx': '32'}, {'mode': 'A02', 'wf': '흐림', 'tmn': '23', 'tmx': '31'}, {'mode': 'A02', 'wf': '흐림', 'tmn': '23', 'tmx': '31'}, {'mode': 'A02', 'wf': '흐림', 'tmn': '23', 'tmx': '32'}, {'mode': 'A02', 'wf': '흐림', 'tmn': '23', 'tmx': '32'}, {'mode': 'A01', 'wf': '흐림', 'tmn': '24', 'tmx': '32'}, {'mode': 'A01', 'wf': '흐림', 'tmn': '24', 'tmx': '33'}, {'mode': 'A01', 'wf': '흐림', 'tmn': '24', 'tmx': '33'}, {'mode': 'A02', 'wf': '흐리고 비', 'tmn': '24', 'tmx': '30'}, {'mode': 'A02', 'wf': '흐리고 비', 'tmn': '24', 'tmx': '30'}, {'mode': 'A02', 'wf': '흐림', 'tmn': '24', 'tmx': '30'}, {'mode': 'A02', 'wf': '흐림', 'tmn': '24', 'tmx': '30'}, {'mode': 'A02', 'wf': '흐림', 'tmn': '24', 'tmx': '31'}, {'mode': 'A02', 'wf': '흐림', 'tmn': '24', 'tmx': '31'}, {'mode': 'A02', 'wf': '흐림', 'tmn': '24', 'tmx': '31'}, {'mode': 'A02', 'wf': '흐림', 'tmn': '24', 'tmx': '31'}, {'mode': 'A02', 'wf': '흐림', 'tmn': '24', 'tmx': '31'}, {'mode': 'A02', 'wf': '흐림', 'tmn': '24', 'tmx': '31'}, {'mode': 'A01', 'wf': '흐림', 'tmn': '24', 'tmx': '31'}, {'mode': 'A01', 'wf': '흐림', 'tmn': '24', 'tmx': '33'}, {'mode': 'A01', 'wf': '흐림', 'tmn': '24', 'tmx': '33'}, {'mode': 'A02', 'wf': '흐리고 비', 'tmn': '23', 'tmx': '28'}, {'mode': 'A02', 'wf': '흐리고 비', 'tmn': '23', 'tmx': '28'}, {'mode': 'A02', 'wf': '흐림', 'tmn': '23', 'tmx': '29'}, {'mode': 'A02', 'wf': '흐림', 'tmn': '23', 'tmx': '29'}, {'mode': 'A02', 'wf': '흐림', 'tmn': '23', 'tmx': '29'}, {'mode': 'A02', 'wf': '흐림', 'tmn': '23', 'tmx': '29'}, {'mode': 'A02', 'wf': '흐림', 'tmn': '24', 'tmx': '29'}, {'mode': 'A02', 'wf': '흐림', 'tmn': '24', 'tmx': '29'}, {'mode': 'A02', 'wf': '흐림', 'tmn': '23', 'tmx': '29'}, {'mode': 'A02', 'wf': '흐림', 'tmn': '23', 'tmx': '29'}, {'mode': 'A01', 'wf': '흐림', 'tmn': '23', 'tmx': '30'}, {'mode': 'A01', 'wf': '흐림', 'tmn': '24', 'tmx': '31'}, {'mode': 'A01', 'wf': '흐림', 'tmn': '23', 'tmx': '30'}, {'mode': 'A02', 'wf': '흐리고 비', 'tmn': '23', 'tmx': '30'}, {'mode': 'A02', 'wf': '흐리고 비', 'tmn': '23', 'tmx': '30'}, {'mode': 'A02', 'wf': '흐림', 'tmn': '23', 'tmx': '31'}, {'mode': 'A02', 'wf': '흐림', 'tmn': '23', 'tmx': '31'}, {'mode': 'A02', 'wf': '흐림', 'tmn': '23', 'tmx': '31'}, {'mode': 'A02', 'wf': '흐림', 'tmn': '23', 'tmx': '31'}, {'mode': 'A02', 'wf': '흐림', 'tmn': '24', 'tmx': '31'}, {'mode': 'A02', 'wf': '흐림', 'tmn': '24', 'tmx': '31'}, {'mode': 'A02', 'wf': '흐림', 'tmn': '23', 'tmx': '31'}, {'mode': 'A02', 'wf': '흐림', 'tmn': '23', 'tmx': '31'}, {'mode': 'A01', 'wf': '흐림', 'tmn': '24', 'tmx': '32'}, {'mode': 'A01', 'wf': '흐림', 'tmn': '24', 'tmx': '32'}, {'mode': 'A01', 'wf': '흐림', 'tmn': '23', 'tmx': '31'}, {'mode': 'A02', 'wf': '흐리고 비', 'tmn': '23', 'tmx': '30'}, {'mode': 'A02', 'wf': '흐리고 비', 'tmn': '23', 'tmx': '30'}, {'mode': 'A02', 'wf': '흐림', 'tmn': '23', 'tmx': '31'}, {'mode': 'A02', 'wf': '흐림', 'tmn': '23', 'tmx': '31'}, {'mode': 'A02', 'wf': '흐림', 'tmn': '23', 'tmx': '31'}, {'mode': 'A02', 'wf': '흐림', 'tmn': '23', 'tmx': '31'}, {'mode': 'A02', 'wf': '흐림', 'tmn': '23', 'tmx': '30'}, {'mode': 'A02', 'wf': '흐림', 'tmn': '23', 'tmx': '30'}, {'mode': 'A02', 'wf': '흐림', 'tmn': '22', 'tmx': '31'}, {'mode': 'A02', 'wf': '흐림', 'tmn': '22', 'tmx': '31'}, {'mode': 'A01', 'wf': '흐림', 'tmn': '23', 'tmx': '30'}, {'mode': 'A01', 'wf': '흐림', 'tmn': '23', 'tmx': '32'}, {'mode': 'A01', 'wf': '흐림', 'tmn': '22', 'tmx': '31'}, {'mode': 'A02', 'wf': '흐리고 비', 'tmn': '23', 'tmx': '29'}, {'mode': 'A02', 'wf': '흐리고 비', 'tmn': '23', 'tmx': '29'}, {'mode': 'A02', 'wf': '흐림', 'tmn': '23', 'tmx': '29'}, {'mode': 'A02', 'wf': '흐림', 'tmn': '23', 'tmx': '29'}, {'mode': 'A02', 'wf': '흐림', 'tmn': '23', 'tmx': '29'}, {'mode': 'A02', 'wf': '흐림', 'tmn': '23', 'tmx': '29'}, {'mode': 'A02', 'wf': '흐림', 'tmn': '23', 'tmx': '28'}, {'mode': 'A02', 'wf': '흐림', 'tmn': '23', 'tmx': '28'}, {'mode': 'A02', 'wf': '흐림', 'tmn': '23', 'tmx': '29'}, {'mode': 'A02', 'wf': '흐림', 'tmn': '23', 'tmx': '29'}, {'mode': 'A01', 'wf': '흐림', 'tmn': '23', 'tmx': '29'}, {'mode': 'A01', 'wf': '흐림', 'tmn': '23', 'tmx': '29'}, {'mode': 'A01', 'wf': '흐림', 'tmn': '23', 'tmx': '29'}, {'mode': 'A02', 'wf': '흐리고 비', 'tmn': '23', 'tmx': '30'}, {'mode': 'A02', 'wf': '흐리고 비', 'tmn': '23', 'tmx': '30'}, {'mode': 'A02', 'wf': '흐림', 'tmn': '22', 'tmx': '30'}, {'mode': 'A02', 'wf': '흐림', 'tmn': '22', 'tmx': '30'}, {'mode': 'A02', 'wf': '흐림', 'tmn': '23', 'tmx': '31'}, {'mode': 'A02', 'wf': '흐림', 'tmn': '23', 'tmx': '31'}, {'mode': 'A02', 'wf': '흐림', 'tmn': '23', 'tmx': '31'}, {'mode': 'A02', 'wf': '흐림', 'tmn': '23', 'tmx': '31'}, {'mode': 'A02', 'wf': '흐림', 'tmn': '22', 'tmx': '31'}, {'mode': 'A02', 'wf': '흐림', 'tmn': '22', 'tmx': '31'}, {'mode': 'A01', 'wf': '흐림', 'tmn': '23', 'tmx': '31'}, {'mode': 'A01', 'wf': '흐림', 'tmn': '22', 'tmx': '32'}, {'mode': 'A01', 'wf': '흐림', 'tmn': '22', 'tmx': '32'}, {'mode': 'A02', 'wf': '흐림', 'tmn': '23', 'tmx': '28'}, {'mode': 'A02', 'wf': '흐림', 'tmn': '23', 'tmx': '28'}, {'mode': 'A02', 'wf': '구름많음', 'tmn': '23', 'tmx': '29'}, {'mode': 'A02', 'wf': '구름많음', 'tmn': '23', 'tmx': '29'}, {'mode': 'A02', 'wf': '구름많음', 'tmn': '24', 'tmx': '30'}, {'mode': 'A02', 'wf': '구름많음', 'tmn': '24', 'tmx': '30'}, {'mode': 'A02', 'wf': '구름많음', 'tmn': '24', 'tmx': '29'}, {'mode': 'A02', 'wf': '구름많음', 'tmn': '24', 'tmx': '29'}, {'mode': 'A02', 'wf': '흐림', 'tmn': '24', 'tmx': '28'}, {'mode': 'A02', 'wf': '흐림', 'tmn': '24', 'tmx': '28'}, {'mode': 'A01', 'wf': '구름많음', 'tmn': '24', 'tmx': '28'}, {'mode': 'A01', 'wf': '구름많음', 'tmn': '24', 'tmx': '29'}, {'mode': 'A01', 'wf': '구름많음', 'tmn': '24', 'tmx': '29'}, {'mode': 'A02', 'wf': '흐림', 'tmn': '23', 'tmx': '29'}, {'mode': 'A02', 'wf': '흐림', 'tmn': '23', 'tmx': '29'}, {'mode': 'A02', 'wf': '구름많음', 'tmn': '23', 'tmx': '31'}, {'mode': 'A02', 'wf': '구름많음', 'tmn': '23', 'tmx': '31'}, {'mode': 'A02', 'wf': '구름많음', 'tmn': '23', 'tmx': '32'}, {'mode': 'A02', 'wf': '구름많음', 'tmn': '23', 'tmx': '32'}, {'mode': 'A02', 'wf': '구름많음', 'tmn': '23', 'tmx': '32'}, {'mode': 'A02', 'wf': '구름많음', 'tmn': '23', 'tmx': '32'}, {'mode': 'A02', 'wf': '흐림', 'tmn': '23', 'tmx': '31'}, {'mode': 'A02', 'wf': '흐림', 'tmn': '23', 'tmx': '31'}, {'mode': 'A01', 'wf': '구름많음', 'tmn': '23', 'tmx': '31'}, {'mode': 'A01', 'wf': '구름많음', 'tmn': '23', 'tmx': '32'}, {'mode': 'A01', 'wf': '구름많음', 'tmn': '23', 'tmx': '31'}, {'mode': 'A02', 'wf': '흐림', 'tmn': '23', 'tmx': '29'}, {'mode': 'A02', 'wf': '흐림', 'tmn': '23', 'tmx': '29'}, {'mode': 'A02', 'wf': '구름많음', 'tmn': '23', 'tmx': '30'}, {'mode': 'A02', 'wf': '구름많음', 'tmn': '23', 'tmx': '30'}, {'mode': 'A02', 'wf': '구름많음', 'tmn': '23', 'tmx': '31'}, {'mode': 'A02', 'wf': '구름많음', 'tmn': '23', 'tmx': '31'}, {'mode': 'A02', 'wf': '구름많음', 'tmn': '23', 'tmx': '31'}, {'mode': 'A02', 'wf': '구름많음', 'tmn': '23', 'tmx': '31'}, {'mode': 'A02', 'wf': '흐림', 'tmn': '23', 'tmx': '29'}, {'mode': 'A02', 'wf': '흐림', 'tmn': '23', 'tmx': '29'}, {'mode': 'A01', 'wf': '구름많음', 'tmn': '24', 'tmx': '30'}, {'mode': 'A01', 'wf': '구름많음', 'tmn': '23', 'tmx': '31'}, {'mode': 'A01', 'wf': '구름많음', 'tmn': '24', 'tmx': '30'}, {'mode': 'A02', 'wf': '흐림', 'tmn': '23', 'tmx': '29'}, {'mode': 'A02', 'wf': '흐림', 'tmn': '23', 'tmx': '29'}, {'mode': 'A02', 'wf': '구름많음', 'tmn': '23', 'tmx': '31'}, {'mode': 'A02', 'wf': '구름많음', 'tmn': '23', 'tmx': '31'}, {'mode': 'A02', 'wf': '구름많음', 'tmn': '23', 'tmx': '32'}, {'mode': 'A02', 'wf': '구름많음', 'tmn': '23', 'tmx': '32'}, {'mode': 'A02', 'wf': '구름많음', 'tmn': '23', 'tmx': '31'}, {'mode': 'A02', 'wf': '구름많음', 'tmn': '23', 'tmx': '31'}, {'mode': 'A02', 'wf': '흐림', 'tmn': '23', 'tmx': '30'}, {'mode': 'A02', 'wf': '흐림', 'tmn': '23', 'tmx': '30'}, {'mode': 'A01', 'wf': '구름많음', 'tmn': '24', 'tmx': '30'}, {'mode': 'A01', 'wf': '구름많음', 'tmn': '23', 'tmx': '31'}, {'mode': 'A01', 'wf': '구름많음', 'tmn': '23', 'tmx': '31'}, {'mode': 'A02', 'wf': '흐림', 'tmn': '23', 'tmx': '30'}, {'mode': 'A02', 'wf': '흐림', 'tmn': '23', 'tmx': '30'}, {'mode': 'A02', 'wf': '구름많음', 'tmn': '23', 'tmx': '31'}, {'mode': 'A02', 'wf': '구름많음', 'tmn': '23', 'tmx': '31'}, {'mode': 'A02', 'wf': '구름많음', 'tmn': '22', 'tmx': '31'}, {'mode': 'A02', 'wf': '구름많음', 'tmn': '22', 'tmx': '31'}, {'mode': 'A02', 'wf': '구름많음', 'tmn': '22', 'tmx': '31'}, {'mode': 'A02', 'wf': '구름많음', 'tmn': '22', 'tmx': '31'}, {'mode': 'A02', 'wf': '흐림', 'tmn': '22', 'tmx': '31'}, {'mode': 'A02', 'wf': '흐림', 'tmn': '22', 'tmx': '31'}, {'mode': 'A01', 'wf': '구름많음', 'tmn': '22', 'tmx': '31'}, {'mode': 'A01', 'wf': '구름많음', 'tmn': '22', 'tmx': '32'}, {'mode': 'A01', 'wf': '구름많음', 'tmn': '22', 'tmx': '31'}, {'mode': 'A02', 'wf': '흐림', 'tmn': '23', 'tmx': '27'}, {'mode': 'A02', 'wf': '흐림', 'tmn': '23', 'tmx': '27'}, {'mode': 'A02', 'wf': '구름많음', 'tmn': '23', 'tmx': '28'}, {'mode': 'A02', 'wf': '구름많음', 'tmn': '23', 'tmx': '28'}, {'mode': 'A02', 'wf': '구름많음', 'tmn': '23', 'tmx': '29'}, {'mode': 'A02', 'wf': '구름많음', 'tmn': '23', 'tmx': '29'}, {'mode': 'A02', 'wf': '구름많음', 'tmn': '23', 'tmx': '29'}, {'mode': 'A02', 'wf': '구름많음', 'tmn': '23', 'tmx': '29'}, {'mode': 'A02', 'wf': '흐림', 'tmn': '23', 'tmx': '28'}, {'mode': 'A02', 'wf': '흐림', 'tmn': '23', 'tmx': '28'}, {'mode': 'A01', 'wf': '구름많음', 'tmn': '24', 'tmx': '28'}, {'mode': 'A01', 'wf': '구름많음', 'tmn': '23', 'tmx': '29'}, {'mode': 'A01', 'wf': '구름많음', 'tmn': '23', 'tmx': '29'}, {'mode': 'A02', 'wf': '흐리고 비', 'tmn': '23', 'tmx': '32'}, {'mode': 'A02', 'wf': '흐리고 비', 'tmn': '23', 'tmx': '32'}, {'mode': 'A02', 'wf': '구름많음', 'tmn': '23', 'tmx': '33'}, {'mode': 'A02', 'wf': '흐림', 'tmn': '23', 'tmx': '33'}, {'mode': 'A02', 'wf': '구름많음', 'tmn': '24', 'tmx': '34'}, {'mode': 'A02', 'wf': '흐림', 'tmn': '24', 'tmx': '34'}, {'mode': 'A02', 'wf': '구름많음', 'tmn': '24', 'tmx': '34'}, {'mode': 'A02', 'wf': '흐림', 'tmn': '24', 'tmx': '34'}, {'mode': 'A02', 'wf': '흐림', 'tmn': '24', 'tmx': '34'}, {'mode': 'A02', 'wf': '흐림', 'tmn': '24', 'tmx': '34'}, {'mode': 'A01', 'wf': '흐림', 'tmn': '24', 'tmx': '34'}, {'mode': 'A01', 'wf': '흐림', 'tmn': '24', 'tmx': '34'}, {'mode': 'A01', 'wf': '흐림', 'tmn': '24', 'tmx': '33'}, {'mode': 'A02', 'wf': '흐리고 비', 'tmn': '22', 'tmx': '29'}, {'mode': 'A02', 'wf': '흐리고 비', 'tmn': '22', 'tmx': '29'}, {'mode': 'A02', 'wf': '구름많음', 'tmn': '22', 'tmx': '30'}, {'mode': 'A02', 'wf': '흐림', 'tmn': '22', 'tmx': '30'}, {'mode': 'A02', 'wf': '구름많음', 'tmn': '23', 'tmx': '31'}, {'mode': 'A02', 'wf': '흐림', 'tmn': '23', 'tmx': '31'}, {'mode': 'A02', 'wf': '구름많음', 'tmn': '23', 'tmx': '30'}, {'mode': 'A02', 'wf': '흐림', 'tmn': '23', 'tmx': '30'}, {'mode': 'A02', 'wf': '흐림', 'tmn': '23', 'tmx': '31'}, {'mode': 'A02', 'wf': '흐림', 'tmn': '23', 'tmx': '31'}, {'mode': 'A01', 'wf': '흐림', 'tmn': '22', 'tmx': '31'}, {'mode': 'A01', 'wf': '흐림', 'tmn': '23', 'tmx': '32'}, {'mode': 'A01', 'wf': '흐림', 'tmn': '22', 'tmx': '31'}, {'mode': 'A02', 'wf': '흐리고 비', 'tmn': '23', 'tmx': '28'}, {'mode': 'A02', 'wf': '흐리고 비', 'tmn': '23', 'tmx': '28'}, {'mode': 'A02', 'wf': '구름많음', 'tmn': '23', 'tmx': '30'}, {'mode': 'A02', 'wf': '흐림', 'tmn': '23', 'tmx': '30'}, {'mode': 'A02', 'wf': '구름많음', 'tmn': '25', 'tmx': '31'}, {'mode': 'A02', 'wf': '흐림', 'tmn': '25', 'tmx': '31'}, {'mode': 'A02', 'wf': '구름많음', 'tmn': '25', 'tmx': '31'}, {'mode': 'A02', 'wf': '흐림', 'tmn': '25', 'tmx': '31'}, {'mode': 'A02', 'wf': '흐림', 'tmn': '25', 'tmx': '31'}, {'mode': 'A02', 'wf': '흐림', 'tmn': '25', 'tmx': '31'}, {'mode': 'A01', 'wf': '흐림', 'tmn': '24', 'tmx': '31'}, {'mode': 'A01', 'wf': '흐림', 'tmn': '24', 'tmx': '31'}, {'mode': 'A01', 'wf': '흐림', 'tmn': '24', 'tmx': '30'}, {'mode': 'A02', 'wf': '흐리고 비', 'tmn': '22', 'tmx': '31'}, {'mode': 'A02', 'wf': '흐리고 비', 'tmn': '22', 'tmx': '31'}, {'mode': 'A02', 'wf': '구름많음', 'tmn': '22', 'tmx': '32'}, {'mode': 'A02', 'wf': '흐림', 'tmn': '22', 'tmx': '32'}, {'mode': 'A02', 'wf': '구름많음', 'tmn': '23', 'tmx': '33'}, {'mode': 'A02', 'wf': '흐림', 'tmn': '23', 'tmx': '33'}, {'mode': 'A02', 'wf': '구름많음', 'tmn': '23', 'tmx': '32'}, {'mode': 'A02', 'wf': '흐림', 'tmn': '23', 'tmx': '32'}, {'mode': 'A02', 'wf': '흐림', 'tmn': '22', 'tmx': '32'}, {'mode': 'A02', 'wf': '흐림', 'tmn': '22', 'tmx': '32'}, {'mode': 'A01', 'wf': '흐림', 'tmn': '23', 'tmx': '31'}, {'mode': 'A01', 'wf': '흐림', 'tmn': '22', 'tmx': '32'}, {'mode': 'A01', 'wf': '흐림', 'tmn': '22', 'tmx': '31'}, {'mode': 'A02', 'wf': '흐리고 비', 'tmn': '21', 'tmx': '25'}, {'mode': 'A02', 'wf': '흐리고 비', 'tmn': '21', 'tmx': '25'}, {'mode': 'A02', 'wf': '구름많음', 'tmn': '21', 'tmx': '27'}, {'mode': 'A02', 'wf': '흐림', 'tmn': '21', 'tmx': '27'}, {'mode': 'A02', 'wf': '구름많음', 'tmn': '23', 'tmx': '29'}, {'mode': 'A02', 'wf': '흐림', 'tmn': '23', 'tmx': '29'}, {'mode': 'A02', 'wf': '구름많음', 'tmn': '23', 'tmx': '29'}, {'mode': 'A02', 'wf': '흐림', 'tmn': '23', 'tmx': '29'}, {'mode': 'A02', 'wf': '흐림', 'tmn': '23', 'tmx': '28'}, {'mode': 'A02', 'wf': '흐림', 'tmn': '23', 'tmx': '28'}, {'mode': 'A01', 'wf': '흐림', 'tmn': '23', 'tmx': '28'}, {'mode': 'A01', 'wf': '흐림', 'tmn': '23', 'tmx': '29'}, {'mode': 'A01', 'wf': '흐림', 'tmn': '23', 'tmx': '29'}, {'mode': 'A02', 'wf': '흐리고 비', 'tmn': '21', 'tmx': '25'}, {'mode': 'A02', 'wf': '흐리고 비', 'tmn': '21', 'tmx': '25'}, {'mode': 'A02', 'wf': '구름많음', 'tmn': '22', 'tmx': '26'}, {'mode': 'A02', 'wf': '흐림', 'tmn': '22', 'tmx': '26'}, {'mode': 'A02', 'wf': '구름많음', 'tmn': '23', 'tmx': '27'}, {'mode': 'A02', 'wf': '흐림', 'tmn': '23', 'tmx': '27'}, {'mode': 'A02', 'wf': '구름많음', 'tmn': '23', 'tmx': '27'}, {'mode': 'A02', 'wf': '흐림', 'tmn': '23', 'tmx': '27'}, {'mode': 'A02', 'wf': '흐림', 'tmn': '23', 'tmx': '27'}, {'mode': 'A02', 'wf': '흐림', 'tmn': '23', 'tmx': '27'}, {'mode': 'A01', 'wf': '흐림', 'tmn': '22', 'tmx': '27'}, {'mode': 'A01', 'wf': '흐림', 'tmn': '22', 'tmx': '27'}, {'mode': 'A01', 'wf': '흐림', 'tmn': '22', 'tmx': '27'}, {'mode': 'A02', 'wf': '흐림', 'tmn': '25', 'tmx': '31'}, {'mode': 'A02', 'wf': '흐림', 'tmn': '25', 'tmx': '31'}, {'mode': 'A02', 'wf': '구름많음', 'tmn': '25', 'tmx': '31'}, {'mode': 'A02', 'wf': '구름많음', 'tmn': '25', 'tmx': '31'}, {'mode': 'A02', 'wf': '구름많음', 'tmn': '25', 'tmx': '31'}, {'mode': 'A02', 'wf': '구름많음', 'tmn': '25', 'tmx': '31'}, {'mode': 'A02', 'wf': '구름많음', 'tmn': '25', 'tmx': '31'}, {'mode': 'A02', 'wf': '구름많음', 'tmn': '25', 'tmx': '31'}, {'mode': 'A02', 'wf': '구름많음', 'tmn': '25', 'tmx': '32'}, {'mode': 'A02', 'wf': '구름많음', 'tmn': '25', 'tmx': '32'}, {'mode': 'A01', 'wf': '구름많음', 'tmn': '26', 'tmx': '32'}, {'mode': 'A01', 'wf': '구름많음', 'tmn': '26', 'tmx': '32'}, {'mode': 'A01', 'wf': '흐림', 'tmn': '26', 'tmx': '32'}, {'mode': 'A02', 'wf': '흐림', 'tmn': '25', 'tmx': '28'}, {'mode': 'A02', 'wf': '흐림', 'tmn': '25', 'tmx': '28'}, {'mode': 'A02', 'wf': '구름많음', 'tmn': '25', 'tmx': '29'}, {'mode': 'A02', 'wf': '구름많음', 'tmn': '25', 'tmx': '29'}, {'mode': 'A02', 'wf': '구름많음', 'tmn': '25', 'tmx': '29'}, {'mode': 'A02', 'wf': '구름많음', 'tmn': '25', 'tmx': '29'}, {'mode': 'A02', 'wf': '구름많음', 'tmn': '25', 'tmx': '29'}, {'mode': 'A02', 'wf': '구름많음', 'tmn': '25', 'tmx': '29'}, {'mode': 'A02', 'wf': '구름많음', 'tmn': '25', 'tmx': '29'}, {'mode': 'A02', 'wf': '구름많음', 'tmn': '25', 'tmx': '29'}, {'mode': 'A01', 'wf': '구름많음', 'tmn': '26', 'tmx': '30'}, {'mode': 'A01', 'wf': '구름많음', 'tmn': '25', 'tmx': '30'}, {'mode': 'A01', 'wf': '흐림', 'tmn': '26', 'tmx': '30'}]\n"
    }
   ],
   "source": [
    "# print(type(soup.find('location', attrs={'wl_ver' : '3'})))\n",
    "# find는 element.Tag\n",
    "# data_tags = soup.find('location', attrs={'wl_ver' : '3'}).find_all('data')\n",
    "#print(len(data_tags))\n",
    "all_list = []\n",
    "\n",
    "# location에 있는 태그들 다 받아옴\n",
    "for data in soup.find_all('location'):\n",
    "    \n",
    "    # print(type(data))\n",
    "    # mode, wf, tmn, tmx\n",
    "    # print(data.find('mode').text)    # data 태그 중에서 mode 태그만\n",
    "    # print(data.find('wf').text)\n",
    "    \n",
    "    # data 태그들을 가져옴\n",
    "    for data_1 in data.find_all('data'):\n",
    "        mode_dict = {\n",
    "            'mode': data_1.mode.string,\n",
    "            'wf': data_1.wf.string,\n",
    "            'tmn': data_1.tmn.string,\n",
    "            'tmx': data_1.tmx.string\n",
    "            }\n",
    "        all_list.append(mode_dict)\n",
    "print(all_list)"
   ]
  },
  {
   "cell_type": "markdown",
   "metadata": {},
   "source": [
    "### 기상청 데이터 하나의 리스트에 딕셔너리화 연습"
   ]
  },
  {
   "cell_type": "code",
   "execution_count": 9,
   "metadata": {},
   "outputs": [
    {
     "output_type": "error",
     "ename": "NameError",
     "evalue": "name 'da_dic' is not defined",
     "traceback": [
      "\u001b[1;31m---------------------------------------------------------------------------\u001b[0m",
      "\u001b[1;31mNameError\u001b[0m                                 Traceback (most recent call last)",
      "\u001b[1;32m<ipython-input-9-c8c89554b96e>\u001b[0m in \u001b[0;36m<module>\u001b[1;34m\u001b[0m\n\u001b[0;32m     14\u001b[0m \u001b[0mlist_all0\u001b[0m \u001b[1;33m=\u001b[0m \u001b[1;33m[\u001b[0m\u001b[1;33m]\u001b[0m\u001b[1;33m\u001b[0m\u001b[1;33m\u001b[0m\u001b[0m\n\u001b[0;32m     15\u001b[0m \u001b[1;32mfor\u001b[0m \u001b[0mval\u001b[0m \u001b[1;32min\u001b[0m \u001b[0msoup\u001b[0m\u001b[1;33m.\u001b[0m\u001b[0mfind_all\u001b[0m\u001b[1;33m(\u001b[0m\u001b[1;34m'location'\u001b[0m\u001b[1;33m,\u001b[0m \u001b[0mattrs\u001b[0m\u001b[1;33m=\u001b[0m\u001b[1;33m{\u001b[0m\u001b[1;34m'wl_ver'\u001b[0m\u001b[1;33m:\u001b[0m\u001b[1;34m'3'\u001b[0m\u001b[1;33m}\u001b[0m\u001b[1;33m)\u001b[0m\u001b[1;33m:\u001b[0m\u001b[1;33m\u001b[0m\u001b[1;33m\u001b[0m\u001b[0m\n\u001b[1;32m---> 16\u001b[1;33m     \u001b[0mda_dic\u001b[0m\u001b[1;33m[\u001b[0m\u001b[1;34m'province'\u001b[0m\u001b[1;33m]\u001b[0m \u001b[1;33m=\u001b[0m \u001b[0mval\u001b[0m\u001b[1;33m.\u001b[0m\u001b[0mfind\u001b[0m\u001b[1;33m(\u001b[0m\u001b[1;34m'province'\u001b[0m\u001b[1;33m)\u001b[0m\u001b[1;33m.\u001b[0m\u001b[0mstring\u001b[0m\u001b[1;33m\u001b[0m\u001b[1;33m\u001b[0m\u001b[0m\n\u001b[0m\u001b[0;32m     17\u001b[0m     \u001b[0mda_dic\u001b[0m\u001b[1;33m[\u001b[0m\u001b[1;34m'city'\u001b[0m\u001b[1;33m]\u001b[0m \u001b[1;33m=\u001b[0m \u001b[0mval\u001b[0m\u001b[1;33m.\u001b[0m\u001b[0mcity\u001b[0m\u001b[1;33m.\u001b[0m\u001b[0mtext\u001b[0m\u001b[1;33m\u001b[0m\u001b[1;33m\u001b[0m\u001b[0m\n\u001b[0;32m     18\u001b[0m \u001b[1;33m\u001b[0m\u001b[0m\n",
      "\u001b[1;31mNameError\u001b[0m: name 'da_dic' is not defined"
     ]
    }
   ],
   "source": [
    "# 데이터 다 가져오기\n",
    "\n",
    "import requests\n",
    "from bs4 import BeautifulSoup\n",
    "\n",
    "url = \"http://www.kma.go.kr/weather/forecast/mid-term-rss3.jsp\"\n",
    "\n",
    "res = requests.get(url) # 통신 설정\n",
    "html = res.text\n",
    "#print(html)\n",
    "soup = BeautifulSoup(html, 'html.parser')\n",
    "\n",
    "list_all = []\n",
    "list_all0 = []\n",
    "for val in soup.find_all('location', attrs={'wl_ver':'3'}):\n",
    "    da_dic['province'] = val.find('province').string\n",
    "    da_dic['city'] = val.city.text\n",
    "    \n",
    "    for val1 in val.find_all('data'):\n",
    "        data_dict = {\n",
    "            'mode': val1.mode.text,\n",
    "            'wf': val1.wf.text,\n",
    "            'tmn': val1.tmn.text,\n",
    "            'tmx': val1.tmx.text\n",
    "        }\n",
    "        list_all0.append(data_dict)\n",
    "    da_dic['data'] = list_all0\n",
    "    list_all.append(da_dic)\n",
    "    \n",
    "print(list_all)\n",
    "    \n",
    "# print(list_all)\n",
    "    #for data in soup.find_all()\n",
    "#print(soup.find('title').string)"
   ]
  }
 ],
 "metadata": {
  "kernelspec": {
   "display_name": "Python 3",
   "language": "python",
   "name": "python3"
  },
  "language_info": {
   "codemirror_mode": {
    "name": "ipython",
    "version": 3
   },
   "file_extension": ".py",
   "mimetype": "text/x-python",
   "name": "python",
   "nbconvert_exporter": "python",
   "pygments_lexer": "ipython3",
   "version": "3.7.0"
  }
 },
 "nbformat": 4,
 "nbformat_minor": 2
}