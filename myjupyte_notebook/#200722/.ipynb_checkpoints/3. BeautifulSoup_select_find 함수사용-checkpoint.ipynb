{
 "cells": [
  {
   "cell_type": "markdown",
   "metadata": {},
   "source": [
    "### 3. BeautifulSoup_select_find 함수사용"
   ]
  },
  {
   "cell_type": "code",
   "execution_count": 90,
   "metadata": {},
   "outputs": [],
   "source": [
    "book_html=\"\"\"\n",
    "\n",
    "<ul id=\"bible\">\n",
    "    <li id=\"ge\" class=\"first\">\n",
    "<ul class=\"second\">                        \n",
    "    <div>\n",
    "        <li>\n",
    "            <span>aa</span>\n",
    "        </li>\n",
    "    </div>\n",
    "    <li>bb</li>\n",
    "</ul>\n",
    "\n",
    "</li>\n",
    "    <li id=\"ex\" class=\"first\">나의첫사회생활</li>\n",
    "    <li id=\"le\" class=\"second\">Still Me</li>            \n",
    "    <li id=\"nu\" class=\"second\">화염과 분노 : 도널드 트럼프의 백악관 뒷이야기</li>\n",
    "    <li id=\"de\">매일 좋을 수만은 없는 여행을 한다</li>\n",
    "</ul>\n",
    "\n",
    "\"\"\"\n",
    "# book_html\n",
    "from bs4 import BeautifulSoup\n",
    "\n",
    "soup = BeautifulSoup(book_html, 'html.parser')"
   ]
  },
  {
   "cell_type": "code",
   "execution_count": 91,
   "metadata": {},
   "outputs": [
    {
     "name": "stdout",
     "output_type": "stream",
     "text": [
      "<li class=\"first\" id=\"ge\">\n",
      "<ul class=\"second\">\n",
      "<div>\n",
      "<li>\n",
      "<span>aa</span>\n",
      "</li>\n",
      "</div>\n",
      "<li>bb</li>\n",
      "</ul>\n",
      "</li>\n",
      "<li>\n",
      "<span>aa</span>\n",
      "</li>\n",
      "<li>bb</li>\n",
      "<li class=\"first\" id=\"ex\">나의첫사회생활</li>\n",
      "<li class=\"second\" id=\"le\">Still Me</li>\n",
      "<li class=\"second\" id=\"nu\">화염과 분노 : 도널드 트럼프의 백악관 뒷이야기</li>\n",
      "<li id=\"de\">매일 좋을 수만은 없는 여행을 한다</li>\n"
     ]
    }
   ],
   "source": [
    "from bs4 import BeautifulSoup\n",
    "\n",
    "soup = BeautifulSoup(book_html, 'html.parser')\n",
    "#print(soup.select('ul li'))\n",
    "\n",
    "# ul 은 순서를 정하지 않은 리스트\n",
    "# li = list화\n",
    "for li_tag in soup.select('ul li'):    \n",
    "    print(li_tag)"
   ]
  },
  {
   "cell_type": "markdown",
   "metadata": {},
   "source": [
    "### id가 'ge'인 태그 가져오기\n",
    "<br>\n",
    "<br>"
   ]
  },
  {
   "cell_type": "code",
   "execution_count": 92,
   "metadata": {},
   "outputs": [
    {
     "name": "stdout",
     "output_type": "stream",
     "text": [
      "<class 'list'> [<li class=\"first\" id=\"ge\">\n",
      "<ul class=\"second\">\n",
      "<div>\n",
      "<li>\n",
      "<span>aa</span>\n",
      "</li>\n",
      "</div>\n",
      "<li>bb</li>\n",
      "</ul>\n",
      "</li>]\n",
      "--------------------------------------------------\n",
      "aa\n",
      "\n",
      "\n",
      "bb\n",
      "--------------------------------------------------\n",
      "aa\n",
      "\n",
      "\n",
      "bb\n"
     ]
    }
   ],
   "source": [
    "# select, select_one\n",
    "print(type(soup.select('#ge')), soup.select('#ge'))                 # list형 이니까 for loof 를 돌려야 됌 \n",
    "print('----------' * 5)\n",
    "#print(type(soup.select_one('#ge')), soup.select('#ge'))            # bs4.element.Tag 형은 for x\n",
    "\n",
    "print(soup.select('#ge')[0].text.strip())                           # list형 이니까 [0] << 인덱스 할당 해줘야함\n",
    "print('----------' * 5)\n",
    "print(soup.select_one('#ge').text.strip())                          # bs4.element.Tag 형은 << 자체가 태그형이기 때문에 .text를 바로 붙여줄 수 있음\n"
   ]
  },
  {
   "cell_type": "markdown",
   "metadata": {},
   "source": [
    "# class명이 second 인 태그 가져오기\n",
    "<br>\n",
    "<br>"
   ]
  },
  {
   "cell_type": "code",
   "execution_count": 93,
   "metadata": {},
   "outputs": [
    {
     "name": "stdout",
     "output_type": "stream",
     "text": [
      "[<ul class=\"second\">\n",
      "<div>\n",
      "<li>\n",
      "<span>aa</span>\n",
      "</li>\n",
      "</div>\n",
      "<li>bb</li>\n",
      "</ul>, <li class=\"second\" id=\"le\">Still Me</li>, <li class=\"second\" id=\"nu\">화염과 분노 : 도널드 트럼프의 백악관 뒷이야기</li>]\n",
      "------------------------------------------------------------------------------------------------------------------------\n",
      "[<li class=\"second\" id=\"le\">Still Me</li>, <li class=\"second\" id=\"nu\">화염과 분노 : 도널드 트럼프의 백악관 뒷이야기</li>]\n",
      "------------------------------------------------------------------------------------------------------------------------\n",
      "<li class=\"second\" id=\"le\">Still Me</li>\n"
     ]
    }
   ],
   "source": [
    "print(soup.select('.second'))\n",
    "print('----------' * 12)\n",
    "print(soup.select('li.second'))\n",
    "print('----------' * 12)\n",
    "print(soup.select_one('li.second'))"
   ]
  },
  {
   "cell_type": "markdown",
   "metadata": {},
   "source": [
    "# find()와 find_all()\n",
    "* find() == select_one(), find_all() == select()\n",
    "<br>\n",
    "<br>"
   ]
  },
  {
   "cell_type": "code",
   "execution_count": 94,
   "metadata": {},
   "outputs": [
    {
     "name": "stdout",
     "output_type": "stream",
     "text": [
      "<class 'bs4.element.ResultSet'> [<li class=\"second\" id=\"le\">Still Me</li>, <li class=\"second\" id=\"nu\">화염과 분노 : 도널드 트럼프의 백악관 뒷이야기</li>]\n",
      "------------------------------------------------------------------------------------------------------------------------\n",
      "<class 'bs4.element.Tag'> <li class=\"second\" id=\"le\">Still Me</li>\n",
      "Still Me\n",
      "Still Me\n",
      "Still Me\n",
      "Still Me\n"
     ]
    }
   ],
   "source": [
    "# li.second\n",
    "print(type(soup.find_all('li')), soup.find_all('li', attrs = {\"class\": \"second\"}))   # attrs = 속성 = 속성은 항상 key : value 값으로 줘야함\n",
    "print('----------' * 12)\n",
    "print(type(soup.find('li')), soup.find('li', attrs = {\"class\": \"second\"}))\n",
    "print(soup.find('li', attrs = {\"class\": \"second\"}).text)\n",
    "print(soup.find('li', attrs = {\"class\": \"second\"}).string)\n",
    "\n",
    "print(soup.select_one('li.second').string)\n",
    "print(soup.select_one('li.second').text)"
   ]
  },
  {
   "cell_type": "markdown",
   "metadata": {},
   "source": [
    "### CSS 선택자를 입력 받아서 결과를 반환하는 lambda 함수 정의\n",
    "<br>\n",
    "<br>"
   ]
  },
  {
   "cell_type": "code",
   "execution_count": 95,
   "metadata": {},
   "outputs": [],
   "source": [
    "sel = lambda ex:print(soup.select_one(ex).text) # text를 string 으로 써도 무방 << string 은 띄어쓰기 제거"
   ]
  },
  {
   "cell_type": "code",
   "execution_count": 96,
   "metadata": {},
   "outputs": [
    {
     "name": "stdout",
     "output_type": "stream",
     "text": [
      "나의첫사회생활\n",
      "Still Me\n",
      "Still Me\n",
      "------------------------------------------------------------------------------------------------------------------------\n",
      "\n",
      "aa\n",
      "\n",
      "나의첫사회생활\n",
      "\n",
      "aa\n",
      "\n"
     ]
    }
   ],
   "source": [
    "sel('li#ex') # li tag에 ID = ex\n",
    "sel('ul li#le')\n",
    "sel('ul > li#le')\n",
    "print('----------' * 12)\n",
    "sel('ul.second li')  # ul에 있는 class 'second' li 하나만 뽑기\n",
    "sel(\"li[id='ex']\")\n",
    "sel('li:nth-of-type(2)')   # 몇번째에 있는걸 가져오고 싶으면 이렇게 쓰기\n",
    "# ul li << 2개를 가져오고\n",
    "# ul>li << 1개 가져온다"
   ]
  },
  {
   "cell_type": "code",
   "execution_count": 97,
   "metadata": {},
   "outputs": [
    {
     "name": "stdout",
     "output_type": "stream",
     "text": [
      "[<li>\n",
      "<span>aa</span>\n",
      "</li>, <li>bb</li>]\n",
      "------------------------------------------------------------------------------------------------------------------------\n",
      "[<li>bb</li>]\n"
     ]
    }
   ],
   "source": [
    "print(soup.select('ul.second li'))   # 대부분 이거 씀\n",
    "print('----------' * 12)\n",
    "print(soup.select('ul.second > li'))"
   ]
  },
  {
   "cell_type": "code",
   "execution_count": 98,
   "metadata": {},
   "outputs": [
    {
     "name": "stdout",
     "output_type": "stream",
     "text": [
      "7 [<li class=\"first\" id=\"ge\">\n",
      "<ul class=\"second\">\n",
      "<div>\n",
      "<li>\n",
      "<span>aa</span>\n",
      "</li>\n",
      "</div>\n",
      "<li>bb</li>\n",
      "</ul>\n",
      "</li>, <li>\n",
      "<span>aa</span>\n",
      "</li>, <li>bb</li>, <li class=\"first\" id=\"ex\">나의첫사회생활</li>, <li class=\"second\" id=\"le\">Still Me</li>, <li class=\"second\" id=\"nu\">화염과 분노 : 도널드 트럼프의 백악관 뒷이야기</li>, <li id=\"de\">매일 좋을 수만은 없는 여행을 한다</li>]\n"
     ]
    }
   ],
   "source": [
    "print(len(soup.select('li')), soup.select('li'))"
   ]
  },
  {
   "cell_type": "markdown",
   "metadata": {},
   "source": [
    "### practice\n",
    "* 1. 야채 이름 가져오기\n",
    "* 2. 과일 이름 가져오기\n",
    "* 3. 야채 중에서 국산 야채만 'ko' 가져오기\n",
    "* 4. 과일 중에서 미국 과일만 'us' 가져오기\n",
    "* 5. 과일 중에서 노랑 yello 가져오기\n",
    "* 6. 야채 중에서 검정 black 가져오기\n",
    "* 7. 전체에서 red green 가져오기\n",
    "* 8. 8번째 li 가져오기\n",
    "* 9. 전체에서 'us' 가져오기"
   ]
  },
  {
   "cell_type": "code",
   "execution_count": 99,
   "metadata": {},
   "outputs": [],
   "source": [
    "html=\"\"\"\n",
    "<html>\n",
    "\n",
    "<body>\n",
    "    <div id=\"main-goods\" role=\"page\">\n",
    "        <h1>과일과 야채</h1>\n",
    "            <ul id=\"fr-list\">\n",
    "                <li class=\"red green\" data-lo=\"ko\">사과</li>\n",
    "                <li class=\"purple\" data-lo=\"us\">포도</li>\n",
    "                <li class=\"yellow\" data-lo=\"us\">레몬</li>\n",
    "                <li class=\"yellow\" data-lo=\"ko\">오렌지</li>\n",
    "            </ul>\n",
    "\n",
    "        <ul id=\"ve-list\">\n",
    "            <li class=\"white green\" data-lo=\"ko\">무</li>\n",
    "            <li class=\"red green\" data-lo=\"us\">파프리카</li>\n",
    "            <li class=\"black\" data-lo=\"ko\">가지</li>\n",
    "            <li class=\"black\" data-lo=\"us\">아보카도</li>\n",
    "            <li class=\"white\" data-lo=\"cn\">연근</li>\n",
    "        </ul>\n",
    "    </div>\n",
    "<body>\n",
    "\n",
    "</html>\n",
    "\"\"\"\n"
   ]
  },
  {
   "cell_type": "code",
   "execution_count": 174,
   "metadata": {},
   "outputs": [
    {
     "name": "stdout",
     "output_type": "stream",
     "text": [
      "1. 야채 이름 가져오기 \n",
      "무\n",
      "파프리카\n",
      "가지\n",
      "아보카도\n",
      "연근\n",
      "\n",
      "------------------------------------------------------------------------\n",
      "2. 과일 이름 가져오기 \n",
      "사과\n",
      "포도\n",
      "레몬\n",
      "오렌지\n",
      "\n",
      "------------------------------------------------------------------------\n",
      "3. 야채 중에서 국산 야채만 가져오기 무\n",
      "3. 야채 중에서 국산 야채만 가져오기 가지\n",
      "------------------------------------------------------------------------\n",
      "4. 야채 중에서 미국 야채만 가져오기: 파프리카\n",
      "4. 야채 중에서 미국 야채만 가져오기: 아보카도\n",
      "------------------------------------------------------------------------\n",
      "5.과일 중에서 노랑 yello 가져오기: 레몬\n",
      "5.과일 중에서 노랑 yello 가져오기: 오렌지\n",
      "------------------------------------------------------------------------\n",
      "6.야채 중에서 검정 black 가져오기: 가지\n",
      "6.야채 중에서 검정 black 가져오기: 아보카도\n",
      "------------------------------------------------------------------------\n",
      "7.전체에서 red green 가져오기: 사과\n",
      "7.전체에서 red green 가져오기: 파프리카\n",
      "------------------------------------------------------------------------\n",
      "8.8번째 li 가져오기: 아보카도\n",
      "------------------------------------------------------------------------\n",
      "9.전체에서 us 가져오기:  포도\n",
      "9.전체에서 us 가져오기:  레몬\n",
      "9.전체에서 us 가져오기:  파프리카\n",
      "9.전체에서 us 가져오기:  아보카도\n"
     ]
    }
   ],
   "source": [
    "from bs4 import BeautifulSoup\n",
    "soup = BeautifulSoup(html, 'html.parser')\n",
    "\n",
    "#for va_list in soup.select('#main-goods ul#ve-list').text\n",
    "#print('1. 야채 이름 가져오기', va_list)\n",
    "print('1. 야채 이름 가져오기', soup.select_one('#main-goods ul#ve-list').text)\n",
    "print('---------' * 8)\n",
    "\n",
    "print('2. 과일 이름 가져오기', soup.select_one('#main-goods ul#fr-list').text)\n",
    "print('---------' * 8)\n",
    "\n",
    "for val in soup.select('#main-goods ul#ve-list li[data-lo=\"ko\"]'):\n",
    "    print('3. 야채 중에서 국산 야채만 가져오기', val.text)\n",
    "    \n",
    "print('---------' * 8)\n",
    "for val in soup.select('#main-goods ul#ve-list li[data-lo=\"us\"]'):\n",
    "    print('4. 야채 중에서 미국 야채만 가져오기:', val.text)\n",
    "    \n",
    "print('---------' * 8) # 5.과일 중에서 노랑 yello 가져오기\n",
    "for val in soup.select('#main-goods ul#fr-list li.yellow'):\n",
    "    print('5.과일 중에서 노랑 yello 가져오기:', val.text)\n",
    "    \n",
    "print('---------' * 8) # 6.야채 중에서 검정 black 가져오기\n",
    "for val in soup.select('#main-goods ul#ve-list li.black'):\n",
    "    print('6.야채 중에서 검정 black 가져오기:', val.text)\n",
    "    \n",
    "print('---------' * 8) # 7.전체에서 red green 가져오기\n",
    "for val in soup.select('#main-goods ul li[class=\"red green\"]'):\n",
    "    print('7.전체에서 red green 가져오기:', val.text)\n",
    "\n",
    "print('---------' * 8) #8. 8번째 li 가져오기\n",
    "for val in soup.select('#main-goods li:nth-of-type(8)'):\n",
    "    print('8.8번째 li 가져오기:', val.text)\n",
    "    \n",
    "print('---------' * 8) #9. 전체에서 'us' 가져오기\n",
    "for val in soup.select('#main-goods li[data-lo=\"us\"]'):\n",
    "    print('9.전체에서 us 가져오기: ', val.text)"
   ]
  }
 ],
 "metadata": {
  "kernelspec": {
   "display_name": "Python 3",
   "language": "python",
   "name": "python3"
  },
  "language_info": {
   "codemirror_mode": {
    "name": "ipython",
    "version": 3
   },
   "file_extension": ".py",
   "mimetype": "text/x-python",
   "name": "python",
   "nbconvert_exporter": "python",
   "pygments_lexer": "ipython3",
   "version": "3.7.0"
  }
 },
 "nbformat": 4,
 "nbformat_minor": 2
}
