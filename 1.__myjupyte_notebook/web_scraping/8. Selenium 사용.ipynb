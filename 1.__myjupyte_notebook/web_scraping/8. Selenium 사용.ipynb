{
 "metadata": {
  "language_info": {
   "codemirror_mode": {
    "name": "ipython",
    "version": 3
   },
   "file_extension": ".py",
   "mimetype": "text/x-python",
   "name": "python",
   "nbconvert_exporter": "python",
   "pygments_lexer": "ipython3",
   "version": "3.7.0-final"
  },
  "orig_nbformat": 2,
  "kernelspec": {
   "name": "python3",
   "display_name": "Python 3"
  }
 },
 "nbformat": 4,
 "nbformat_minor": 2,
 "cells": [
  {
   "cell_type": "code",
   "execution_count": 1,
   "metadata": {
    "tags": []
   },
   "outputs": [
    {
     "output_type": "stream",
     "name": "stdout",
     "text": "Collecting selenium\n  Downloading https://files.pythonhosted.org/packages/80/d6/4294f0b4bce4de0abf13e17190289f9d0613b0a44e5dd6a7f5ca98459853/selenium-3.141.0-py2.py3-none-any.whl (904kB)\nRequirement already satisfied: urllib3 in c:\\anaconda3\\lib\\site-packages (from selenium) (1.23)\nInstalling collected packages: selenium\nSuccessfully installed selenium-3.141.0\ntwisted 18.7.0 requires PyHamcrest>=1.9.0, which is not installed.\njupyter-console 5.2.0 has requirement prompt-toolkit<2.0.0,>=1.0.0, but you'll have prompt-toolkit 3.0.5 which is incompatible.\nYou are using pip version 10.0.1, however version 20.2b1 is available.\nYou should consider upgrading via the 'python -m pip install --upgrade pip' command.\n"
    }
   ],
   "source": [
    "!pip install selenium"
   ]
  },
  {
   "cell_type": "code",
   "execution_count": 2,
   "metadata": {
    "tags": []
   },
   "outputs": [
    {
     "output_type": "stream",
     "name": "stdout",
     "text": "Name: seleniumYou are using pip version 10.0.1, however version 20.2b1 is available.\nYou should consider upgrading via the 'python -m pip install --upgrade pip' command.\n\nVersion: 3.141.0\nSummary: Python bindings for Selenium\nHome-page: https://github.com/SeleniumHQ/selenium/\nAuthor: UNKNOWN\nAuthor-email: UNKNOWN\nLicense: Apache 2.0\nLocation: c:\\anaconda3\\lib\\site-packages\nRequires: urllib3\nRequired-by: \n"
    }
   ],
   "source": [
    "!pip show selenium"
   ]
  },
  {
   "cell_type": "markdown",
   "metadata": {},
   "source": [
    "### Webdriver 객체 생성\n",
    "\n",
    "* Webdriver 객체생성 : chromedrive.exe를 실행\n",
    "* python.org 요청을 보내기\n",
    "* parsing 해서 pypi에 해당하는 element 를 찾기\n",
    "* click() 함수 실행\n",
    "* sleep\n",
    "* driver 종료"
   ]
  },
  {
   "cell_type": "code",
   "execution_count": 13,
   "metadata": {
    "tags": []
   },
   "outputs": [
    {
     "output_type": "stream",
     "name": "stdout",
     "text": "Python\nPSF\nDocs\nPyPI\nJobs\nCommunity\n"
    }
   ],
   "source": [
    "from selenium import webdriver\n",
    "import time\n",
    "\n",
    "# Webdriver 객체생성 : chromedrive.exe를 실행\n",
    "browser = webdriver.Chrome('./chromedriver.exe')\n",
    "\n",
    "# python.org 요청을 보내기\n",
    "browser.get('https://www.python.org/')\n",
    "\n",
    "# parsing 해서 pypi에 해당하는 element 를 찾기\n",
    "# #top >  ul > li.pypi-meta > a\n",
    "menus = browser.find_elements_by_css_selector('#top ul.menu li')\n",
    "\n",
    "pypi = None\n",
    "for menu in menus:\n",
    "    print(menu.text)\n",
    "    if menu.text == 'PyPI':\n",
    "        pypi = menu\n",
    "\n",
    "# click() 함수 실행\n",
    "time.sleep(3)\n",
    "pypi.click()\n",
    "\n",
    "# sleep\n",
    "time.sleep(5)\n",
    "\n",
    "# driver 종료\n",
    "browser.quit()"
   ]
  },
  {
   "cell_type": "code",
   "execution_count": 17,
   "metadata": {},
   "outputs": [],
   "source": [
    "from selenium import webdriver\n",
    "import time\n",
    "\n",
    "driver = webdriver.Chrome('./chromedriver.exe')\n",
    "driver.get('https://www.naver.com/')\n",
    "driver.save_screenshot('img/naver.png')\n",
    "\n",
    "time.sleep(3)\n",
    "driver.close()"
   ]
  }
 ]
}