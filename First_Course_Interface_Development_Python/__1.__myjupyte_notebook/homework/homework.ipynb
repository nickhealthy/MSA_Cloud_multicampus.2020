{
 "metadata": {
  "language_info": {
   "codemirror_mode": {
    "name": "ipython",
    "version": 3
   },
   "file_extension": ".py",
   "mimetype": "text/x-python",
   "name": "python",
   "nbconvert_exporter": "python",
   "pygments_lexer": "ipython3",
   "version": 3
  },
  "orig_nbformat": 2,
  "kernelspec": {
   "name": "python_defaultSpec_1596422067397",
   "display_name": "Python 3.8.3 32-bit"
  }
 },
 "nbformat": 4,
 "nbformat_minor": 2,
 "cells": [
  {
   "cell_type": "code",
   "execution_count": 1,
   "metadata": {
    "tags": []
   },
   "outputs": [
    {
     "output_type": "stream",
     "name": "stdout",
     "text": "c:\\myjupyte_notebook\n"
    },
    {
     "output_type": "execute_result",
     "data": {
      "text/plain": "             Survived  Pclass  \\\nPassengerId                     \n1                   0       3   \n2                   1       1   \n3                   1       3   \n4                   1       1   \n5                   0       3   \n\n                                                          Name     Sex   Age  \\\nPassengerId                                                                    \n1                                      Braund, Mr. Owen Harris    male  22.0   \n2            Cumings, Mrs. John Bradley (Florence Briggs Th...  female  38.0   \n3                                       Heikkinen, Miss. Laina  female  26.0   \n4                 Futrelle, Mrs. Jacques Heath (Lily May Peel)  female  35.0   \n5                                     Allen, Mr. William Henry    male  35.0   \n\n             SibSp  Parch            Ticket     Fare Cabin Embarked  \nPassengerId                                                          \n1                1      0         A/5 21171   7.2500   NaN        S  \n2                1      0          PC 17599  71.2833   C85        C  \n3                0      0  STON/O2. 3101282   7.9250   NaN        S  \n4                1      0            113803  53.1000  C123        S  \n5                0      0            373450   8.0500   NaN        S  ",
      "text/html": "<div>\n<style scoped>\n    .dataframe tbody tr th:only-of-type {\n        vertical-align: middle;\n    }\n\n    .dataframe tbody tr th {\n        vertical-align: top;\n    }\n\n    .dataframe thead th {\n        text-align: right;\n    }\n</style>\n<table border=\"1\" class=\"dataframe\">\n  <thead>\n    <tr style=\"text-align: right;\">\n      <th></th>\n      <th>Survived</th>\n      <th>Pclass</th>\n      <th>Name</th>\n      <th>Sex</th>\n      <th>Age</th>\n      <th>SibSp</th>\n      <th>Parch</th>\n      <th>Ticket</th>\n      <th>Fare</th>\n      <th>Cabin</th>\n      <th>Embarked</th>\n    </tr>\n    <tr>\n      <th>PassengerId</th>\n      <th></th>\n      <th></th>\n      <th></th>\n      <th></th>\n      <th></th>\n      <th></th>\n      <th></th>\n      <th></th>\n      <th></th>\n      <th></th>\n      <th></th>\n    </tr>\n  </thead>\n  <tbody>\n    <tr>\n      <th>1</th>\n      <td>0</td>\n      <td>3</td>\n      <td>Braund, Mr. Owen Harris</td>\n      <td>male</td>\n      <td>22.0</td>\n      <td>1</td>\n      <td>0</td>\n      <td>A/5 21171</td>\n      <td>7.2500</td>\n      <td>NaN</td>\n      <td>S</td>\n    </tr>\n    <tr>\n      <th>2</th>\n      <td>1</td>\n      <td>1</td>\n      <td>Cumings, Mrs. John Bradley (Florence Briggs Th...</td>\n      <td>female</td>\n      <td>38.0</td>\n      <td>1</td>\n      <td>0</td>\n      <td>PC 17599</td>\n      <td>71.2833</td>\n      <td>C85</td>\n      <td>C</td>\n    </tr>\n    <tr>\n      <th>3</th>\n      <td>1</td>\n      <td>3</td>\n      <td>Heikkinen, Miss. Laina</td>\n      <td>female</td>\n      <td>26.0</td>\n      <td>0</td>\n      <td>0</td>\n      <td>STON/O2. 3101282</td>\n      <td>7.9250</td>\n      <td>NaN</td>\n      <td>S</td>\n    </tr>\n    <tr>\n      <th>4</th>\n      <td>1</td>\n      <td>1</td>\n      <td>Futrelle, Mrs. Jacques Heath (Lily May Peel)</td>\n      <td>female</td>\n      <td>35.0</td>\n      <td>1</td>\n      <td>0</td>\n      <td>113803</td>\n      <td>53.1000</td>\n      <td>C123</td>\n      <td>S</td>\n    </tr>\n    <tr>\n      <th>5</th>\n      <td>0</td>\n      <td>3</td>\n      <td>Allen, Mr. William Henry</td>\n      <td>male</td>\n      <td>35.0</td>\n      <td>0</td>\n      <td>0</td>\n      <td>373450</td>\n      <td>8.0500</td>\n      <td>NaN</td>\n      <td>S</td>\n    </tr>\n  </tbody>\n</table>\n</div>"
     },
     "metadata": {},
     "execution_count": 1
    }
   ],
   "source": [
    "import pandas as pd\n",
    "import os\n",
    "print(os.getcwd())\n",
    "\n",
    "train = pd.read_csv('data/train.csv', index_col=\"PassengerId\")\n",
    "train.iloc[0:5,:]"
   ]
  },
  {
   "cell_type": "code",
   "execution_count": 2,
   "metadata": {
    "tags": []
   },
   "outputs": [
    {
     "output_type": "stream",
     "name": "stdout",
     "text": "생존률은 = 38.4%\n"
    }
   ],
   "source": [
    "# **** <문제1> ****\n",
    "# 타이타닉의 train데이터에서 Survived 컬럼의 평균을 구합니다.\n",
    "# 그 결과를 survived_rate라는 이름의 변수에 저장합니다.\n",
    "\n",
    "\n",
    "# survived_rate는 현재 0.0 ~ 1.0 사이의 값을 갖습니다.\n",
    "# 하지만 퍼센티지(%)는 0 ~ 100.0 사이의 값을 가지므로, survived_rate에 100을 곱해줍니다.\n",
    "\n",
    "\n",
    "# survived_rate를 출력합니다. 결과는 38.4%가 나와야 합니다.\n",
    "\n",
    "survived_rate = train['Survived']\n",
    "survived_rate = (sum(survived_rate) / len(survived_rate)) * 100\n",
    "survived_rate = round(survived_rate, 1)\n",
    "print(f'생존률은 = {survived_rate}%')"
   ]
  },
  {
   "cell_type": "code",
   "execution_count": 3,
   "metadata": {
    "tags": []
   },
   "outputs": [
    {
     "output_type": "execute_result",
     "data": {
      "text/plain": "0    549\n1    342\nName: Survived, dtype: int64"
     },
     "metadata": {},
     "execution_count": 3
    }
   ],
   "source": [
    "# **** <문제2> ****\n",
    "# pandas의 value_counts를 활용하여 생존자의 총 인원수와 사망자의 총 인원수를 출력합니다.\n",
    "# 생존자의 총 인원수(1)은 342명, 사망자의 총 인원수(0)는 549명이 나와야 합니다.\n",
    "\n",
    "# 해당 컬럼의 값들을 group화 시켜서 count\n",
    "train['Survived'].value_counts()"
   ]
  },
  {
   "cell_type": "code",
   "execution_count": 4,
   "metadata": {},
   "outputs": [
    {
     "output_type": "execute_result",
     "data": {
      "text/plain": "PassengerId\n1    0\n2    1\n3    1\n4    1\n5    0\nName: Survived, dtype: int64"
     },
     "metadata": {},
     "execution_count": 4
    }
   ],
   "source": [
    "# **** <문제3> ****\n",
    "# Survived 컬럼의 상위 5개의 값을 출력합니다.\n",
    "# 결과값은 0과 1이 나오는데, Survived 컬럼에 대한 사전 설명(가령 0이 어떤 값을 나타내는지, 1이 어떤 값을 나타내는지)\n",
    "# 을 듣지 않으면 이 값이 어떠한 의미를 가지는지 직관적으로 이해하기 어렵습니다.\n",
    "\n",
    "train['Survived'].head()"
   ]
  },
  {
   "cell_type": "code",
   "execution_count": 5,
   "metadata": {},
   "outputs": [
    {
     "output_type": "execute_result",
     "data": {
      "text/plain": "<IPython.core.display.HTML object>",
      "text/html": "<!DOCTYPE html>\n<html lang=\"en\">\n<head>\n    <meta charset=\"UTF-8\">\n    <title>Title</title>\n</head>\n<body>\n<table border=\"1\" class=\"dataframe\" style=\"float: left;\">'\n    <thead>\n      <tr style=\"text-align: right;\">\n        <th></th>\n        <th>Survived</th>\n        <th>Survived(humanized)</th>\n      </tr>\n\n      <tr>\n        <th>PassengerId</th>\n        <th></th>\n        <th></th>\n      </tr>\n    </thead>\n\n    <tbody>\n      <tr>\n        <th>1</th>\n        <td>0</td>\n        <td>Perish</td>\n      </tr>\n\n      <tr>\n        <th>2</th>\n        <td>1</td>\n        <td>Survived</td>\n      </tr>\n\n      <tr>\n        <th>3</th>\n        <td>1</td>\n        <td>Survived</td>\n      </tr>\n\n      <tr>\n        <th>4</th>\n        <td>1</td>\n        <td>Survived</td>\n      </tr>\n\n      <tr>\n        <th>5</th>\n        <td>0</td>\n        <td>Perish</td>\n      </tr>\n    </tbody>\n  </table>\n</body>\n</html>"
     },
     "metadata": {},
     "execution_count": 5
    }
   ],
   "source": [
    "# Survived(humanized)라는 새로운 컬럼 만들기\n",
    "#이 컬럼에는 0(사망), 1(생존)이 아닌, Perish(사망), Survived(생존). \n",
    "#최종적으로는 다음의 결과가 나와야 합니다.\n",
    "from IPython.display import HTML\n",
    "HTML(filename=\"html/table1.html\")"
   ]
  },
  {
   "cell_type": "code",
   "execution_count": 6,
   "metadata": {},
   "outputs": [
    {
     "output_type": "execute_result",
     "data": {
      "text/plain": "             Survived Survived(humanized)\nPassengerId                              \n1                   0              Perish\n2                   1            Survived\n3                   1            Survived\n4                   1            Survived\n5                   0              Perish",
      "text/html": "<div>\n<style scoped>\n    .dataframe tbody tr th:only-of-type {\n        vertical-align: middle;\n    }\n\n    .dataframe tbody tr th {\n        vertical-align: top;\n    }\n\n    .dataframe thead th {\n        text-align: right;\n    }\n</style>\n<table border=\"1\" class=\"dataframe\">\n  <thead>\n    <tr style=\"text-align: right;\">\n      <th></th>\n      <th>Survived</th>\n      <th>Survived(humanized)</th>\n    </tr>\n    <tr>\n      <th>PassengerId</th>\n      <th></th>\n      <th></th>\n    </tr>\n  </thead>\n  <tbody>\n    <tr>\n      <th>1</th>\n      <td>0</td>\n      <td>Perish</td>\n    </tr>\n    <tr>\n      <th>2</th>\n      <td>1</td>\n      <td>Survived</td>\n    </tr>\n    <tr>\n      <th>3</th>\n      <td>1</td>\n      <td>Survived</td>\n    </tr>\n    <tr>\n      <th>4</th>\n      <td>1</td>\n      <td>Survived</td>\n    </tr>\n    <tr>\n      <th>5</th>\n      <td>0</td>\n      <td>Perish</td>\n    </tr>\n  </tbody>\n</table>\n</div>"
     },
     "metadata": {},
     "execution_count": 6
    }
   ],
   "source": [
    "# **** <문제4> ****\n",
    "# 먼저 Survived 컬럼이 0인 승객을 색인합니다. 이후 Survived(humanized)라는 이름의\n",
    "# 새로운 컬럼을 만들어 여기에 Perish 라는 값을 넣습니다.\n",
    "\n",
    "# 비슷하게 Survived 컬럼이 1인 승객을 찾아 Survived(humanized)에 Survived라는 값을 넣습니다.\n",
    "\n",
    "\n",
    "# train 변수에 할당된 데이터의 행렬 사이즈를 출력합니다.\n",
    "# 출력은 (row, column) 으로 표시됩니다.\n",
    "\n",
    "\n",
    "# Survived 컬럼과 Survived(humanized) 컬럼 두 개를 상위 5개의 Row를 출력비교합니다.\n",
    "\n",
    "import numpy as np\n",
    "\n",
    "train['Survived(humanized)'] = np.where(train['Survived'] == 0, 'Perish', 'Survived')\n",
    "\n",
    "train.loc[:, ['Survived', 'Survived(humanized)']].head()"
   ]
  },
  {
   "cell_type": "code",
   "execution_count": 7,
   "metadata": {},
   "outputs": [
    {
     "output_type": "execute_result",
     "data": {
      "text/plain": "Perish      549\nSurvived    342\nName: Survived(humanized), dtype: int64"
     },
     "metadata": {},
     "execution_count": 7
    }
   ],
   "source": [
    "# **** <문제5> ****\n",
    "# pandas의 value_counts를 활용하여 생존자의 총 인원수와 사망자의 총 인원수를 출력합니다.\n",
    "# 여기서 생존 여부는 Survived가 아닌 Survived(humanized) 컬럼을 사용합니다.\n",
    "# 생존자의 총 인원수(Survived)은 342명, 사망자의 총 인원수(Perish)는 549명이 나와야 합니다.\n",
    "\n",
    "train['Survived(humanized)'].value_counts()"
   ]
  },
  {
   "cell_type": "code",
   "execution_count": 8,
   "metadata": {
    "tags": []
   },
   "outputs": [
    {
     "output_type": "execute_result",
     "data": {
      "text/plain": "        Survived\nPclass          \n1       0.629630\n2       0.472826\n3       0.242363",
      "text/html": "<div>\n<style scoped>\n    .dataframe tbody tr th:only-of-type {\n        vertical-align: middle;\n    }\n\n    .dataframe tbody tr th {\n        vertical-align: top;\n    }\n\n    .dataframe thead th {\n        text-align: right;\n    }\n</style>\n<table border=\"1\" class=\"dataframe\">\n  <thead>\n    <tr style=\"text-align: right;\">\n      <th></th>\n      <th>Survived</th>\n    </tr>\n    <tr>\n      <th>Pclass</th>\n      <th></th>\n    </tr>\n  </thead>\n  <tbody>\n    <tr>\n      <th>1</th>\n      <td>0.629630</td>\n    </tr>\n    <tr>\n      <th>2</th>\n      <td>0.472826</td>\n    </tr>\n    <tr>\n      <th>3</th>\n      <td>0.242363</td>\n    </tr>\n  </tbody>\n</table>\n</div>"
     },
     "metadata": {},
     "execution_count": 8
    }
   ],
   "source": [
    "# pandas의 pivot_table을 활용하여 Pclass별 생존률을 출력합니다.\n",
    "# 여기서 Pclass값이 1, 2, 3이 나오는데, Pclass 컬럼에 대한 사전 설명을 듣지 않으면 이해하기 어렵습니다.\n",
    "# 그러므로 Pclass값을 조금 더 직관적으로 바꿔준다면 pivot_table로 분석하기 편할 것입니다\n",
    "pd.pivot_table(data=train, index=\"Pclass\", values=\"Survived\")"
   ]
  },
  {
   "cell_type": "code",
   "execution_count": 9,
   "metadata": {},
   "outputs": [
    {
     "output_type": "execute_result",
     "data": {
      "text/plain": "<IPython.core.display.HTML object>",
      "text/html": "<!DOCTYPE html>\n<html lang=\"en\">\n<head>\n    <meta charset=\"UTF-8\">\n    <title>Title</title>\n</head>\n<body>\n<table border=\"1\" class=\"dataframe\" style=\"float: left;\">'\n<thead>\n  <tr>\n      <th>Pclass</th>\n        <th>Pclass(humanized)</th>\n    <th>PassengerId</th>\n  </tr>\n</thead>\n\n<tbody>\n  <tr>\n    <th>1</th>\n\n    <td>3</td>\n\n    <td>Economy</td>\n  </tr>\n\n  <tr>\n    <th>2</th>\n\n    <td>1</td>\n\n    <td>First Class</td>\n  </tr>\n\n  <tr>\n    <th>3</th>\n\n    <td>3</td>\n\n    <td>Economy</td>\n  </tr>\n\n  <tr>\n    <th>4</th>\n\n    <td>1</td>\n\n    <td>First Class</td>\n  </tr>\n\n  <tr>\n    <th>5</th>\n\n    <td>3</td>\n\n    <td>Economy</td>\n  </tr>\n</tbody>\n</table>\n</body>\n</html>"
     },
     "metadata": {},
     "execution_count": 9
    }
   ],
   "source": [
    "#이번에는 **Pclass(humanized)**라는 새로운 컬럼을 만들어주세요. \n",
    "#이 컬럼에는 1, 2, 3이 아닌 First Class, Business, Economy 라는 값을 넣습니다. \n",
    "#최종적으로는 다음의 결과가 나와야 합니다.\n",
    "\n",
    "from IPython.display import HTML\n",
    "HTML(filename=\"html/table2.html\")"
   ]
  },
  {
   "cell_type": "code",
   "execution_count": 10,
   "metadata": {
    "tags": []
   },
   "outputs": [
    {
     "output_type": "execute_result",
     "data": {
      "text/plain": "             Pclass Pclass(humanized)\nPassengerId                          \n1                 3           Economy\n2                 1       First class\n3                 3           Economy\n4                 1       First class\n5                 3           Economy",
      "text/html": "<div>\n<style scoped>\n    .dataframe tbody tr th:only-of-type {\n        vertical-align: middle;\n    }\n\n    .dataframe tbody tr th {\n        vertical-align: top;\n    }\n\n    .dataframe thead th {\n        text-align: right;\n    }\n</style>\n<table border=\"1\" class=\"dataframe\">\n  <thead>\n    <tr style=\"text-align: right;\">\n      <th></th>\n      <th>Pclass</th>\n      <th>Pclass(humanized)</th>\n    </tr>\n    <tr>\n      <th>PassengerId</th>\n      <th></th>\n      <th></th>\n    </tr>\n  </thead>\n  <tbody>\n    <tr>\n      <th>1</th>\n      <td>3</td>\n      <td>Economy</td>\n    </tr>\n    <tr>\n      <th>2</th>\n      <td>1</td>\n      <td>First class</td>\n    </tr>\n    <tr>\n      <th>3</th>\n      <td>3</td>\n      <td>Economy</td>\n    </tr>\n    <tr>\n      <th>4</th>\n      <td>1</td>\n      <td>First class</td>\n    </tr>\n    <tr>\n      <th>5</th>\n      <td>3</td>\n      <td>Economy</td>\n    </tr>\n  </tbody>\n</table>\n</div>"
     },
     "metadata": {},
     "execution_count": 10
    }
   ],
   "source": [
    "# **** <문제6> ****\n",
    "# 먼저 Pclass 컬럼이 1인 승객을 색인합니다. 이후 Pclass(humanized)라는 이름의\n",
    "# 새로운 컬럼을 만들어 여기에 \"First Class\" 라는 값을 넣습니다.\n",
    "\n",
    "# 비슷하게 Pclass 컬럼이 2인 승객을 찾아 Pclass(humanized)에 \"Business\" 라는 값을 넣습니다.\n",
    "# 비슷하게 Pclass 컬럼이 3인 승객을 찾아 Pclass(humanized)에 \"Economy\" 라는 값을 넣습니다.\n",
    "\n",
    "# train 변수에 할당된 데이터의 행렬 사이즈를 출력합니다.\n",
    "# 출력은 (row, column) 으로 표시됩니다.\n",
    "# Pclass 컬럼과 Pclass(humanized) 컬럼 두 개를 출력하여 비교합니다.\n",
    "train['Pclass(humanized)'] = ''\n",
    "grade_2 = np.where(train['Pclass'] == 2, 'Business', 'Economy')\n",
    "train['Pclass(humanized)'] = np.where(train['Pclass'] == 1, 'First class', grade_2)\n",
    "\n",
    "train.loc[:,['Pclass', 'Pclass(humanized)']].head()"
   ]
  },
  {
   "cell_type": "code",
   "execution_count": 11,
   "metadata": {},
   "outputs": [
    {
     "output_type": "execute_result",
     "data": {
      "text/plain": "<IPython.core.display.HTML object>",
      "text/html": "<!DOCTYPE html>\n<html lang=\"en\">\n<head>\n    <meta charset=\"UTF-8\">\n    <title>Title</title>\n</head>\n<body>\n<table border=\"1\" class=\"dataframe\" style=\"float: left;\">\n    <thead>\n      <tr style=\"text-align: right;\">\n        <th></th>\n\n        <th>Survived</th>\n      </tr>\n\n      <tr>\n        <th>Pclass(humanized)</th>\n\n        <th></th>\n      </tr>\n    </thead>\n\n    <tbody>\n      <tr>\n        <th>Business</th>\n\n        <td>0.472826</td>\n      </tr>\n\n      <tr>\n        <th>Economy</th>\n\n        <td>0.242363</td>\n      </tr>\n\n      <tr>\n        <th>First Class</th>\n\n        <td>0.629630</td>\n      </tr>\n    </tbody>\n  </table>\n</body>\n</html>"
     },
     "metadata": {},
     "execution_count": 11
    }
   ],
   "source": [
    "#이번에는 Pclass가 아닌 새롭게 만든 Pclass(humanized) 컬럼으로 pivot_table을 만들어주세요. 최종적으로는 다음의 결과가 나와야 합니다.\n",
    "from IPython.display import HTML\n",
    "HTML(filename=\"html/table3.html\")"
   ]
  },
  {
   "cell_type": "code",
   "execution_count": 12,
   "metadata": {
    "tags": []
   },
   "outputs": [
    {
     "output_type": "execute_result",
     "data": {
      "text/plain": "                   Survived\nPclass(humanized)          \nBusiness           0.472826\nEconomy            0.242363\nFirst class        0.629630",
      "text/html": "<div>\n<style scoped>\n    .dataframe tbody tr th:only-of-type {\n        vertical-align: middle;\n    }\n\n    .dataframe tbody tr th {\n        vertical-align: top;\n    }\n\n    .dataframe thead th {\n        text-align: right;\n    }\n</style>\n<table border=\"1\" class=\"dataframe\">\n  <thead>\n    <tr style=\"text-align: right;\">\n      <th></th>\n      <th>Survived</th>\n    </tr>\n    <tr>\n      <th>Pclass(humanized)</th>\n      <th></th>\n    </tr>\n  </thead>\n  <tbody>\n    <tr>\n      <th>Business</th>\n      <td>0.472826</td>\n    </tr>\n    <tr>\n      <th>Economy</th>\n      <td>0.242363</td>\n    </tr>\n    <tr>\n      <th>First class</th>\n      <td>0.629630</td>\n    </tr>\n  </tbody>\n</table>\n</div>"
     },
     "metadata": {},
     "execution_count": 12
    }
   ],
   "source": [
    "# **** <문제7> ****\n",
    "# pandas의 pivot_table을 활용하여 Pclass별 생존률을 출력합니다.\n",
    "# 하지만 이번에는 Pclass 컬럼이 아닌 Pclass(humanized) 컬럼을 사용합니다.\n",
    "# 이전에 비해서 훨씬 더 직관적으로 생존률을 확인할 수 있습니다.\n",
    "\n",
    "pd.pivot_table(data=train, index=\"Pclass(humanized)\", values=\"Survived\")"
   ]
  },
  {
   "cell_type": "code",
   "execution_count": 13,
   "metadata": {},
   "outputs": [
    {
     "output_type": "execute_result",
     "data": {
      "text/plain": "          Survived\nEmbarked          \nC         0.553571\nQ         0.389610\nS         0.336957",
      "text/html": "<div>\n<style scoped>\n    .dataframe tbody tr th:only-of-type {\n        vertical-align: middle;\n    }\n\n    .dataframe tbody tr th {\n        vertical-align: top;\n    }\n\n    .dataframe thead th {\n        text-align: right;\n    }\n</style>\n<table border=\"1\" class=\"dataframe\">\n  <thead>\n    <tr style=\"text-align: right;\">\n      <th></th>\n      <th>Survived</th>\n    </tr>\n    <tr>\n      <th>Embarked</th>\n      <th></th>\n    </tr>\n  </thead>\n  <tbody>\n    <tr>\n      <th>C</th>\n      <td>0.553571</td>\n    </tr>\n    <tr>\n      <th>Q</th>\n      <td>0.389610</td>\n    </tr>\n    <tr>\n      <th>S</th>\n      <td>0.336957</td>\n    </tr>\n  </tbody>\n</table>\n</div>"
     },
     "metadata": {},
     "execution_count": 13
    }
   ],
   "source": [
    "# **** <문제8> ****\n",
    "# pandas의 pivot_table을 활용하여 Embarked 별 생존률을 출력합니다.\n",
    "# 여기서도 Embarked 컬럼이 C, S, Q라는 다소 직관적이지 않은 값이 나옵니다.\n",
    "# 그러므로 Embarked 컬럼의 값도 Pclass 처럼 직관적으로 바꿔주고 싶습니다.\n",
    "\n",
    "pd.pivot_table(data=train, index='Embarked', values='Survived')"
   ]
  },
  {
   "cell_type": "code",
   "execution_count": 14,
   "metadata": {},
   "outputs": [
    {
     "output_type": "execute_result",
     "data": {
      "text/plain": "<IPython.core.display.HTML object>",
      "text/html": "<!DOCTYPE html>\n<html lang=\"en\">\n<head>\n    <meta charset=\"UTF-8\">\n    <title>Title</title>\n</head>\n<body>\n<table border=\"1\" class=\"dataframe\" style=\"float: left;\">\n    <thead>\n      <tr style=\"text-align: right;\">\n        <th></th>\n\n        <th>Survived</th>\n      </tr>\n\n      <tr>\n        <th>Pclass(humanized)</th>\n\n        <th></th>\n      </tr>\n    </thead>\n\n    <tbody>\n      <tr>\n        <th>Business</th>\n\n        <td>0.472826</td>\n      </tr>\n\n      <tr>\n        <th>Economy</th>\n\n        <td>0.242363</td>\n      </tr>\n\n      <tr>\n        <th>First Class</th>\n\n        <td>0.629630</td>\n      </tr>\n    </tbody>\n  </table>\n</body>\n</html>"
     },
     "metadata": {},
     "execution_count": 14
    }
   ],
   "source": [
    "#Survived(humanized), Pclass(humanized)와 마찬가지로, Embarked 컬럼도 **Embarked(humanized)**라는 이름의 새로운 컬럼을 만들어주세요.\n",
    "#이 컬럼에는 C, S, Q가 아닌 Cherbourg, Southampton, Queenstown이라는 값이 들어갑니다. \n",
    "#최종적으로는 다음의 결과가 나와야 합니다.\n",
    "from IPython.display import HTML\n",
    "HTML(filename=\"html/table3.html\")"
   ]
  },
  {
   "cell_type": "code",
   "execution_count": 15,
   "metadata": {},
   "outputs": [
    {
     "output_type": "execute_result",
     "data": {
      "text/plain": "            Embarked Embarked(humanized)\nPassengerId                             \n1                  S         Southampton\n2                  C           Cherbourg\n3                  S         Southampton\n4                  S         Southampton\n5                  S         Southampton",
      "text/html": "<div>\n<style scoped>\n    .dataframe tbody tr th:only-of-type {\n        vertical-align: middle;\n    }\n\n    .dataframe tbody tr th {\n        vertical-align: top;\n    }\n\n    .dataframe thead th {\n        text-align: right;\n    }\n</style>\n<table border=\"1\" class=\"dataframe\">\n  <thead>\n    <tr style=\"text-align: right;\">\n      <th></th>\n      <th>Embarked</th>\n      <th>Embarked(humanized)</th>\n    </tr>\n    <tr>\n      <th>PassengerId</th>\n      <th></th>\n      <th></th>\n    </tr>\n  </thead>\n  <tbody>\n    <tr>\n      <th>1</th>\n      <td>S</td>\n      <td>Southampton</td>\n    </tr>\n    <tr>\n      <th>2</th>\n      <td>C</td>\n      <td>Cherbourg</td>\n    </tr>\n    <tr>\n      <th>3</th>\n      <td>S</td>\n      <td>Southampton</td>\n    </tr>\n    <tr>\n      <th>4</th>\n      <td>S</td>\n      <td>Southampton</td>\n    </tr>\n    <tr>\n      <th>5</th>\n      <td>S</td>\n      <td>Southampton</td>\n    </tr>\n  </tbody>\n</table>\n</div>"
     },
     "metadata": {},
     "execution_count": 15
    }
   ],
   "source": [
    "# **** <문제9> ****\n",
    "# 먼저 Embarked 컬럼이 C인 승객을 색인합니다. 이후 Embarked(humanized)라는 이름의\n",
    "# 새로운 컬럼을 만들어 여기에 \"Cherbourg\" 라는 값을 넣습니다.\n",
    "\n",
    "\n",
    "# 비슷하게 Embarked 컬럼이 2인 승객을 찾아 Embarked(humanized)에 \"Southampton\" 이라는 값을 넣습니다.\n",
    "\n",
    "# 비슷하게 Embarked 컬럼이 3인 승객을 찾아 Embarked(humanized)에 \"Queenstown\" 이라는 값을 넣습니다.\n",
    "\n",
    "\n",
    "# train 변수에 할당된 데이터의 행렬 사이즈를 출력합니다.\n",
    "# 출력은 (row, column) 으로 표시됩니다.\n",
    "\n",
    "\n",
    "# Embarked 컬럼과 Embarked(humanized) 컬럼 두 개를 출력하여 비교합니다.\n",
    "\n",
    "train['Embarked(humanized)'] = ''\n",
    "\n",
    "Embarked_C = np.where(train['Embarked'] == 'S', 'Southampton', 'Queenstown')\n",
    "train['Embarked(humanized)'] = np.where(train['Embarked'] == 'C', 'Cherbourg', Embarked_C)\n",
    "train.loc[:,['Embarked', 'Embarked(humanized)']].head()"
   ]
  },
  {
   "cell_type": "code",
   "execution_count": 16,
   "metadata": {},
   "outputs": [
    {
     "output_type": "execute_result",
     "data": {
      "text/plain": "<IPython.core.display.HTML object>",
      "text/html": "<!DOCTYPE html>\n<html lang=\"en\">\n<head>\n    <meta charset=\"UTF-8\">\n    <title>Title</title>\n</head>\n<body>\n<table border=\"1\" class=\"dataframe\" style=\"float: left;\">\n    <thead>\n      <tr style=\"text-align: right;\">\n        <th></th>\n\n        <th>Survived</th>\n      </tr>\n\n      <tr>\n        <th>Embarked(humanized)</th>\n\n        <th></th>\n      </tr>\n    </thead>\n\n    <tbody>\n      <tr>\n        <th>Cherbourg</th>\n\n        <td>0.553571</td>\n      </tr>\n\n      <tr>\n        <th>Queenstown</th>\n\n        <td>0.389610</td>\n      </tr>\n\n      <tr>\n        <th>Southampton</th>\n\n        <td>0.336957</td>\n      </tr>\n    </tbody>\n  </table>\n</body>\n</html>"
     },
     "metadata": {},
     "execution_count": 16
    }
   ],
   "source": [
    "# 그리고 마찬가지로 이번에도 Embarked가 아닌 새롭게 만든 Embarked(humanized) 컬럼으로 pivot_table을 만들어주세요. \n",
    "# 여기에는 Cherbourg, Southampton, 그리고 Queenstown 에 탑승한 승객의 생존률이 출력됩니다. \n",
    "# 최종적으로는 다음의 결과가 나와야 합니다.\n",
    "from IPython.display import HTML\n",
    "HTML(filename=\"html/table5.html\")"
   ]
  },
  {
   "cell_type": "code",
   "execution_count": 17,
   "metadata": {},
   "outputs": [
    {
     "output_type": "execute_result",
     "data": {
      "text/plain": "                     Survived\nEmbarked(humanized)          \nCherbourg            0.553571\nQueenstown           0.405063\nSouthampton          0.336957",
      "text/html": "<div>\n<style scoped>\n    .dataframe tbody tr th:only-of-type {\n        vertical-align: middle;\n    }\n\n    .dataframe tbody tr th {\n        vertical-align: top;\n    }\n\n    .dataframe thead th {\n        text-align: right;\n    }\n</style>\n<table border=\"1\" class=\"dataframe\">\n  <thead>\n    <tr style=\"text-align: right;\">\n      <th></th>\n      <th>Survived</th>\n    </tr>\n    <tr>\n      <th>Embarked(humanized)</th>\n      <th></th>\n    </tr>\n  </thead>\n  <tbody>\n    <tr>\n      <th>Cherbourg</th>\n      <td>0.553571</td>\n    </tr>\n    <tr>\n      <th>Queenstown</th>\n      <td>0.405063</td>\n    </tr>\n    <tr>\n      <th>Southampton</th>\n      <td>0.336957</td>\n    </tr>\n  </tbody>\n</table>\n</div>"
     },
     "metadata": {},
     "execution_count": 17
    }
   ],
   "source": [
    "# **** <문제10> ****\n",
    "# pandas의 pivot_table을 활용하여 Embarked별 생존률을 출력합니다.\n",
    "# 마찬가지로 Embarked 컬럼이 아닌 Embarked(humanized) 컬럼을 사용합니다.\n",
    "# 이전에 비해서 훨씬 더 직관적으로 생존률을 확인할 수 있습니다.\n",
    "\n",
    "pd.pivot_table(data=train, index='Embarked(humanized)', values='Survived')"
   ]
  },
  {
   "cell_type": "code",
   "execution_count": 18,
   "metadata": {},
   "outputs": [
    {
     "output_type": "execute_result",
     "data": {
      "text/plain": "<IPython.core.display.HTML object>",
      "text/html": "<!DOCTYPE html>\n<html lang=\"en\">\n<head>\n    <meta charset=\"UTF-8\">\n    <title>Title</title>\n</head>\n<body>\n <table border=\"1\" class=\"dataframe\" style=\"float: left\">\n    <thead>\n      <tr style=\"text-align: right;\">\n        <th></th>\n\n        <th>Embarked</th>\n\n        <th>Embarked(humanized)</th>\n\n        <th>Embarked(Cherbourg)</th>\n\n        <th>Embarked(Southampton)</th>\n\n        <th>Embarked(Queenstown)</th>\n      </tr>\n\n      <tr>\n        <th>PassengerId</th>\n\n        <th></th>\n\n        <th></th>\n\n        <th></th>\n\n        <th></th>\n\n        <th></th>\n      </tr>\n    </thead>\n\n    <tbody>\n      <tr>\n        <th>1</th>\n\n        <td>S</td>\n\n        <td>Southampton</td>\n\n        <td>False</td>\n\n        <td>True</td>\n\n        <td>False</td>\n      </tr>\n\n      <tr>\n        <th>2</th>\n\n        <td>C</td>\n\n        <td>Cherbourg</td>\n\n        <td>True</td>\n\n        <td>False</td>\n\n        <td>False</td>\n      </tr>\n\n      <tr>\n        <th>3</th>\n\n        <td>S</td>\n\n        <td>Southampton</td>\n\n        <td>False</td>\n\n        <td>True</td>\n\n        <td>False</td>\n      </tr>\n\n      <tr>\n        <th>4</th>\n\n        <td>S</td>\n\n        <td>Southampton</td>\n\n        <td>False</td>\n\n        <td>True</td>\n\n        <td>False</td>\n      </tr>\n\n      <tr>\n        <th>5</th>\n\n        <td>S</td>\n\n        <td>Southampton</td>\n\n        <td>False</td>\n\n        <td>True</td>\n\n        <td>False</td>\n      </tr>\n\n      <tr>\n        <th>6</th>\n\n        <td>Q</td>\n\n        <td>Queenstown</td>\n\n        <td>False</td>\n\n        <td>False</td>\n\n        <td>True</td>\n      </tr>\n\n      <tr>\n        <th>7</th>\n\n        <td>S</td>\n\n        <td>Southampton</td>\n\n        <td>False</td>\n\n        <td>True</td>\n\n        <td>False</td>\n      </tr>\n\n      <tr>\n        <th>8</th>\n\n        <td>S</td>\n\n        <td>Southampton</td>\n\n        <td>False</td>\n\n        <td>True</td>\n\n        <td>False</td>\n      </tr>\n\n      <tr>\n        <th>9</th>\n\n        <td>S</td>\n\n        <td>Southampton</td>\n\n        <td>False</td>\n\n        <td>True</td>\n\n        <td>False</td>\n      </tr>\n\n      <tr>\n        <th>10</th>\n\n        <td>C</td>\n\n        <td>Cherbourg</td>\n\n        <td>True</td>\n\n        <td>False</td>\n\n        <td>False</td>\n      </tr>\n    </tbody>\n  </table>\n</body>\n</html>"
     },
     "metadata": {},
     "execution_count": 18
    }
   ],
   "source": [
    "from IPython.display import HTML\n",
    "HTML(filename=\"html/table6.html\")"
   ]
  },
  {
   "cell_type": "code",
   "execution_count": 19,
   "metadata": {},
   "outputs": [
    {
     "output_type": "execute_result",
     "data": {
      "text/plain": "<IPython.core.display.HTML object>",
      "text/html": "<!DOCTYPE html>\n<html lang=\"en\">\n<head>\n    <meta charset=\"UTF-8\">\n    <title>Title</title>\n</head>\n<body>\n<table border=\"1\" class=\"dataframe\" style=\"float: left\">\n    <thead>\n      <tr style=\"text-align: right;\">\n        <th></th>\n\n        <th>Pclass</th>\n\n        <th>Pclass(humanized)</th>\n\n        <th>Pclass(First Class)</th>\n\n        <th>Pclass(Business)</th>\n\n        <th>Pclass(Economy)</th>\n      </tr>\n\n      <tr>\n        <th>PassengerId</th>\n\n        <th></th>\n\n        <th></th>\n\n        <th></th>\n\n        <th></th>\n\n        <th></th>\n      </tr>\n    </thead>\n\n    <tbody>\n      <tr>\n        <th>1</th>\n\n        <td>3</td>\n\n        <td>Economy</td>\n\n        <td>False</td>\n\n        <td>False</td>\n\n        <td>True</td>\n      </tr>\n\n      <tr>\n        <th>2</th>\n\n        <td>1</td>\n\n        <td>First Class</td>\n\n        <td>True</td>\n\n        <td>False</td>\n\n        <td>False</td>\n      </tr>\n\n      <tr>\n        <th>3</th>\n\n        <td>3</td>\n\n        <td>Economy</td>\n\n        <td>False</td>\n\n        <td>False</td>\n\n        <td>True</td>\n      </tr>\n\n      <tr>\n        <th>4</th>\n\n        <td>1</td>\n\n        <td>First Class</td>\n\n        <td>True</td>\n\n        <td>False</td>\n\n        <td>False</td>\n      </tr>\n\n      <tr>\n        <th>5</th>\n\n        <td>3</td>\n\n        <td>Economy</td>\n\n        <td>False</td>\n\n        <td>False</td>\n\n        <td>True</td>\n      </tr>\n\n      <tr>\n        <th>6</th>\n\n        <td>3</td>\n\n        <td>Economy</td>\n\n        <td>False</td>\n\n        <td>False</td>\n\n        <td>True</td>\n      </tr>\n\n      <tr>\n        <th>7</th>\n\n        <td>1</td>\n\n        <td>First Class</td>\n\n        <td>True</td>\n\n        <td>False</td>\n\n        <td>False</td>\n      </tr>\n\n      <tr>\n        <th>8</th>\n\n        <td>3</td>\n\n        <td>Economy</td>\n\n        <td>False</td>\n\n        <td>False</td>\n\n        <td>True</td>\n      </tr>\n\n      <tr>\n        <th>9</th>\n\n        <td>3</td>\n\n        <td>Economy</td>\n\n        <td>False</td>\n\n        <td>False</td>\n\n        <td>True</td>\n      </tr>\n\n      <tr>\n        <th>10</th>\n\n        <td>2</td>\n\n        <td>Business</td>\n\n        <td>False</td>\n\n        <td>True</td>\n\n        <td>False</td>\n      </tr>\n    </tbody>\n  </table>\n</body>\n</html>"
     },
     "metadata": {},
     "execution_count": 19
    }
   ],
   "source": [
    "from IPython.display import HTML\n",
    "HTML(filename=\"html/table7.html\")"
   ]
  },
  {
   "cell_type": "code",
   "execution_count": 20,
   "metadata": {
    "tags": []
   },
   "outputs": [
    {
     "output_type": "stream",
     "name": "stdout",
     "text": "(891, 17)\n"
    },
    {
     "output_type": "execute_result",
     "data": {
      "text/plain": "            Embarked Embarked(humanized)  Embarked(Cherbourg)  \\\nPassengerId                                                     \n1                  S         Southampton                False   \n2                  C           Cherbourg                 True   \n3                  S         Southampton                False   \n4                  S         Southampton                False   \n5                  S         Southampton                False   \n6                  Q          Queenstown                False   \n7                  S         Southampton                False   \n8                  S         Southampton                False   \n9                  S         Southampton                False   \n10                 C           Cherbourg                 True   \n\n             Embarked(Southampton)  Embarked(Queenstown)  \nPassengerId                                               \n1                             True                 False  \n2                            False                 False  \n3                             True                 False  \n4                             True                 False  \n5                             True                 False  \n6                            False                  True  \n7                             True                 False  \n8                             True                 False  \n9                             True                 False  \n10                           False                 False  ",
      "text/html": "<div>\n<style scoped>\n    .dataframe tbody tr th:only-of-type {\n        vertical-align: middle;\n    }\n\n    .dataframe tbody tr th {\n        vertical-align: top;\n    }\n\n    .dataframe thead th {\n        text-align: right;\n    }\n</style>\n<table border=\"1\" class=\"dataframe\">\n  <thead>\n    <tr style=\"text-align: right;\">\n      <th></th>\n      <th>Embarked</th>\n      <th>Embarked(humanized)</th>\n      <th>Embarked(Cherbourg)</th>\n      <th>Embarked(Southampton)</th>\n      <th>Embarked(Queenstown)</th>\n    </tr>\n    <tr>\n      <th>PassengerId</th>\n      <th></th>\n      <th></th>\n      <th></th>\n      <th></th>\n      <th></th>\n    </tr>\n  </thead>\n  <tbody>\n    <tr>\n      <th>1</th>\n      <td>S</td>\n      <td>Southampton</td>\n      <td>False</td>\n      <td>True</td>\n      <td>False</td>\n    </tr>\n    <tr>\n      <th>2</th>\n      <td>C</td>\n      <td>Cherbourg</td>\n      <td>True</td>\n      <td>False</td>\n      <td>False</td>\n    </tr>\n    <tr>\n      <th>3</th>\n      <td>S</td>\n      <td>Southampton</td>\n      <td>False</td>\n      <td>True</td>\n      <td>False</td>\n    </tr>\n    <tr>\n      <th>4</th>\n      <td>S</td>\n      <td>Southampton</td>\n      <td>False</td>\n      <td>True</td>\n      <td>False</td>\n    </tr>\n    <tr>\n      <th>5</th>\n      <td>S</td>\n      <td>Southampton</td>\n      <td>False</td>\n      <td>True</td>\n      <td>False</td>\n    </tr>\n    <tr>\n      <th>6</th>\n      <td>Q</td>\n      <td>Queenstown</td>\n      <td>False</td>\n      <td>False</td>\n      <td>True</td>\n    </tr>\n    <tr>\n      <th>7</th>\n      <td>S</td>\n      <td>Southampton</td>\n      <td>False</td>\n      <td>True</td>\n      <td>False</td>\n    </tr>\n    <tr>\n      <th>8</th>\n      <td>S</td>\n      <td>Southampton</td>\n      <td>False</td>\n      <td>True</td>\n      <td>False</td>\n    </tr>\n    <tr>\n      <th>9</th>\n      <td>S</td>\n      <td>Southampton</td>\n      <td>False</td>\n      <td>True</td>\n      <td>False</td>\n    </tr>\n    <tr>\n      <th>10</th>\n      <td>C</td>\n      <td>Cherbourg</td>\n      <td>True</td>\n      <td>False</td>\n      <td>False</td>\n    </tr>\n  </tbody>\n</table>\n</div>"
     },
     "metadata": {},
     "execution_count": 20
    }
   ],
   "source": [
    "# **** <문제11> ****\n",
    "# 먼저 Embarked 컬럼의 값이 C인 승객을 색인합니다. 결과적으로 Embarked가 C이면 True, 아니면 False인 리스트가 나옵니다.\n",
    "# 이 결과를 Embarked(Cherbourg)라는 이름의 새로운 컬럼에 대입합니다.\n",
    "train['Embarked(Cherbourg)'] = ''\n",
    "temp_C = train['Embarked'] == 'C'\n",
    "# 비슷한 방식으로 Embarked(Southampton)라는 이름의 새로운 컬럼을 추가합니다.\n",
    "# 여기에는 Embarked 컬럼의 값이 S이면 True, 아니면 False가 들어갑니다.\n",
    "train['Embarked(Southampton)'] = ''\n",
    "temp_S = train['Embarked'] == 'S'\n",
    "# 비슷한 방식으로 Embarked(Queenstown)이라는 이름의 새로운 컬럼을 추가합니다.\n",
    "# 여기에는 Embarked 컬럼의 값이 Q이면 True, 아니면 False가 들어갑니다.\n",
    "train['Embarked(Queenstown)'] = ''\n",
    "temp_Q = train['Embarked'] == 'Q'\n",
    "# train 변수에 할당된 데이터의 행렬 사이즈를 출력합니다.\n",
    "# 출력은 (row, column) 으로 표시됩니다.\n",
    "print(train.shape)\n",
    "train['Embarked(Cherbourg)'] = temp_C\n",
    "train['Embarked(Southampton)'] = temp_S\n",
    "train['Embarked(Queenstown)'] = temp_Q\n",
    "# Embarked 컬럼과 기타 연관 컬럼들을 출력하여 비교합니다.\n",
    "train[[\"Embarked\", \"Embarked(humanized)\", \"Embarked(Cherbourg)\", \"Embarked(Southampton)\", \"Embarked(Queenstown)\"]].head(10)"
   ]
  },
  {
   "cell_type": "code",
   "execution_count": 21,
   "metadata": {
    "tags": []
   },
   "outputs": [
    {
     "output_type": "stream",
     "name": "stdout",
     "text": "(891, 20)\n"
    },
    {
     "output_type": "execute_result",
     "data": {
      "text/plain": "             Pclass Pclass(humanized)  Pclass(First Class)  Pclass(Business)  \\\nPassengerId                                                                    \n1                 3           Economy                False             False   \n2                 1       First class                 True             False   \n3                 3           Economy                False             False   \n4                 1       First class                 True             False   \n5                 3           Economy                False             False   \n6                 3           Economy                False             False   \n7                 1       First class                 True             False   \n8                 3           Economy                False             False   \n9                 3           Economy                False             False   \n10                2          Business                False              True   \n\n             Pclass(Economy)  \nPassengerId                   \n1                       True  \n2                      False  \n3                       True  \n4                      False  \n5                       True  \n6                       True  \n7                      False  \n8                       True  \n9                       True  \n10                     False  ",
      "text/html": "<div>\n<style scoped>\n    .dataframe tbody tr th:only-of-type {\n        vertical-align: middle;\n    }\n\n    .dataframe tbody tr th {\n        vertical-align: top;\n    }\n\n    .dataframe thead th {\n        text-align: right;\n    }\n</style>\n<table border=\"1\" class=\"dataframe\">\n  <thead>\n    <tr style=\"text-align: right;\">\n      <th></th>\n      <th>Pclass</th>\n      <th>Pclass(humanized)</th>\n      <th>Pclass(First Class)</th>\n      <th>Pclass(Business)</th>\n      <th>Pclass(Economy)</th>\n    </tr>\n    <tr>\n      <th>PassengerId</th>\n      <th></th>\n      <th></th>\n      <th></th>\n      <th></th>\n      <th></th>\n    </tr>\n  </thead>\n  <tbody>\n    <tr>\n      <th>1</th>\n      <td>3</td>\n      <td>Economy</td>\n      <td>False</td>\n      <td>False</td>\n      <td>True</td>\n    </tr>\n    <tr>\n      <th>2</th>\n      <td>1</td>\n      <td>First class</td>\n      <td>True</td>\n      <td>False</td>\n      <td>False</td>\n    </tr>\n    <tr>\n      <th>3</th>\n      <td>3</td>\n      <td>Economy</td>\n      <td>False</td>\n      <td>False</td>\n      <td>True</td>\n    </tr>\n    <tr>\n      <th>4</th>\n      <td>1</td>\n      <td>First class</td>\n      <td>True</td>\n      <td>False</td>\n      <td>False</td>\n    </tr>\n    <tr>\n      <th>5</th>\n      <td>3</td>\n      <td>Economy</td>\n      <td>False</td>\n      <td>False</td>\n      <td>True</td>\n    </tr>\n    <tr>\n      <th>6</th>\n      <td>3</td>\n      <td>Economy</td>\n      <td>False</td>\n      <td>False</td>\n      <td>True</td>\n    </tr>\n    <tr>\n      <th>7</th>\n      <td>1</td>\n      <td>First class</td>\n      <td>True</td>\n      <td>False</td>\n      <td>False</td>\n    </tr>\n    <tr>\n      <th>8</th>\n      <td>3</td>\n      <td>Economy</td>\n      <td>False</td>\n      <td>False</td>\n      <td>True</td>\n    </tr>\n    <tr>\n      <th>9</th>\n      <td>3</td>\n      <td>Economy</td>\n      <td>False</td>\n      <td>False</td>\n      <td>True</td>\n    </tr>\n    <tr>\n      <th>10</th>\n      <td>2</td>\n      <td>Business</td>\n      <td>False</td>\n      <td>True</td>\n      <td>False</td>\n    </tr>\n  </tbody>\n</table>\n</div>"
     },
     "metadata": {},
     "execution_count": 21
    }
   ],
   "source": [
    "# **** <문제12> ****\n",
    "# Pclass의 One Hot Encoding도 Pclass와 비슷합니다.\n",
    "# 먼저 Pclass 컬럼의 값이 1인 승객을 색인합니다. 결과적으로 Pclass가 1이면 True, 아니면 False인 리스트가 나옵니다.\n",
    "# 이 결과를 Pclass(First Class)라는 이름의 새로운 컬럼에 대입합니다.\n",
    "train['Pclass(First Class)'] = ''\n",
    "temp_FC = train['Pclass'] == 1\n",
    "# 비슷한 방식으로 Pclass(Business)라는 이름의 새로운 컬럼을 추가합니다.\n",
    "# 여기에는 Pclass 컬럼의 값이 2이면 True, 아니면 False가 들어갑니다.\n",
    "train['Pclass(Business)'] = ''\n",
    "temp_BC = train['Pclass'] == 2\n",
    "# 비슷한 방식으로 Pclass(Economy)라는 이름의 새로운 컬럼을 추가합니다.\n",
    "# 여기에는 Pclass 컬럼의 값이 3이면 True, 아니면 False가 들어갑니다.\n",
    "train['Pclass(Economy)'] = ''\n",
    "temp_EC = train['Pclass'] == 3\n",
    "# train 변수에 할당된 데이터의 행렬 사이즈를 출력합니다.\n",
    "# 출력은 (row, column) 으로 표시됩니다.\n",
    "print(train.shape)\n",
    "train['Pclass(First Class)'] = temp_FC\n",
    "train['Pclass(Business)'] = temp_BC\n",
    "train['Pclass(Economy)'] = temp_EC\n",
    "# Pclass 컬럼과 기타 연관 컬럼들을 출력하여 비교합니다.\n",
    "train[[\"Pclass\", \"Pclass(humanized)\", \"Pclass(First Class)\", \"Pclass(Business)\", \"Pclass(Economy)\"]].head(10)"
   ]
  },
  {
   "cell_type": "code",
   "execution_count": 22,
   "metadata": {},
   "outputs": [
    {
     "output_type": "execute_result",
     "data": {
      "text/plain": "29.69911764705882"
     },
     "metadata": {},
     "execution_count": 22
    }
   ],
   "source": [
    "# **** <문제13> ****\n",
    "# 나이(Age) 컬럼에서 mean 함수를 통해 평균 나이를 구합니다.\n",
    "# 평균 나이가 약 29.7세라는 것을 알 수 있습니다.\n",
    "train['Age'].mean()"
   ]
  },
  {
   "cell_type": "code",
   "execution_count": 23,
   "metadata": {},
   "outputs": [
    {
     "output_type": "execute_result",
     "data": {
      "text/plain": "14.526497332334042"
     },
     "metadata": {},
     "execution_count": 23
    }
   ],
   "source": [
    "# **** <문제14> ****\n",
    "# 나이(Age) 컬럼에서 std 함수를 통해 나이의 표준 편차를 구합니다.\n",
    "# 나이의 분산이 약 14.52세라는 것을 알 수 있습니다.\n",
    "train['Age'].std()"
   ]
  },
  {
   "cell_type": "code",
   "execution_count": 24,
   "metadata": {},
   "outputs": [
    {
     "output_type": "execute_result",
     "data": {
      "text/plain": "0.42"
     },
     "metadata": {},
     "execution_count": 24
    }
   ],
   "source": [
    "# **** <문제15> ****\n",
    "# 나이(Age) 컬럼에서 min 함수를 통해 나이의 최소치를 구합니다.\n",
    "# 타이타닉호에 탑승한 가장 어린 승객은 약 0.42세(생후 4개월 정도)라는 것을 알 수 있습니다.\n",
    "train['Age'].min()"
   ]
  },
  {
   "cell_type": "code",
   "execution_count": 25,
   "metadata": {},
   "outputs": [
    {
     "output_type": "execute_result",
     "data": {
      "text/plain": "80.0"
     },
     "metadata": {},
     "execution_count": 25
    }
   ],
   "source": [
    "# **** <문제16> ****\n",
    "#나이(Age) 컬럼에서 max 함수를 통해 나이의 최대치 구합니다.\n",
    "# 타이타닉호에 탑승한 가장 나이가 많은 승객은 80세라는 것을 알 수 있습니다.\n",
    "train['Age'].max()"
   ]
  },
  {
   "cell_type": "code",
   "execution_count": 26,
   "metadata": {},
   "outputs": [
    {
     "output_type": "execute_result",
     "data": {
      "text/plain": "count    714.000000\nmean      29.699118\nstd       14.526497\nmin        0.420000\n25%       20.125000\n50%       28.000000\n75%       38.000000\nmax       80.000000\nName: Age, dtype: float64"
     },
     "metadata": {},
     "execution_count": 26
    }
   ],
   "source": [
    "# **** <문제17> ****\n",
    "# 나이(Age) 컬럼에 대해 describe 함수를 사용합니다.\n",
    "# 이 함수는 특정 컬럼의 평균, 분산, 최대치, 최소치와 같은 기초적인 통계치를 보여줍니다.\n",
    "train['Age'].describe()"
   ]
  },
  {
   "cell_type": "code",
   "execution_count": 27,
   "metadata": {},
   "outputs": [
    {
     "output_type": "execute_result",
     "data": {
      "text/plain": "38.233440860215055"
     },
     "metadata": {},
     "execution_count": 27
    }
   ],
   "source": [
    "# **** <문제18> ****\n",
    "# Pclass가 1등급인 승객만 색인해서 가져온 뒤, 이를 Pclass1이라는 변수에 할당합니다.\n",
    "Pclass1 = train['Pclass'] == 1\n",
    "\n",
    "# 1등급 승객의 평균 나이를 구합니다.\n",
    "train.loc[Pclass1, 'Age'].mean()"
   ]
  },
  {
   "cell_type": "code",
   "execution_count": 28,
   "metadata": {
    "tags": []
   },
   "outputs": [
    {
     "output_type": "execute_result",
     "data": {
      "text/plain": "29.87763005780347"
     },
     "metadata": {},
     "execution_count": 28
    }
   ],
   "source": [
    "\n",
    "\n",
    "# **** <문제19> ****\n",
    "# Pclass가 2등급인 승객만 색인해서 가져온 뒤, 이를 Pclass2이라는 변수에 할당합니다.\n",
    "Pclass2 = train['Pclass'] == 2\n",
    "# 2등급 승객의 평균 나이를 구합니다.\n",
    "train.loc[Pclass2, 'Age'].mean()"
   ]
  },
  {
   "cell_type": "code",
   "execution_count": 29,
   "metadata": {},
   "outputs": [
    {
     "output_type": "execute_result",
     "data": {
      "text/plain": "25.14061971830986"
     },
     "metadata": {},
     "execution_count": 29
    }
   ],
   "source": [
    "# **** <문제20> ****\n",
    "# Pclass가 3등급인 승객만 색인해서 가져온 뒤, 이를 Pclass3이라는 변수에 할당합니다.\n",
    "Pclass3 = train['Pclass'] == 3\n",
    "\n",
    "# 3등급 승객의 평균 나이를 구합니다.\n",
    "train.loc[Pclass3, 'Age'].mean()"
   ]
  },
  {
   "cell_type": "code",
   "execution_count": 30,
   "metadata": {
    "tags": []
   },
   "outputs": [
    {
     "output_type": "execute_result",
     "data": {
      "text/plain": "Pclass\n1    38.233441\n2    29.877630\n3    25.140620\nName: Age, dtype: float64"
     },
     "metadata": {},
     "execution_count": 30
    }
   ],
   "source": [
    "# **** <문제21> ****\n",
    "# 타이타닉 데이터를 Pclass 기준으로 그룹화합니다.\n",
    "# 이렇게 하면 Pclass의 세 종류(1등급, 2등급, 3등급)마다 따로따로 연산을 할 수 있습니다.\n",
    "# 이후 나이(Age) 컬럼의 평균(mean)을 구하면 1, 2, 3등급마다의 평균 나이가 나옵니다.\n",
    "\n",
    "grouped = train['Age'].groupby(train['Pclass'])\n",
    "grouped.mean()"
   ]
  },
  {
   "cell_type": "code",
   "execution_count": 31,
   "metadata": {
    "tags": []
   },
   "outputs": [
    {
     "output_type": "execute_result",
     "data": {
      "text/plain": "<IPython.core.display.HTML object>",
      "text/html": "<!DOCTYPE html>\n<html lang=\"en\">\n<head>\n    <meta charset=\"UTF-8\">\n    <title>Title</title>\n</head>\n<body>\n<table border=\"1\" class=\"dataframe\" style=\"float: left;\">\n    <thead>\n      <tr style=\"text-align: right;\">\n        <th></th>\n\n        <th>Age</th>\n\n        <th>AgeType</th>\n      </tr>\n\n      <tr>\n        <th>PassengerId</th>\n\n        <th></th>\n\n        <th></th>\n      </tr>\n    </thead>\n\n    <tbody>\n      <tr>\n        <th>1</th>\n\n        <td>22.0</td>\n\n        <td>Medium</td>\n      </tr>\n\n      <tr>\n        <th>2</th>\n\n        <td>38.0</td>\n\n        <td>Old</td>\n      </tr>\n\n      <tr>\n        <th>3</th>\n\n        <td>26.0</td>\n\n        <td>Medium</td>\n      </tr>\n\n      <tr>\n        <th>4</th>\n\n        <td>35.0</td>\n\n        <td>Old</td>\n      </tr>\n\n      <tr>\n        <th>5</th>\n\n        <td>35.0</td>\n\n        <td>Old</td>\n      </tr>\n\n      <tr>\n        <th>6</th>\n\n        <td>NaN</td>\n\n        <td>NaN</td>\n      </tr>\n\n      <tr>\n        <th>7</th>\n\n        <td>54.0</td>\n\n        <td>Old</td>\n      </tr>\n\n      <tr>\n        <th>8</th>\n\n        <td>2.0</td>\n\n        <td>Young</td>\n      </tr>\n\n      <tr>\n        <th>9</th>\n\n        <td>27.0</td>\n\n        <td>Medium</td>\n      </tr>\n\n      <tr>\n        <th>10</th>\n\n        <td>14.0</td>\n\n        <td>Young</td>\n      </tr>\n    </tbody>\n  </table>\n</body>\n</html>"
     },
     "metadata": {},
     "execution_count": 31
    }
   ],
   "source": [
    "from IPython.display import HTML\n",
    "HTML(filename=\"html/table8.html\")"
   ]
  },
  {
   "cell_type": "code",
   "execution_count": 32,
   "metadata": {
    "tags": []
   },
   "outputs": [
    {
     "output_type": "stream",
     "name": "stdout",
     "text": "(891, 21)\n"
    },
    {
     "output_type": "execute_result",
     "data": {
      "text/plain": "              Age AgeType\nPassengerId              \n1            22.0  Medium\n2            38.0     Old\n3            26.0  Medium\n4            35.0     Old\n5            35.0     Old\n6             NaN  Medium\n7            54.0     Old\n8             2.0   Young\n9            27.0  Medium\n10           14.0   Young",
      "text/html": "<div>\n<style scoped>\n    .dataframe tbody tr th:only-of-type {\n        vertical-align: middle;\n    }\n\n    .dataframe tbody tr th {\n        vertical-align: top;\n    }\n\n    .dataframe thead th {\n        text-align: right;\n    }\n</style>\n<table border=\"1\" class=\"dataframe\">\n  <thead>\n    <tr style=\"text-align: right;\">\n      <th></th>\n      <th>Age</th>\n      <th>AgeType</th>\n    </tr>\n    <tr>\n      <th>PassengerId</th>\n      <th></th>\n      <th></th>\n    </tr>\n  </thead>\n  <tbody>\n    <tr>\n      <th>1</th>\n      <td>22.0</td>\n      <td>Medium</td>\n    </tr>\n    <tr>\n      <th>2</th>\n      <td>38.0</td>\n      <td>Old</td>\n    </tr>\n    <tr>\n      <th>3</th>\n      <td>26.0</td>\n      <td>Medium</td>\n    </tr>\n    <tr>\n      <th>4</th>\n      <td>35.0</td>\n      <td>Old</td>\n    </tr>\n    <tr>\n      <th>5</th>\n      <td>35.0</td>\n      <td>Old</td>\n    </tr>\n    <tr>\n      <th>6</th>\n      <td>NaN</td>\n      <td>Medium</td>\n    </tr>\n    <tr>\n      <th>7</th>\n      <td>54.0</td>\n      <td>Old</td>\n    </tr>\n    <tr>\n      <th>8</th>\n      <td>2.0</td>\n      <td>Young</td>\n    </tr>\n    <tr>\n      <th>9</th>\n      <td>27.0</td>\n      <td>Medium</td>\n    </tr>\n    <tr>\n      <th>10</th>\n      <td>14.0</td>\n      <td>Young</td>\n    </tr>\n  </tbody>\n</table>\n</div>"
     },
     "metadata": {},
     "execution_count": 32
    }
   ],
   "source": [
    "# **** <문제22> ****\n",
    "# 나이가 15세 미만인 승객을 색인한 뒤, AgeType이라는 새로운 컬럼에 \"Young\"이라는 값을 넣습니다.\n",
    "train['AgeType'] = ''\n",
    "age_type_15 = np.where(train['Age'] < 15, 'Young', 'Medium')\n",
    "# 비슷하게 나이가 15세 이상 30세 미만인 승객의 AgeType에는 \"Medium\"이라는 값을 넣습니다.\n",
    "train['AgeType'] = np.where(train['Age'] >= 30, 'Old', age_type_15)\n",
    "\n",
    "# 비슷하겍 30세 이상인 승객의 AgeType에는 \"Old\"이라는 값을 넣습니다.\n",
    "\n",
    "\n",
    "# train 변수에 할당된 데이터의 행렬 사이즈를 출력합니다.\n",
    "# 출력은 (row, column) 으로 표시됩니다.\n",
    "print(train.shape)\n",
    "\n",
    "# 나이(Age) 컬럼과 AgeType 컬럼을 출력하여 비교합니다.\n",
    "train[[\"Age\", \"AgeType\"]].head(10)"
   ]
  },
  {
   "cell_type": "code",
   "execution_count": 33,
   "metadata": {},
   "outputs": [
    {
     "output_type": "execute_result",
     "data": {
      "text/plain": "AgeType\nMedium    0.337474\nOld       0.406061\nYoung     0.576923\nName: Survived, dtype: float64"
     },
     "metadata": {},
     "execution_count": 33
    }
   ],
   "source": [
    "# **** <문제23> ****\n",
    "# 타이타닉 데이터를 AgeType 기준으로 그룹화합니다.\n",
    "# 이후 생존 여부(Survived) 컬럼의 평균(mean)을 구하면 Young, Medium, Old 마다의 평균 생존률이 나옵니다.\n",
    "\n",
    "train['Survived'].groupby(train['AgeType']).mean()"
   ]
  },
  {
   "cell_type": "code",
   "execution_count": 34,
   "metadata": {
    "tags": []
   },
   "outputs": [
    {
     "output_type": "stream",
     "name": "stdout",
     "text": "(891, 22)\n"
    },
    {
     "output_type": "execute_result",
     "data": {
      "text/plain": "              Age   AgeBlank\nPassengerId                 \n1            22.0  Not Blank\n2            38.0  Not Blank\n3            26.0  Not Blank\n4            35.0  Not Blank\n5            35.0  Not Blank\n6             NaN      Blank\n7            54.0  Not Blank\n8             2.0  Not Blank\n9            27.0  Not Blank\n10           14.0  Not Blank",
      "text/html": "<div>\n<style scoped>\n    .dataframe tbody tr th:only-of-type {\n        vertical-align: middle;\n    }\n\n    .dataframe tbody tr th {\n        vertical-align: top;\n    }\n\n    .dataframe thead th {\n        text-align: right;\n    }\n</style>\n<table border=\"1\" class=\"dataframe\">\n  <thead>\n    <tr style=\"text-align: right;\">\n      <th></th>\n      <th>Age</th>\n      <th>AgeBlank</th>\n    </tr>\n    <tr>\n      <th>PassengerId</th>\n      <th></th>\n      <th></th>\n    </tr>\n  </thead>\n  <tbody>\n    <tr>\n      <th>1</th>\n      <td>22.0</td>\n      <td>Not Blank</td>\n    </tr>\n    <tr>\n      <th>2</th>\n      <td>38.0</td>\n      <td>Not Blank</td>\n    </tr>\n    <tr>\n      <th>3</th>\n      <td>26.0</td>\n      <td>Not Blank</td>\n    </tr>\n    <tr>\n      <th>4</th>\n      <td>35.0</td>\n      <td>Not Blank</td>\n    </tr>\n    <tr>\n      <th>5</th>\n      <td>35.0</td>\n      <td>Not Blank</td>\n    </tr>\n    <tr>\n      <th>6</th>\n      <td>NaN</td>\n      <td>Blank</td>\n    </tr>\n    <tr>\n      <th>7</th>\n      <td>54.0</td>\n      <td>Not Blank</td>\n    </tr>\n    <tr>\n      <th>8</th>\n      <td>2.0</td>\n      <td>Not Blank</td>\n    </tr>\n    <tr>\n      <th>9</th>\n      <td>27.0</td>\n      <td>Not Blank</td>\n    </tr>\n    <tr>\n      <th>10</th>\n      <td>14.0</td>\n      <td>Not Blank</td>\n    </tr>\n  </tbody>\n</table>\n</div>"
     },
     "metadata": {},
     "execution_count": 34
    }
   ],
   "source": [
    "# **** <문제24> ****\n",
    "# isnull 함수를 활용해 나이 컬럼이 비어있는 승객만 색인합니다.\n",
    "# 이 데이터에서 AgeBlank라는 새로운 컬럼을 만든 뒤, 여기에 \"Blank\"라는 값을 넣습니다.\n",
    "\n",
    "# 비슷한 방식으로 notnull 함수를 활용하여 AgeBlank 컬럼에 \"Not Blank\"라는 값을 넣습니다.\n",
    "train['AgeBlank'] = np.where(train['Age'].isnull() == True, 'Blank', 'Not Blank')\n",
    "\n",
    "# train 변수에 할당된 데이터의 행렬 사이즈를 출력합니다.\n",
    "# 출력은 (row, column) 으로 표시됩니다.\n",
    "print(train.shape)\n",
    "\n",
    "# 나이(Age) 컬럼과 AgeBlank 컬럼을 출력하여 비교합니다.\n",
    "train[[\"Age\", \"AgeBlank\"]].head(10)"
   ]
  },
  {
   "cell_type": "code",
   "execution_count": 35,
   "metadata": {},
   "outputs": [
    {
     "output_type": "execute_result",
     "data": {
      "text/plain": "AgeBlank\nBlank        0.293785\nNot Blank    0.406162\nName: Survived, dtype: float64"
     },
     "metadata": {},
     "execution_count": 35
    }
   ],
   "source": [
    "# **** <문제25> ****\n",
    "# 타이타닉 데이터를 AgeBlank 기준으로 그룹화합니다.\n",
    "# 이후 생존 여부(Survived) 컬럼의 평균(mean)을 구하면 Blank, Not Blank 마다의 평균 생존률이 나옵니다.\n",
    "\n",
    "grouped = train['Survived'].groupby(train['AgeBlank'])\n",
    "grouped.mean()"
   ]
  },
  {
   "cell_type": "code",
   "execution_count": 36,
   "metadata": {},
   "outputs": [
    {
     "output_type": "execute_result",
     "data": {
      "text/plain": "<IPython.core.display.HTML object>",
      "text/html": "<!DOCTYPE html>\n<html lang=\"en\">\n<head>\n    <meta charset=\"UTF-8\">\n    <title>Title</title>\n</head>\n<body>\n <table border=\"1\" class=\"dataframe\" style=\"float: left;\">\n    <thead>\n      <tr style=\"text-align: right;\">\n        <th></th>\n\n        <th>Pclass</th>\n\n        <th>Age</th>\n\n        <th>Age(fill)</th>\n      </tr>\n\n      <tr>\n        <th>PassengerId</th>\n\n        <th></th>\n\n        <th></th>\n\n        <th></th>\n      </tr>\n    </thead>\n\n    <tbody>\n      <tr>\n        <th>1</th>\n\n        <td>3</td>\n\n        <td>22.0</td>\n\n        <td>22.00000</td>\n      </tr>\n\n      <tr>\n        <th>2</th>\n\n        <td>1</td>\n\n        <td>38.0</td>\n\n        <td>38.00000</td>\n      </tr>\n\n      <tr>\n        <th>3</th>\n\n        <td>3</td>\n\n        <td>26.0</td>\n\n        <td>26.00000</td>\n      </tr>\n\n      <tr>\n        <th>4</th>\n\n        <td>1</td>\n\n        <td>35.0</td>\n\n        <td>35.00000</td>\n      </tr>\n\n      <tr>\n        <th>5</th>\n\n        <td>3</td>\n\n        <td>35.0</td>\n\n        <td>35.00000</td>\n      </tr>\n\n      <tr>\n        <th>6</th>\n\n        <td>3</td>\n\n        <td>NaN</td>\n\n        <td>25.14062</td>\n      </tr>\n\n      <tr>\n        <th>7</th>\n\n        <td>1</td>\n\n        <td>54.0</td>\n\n        <td>54.00000</td>\n      </tr>\n\n      <tr>\n        <th>8</th>\n\n        <td>3</td>\n\n        <td>2.0</td>\n\n        <td>2.00000</td>\n      </tr>\n\n      <tr>\n        <th>9</th>\n\n        <td>3</td>\n\n        <td>27.0</td>\n\n        <td>27.00000</td>\n      </tr>\n\n      <tr>\n        <th>10</th>\n\n        <td>2</td>\n\n        <td>14.0</td>\n\n        <td>14.00000</td>\n      </tr>\n\n      <tr>\n        <th>11</th>\n\n        <td>3</td>\n\n        <td>4.0</td>\n\n        <td>4.00000</td>\n      </tr>\n\n      <tr>\n        <th>12</th>\n\n        <td>1</td>\n\n        <td>58.0</td>\n\n        <td>58.00000</td>\n      </tr>\n\n      <tr>\n        <th>13</th>\n\n        <td>3</td>\n\n        <td>20.0</td>\n\n        <td>20.00000</td>\n      </tr>\n\n      <tr>\n        <th>14</th>\n\n        <td>3</td>\n\n        <td>39.0</td>\n\n        <td>39.00000</td>\n      </tr>\n\n      <tr>\n        <th>15</th>\n\n        <td>3</td>\n\n        <td>14.0</td>\n\n        <td>14.00000</td>\n      </tr>\n\n      <tr>\n        <th>16</th>\n\n        <td>2</td>\n\n        <td>55.0</td>\n\n        <td>55.00000</td>\n      </tr>\n\n      <tr>\n        <th>17</th>\n\n        <td>3</td>\n\n        <td>2.0</td>\n\n        <td>2.00000</td>\n      </tr>\n\n      <tr>\n        <th>18</th>\n\n        <td>2</td>\n\n        <td>NaN</td>\n\n        <td>29.87763</td>\n      </tr>\n\n      <tr>\n        <th>19</th>\n\n        <td>3</td>\n\n        <td>31.0</td>\n\n        <td>31.00000</td>\n      </tr>\n\n      <tr>\n        <th>20</th>\n\n        <td>3</td>\n\n        <td>NaN</td>\n\n        <td>25.14062</td>\n      </tr>\n    </tbody>\n  </table>\n</body>\n</html>"
     },
     "metadata": {},
     "execution_count": 36
    }
   ],
   "source": [
    "from IPython.display import HTML\n",
    "HTML(filename=\"html/table9.html\")"
   ]
  },
  {
   "cell_type": "code",
   "execution_count": 37,
   "metadata": {},
   "outputs": [
    {
     "output_type": "execute_result",
     "data": {
      "text/plain": "Pclass\n1    38.233441\n2    29.877630\n3    25.140620\nName: Age, dtype: float64"
     },
     "metadata": {},
     "execution_count": 37
    }
   ],
   "source": [
    "# **** <문제26> ****\n",
    "# 타이타닉 데이터를 Pclass 기준으로 그룹화한 뒤, 나이(Age) 컬럼의 평균을 구합니다.\n",
    "# 이 결과를 mean_age_by_pclass 라는 변수에 할당합니다.\n",
    "\n",
    "mean_age_by_pclass = train['Age'].groupby(train['Pclass'])\n",
    "mean_age_by_pclass.mean()"
   ]
  },
  {
   "cell_type": "code",
   "execution_count": 38,
   "metadata": {
    "tags": []
   },
   "outputs": [
    {
     "output_type": "stream",
     "name": "stdout",
     "text": "(891, 23)\n"
    },
    {
     "output_type": "execute_result",
     "data": {
      "text/plain": "             Pclass   Age  Age(fill)\nPassengerId                         \n1                 3  22.0       22.0\n2                 1  38.0       38.0\n3                 3  26.0       26.0\n4                 1  35.0       35.0\n5                 3  35.0       35.0\n6                 3   NaN        NaN\n7                 1  54.0       54.0\n8                 3   2.0        2.0\n9                 3  27.0       27.0\n10                2  14.0       14.0\n11                3   4.0        4.0\n12                1  58.0       58.0\n13                3  20.0       20.0\n14                3  39.0       39.0\n15                3  14.0       14.0\n16                2  55.0       55.0\n17                3   2.0        2.0\n18                2   NaN        NaN\n19                3  31.0       31.0\n20                3   NaN        NaN\n21                2  35.0       35.0\n22                2  34.0       34.0\n23                3  15.0       15.0\n24                1  28.0       28.0\n25                3   8.0        8.0\n26                3  38.0       38.0\n27                3   NaN        NaN\n28                1  19.0       19.0\n29                3   NaN        NaN\n30                3   NaN        NaN",
      "text/html": "<div>\n<style scoped>\n    .dataframe tbody tr th:only-of-type {\n        vertical-align: middle;\n    }\n\n    .dataframe tbody tr th {\n        vertical-align: top;\n    }\n\n    .dataframe thead th {\n        text-align: right;\n    }\n</style>\n<table border=\"1\" class=\"dataframe\">\n  <thead>\n    <tr style=\"text-align: right;\">\n      <th></th>\n      <th>Pclass</th>\n      <th>Age</th>\n      <th>Age(fill)</th>\n    </tr>\n    <tr>\n      <th>PassengerId</th>\n      <th></th>\n      <th></th>\n      <th></th>\n    </tr>\n  </thead>\n  <tbody>\n    <tr>\n      <th>1</th>\n      <td>3</td>\n      <td>22.0</td>\n      <td>22.0</td>\n    </tr>\n    <tr>\n      <th>2</th>\n      <td>1</td>\n      <td>38.0</td>\n      <td>38.0</td>\n    </tr>\n    <tr>\n      <th>3</th>\n      <td>3</td>\n      <td>26.0</td>\n      <td>26.0</td>\n    </tr>\n    <tr>\n      <th>4</th>\n      <td>1</td>\n      <td>35.0</td>\n      <td>35.0</td>\n    </tr>\n    <tr>\n      <th>5</th>\n      <td>3</td>\n      <td>35.0</td>\n      <td>35.0</td>\n    </tr>\n    <tr>\n      <th>6</th>\n      <td>3</td>\n      <td>NaN</td>\n      <td>NaN</td>\n    </tr>\n    <tr>\n      <th>7</th>\n      <td>1</td>\n      <td>54.0</td>\n      <td>54.0</td>\n    </tr>\n    <tr>\n      <th>8</th>\n      <td>3</td>\n      <td>2.0</td>\n      <td>2.0</td>\n    </tr>\n    <tr>\n      <th>9</th>\n      <td>3</td>\n      <td>27.0</td>\n      <td>27.0</td>\n    </tr>\n    <tr>\n      <th>10</th>\n      <td>2</td>\n      <td>14.0</td>\n      <td>14.0</td>\n    </tr>\n    <tr>\n      <th>11</th>\n      <td>3</td>\n      <td>4.0</td>\n      <td>4.0</td>\n    </tr>\n    <tr>\n      <th>12</th>\n      <td>1</td>\n      <td>58.0</td>\n      <td>58.0</td>\n    </tr>\n    <tr>\n      <th>13</th>\n      <td>3</td>\n      <td>20.0</td>\n      <td>20.0</td>\n    </tr>\n    <tr>\n      <th>14</th>\n      <td>3</td>\n      <td>39.0</td>\n      <td>39.0</td>\n    </tr>\n    <tr>\n      <th>15</th>\n      <td>3</td>\n      <td>14.0</td>\n      <td>14.0</td>\n    </tr>\n    <tr>\n      <th>16</th>\n      <td>2</td>\n      <td>55.0</td>\n      <td>55.0</td>\n    </tr>\n    <tr>\n      <th>17</th>\n      <td>3</td>\n      <td>2.0</td>\n      <td>2.0</td>\n    </tr>\n    <tr>\n      <th>18</th>\n      <td>2</td>\n      <td>NaN</td>\n      <td>NaN</td>\n    </tr>\n    <tr>\n      <th>19</th>\n      <td>3</td>\n      <td>31.0</td>\n      <td>31.0</td>\n    </tr>\n    <tr>\n      <th>20</th>\n      <td>3</td>\n      <td>NaN</td>\n      <td>NaN</td>\n    </tr>\n    <tr>\n      <th>21</th>\n      <td>2</td>\n      <td>35.0</td>\n      <td>35.0</td>\n    </tr>\n    <tr>\n      <th>22</th>\n      <td>2</td>\n      <td>34.0</td>\n      <td>34.0</td>\n    </tr>\n    <tr>\n      <th>23</th>\n      <td>3</td>\n      <td>15.0</td>\n      <td>15.0</td>\n    </tr>\n    <tr>\n      <th>24</th>\n      <td>1</td>\n      <td>28.0</td>\n      <td>28.0</td>\n    </tr>\n    <tr>\n      <th>25</th>\n      <td>3</td>\n      <td>8.0</td>\n      <td>8.0</td>\n    </tr>\n    <tr>\n      <th>26</th>\n      <td>3</td>\n      <td>38.0</td>\n      <td>38.0</td>\n    </tr>\n    <tr>\n      <th>27</th>\n      <td>3</td>\n      <td>NaN</td>\n      <td>NaN</td>\n    </tr>\n    <tr>\n      <th>28</th>\n      <td>1</td>\n      <td>19.0</td>\n      <td>19.0</td>\n    </tr>\n    <tr>\n      <th>29</th>\n      <td>3</td>\n      <td>NaN</td>\n      <td>NaN</td>\n    </tr>\n    <tr>\n      <th>30</th>\n      <td>3</td>\n      <td>NaN</td>\n      <td>NaN</td>\n    </tr>\n  </tbody>\n</table>\n</div>"
     },
     "metadata": {},
     "execution_count": 38
    }
   ],
   "source": [
    "# **** <문제27> ****\n",
    "# Age 컬럼에 바로 값을 채워주는 것도 좋지만, 가능한 원본은 유지한 채 사본에다가 작업하는 것을 추천합니다.\n",
    "# 그러므로 Age(fill) 이라는 새로운 컬럼을 만든 뒤, 이 컬럼의 빈 값을 채워줄 것입니다.\n",
    "train['Age(fill)'] = train['Age']\n",
    "# train 변수에 할당된 데이터의 행렬 사이즈를 출력합니다.\n",
    "# 출력은 (row, column) 으로 표시됩니다.\n",
    "print(train.shape)\n",
    "\n",
    "# 객실 등급(Pclass), 나이(Age), 그리고 Age(fill) 컬럼을 출력하여 비교합니다.\n",
    "train[[\"Pclass\",\"Age\", \"Age(fill)\"]].head(30)"
   ]
  },
  {
   "cell_type": "code",
   "execution_count": 39,
   "metadata": {
    "tags": []
   },
   "outputs": [
    {
     "output_type": "stream",
     "name": "stdout",
     "text": "(891, 23)\n"
    },
    {
     "output_type": "execute_result",
     "data": {
      "text/plain": "             Pclass   Age  Age(fill)\nPassengerId                         \n1                 3  22.0  22.000000\n2                 1  38.0  38.000000\n3                 3  26.0  26.000000\n4                 1  35.0  35.000000\n5                 3  35.0  35.000000\n6                 3   NaN  29.699118\n7                 1  54.0  54.000000\n8                 3   2.0   2.000000\n9                 3  27.0  27.000000\n10                2  14.0  14.000000\n11                3   4.0   4.000000\n12                1  58.0  58.000000\n13                3  20.0  20.000000\n14                3  39.0  39.000000\n15                3  14.0  14.000000\n16                2  55.0  55.000000\n17                3   2.0   2.000000\n18                2   NaN  29.699118\n19                3  31.0  31.000000\n20                3   NaN  29.699118\n21                2  35.0  35.000000\n22                2  34.0  34.000000\n23                3  15.0  15.000000\n24                1  28.0  28.000000\n25                3   8.0   8.000000\n26                3  38.0  38.000000\n27                3   NaN  29.699118\n28                1  19.0  19.000000\n29                3   NaN  29.699118\n30                3   NaN  29.699118",
      "text/html": "<div>\n<style scoped>\n    .dataframe tbody tr th:only-of-type {\n        vertical-align: middle;\n    }\n\n    .dataframe tbody tr th {\n        vertical-align: top;\n    }\n\n    .dataframe thead th {\n        text-align: right;\n    }\n</style>\n<table border=\"1\" class=\"dataframe\">\n  <thead>\n    <tr style=\"text-align: right;\">\n      <th></th>\n      <th>Pclass</th>\n      <th>Age</th>\n      <th>Age(fill)</th>\n    </tr>\n    <tr>\n      <th>PassengerId</th>\n      <th></th>\n      <th></th>\n      <th></th>\n    </tr>\n  </thead>\n  <tbody>\n    <tr>\n      <th>1</th>\n      <td>3</td>\n      <td>22.0</td>\n      <td>22.000000</td>\n    </tr>\n    <tr>\n      <th>2</th>\n      <td>1</td>\n      <td>38.0</td>\n      <td>38.000000</td>\n    </tr>\n    <tr>\n      <th>3</th>\n      <td>3</td>\n      <td>26.0</td>\n      <td>26.000000</td>\n    </tr>\n    <tr>\n      <th>4</th>\n      <td>1</td>\n      <td>35.0</td>\n      <td>35.000000</td>\n    </tr>\n    <tr>\n      <th>5</th>\n      <td>3</td>\n      <td>35.0</td>\n      <td>35.000000</td>\n    </tr>\n    <tr>\n      <th>6</th>\n      <td>3</td>\n      <td>NaN</td>\n      <td>29.699118</td>\n    </tr>\n    <tr>\n      <th>7</th>\n      <td>1</td>\n      <td>54.0</td>\n      <td>54.000000</td>\n    </tr>\n    <tr>\n      <th>8</th>\n      <td>3</td>\n      <td>2.0</td>\n      <td>2.000000</td>\n    </tr>\n    <tr>\n      <th>9</th>\n      <td>3</td>\n      <td>27.0</td>\n      <td>27.000000</td>\n    </tr>\n    <tr>\n      <th>10</th>\n      <td>2</td>\n      <td>14.0</td>\n      <td>14.000000</td>\n    </tr>\n    <tr>\n      <th>11</th>\n      <td>3</td>\n      <td>4.0</td>\n      <td>4.000000</td>\n    </tr>\n    <tr>\n      <th>12</th>\n      <td>1</td>\n      <td>58.0</td>\n      <td>58.000000</td>\n    </tr>\n    <tr>\n      <th>13</th>\n      <td>3</td>\n      <td>20.0</td>\n      <td>20.000000</td>\n    </tr>\n    <tr>\n      <th>14</th>\n      <td>3</td>\n      <td>39.0</td>\n      <td>39.000000</td>\n    </tr>\n    <tr>\n      <th>15</th>\n      <td>3</td>\n      <td>14.0</td>\n      <td>14.000000</td>\n    </tr>\n    <tr>\n      <th>16</th>\n      <td>2</td>\n      <td>55.0</td>\n      <td>55.000000</td>\n    </tr>\n    <tr>\n      <th>17</th>\n      <td>3</td>\n      <td>2.0</td>\n      <td>2.000000</td>\n    </tr>\n    <tr>\n      <th>18</th>\n      <td>2</td>\n      <td>NaN</td>\n      <td>29.699118</td>\n    </tr>\n    <tr>\n      <th>19</th>\n      <td>3</td>\n      <td>31.0</td>\n      <td>31.000000</td>\n    </tr>\n    <tr>\n      <th>20</th>\n      <td>3</td>\n      <td>NaN</td>\n      <td>29.699118</td>\n    </tr>\n    <tr>\n      <th>21</th>\n      <td>2</td>\n      <td>35.0</td>\n      <td>35.000000</td>\n    </tr>\n    <tr>\n      <th>22</th>\n      <td>2</td>\n      <td>34.0</td>\n      <td>34.000000</td>\n    </tr>\n    <tr>\n      <th>23</th>\n      <td>3</td>\n      <td>15.0</td>\n      <td>15.000000</td>\n    </tr>\n    <tr>\n      <th>24</th>\n      <td>1</td>\n      <td>28.0</td>\n      <td>28.000000</td>\n    </tr>\n    <tr>\n      <th>25</th>\n      <td>3</td>\n      <td>8.0</td>\n      <td>8.000000</td>\n    </tr>\n    <tr>\n      <th>26</th>\n      <td>3</td>\n      <td>38.0</td>\n      <td>38.000000</td>\n    </tr>\n    <tr>\n      <th>27</th>\n      <td>3</td>\n      <td>NaN</td>\n      <td>29.699118</td>\n    </tr>\n    <tr>\n      <th>28</th>\n      <td>1</td>\n      <td>19.0</td>\n      <td>19.000000</td>\n    </tr>\n    <tr>\n      <th>29</th>\n      <td>3</td>\n      <td>NaN</td>\n      <td>29.699118</td>\n    </tr>\n    <tr>\n      <th>30</th>\n      <td>3</td>\n      <td>NaN</td>\n      <td>29.699118</td>\n    </tr>\n  </tbody>\n</table>\n</div>"
     },
     "metadata": {},
     "execution_count": 39
    }
   ],
   "source": [
    "# **** <문제28> ****\n",
    "# 객실 등급(Pclass)이 1등급이고 나이(Age) 컬럼값이 비어있는 승객을 색인합니다.\n",
    "# 이 승객의 Age(fill)에 평균 1등급 승객의 평균 나이를 채워넣습니다.\n",
    "\n",
    "# 비슷한 원리로 객실 등급(Pclass)이 2등급인 승객도 비슷한 방식으로 빈 나이값을 채워넣습니다.\n",
    "\n",
    "# 객실 등급(Pclass)이 3등급인 승객도 비슷한 방식으로 빈 나이값을 채워넣습니다.\n",
    "\n",
    "# train 변수에 할당된 데이터의 행렬 사이즈를 출력합니다.\n",
    "# 출력은 (row, column) 으로 표시됩니다.\n",
    "print(train.shape)\n",
    "\n",
    "train['Age(fill)'] = train['Age(fill)'].fillna(value=train['Age(fill)'].mean())\n",
    "# 객실 등급(Pclass), 나이(Age), 그리고 Age(fill) 컬럼을 출력하여 비교합니다.\n",
    "train[[\"Pclass\",\"Age\", \"Age(fill)\"]].head(30)"
   ]
  },
  {
   "cell_type": "code",
   "execution_count": 40,
   "metadata": {},
   "outputs": [
    {
     "output_type": "execute_result",
     "data": {
      "text/plain": "             Pclass  Age  Age(fill)\nPassengerId                        \n6                 3  NaN  29.699118\n18                2  NaN  29.699118\n20                3  NaN  29.699118\n27                3  NaN  29.699118\n29                3  NaN  29.699118\n30                3  NaN  29.699118\n32                1  NaN  29.699118\n33                3  NaN  29.699118\n37                3  NaN  29.699118\n43                3  NaN  29.699118",
      "text/html": "<div>\n<style scoped>\n    .dataframe tbody tr th:only-of-type {\n        vertical-align: middle;\n    }\n\n    .dataframe tbody tr th {\n        vertical-align: top;\n    }\n\n    .dataframe thead th {\n        text-align: right;\n    }\n</style>\n<table border=\"1\" class=\"dataframe\">\n  <thead>\n    <tr style=\"text-align: right;\">\n      <th></th>\n      <th>Pclass</th>\n      <th>Age</th>\n      <th>Age(fill)</th>\n    </tr>\n    <tr>\n      <th>PassengerId</th>\n      <th></th>\n      <th></th>\n      <th></th>\n    </tr>\n  </thead>\n  <tbody>\n    <tr>\n      <th>6</th>\n      <td>3</td>\n      <td>NaN</td>\n      <td>29.699118</td>\n    </tr>\n    <tr>\n      <th>18</th>\n      <td>2</td>\n      <td>NaN</td>\n      <td>29.699118</td>\n    </tr>\n    <tr>\n      <th>20</th>\n      <td>3</td>\n      <td>NaN</td>\n      <td>29.699118</td>\n    </tr>\n    <tr>\n      <th>27</th>\n      <td>3</td>\n      <td>NaN</td>\n      <td>29.699118</td>\n    </tr>\n    <tr>\n      <th>29</th>\n      <td>3</td>\n      <td>NaN</td>\n      <td>29.699118</td>\n    </tr>\n    <tr>\n      <th>30</th>\n      <td>3</td>\n      <td>NaN</td>\n      <td>29.699118</td>\n    </tr>\n    <tr>\n      <th>32</th>\n      <td>1</td>\n      <td>NaN</td>\n      <td>29.699118</td>\n    </tr>\n    <tr>\n      <th>33</th>\n      <td>3</td>\n      <td>NaN</td>\n      <td>29.699118</td>\n    </tr>\n    <tr>\n      <th>37</th>\n      <td>3</td>\n      <td>NaN</td>\n      <td>29.699118</td>\n    </tr>\n    <tr>\n      <th>43</th>\n      <td>3</td>\n      <td>NaN</td>\n      <td>29.699118</td>\n    </tr>\n  </tbody>\n</table>\n</div>"
     },
     "metadata": {},
     "execution_count": 40
    }
   ],
   "source": [
    "# **** <문제29> ****\n",
    "# 나이(Age) 컬럼값이 비어있는 승객만 가져온 뒤,\n",
    "# 이 승객의 객실 등급(Pclass), 나이(Age), 그리고 Age(fill) 컬럼을 출력하여 비교합니다.\n",
    "\n",
    "train.loc[train['Age'].isin(['NaN']), [\"Pclass\",\"Age\", \"Age(fill)\"]].head(10)"
   ]
  },
  {
   "cell_type": "code",
   "execution_count": 41,
   "metadata": {},
   "outputs": [
    {
     "output_type": "execute_result",
     "data": {
      "text/plain": "<IPython.core.display.HTML object>",
      "text/html": "<!DOCTYPE html>\n<html lang=\"en\">\n<head>\n    <meta charset=\"UTF-8\">\n    <title>Title</title>\n</head>\n<body>\n<table border=\"1\" class=\"dataframe\" style=\"float: left;\">\n    <thead>\n      <tr style=\"text-align: right;\">\n        <th></th>\n\n        <th>SibSp</th>\n\n        <th>Parch</th>\n\n        <th>Single</th>\n      </tr>\n\n      <tr>\n        <th>PassengerId</th>\n\n        <th></th>\n\n        <th></th>\n\n        <th></th>\n      </tr>\n    </thead>\n\n    <tbody>\n      <tr>\n        <th>1</th>\n\n        <td>1</td>\n\n        <td>0</td>\n\n        <td>False</td>\n      </tr>\n\n      <tr>\n        <th>2</th>\n\n        <td>1</td>\n\n        <td>0</td>\n\n        <td>False</td>\n      </tr>\n\n      <tr>\n        <th>3</th>\n\n        <td>0</td>\n\n        <td>0</td>\n\n        <td>True</td>\n      </tr>\n\n      <tr>\n        <th>4</th>\n\n        <td>1</td>\n\n        <td>0</td>\n\n        <td>False</td>\n      </tr>\n\n      <tr>\n        <th>5</th>\n\n        <td>0</td>\n\n        <td>0</td>\n\n        <td>True</td>\n      </tr>\n    </tbody>\n  </table>\n</body>\n</html>"
     },
     "metadata": {},
     "execution_count": 41
    }
   ],
   "source": [
    "from IPython.display import HTML\n",
    "HTML(filename=\"html/table10.html\")"
   ]
  },
  {
   "cell_type": "code",
   "execution_count": 42,
   "metadata": {},
   "outputs": [
    {
     "output_type": "execute_result",
     "data": {
      "text/plain": "<IPython.core.display.HTML object>",
      "text/html": "<!DOCTYPE html>\n<html lang=\"en\">\n<head>\n    <meta charset=\"UTF-8\">\n    <title>Title</title>\n</head>\n<body>\n<table border=\"1\" class=\"dataframe\" style=\"float: left;\">\n    <thead>\n      <tr style=\"text-align: right;\">\n        <th></th>\n\n        <th>Survived</th>\n      </tr>\n\n      <tr>\n        <th>Single</th>\n\n        <th></th>\n      </tr>\n    </thead>\n\n    <tbody>\n      <tr>\n        <th>False</th>\n\n        <td>0.505650</td>\n      </tr>\n\n      <tr>\n        <th>True</th>\n\n        <td>0.303538</td>\n      </tr>\n    </tbody>\n  </table>\n</body>\n</html>"
     },
     "metadata": {},
     "execution_count": 42
    }
   ],
   "source": [
    "from IPython.display import HTML\n",
    "HTML(filename=\"html/table11.html\")"
   ]
  },
  {
   "cell_type": "code",
   "execution_count": 43,
   "metadata": {
    "tags": []
   },
   "outputs": [
    {
     "output_type": "stream",
     "name": "stdout",
     "text": "(891, 24)\n"
    },
    {
     "output_type": "execute_result",
     "data": {
      "text/plain": "             SibSp  Parch  Single\nPassengerId                      \n1                1      0   False\n2                1      0   False\n3                0      0    True\n4                1      0   False\n5                0      0    True",
      "text/html": "<div>\n<style scoped>\n    .dataframe tbody tr th:only-of-type {\n        vertical-align: middle;\n    }\n\n    .dataframe tbody tr th {\n        vertical-align: top;\n    }\n\n    .dataframe thead th {\n        text-align: right;\n    }\n</style>\n<table border=\"1\" class=\"dataframe\">\n  <thead>\n    <tr style=\"text-align: right;\">\n      <th></th>\n      <th>SibSp</th>\n      <th>Parch</th>\n      <th>Single</th>\n    </tr>\n    <tr>\n      <th>PassengerId</th>\n      <th></th>\n      <th></th>\n      <th></th>\n    </tr>\n  </thead>\n  <tbody>\n    <tr>\n      <th>1</th>\n      <td>1</td>\n      <td>0</td>\n      <td>False</td>\n    </tr>\n    <tr>\n      <th>2</th>\n      <td>1</td>\n      <td>0</td>\n      <td>False</td>\n    </tr>\n    <tr>\n      <th>3</th>\n      <td>0</td>\n      <td>0</td>\n      <td>True</td>\n    </tr>\n    <tr>\n      <th>4</th>\n      <td>1</td>\n      <td>0</td>\n      <td>False</td>\n    </tr>\n    <tr>\n      <th>5</th>\n      <td>0</td>\n      <td>0</td>\n      <td>True</td>\n    </tr>\n  </tbody>\n</table>\n</div>"
     },
     "metadata": {},
     "execution_count": 43
    }
   ],
   "source": [
    "# **** <문제30> ****\n",
    "# SibSp가 0이고 Parch가 0이면 True, 아니면 False인 리스트를 생성합니다.\n",
    "# 이 리스트를 Single이라는 이름의 새로운 컬럼에 집어넣습니다.\n",
    "train['Single'] = ((train['SibSp'] == 0) & (train['Parch'] == 0))\n",
    "# train 변수에 할당된 데이터의 행렬 사이즈를 출력합니다.\n",
    "# 출력은 (row, column) 으로 표시됩니다.\n",
    "print(train.shape)\n",
    "\n",
    "# SibSp, Parch, 그리고 Single을 출력하여 비교합니다.\n",
    "train[[\"SibSp\", \"Parch\", \"Single\"]].head()"
   ]
  },
  {
   "cell_type": "code",
   "execution_count": 44,
   "metadata": {},
   "outputs": [
    {
     "output_type": "execute_result",
     "data": {
      "text/plain": "        Survived\nSingle          \nFalse   0.505650\nTrue    0.303538",
      "text/html": "<div>\n<style scoped>\n    .dataframe tbody tr th:only-of-type {\n        vertical-align: middle;\n    }\n\n    .dataframe tbody tr th {\n        vertical-align: top;\n    }\n\n    .dataframe thead th {\n        text-align: right;\n    }\n</style>\n<table border=\"1\" class=\"dataframe\">\n  <thead>\n    <tr style=\"text-align: right;\">\n      <th></th>\n      <th>Survived</th>\n    </tr>\n    <tr>\n      <th>Single</th>\n      <th></th>\n    </tr>\n  </thead>\n  <tbody>\n    <tr>\n      <th>False</th>\n      <td>0.505650</td>\n    </tr>\n    <tr>\n      <th>True</th>\n      <td>0.303538</td>\n    </tr>\n  </tbody>\n</table>\n</div>"
     },
     "metadata": {},
     "execution_count": 44
    }
   ],
   "source": [
    "# **** <문제31> ****\n",
    "# pandas의 pivot_table을 활용하여 Single 여부에 따른 생존률을 출력합니다.\n",
    "# Single 컬럼의 값이 True일 경우의 생존률과, False일 경우의 생존률을 비교할 수 있습니다.\n",
    "\n",
    "pd.pivot_table(data=train, index='Single', values='Survived')"
   ]
  },
  {
   "cell_type": "code",
   "execution_count": 45,
   "metadata": {},
   "outputs": [
    {
     "output_type": "execute_result",
     "data": {
      "text/plain": "<IPython.core.display.HTML object>",
      "text/html": "<!DOCTYPE html>\n<html lang=\"en\">\n<head>\n    <meta charset=\"UTF-8\">\n    <title>Title</title>\n</head>\n<body>\n<table border=\"1\" class=\"dataframe\" style=\"float: left;\">\n    <thead>\n      <tr style=\"text-align: right;\">\n        <th></th>\n\n        <th>SibSp</th>\n\n        <th>Parch</th>\n\n        <th>FamilySize</th>\n      </tr>\n\n      <tr>\n        <th>PassengerId</th>\n\n        <th></th>\n\n        <th></th>\n\n        <th></th>\n      </tr>\n    </thead>\n\n    <tbody>\n      <tr>\n        <th>1</th>\n\n        <td>1</td>\n\n        <td>0</td>\n\n        <td>2</td>\n      </tr>\n\n      <tr>\n        <th>2</th>\n\n        <td>1</td>\n\n        <td>0</td>\n\n        <td>2</td>\n      </tr>\n\n      <tr>\n        <th>3</th>\n\n        <td>0</td>\n\n        <td>0</td>\n\n        <td>1</td>\n      </tr>\n\n      <tr>\n        <th>4</th>\n\n        <td>1</td>\n\n        <td>0</td>\n\n        <td>2</td>\n      </tr>\n\n      <tr>\n        <th>5</th>\n\n        <td>0</td>\n\n        <td>0</td>\n\n        <td>1</td>\n      </tr>\n\n      <tr>\n        <th>6</th>\n\n        <td>0</td>\n\n        <td>0</td>\n\n        <td>1</td>\n      </tr>\n\n      <tr>\n        <th>7</th>\n\n        <td>0</td>\n\n        <td>0</td>\n\n        <td>1</td>\n      </tr>\n\n      <tr>\n        <th>8</th>\n\n        <td>3</td>\n\n        <td>1</td>\n\n        <td>5</td>\n      </tr>\n\n      <tr>\n        <th>9</th>\n\n        <td>0</td>\n\n        <td>2</td>\n\n        <td>3</td>\n      </tr>\n\n      <tr>\n        <th>10</th>\n\n        <td>1</td>\n\n        <td>0</td>\n\n        <td>2</td>\n      </tr>\n    </tbody>\n  </table>\n</body>\n</html>"
     },
     "metadata": {},
     "execution_count": 45
    }
   ],
   "source": [
    "from IPython.display import HTML\n",
    "HTML(filename=\"html/table12.html\")"
   ]
  },
  {
   "cell_type": "code",
   "execution_count": 46,
   "metadata": {},
   "outputs": [
    {
     "output_type": "execute_result",
     "data": {
      "text/plain": "<IPython.core.display.HTML object>",
      "text/html": "<!DOCTYPE html>\n<html lang=\"en\">\n<head>\n    <meta charset=\"UTF-8\">\n    <title>Title</title>\n</head>\n<body>\n<table border=\"1\" class=\"dataframe\" style=\"float: left;\">\n    <thead>\n      <tr style=\"text-align: right;\">\n        <th></th>\n\n        <th>Survived</th>\n      </tr>\n\n      <tr>\n        <th>FamilySize</th>\n\n        <th></th>\n      </tr>\n    </thead>\n\n    <tbody>\n      <tr>\n        <th>1</th>\n\n        <td>0.303538</td>\n      </tr>\n\n      <tr>\n        <th>2</th>\n\n        <td>0.552795</td>\n      </tr>\n\n      <tr>\n        <th>3</th>\n\n        <td>0.578431</td>\n      </tr>\n\n      <tr>\n        <th>4</th>\n\n        <td>0.724138</td>\n      </tr>\n\n      <tr>\n        <th>5</th>\n\n        <td>0.200000</td>\n      </tr>\n\n      <tr>\n        <th>6</th>\n\n        <td>0.136364</td>\n      </tr>\n\n      <tr>\n        <th>7</th>\n\n        <td>0.333333</td>\n      </tr>\n\n      <tr>\n        <th>8</th>\n\n        <td>0.000000</td>\n      </tr>\n\n      <tr>\n        <th>11</th>\n\n        <td>0.000000</td>\n      </tr>\n    </tbody>\n  </table>\n</body>\n</html>"
     },
     "metadata": {},
     "execution_count": 46
    }
   ],
   "source": [
    "from IPython.display import HTML\n",
    "HTML(filename=\"html/table13.html\")"
   ]
  },
  {
   "cell_type": "code",
   "execution_count": 47,
   "metadata": {
    "tags": []
   },
   "outputs": [
    {
     "output_type": "stream",
     "name": "stdout",
     "text": "(891, 25)\n"
    },
    {
     "output_type": "execute_result",
     "data": {
      "text/plain": "             SibSp  Parch  FamilySize\nPassengerId                          \n1                1      0           2\n2                1      0           2\n3                0      0           1\n4                1      0           2\n5                0      0           1\n6                0      0           1\n7                0      0           1\n8                3      1           5\n9                0      2           3\n10               1      0           2",
      "text/html": "<div>\n<style scoped>\n    .dataframe tbody tr th:only-of-type {\n        vertical-align: middle;\n    }\n\n    .dataframe tbody tr th {\n        vertical-align: top;\n    }\n\n    .dataframe thead th {\n        text-align: right;\n    }\n</style>\n<table border=\"1\" class=\"dataframe\">\n  <thead>\n    <tr style=\"text-align: right;\">\n      <th></th>\n      <th>SibSp</th>\n      <th>Parch</th>\n      <th>FamilySize</th>\n    </tr>\n    <tr>\n      <th>PassengerId</th>\n      <th></th>\n      <th></th>\n      <th></th>\n    </tr>\n  </thead>\n  <tbody>\n    <tr>\n      <th>1</th>\n      <td>1</td>\n      <td>0</td>\n      <td>2</td>\n    </tr>\n    <tr>\n      <th>2</th>\n      <td>1</td>\n      <td>0</td>\n      <td>2</td>\n    </tr>\n    <tr>\n      <th>3</th>\n      <td>0</td>\n      <td>0</td>\n      <td>1</td>\n    </tr>\n    <tr>\n      <th>4</th>\n      <td>1</td>\n      <td>0</td>\n      <td>2</td>\n    </tr>\n    <tr>\n      <th>5</th>\n      <td>0</td>\n      <td>0</td>\n      <td>1</td>\n    </tr>\n    <tr>\n      <th>6</th>\n      <td>0</td>\n      <td>0</td>\n      <td>1</td>\n    </tr>\n    <tr>\n      <th>7</th>\n      <td>0</td>\n      <td>0</td>\n      <td>1</td>\n    </tr>\n    <tr>\n      <th>8</th>\n      <td>3</td>\n      <td>1</td>\n      <td>5</td>\n    </tr>\n    <tr>\n      <th>9</th>\n      <td>0</td>\n      <td>2</td>\n      <td>3</td>\n    </tr>\n    <tr>\n      <th>10</th>\n      <td>1</td>\n      <td>0</td>\n      <td>2</td>\n    </tr>\n  </tbody>\n</table>\n</div>"
     },
     "metadata": {},
     "execution_count": 47
    }
   ],
   "source": [
    "# **** <문제32> ****\n",
    "# 형제, 자매, 배우자(SibSp) 컬럼과 부모 자식(Parch) 컬럼을 더해서 가족 수(FamilySize) 컬럼을 만듭니다.\n",
    "# 또한 가족 수에 나 자신을 포함하기 위해서 언제나 +1을 해줍니다.\n",
    "train['FamilySize'] = train['SibSp'] + train['Parch'] + 1\n",
    "# train 변수에 할당된 데이터의 행렬 사이즈를 출력합니다.\n",
    "# 출력은 (row, column) 으로 표시됩니다.\n",
    "print(train.shape)\n",
    "\n",
    "# SibSp, Parch, FamilySize를 출력하여 비교합니다.\n",
    "train[[\"SibSp\", \"Parch\", \"FamilySize\"]].head(10)"
   ]
  },
  {
   "cell_type": "code",
   "execution_count": 48,
   "metadata": {},
   "outputs": [
    {
     "output_type": "execute_result",
     "data": {
      "text/plain": "            Survived\nFamilySize          \n1           0.303538\n2           0.552795\n3           0.578431\n4           0.724138\n5           0.200000\n6           0.136364\n7           0.333333\n8           0.000000\n11          0.000000",
      "text/html": "<div>\n<style scoped>\n    .dataframe tbody tr th:only-of-type {\n        vertical-align: middle;\n    }\n\n    .dataframe tbody tr th {\n        vertical-align: top;\n    }\n\n    .dataframe thead th {\n        text-align: right;\n    }\n</style>\n<table border=\"1\" class=\"dataframe\">\n  <thead>\n    <tr style=\"text-align: right;\">\n      <th></th>\n      <th>Survived</th>\n    </tr>\n    <tr>\n      <th>FamilySize</th>\n      <th></th>\n    </tr>\n  </thead>\n  <tbody>\n    <tr>\n      <th>1</th>\n      <td>0.303538</td>\n    </tr>\n    <tr>\n      <th>2</th>\n      <td>0.552795</td>\n    </tr>\n    <tr>\n      <th>3</th>\n      <td>0.578431</td>\n    </tr>\n    <tr>\n      <th>4</th>\n      <td>0.724138</td>\n    </tr>\n    <tr>\n      <th>5</th>\n      <td>0.200000</td>\n    </tr>\n    <tr>\n      <th>6</th>\n      <td>0.136364</td>\n    </tr>\n    <tr>\n      <th>7</th>\n      <td>0.333333</td>\n    </tr>\n    <tr>\n      <th>8</th>\n      <td>0.000000</td>\n    </tr>\n    <tr>\n      <th>11</th>\n      <td>0.000000</td>\n    </tr>\n  </tbody>\n</table>\n</div>"
     },
     "metadata": {},
     "execution_count": 48
    }
   ],
   "source": [
    "# **** <문제33> ****\n",
    "# pandas의 pivot_table을 활용하여 FamilySize에 따른 생존률을 출력합니다.\n",
    "# 가족 수가 1명부터 11명까지 각각의 생존률을 비교할 수 있습니다.\n",
    "\n",
    "pd.pivot_table(data=train, index='FamilySize', values='Survived')"
   ]
  },
  {
   "cell_type": "code",
   "execution_count": 49,
   "metadata": {},
   "outputs": [
    {
     "output_type": "execute_result",
     "data": {
      "text/plain": "<IPython.core.display.HTML object>",
      "text/html": "<!DOCTYPE html>\n<html lang=\"en\">\n<head>\n    <meta charset=\"UTF-8\">\n    <title>Title</title>\n</head>\n<body>\n<table border=\"1\" class=\"dataframe\" style=\"float: left;\">\n    <thead>\n      <tr style=\"text-align: right;\">\n        <th></th>\n\n        <th>FamilySize</th>\n\n        <th>FamilyType</th>\n      </tr>\n\n      <tr>\n        <th>PassengerId</th>\n\n        <th></th>\n\n        <th></th>\n      </tr>\n    </thead>\n\n    <tbody>\n      <tr>\n        <th>1</th>\n\n        <td>2</td>\n\n        <td>Nuclear</td>\n      </tr>\n\n      <tr>\n        <th>2</th>\n\n        <td>2</td>\n\n        <td>Nuclear</td>\n      </tr>\n\n      <tr>\n        <th>3</th>\n\n        <td>1</td>\n\n        <td>Single</td>\n      </tr>\n\n      <tr>\n        <th>4</th>\n\n        <td>2</td>\n\n        <td>Nuclear</td>\n      </tr>\n\n      <tr>\n        <th>5</th>\n\n        <td>1</td>\n\n        <td>Single</td>\n      </tr>\n\n      <tr>\n        <th>6</th>\n\n        <td>1</td>\n\n        <td>Single</td>\n      </tr>\n\n      <tr>\n        <th>7</th>\n\n        <td>1</td>\n\n        <td>Single</td>\n      </tr>\n\n      <tr>\n        <th>8</th>\n\n        <td>5</td>\n\n        <td>Big</td>\n      </tr>\n\n      <tr>\n        <th>9</th>\n\n        <td>3</td>\n\n        <td>Nuclear</td>\n      </tr>\n\n      <tr>\n        <th>10</th>\n\n        <td>2</td>\n\n        <td>Nuclear</td>\n      </tr>\n    </tbody>\n  </table>\n</body>\n</html>"
     },
     "metadata": {},
     "execution_count": 49
    }
   ],
   "source": [
    "from IPython.display import HTML\n",
    "HTML(filename=\"html/table14.html\")"
   ]
  },
  {
   "cell_type": "code",
   "execution_count": 50,
   "metadata": {},
   "outputs": [
    {
     "output_type": "execute_result",
     "data": {
      "text/plain": "<IPython.core.display.HTML object>",
      "text/html": "<!DOCTYPE html>\n<html lang=\"en\">\n<head>\n    <meta charset=\"UTF-8\">\n    <title>Title</title>\n</head>\n<body>\n<table border=\"1\" class=\"dataframe\" style=\"float: left;\">\n    <thead>\n      <tr style=\"text-align: right;\">\n        <th></th>\n\n        <th>Survived</th>\n      </tr>\n\n      <tr>\n        <th>FamilyType</th>\n\n        <th></th>\n      </tr>\n    </thead>\n\n    <tbody>\n      <tr>\n        <th>Big</th>\n\n        <td>0.161290</td>\n      </tr>\n\n      <tr>\n        <th>Nuclear</th>\n\n        <td>0.578767</td>\n      </tr>\n\n      <tr>\n        <th>Single</th>\n\n        <td>0.303538</td>\n      </tr>\n    </tbody>\n  </table>\n</body>\n</html>"
     },
     "metadata": {},
     "execution_count": 50
    }
   ],
   "source": [
    "from IPython.display import HTML\n",
    "HTML(filename=\"html/table15.html\")"
   ]
  },
  {
   "cell_type": "code",
   "execution_count": 51,
   "metadata": {
    "tags": []
   },
   "outputs": [
    {
     "output_type": "stream",
     "name": "stdout",
     "text": "(891, 25)\n"
    },
    {
     "output_type": "execute_result",
     "data": {
      "text/plain": "             FamilySize FamilyType\nPassengerId                       \n1                     2    Nuclear\n2                     2    Nuclear\n3                     1     Single\n4                     2    Nuclear\n5                     1     Single\n6                     1     Single\n7                     1     Single\n8                     5        Big\n9                     3    Nuclear\n10                    2    Nuclear",
      "text/html": "<div>\n<style scoped>\n    .dataframe tbody tr th:only-of-type {\n        vertical-align: middle;\n    }\n\n    .dataframe tbody tr th {\n        vertical-align: top;\n    }\n\n    .dataframe thead th {\n        text-align: right;\n    }\n</style>\n<table border=\"1\" class=\"dataframe\">\n  <thead>\n    <tr style=\"text-align: right;\">\n      <th></th>\n      <th>FamilySize</th>\n      <th>FamilyType</th>\n    </tr>\n    <tr>\n      <th>PassengerId</th>\n      <th></th>\n      <th></th>\n    </tr>\n  </thead>\n  <tbody>\n    <tr>\n      <th>1</th>\n      <td>2</td>\n      <td>Nuclear</td>\n    </tr>\n    <tr>\n      <th>2</th>\n      <td>2</td>\n      <td>Nuclear</td>\n    </tr>\n    <tr>\n      <th>3</th>\n      <td>1</td>\n      <td>Single</td>\n    </tr>\n    <tr>\n      <th>4</th>\n      <td>2</td>\n      <td>Nuclear</td>\n    </tr>\n    <tr>\n      <th>5</th>\n      <td>1</td>\n      <td>Single</td>\n    </tr>\n    <tr>\n      <th>6</th>\n      <td>1</td>\n      <td>Single</td>\n    </tr>\n    <tr>\n      <th>7</th>\n      <td>1</td>\n      <td>Single</td>\n    </tr>\n    <tr>\n      <th>8</th>\n      <td>5</td>\n      <td>Big</td>\n    </tr>\n    <tr>\n      <th>9</th>\n      <td>3</td>\n      <td>Nuclear</td>\n    </tr>\n    <tr>\n      <th>10</th>\n      <td>2</td>\n      <td>Nuclear</td>\n    </tr>\n  </tbody>\n</table>\n</div>"
     },
     "metadata": {},
     "execution_count": 51
    }
   ],
   "source": [
    "# **** <문제34> ****\n",
    "# 가족 수(FamilSize)가 1인 승객을 가져와서, FamilyType 컬럼에 Single 이라는 값을 넣어줍니다.\n",
    "\n",
    "# 가족 수(FamilSize)가 2 이상 5 미만인 승객을 가져와서, FamilyType 컬럼에 Nuclear(핵가족) 이라는 값을 넣어줍니다.\n",
    "\n",
    "# 가족 수(FamilSize)가 5 이상인 승객을 가져와서, FamilyType 컬럼에 Big(대가족) 이라는 값을 넣어줍니다.\n",
    "\n",
    "# train 변수에 할당된 데이터의 행렬 사이즈를 출력합니다.\n",
    "# 출력은 (row, column) 으로 표시됩니다.\n",
    "print(train.shape)\n",
    "\n",
    "type_Big = np.where(((train['FamilySize'] >= 2) & (train['FamilySize'] < 5)), 'Nuclear', 'Big')\n",
    "train['FamilyType'] = np.where(train['FamilySize'] == 1, 'Single', type_Big)\n",
    "\n",
    "# train 데이터의 상위 10개를 띄우되, FamilySize와 FamilyType 컬럼만 출력합니다.\n",
    "train[[\"FamilySize\", \"FamilyType\"]].head(10)"
   ]
  },
  {
   "cell_type": "code",
   "execution_count": 52,
   "metadata": {},
   "outputs": [
    {
     "output_type": "execute_result",
     "data": {
      "text/plain": "            Survived\nFamilyType          \nBig         0.161290\nNuclear     0.578767\nSingle      0.303538",
      "text/html": "<div>\n<style scoped>\n    .dataframe tbody tr th:only-of-type {\n        vertical-align: middle;\n    }\n\n    .dataframe tbody tr th {\n        vertical-align: top;\n    }\n\n    .dataframe thead th {\n        text-align: right;\n    }\n</style>\n<table border=\"1\" class=\"dataframe\">\n  <thead>\n    <tr style=\"text-align: right;\">\n      <th></th>\n      <th>Survived</th>\n    </tr>\n    <tr>\n      <th>FamilyType</th>\n      <th></th>\n    </tr>\n  </thead>\n  <tbody>\n    <tr>\n      <th>Big</th>\n      <td>0.161290</td>\n    </tr>\n    <tr>\n      <th>Nuclear</th>\n      <td>0.578767</td>\n    </tr>\n    <tr>\n      <th>Single</th>\n      <td>0.303538</td>\n    </tr>\n  </tbody>\n</table>\n</div>"
     },
     "metadata": {},
     "execution_count": 52
    }
   ],
   "source": [
    "# **** <문제35> ****\n",
    "# pivot_table을 통해 가족 형태(FamilyType)의 변화에 따른 생존률을 출력합니다.\n",
    "\n",
    "pd.pivot_table(data=train, index='FamilyType', values='Survived')"
   ]
  },
  {
   "cell_type": "code",
   "execution_count": 53,
   "metadata": {},
   "outputs": [
    {
     "output_type": "execute_result",
     "data": {
      "text/plain": "<IPython.core.display.HTML object>",
      "text/html": "<!DOCTYPE html>\n<html lang=\"en\">\n<head>\n    <meta charset=\"UTF-8\">\n    <title>Title</title>\n</head>\n<body>\n<table border=\"1\" class=\"dataframe\" style=\"float: left;\">\n    <thead>\n      <tr style=\"text-align: right;\">\n        <th></th>\n\n        <th>FamilySize</th>\n\n        <th>FamilyType(Single)</th>\n\n        <th>FamilyType(Nuclear)</th>\n\n        <th>FamilyType(Big)</th>\n      </tr>\n\n      <tr>\n        <th>PassengerId</th>\n\n        <th></th>\n\n        <th></th>\n\n        <th></th>\n\n        <th></th>\n      </tr>\n    </thead>\n\n    <tbody>\n      <tr>\n        <th>1</th>\n\n        <td>2</td>\n\n        <td>False</td>\n\n        <td>True</td>\n\n        <td>False</td>\n      </tr>\n\n      <tr>\n        <th>2</th>\n\n        <td>2</td>\n\n        <td>False</td>\n\n        <td>True</td>\n\n        <td>False</td>\n      </tr>\n\n      <tr>\n        <th>3</th>\n\n        <td>1</td>\n\n        <td>True</td>\n\n        <td>False</td>\n\n        <td>False</td>\n      </tr>\n\n      <tr>\n        <th>4</th>\n\n        <td>2</td>\n\n        <td>False</td>\n\n        <td>True</td>\n\n        <td>False</td>\n      </tr>\n\n      <tr>\n        <th>5</th>\n\n        <td>1</td>\n\n        <td>True</td>\n\n        <td>False</td>\n\n        <td>False</td>\n      </tr>\n\n      <tr>\n        <th>6</th>\n\n        <td>1</td>\n\n        <td>True</td>\n\n        <td>False</td>\n\n        <td>False</td>\n      </tr>\n\n      <tr>\n        <th>7</th>\n\n        <td>1</td>\n\n        <td>True</td>\n\n        <td>False</td>\n\n        <td>False</td>\n      </tr>\n\n      <tr>\n        <th>8</th>\n\n        <td>5</td>\n\n        <td>False</td>\n\n        <td>False</td>\n\n        <td>True</td>\n      </tr>\n\n      <tr>\n        <th>9</th>\n\n        <td>3</td>\n\n        <td>False</td>\n\n        <td>True</td>\n\n        <td>False</td>\n      </tr>\n\n      <tr>\n        <th>10</th>\n\n        <td>2</td>\n\n        <td>False</td>\n\n        <td>True</td>\n\n        <td>False</td>\n      </tr>\n    </tbody>\n  </table>\n</body>\n</html>"
     },
     "metadata": {},
     "execution_count": 53
    }
   ],
   "source": [
    "from IPython.display import HTML\n",
    "HTML(filename=\"html/table16.html\")"
   ]
  },
  {
   "cell_type": "code",
   "execution_count": 54,
   "metadata": {
    "tags": []
   },
   "outputs": [
    {
     "output_type": "stream",
     "name": "stdout",
     "text": "(891, 29)\n"
    },
    {
     "output_type": "execute_result",
     "data": {
      "text/plain": "             FamilySize  FamilyType(Single)  FamilyType(Nuclear)  \\\nPassengerId                                                        \n1                     2               False                 True   \n2                     2               False                 True   \n3                     1                True                False   \n4                     2               False                 True   \n5                     1                True                False   \n6                     1                True                False   \n7                     1                True                False   \n8                     5               False                False   \n9                     3               False                 True   \n10                    2               False                 True   \n\n             FamilyType(Big)  \nPassengerId                   \n1                      False  \n2                      False  \n3                      False  \n4                      False  \n5                      False  \n6                      False  \n7                      False  \n8                       True  \n9                      False  \n10                     False  ",
      "text/html": "<div>\n<style scoped>\n    .dataframe tbody tr th:only-of-type {\n        vertical-align: middle;\n    }\n\n    .dataframe tbody tr th {\n        vertical-align: top;\n    }\n\n    .dataframe thead th {\n        text-align: right;\n    }\n</style>\n<table border=\"1\" class=\"dataframe\">\n  <thead>\n    <tr style=\"text-align: right;\">\n      <th></th>\n      <th>FamilySize</th>\n      <th>FamilyType(Single)</th>\n      <th>FamilyType(Nuclear)</th>\n      <th>FamilyType(Big)</th>\n    </tr>\n    <tr>\n      <th>PassengerId</th>\n      <th></th>\n      <th></th>\n      <th></th>\n      <th></th>\n    </tr>\n  </thead>\n  <tbody>\n    <tr>\n      <th>1</th>\n      <td>2</td>\n      <td>False</td>\n      <td>True</td>\n      <td>False</td>\n    </tr>\n    <tr>\n      <th>2</th>\n      <td>2</td>\n      <td>False</td>\n      <td>True</td>\n      <td>False</td>\n    </tr>\n    <tr>\n      <th>3</th>\n      <td>1</td>\n      <td>True</td>\n      <td>False</td>\n      <td>False</td>\n    </tr>\n    <tr>\n      <th>4</th>\n      <td>2</td>\n      <td>False</td>\n      <td>True</td>\n      <td>False</td>\n    </tr>\n    <tr>\n      <th>5</th>\n      <td>1</td>\n      <td>True</td>\n      <td>False</td>\n      <td>False</td>\n    </tr>\n    <tr>\n      <th>6</th>\n      <td>1</td>\n      <td>True</td>\n      <td>False</td>\n      <td>False</td>\n    </tr>\n    <tr>\n      <th>7</th>\n      <td>1</td>\n      <td>True</td>\n      <td>False</td>\n      <td>False</td>\n    </tr>\n    <tr>\n      <th>8</th>\n      <td>5</td>\n      <td>False</td>\n      <td>False</td>\n      <td>True</td>\n    </tr>\n    <tr>\n      <th>9</th>\n      <td>3</td>\n      <td>False</td>\n      <td>True</td>\n      <td>False</td>\n    </tr>\n    <tr>\n      <th>10</th>\n      <td>2</td>\n      <td>False</td>\n      <td>True</td>\n      <td>False</td>\n    </tr>\n  </tbody>\n</table>\n</div>"
     },
     "metadata": {},
     "execution_count": 54
    }
   ],
   "source": [
    "# **** <문제36> ****\n",
    "# 가족 수(FamilySize) 컬럼을 활용해 세 가지 구역을 나타내는 세 개의 새로운 컬럼을 만듭니다.\n",
    "# 먼저 가족 수가 1명일 경우 Single 컬럼의 값에 True를, 1명이 아닐 경우 False를 대입합니다.\n",
    "train['FamilyType(Single)'] = train['FamilySize'] == 1\n",
    "# 이후 가족 수가 2에서 4명 사이일 경우 Nuclear 컬럼의 값에 True를, 그렇지 않을 경우 False를 대입합니다.\n",
    "train['FamilyType(Nuclear)'] = ((train['FamilySize'] >= 2) & (train['FamilySize'] <= 4))\n",
    "# 마지막으로 가족 수가 5명 이상일 경우 Big 컬럼의 값에 True를, 그렇지 않을 경우 False를 대입합니다.\n",
    "train['FamilyType(Big)'] = train['FamilySize'] >= 5\n",
    "# train 변수에 할당된 데이터의 행렬 사이즈를 출력합니다.\n",
    "# 출력은 (row, column) 으로 표시됩니다.\n",
    "print(train.shape)\n",
    "\n",
    "# train 데이터의 상위 10개를 띄우되,\n",
    "# FamilySize, FamilyType(Single), FamilyType(Nuclear), FamilyType(Big) 컬럼만 출력합니다.\n",
    "train[[\"FamilySize\", \"FamilyType(Single)\", \"FamilyType(Nuclear)\", \"FamilyType(Big)\"]].head(10)"
   ]
  },
  {
   "cell_type": "code",
   "execution_count": 55,
   "metadata": {
    "tags": []
   },
   "outputs": [
    {
     "output_type": "stream",
     "name": "stdout",
     "text": "(891, 29)\n"
    },
    {
     "output_type": "execute_result",
     "data": {
      "text/plain": "             FamilySize  FamilyType(Single)  FamilyType(Nuclear)  \\\nPassengerId                                                        \n1                     2               False                 True   \n2                     2               False                 True   \n3                     1                True                False   \n4                     2               False                 True   \n5                     1                True                False   \n6                     1                True                False   \n7                     1                True                False   \n8                     5               False                False   \n9                     3               False                 True   \n10                    2               False                 True   \n\n             FamilyType(Big)  \nPassengerId                   \n1                      False  \n2                      False  \n3                      False  \n4                      False  \n5                      False  \n6                      False  \n7                      False  \n8                       True  \n9                      False  \n10                     False  ",
      "text/html": "<div>\n<style scoped>\n    .dataframe tbody tr th:only-of-type {\n        vertical-align: middle;\n    }\n\n    .dataframe tbody tr th {\n        vertical-align: top;\n    }\n\n    .dataframe thead th {\n        text-align: right;\n    }\n</style>\n<table border=\"1\" class=\"dataframe\">\n  <thead>\n    <tr style=\"text-align: right;\">\n      <th></th>\n      <th>FamilySize</th>\n      <th>FamilyType(Single)</th>\n      <th>FamilyType(Nuclear)</th>\n      <th>FamilyType(Big)</th>\n    </tr>\n    <tr>\n      <th>PassengerId</th>\n      <th></th>\n      <th></th>\n      <th></th>\n      <th></th>\n    </tr>\n  </thead>\n  <tbody>\n    <tr>\n      <th>1</th>\n      <td>2</td>\n      <td>False</td>\n      <td>True</td>\n      <td>False</td>\n    </tr>\n    <tr>\n      <th>2</th>\n      <td>2</td>\n      <td>False</td>\n      <td>True</td>\n      <td>False</td>\n    </tr>\n    <tr>\n      <th>3</th>\n      <td>1</td>\n      <td>True</td>\n      <td>False</td>\n      <td>False</td>\n    </tr>\n    <tr>\n      <th>4</th>\n      <td>2</td>\n      <td>False</td>\n      <td>True</td>\n      <td>False</td>\n    </tr>\n    <tr>\n      <th>5</th>\n      <td>1</td>\n      <td>True</td>\n      <td>False</td>\n      <td>False</td>\n    </tr>\n    <tr>\n      <th>6</th>\n      <td>1</td>\n      <td>True</td>\n      <td>False</td>\n      <td>False</td>\n    </tr>\n    <tr>\n      <th>7</th>\n      <td>1</td>\n      <td>True</td>\n      <td>False</td>\n      <td>False</td>\n    </tr>\n    <tr>\n      <th>8</th>\n      <td>5</td>\n      <td>False</td>\n      <td>False</td>\n      <td>True</td>\n    </tr>\n    <tr>\n      <th>9</th>\n      <td>3</td>\n      <td>False</td>\n      <td>True</td>\n      <td>False</td>\n    </tr>\n    <tr>\n      <th>10</th>\n      <td>2</td>\n      <td>False</td>\n      <td>True</td>\n      <td>False</td>\n    </tr>\n  </tbody>\n</table>\n</div>"
     },
     "metadata": {},
     "execution_count": 55
    }
   ],
   "source": [
    "# **** <문제37> ****\n",
    "# 가족 형태(FamilySize)가 Single이면 True, 아니면 False인 리스트를 가져옵니다.\n",
    "# 이후 이 리스트를 FamilyType(Single)이라는 새로운 컬럼에 대입합니다.\n",
    "\n",
    "# 비슷한 방식으로 FamilyType(Nuclear)라는 새로운 컬럼을 만듭니다.\n",
    "\n",
    "# 비슷한 방식으로 FamilyType(Big)이라는 새로운 컬럼을 만듭니다.\n",
    "\n",
    "# train 변수에 할당된 데이터의 행렬 사이즈를 출력합니다.\n",
    "# 출력은 (row, column) 으로 표시됩니다.\n",
    "print(train.shape)\n",
    "\n",
    "# FamilySize, FamilyType(Single), FamilyType(Nuclear), FamilyType(Big) 컬럼만 출력합니다.\n",
    "train[[\"FamilySize\", \"FamilyType(Single)\", \"FamilyType(Nuclear)\", \"FamilyType(Big)\"]].head(10)"
   ]
  },
  {
   "cell_type": "code",
   "execution_count": 56,
   "metadata": {},
   "outputs": [
    {
     "output_type": "execute_result",
     "data": {
      "text/plain": "<IPython.core.display.HTML object>",
      "text/html": "<!DOCTYPE html>\n<html lang=\"en\">\n<head>\n    <meta charset=\"UTF-8\">\n    <title>Title</title>\n</head>\n<body>\n<table border=\"1\" class=\"dataframe\" style=\"float: left;\">\n    <thead>\n      <tr style=\"text-align: right;\">\n        <th></th>\n\n        <th>Name</th>\n\n        <th>Title</th>\n      </tr>\n\n      <tr>\n        <th>PassengerId</th>\n\n        <th></th>\n\n        <th></th>\n      </tr>\n    </thead>\n\n    <tbody>\n      <tr>\n        <th>1</th>\n\n        <td>Braund, Mr. Owen Harris</td>\n\n        <td>Mr</td>\n      </tr>\n\n      <tr>\n        <th>2</th>\n\n        <td>Cumings, Mrs. John Bradley (Florence Briggs Th...</td>\n\n        <td>Mrs</td>\n      </tr>\n\n      <tr>\n        <th>3</th>\n\n        <td>Heikkinen, Miss. Laina</td>\n\n        <td>Miss</td>\n      </tr>\n\n      <tr>\n        <th>4</th>\n\n        <td>Futrelle, Mrs. Jacques Heath (Lily May Peel)</td>\n\n        <td>Mrs</td>\n      </tr>\n\n      <tr>\n        <th>5</th>\n\n        <td>Allen, Mr. William Henry</td>\n\n        <td>Mr</td>\n      </tr>\n\n      <tr>\n        <th>6</th>\n\n        <td>Moran, Mr. James</td>\n\n        <td>Mr</td>\n      </tr>\n\n      <tr>\n        <th>7</th>\n\n        <td>McCarthy, Mr. Timothy J</td>\n\n        <td>Mr</td>\n      </tr>\n\n      <tr>\n        <th>8</th>\n\n        <td>Palsson, Master. Gosta Leonard</td>\n\n        <td>Master</td>\n      </tr>\n\n      <tr>\n        <th>9</th>\n\n        <td>Johnson, Mrs. Oscar W (Elisabeth Vilhelmina Berg)</td>\n\n        <td>Mrs</td>\n      </tr>\n\n      <tr>\n        <th>10</th>\n\n        <td>Nasser, Mrs. Nicholas (Adele Achem)</td>\n\n        <td>Mrs</td>\n      </tr>\n    </tbody>\n  </table>\n</body>\n</html>"
     },
     "metadata": {},
     "execution_count": 56
    }
   ],
   "source": [
    "HTML(filename=\"html/table17.html\")"
   ]
  },
  {
   "cell_type": "code",
   "execution_count": 57,
   "metadata": {},
   "outputs": [
    {
     "output_type": "execute_result",
     "data": {
      "text/plain": "<IPython.core.display.HTML object>",
      "text/html": "<!DOCTYPE html>\n<html lang=\"en\">\n<head>\n    <meta charset=\"UTF-8\">\n    <title>Title</title>\n</head>\n<body>\n<table border=\"1\" class=\"dataframe\" style=\"float: left;\">\n    <thead>\n      <tr style=\"text-align: right;\">\n        <th></th>\n\n        <th>Survived</th>\n      </tr>\n\n      <tr>\n        <th>Title</th>\n\n        <th></th>\n      </tr>\n    </thead>\n\n    <tbody>\n      <tr>\n        <th>Capt</th>\n\n        <td>0.000000</td>\n      </tr>\n\n      <tr>\n        <th>Col</th>\n\n        <td>0.500000</td>\n      </tr>\n\n      <tr>\n        <th>Don</th>\n\n        <td>0.000000</td>\n      </tr>\n\n      <tr>\n        <th>Dr</th>\n\n        <td>0.428571</td>\n      </tr>\n\n      <tr>\n        <th>Jonkheer</th>\n\n        <td>0.000000</td>\n      </tr>\n\n      <tr>\n        <th>Lady</th>\n\n        <td>1.000000</td>\n      </tr>\n\n      <tr>\n        <th>Major</th>\n\n        <td>0.500000</td>\n      </tr>\n\n      <tr>\n        <th>Master</th>\n\n        <td>0.575000</td>\n      </tr>\n\n      <tr>\n        <th>Miss</th>\n\n        <td>0.697802</td>\n      </tr>\n\n      <tr>\n        <th>Mlle</th>\n\n        <td>1.000000</td>\n      </tr>\n\n      <tr>\n        <th>Mme</th>\n\n        <td>1.000000</td>\n      </tr>\n\n      <tr>\n        <th>Mr</th>\n\n        <td>0.156673</td>\n      </tr>\n\n      <tr>\n        <th>Mrs</th>\n\n        <td>0.792000</td>\n      </tr>\n\n      <tr>\n        <th>Ms</th>\n\n        <td>1.000000</td>\n      </tr>\n\n      <tr>\n        <th>Rev</th>\n\n        <td>0.000000</td>\n      </tr>\n\n      <tr>\n        <th>Sir</th>\n\n        <td>1.000000</td>\n      </tr>\n\n      <tr>\n        <th>the Countess</th>\n\n        <td>1.000000</td>\n      </tr>\n    </tbody>\n  </table>\n</body>\n</html>"
     },
     "metadata": {},
     "execution_count": 57
    }
   ],
   "source": [
    "HTML(filename=\"html/table18.html\")"
   ]
  },
  {
   "cell_type": "code",
   "execution_count": 58,
   "metadata": {
    "tags": []
   },
   "outputs": [
    {
     "output_type": "stream",
     "name": "stdout",
     "text": "(891, 30)\n"
    },
    {
     "output_type": "execute_result",
     "data": {
      "text/plain": "                                                          Name   Title\nPassengerId                                                           \n1                                      Braund, Mr. Owen Harris      Mr\n2            Cumings, Mrs. John Bradley (Florence Briggs Th...     Mrs\n3                                       Heikkinen, Miss. Laina    Miss\n4                 Futrelle, Mrs. Jacques Heath (Lily May Peel)     Mrs\n5                                     Allen, Mr. William Henry      Mr\n6                                             Moran, Mr. James      Mr\n7                                      McCarthy, Mr. Timothy J      Mr\n8                               Palsson, Master. Gosta Leonard  Master\n9            Johnson, Mrs. Oscar W (Elisabeth Vilhelmina Berg)     Mrs\n10                         Nasser, Mrs. Nicholas (Adele Achem)     Mrs",
      "text/html": "<div>\n<style scoped>\n    .dataframe tbody tr th:only-of-type {\n        vertical-align: middle;\n    }\n\n    .dataframe tbody tr th {\n        vertical-align: top;\n    }\n\n    .dataframe thead th {\n        text-align: right;\n    }\n</style>\n<table border=\"1\" class=\"dataframe\">\n  <thead>\n    <tr style=\"text-align: right;\">\n      <th></th>\n      <th>Name</th>\n      <th>Title</th>\n    </tr>\n    <tr>\n      <th>PassengerId</th>\n      <th></th>\n      <th></th>\n    </tr>\n  </thead>\n  <tbody>\n    <tr>\n      <th>1</th>\n      <td>Braund, Mr. Owen Harris</td>\n      <td>Mr</td>\n    </tr>\n    <tr>\n      <th>2</th>\n      <td>Cumings, Mrs. John Bradley (Florence Briggs Th...</td>\n      <td>Mrs</td>\n    </tr>\n    <tr>\n      <th>3</th>\n      <td>Heikkinen, Miss. Laina</td>\n      <td>Miss</td>\n    </tr>\n    <tr>\n      <th>4</th>\n      <td>Futrelle, Mrs. Jacques Heath (Lily May Peel)</td>\n      <td>Mrs</td>\n    </tr>\n    <tr>\n      <th>5</th>\n      <td>Allen, Mr. William Henry</td>\n      <td>Mr</td>\n    </tr>\n    <tr>\n      <th>6</th>\n      <td>Moran, Mr. James</td>\n      <td>Mr</td>\n    </tr>\n    <tr>\n      <th>7</th>\n      <td>McCarthy, Mr. Timothy J</td>\n      <td>Mr</td>\n    </tr>\n    <tr>\n      <th>8</th>\n      <td>Palsson, Master. Gosta Leonard</td>\n      <td>Master</td>\n    </tr>\n    <tr>\n      <th>9</th>\n      <td>Johnson, Mrs. Oscar W (Elisabeth Vilhelmina Berg)</td>\n      <td>Mrs</td>\n    </tr>\n    <tr>\n      <th>10</th>\n      <td>Nasser, Mrs. Nicholas (Adele Achem)</td>\n      <td>Mrs</td>\n    </tr>\n  </tbody>\n</table>\n</div>"
     },
     "metadata": {},
     "execution_count": 58
    }
   ],
   "source": [
    "# get_title이라는 이름의 함수를 정의합니다. 이 함수는 name이라는 변수를 인자로 받습니다.\n",
    "# 이 함수는 이름을 받았을 때 이름에서 타이틀을 반환해줍니다.\n",
    "# 가령 name에 \"Braund, Mr. Owen Harris\"가 들어오면 최종 결과는 Mr를 반환해줍니다.\n",
    "def get_title(name):\n",
    "    # 먼저 name을 , 을 기준으로 쪼갭니다. 쪼갠 결과는 0) Braund와 1) Mr. Owen Harris가 됩니다.\n",
    "    # 여기서 1)번을 가져온 뒤 다시 . 을 기준으로 쪼갭니다. 쪼갠 결과는 0) Mr와 1) Owen Harris가 됩니다.\n",
    "    # 여기서 0)번을 반환합니다. 최종적으로는 Mr를 반환하게 됩니다.\n",
    "    return name.split(\", \")[1].split('. ')[0]\n",
    "\n",
    "# 모든 Name 컬럼 데이터에 get_title 함수를 적용한 뒤 그 결과를 Title이라는 이름의 새로운 컬럼에 대입합니다.\n",
    "train[\"Title\"] = train[\"Name\"].apply(get_title)\n",
    "\n",
    "# train 변수에 할당된 데이터의 행렬 사이즈를 출력합니다.\n",
    "# 출력은 (row, column) 으로 표시됩니다.\n",
    "print(train.shape)\n",
    "\n",
    "# 이름(Name) 컬럼과 호칭(Title) 컬럼만을 출력합니다.\n",
    "train[[\"Name\", \"Title\"]].head(10)"
   ]
  },
  {
   "cell_type": "code",
   "execution_count": 59,
   "metadata": {},
   "outputs": [
    {
     "output_type": "execute_result",
     "data": {
      "text/plain": "              Survived\nTitle                 \nCapt          0.000000\nCol           0.500000\nDon           0.000000\nDr            0.428571\nJonkheer      0.000000\nLady          1.000000\nMajor         0.500000\nMaster        0.575000\nMiss          0.697802\nMlle          1.000000\nMme           1.000000\nMr            0.156673\nMrs           0.792000\nMs            1.000000\nRev           0.000000\nSir           1.000000\nthe Countess  1.000000",
      "text/html": "<div>\n<style scoped>\n    .dataframe tbody tr th:only-of-type {\n        vertical-align: middle;\n    }\n\n    .dataframe tbody tr th {\n        vertical-align: top;\n    }\n\n    .dataframe thead th {\n        text-align: right;\n    }\n</style>\n<table border=\"1\" class=\"dataframe\">\n  <thead>\n    <tr style=\"text-align: right;\">\n      <th></th>\n      <th>Survived</th>\n    </tr>\n    <tr>\n      <th>Title</th>\n      <th></th>\n    </tr>\n  </thead>\n  <tbody>\n    <tr>\n      <th>Capt</th>\n      <td>0.000000</td>\n    </tr>\n    <tr>\n      <th>Col</th>\n      <td>0.500000</td>\n    </tr>\n    <tr>\n      <th>Don</th>\n      <td>0.000000</td>\n    </tr>\n    <tr>\n      <th>Dr</th>\n      <td>0.428571</td>\n    </tr>\n    <tr>\n      <th>Jonkheer</th>\n      <td>0.000000</td>\n    </tr>\n    <tr>\n      <th>Lady</th>\n      <td>1.000000</td>\n    </tr>\n    <tr>\n      <th>Major</th>\n      <td>0.500000</td>\n    </tr>\n    <tr>\n      <th>Master</th>\n      <td>0.575000</td>\n    </tr>\n    <tr>\n      <th>Miss</th>\n      <td>0.697802</td>\n    </tr>\n    <tr>\n      <th>Mlle</th>\n      <td>1.000000</td>\n    </tr>\n    <tr>\n      <th>Mme</th>\n      <td>1.000000</td>\n    </tr>\n    <tr>\n      <th>Mr</th>\n      <td>0.156673</td>\n    </tr>\n    <tr>\n      <th>Mrs</th>\n      <td>0.792000</td>\n    </tr>\n    <tr>\n      <th>Ms</th>\n      <td>1.000000</td>\n    </tr>\n    <tr>\n      <th>Rev</th>\n      <td>0.000000</td>\n    </tr>\n    <tr>\n      <th>Sir</th>\n      <td>1.000000</td>\n    </tr>\n    <tr>\n      <th>the Countess</th>\n      <td>1.000000</td>\n    </tr>\n  </tbody>\n</table>\n</div>"
     },
     "metadata": {},
     "execution_count": 59
    }
   ],
   "source": [
    "# **** <문제38> ****\n",
    "# pivot_table을 통해 호칭(Title)별 생존률을 출력합니다.\n",
    "# Mr, Mrs, Master, Miss 등의 호칭별 생존률을 확인할 수 있습니다.\n",
    "\n",
    "pd.pivot_table(data=train, index='Title', values='Survived',)"
   ]
  },
  {
   "cell_type": "code",
   "execution_count": 60,
   "metadata": {},
   "outputs": [
    {
     "output_type": "execute_result",
     "data": {
      "text/plain": "Survived        0    1  All\nTitle                      \nCapt            1    0    1\nCol             1    1    2\nDon             1    0    1\nDr              4    3    7\nJonkheer        1    0    1\nLady            0    1    1\nMajor           1    1    2\nMaster         17   23   40\nMiss           55  127  182\nMlle            0    2    2\nMme             0    1    1\nMr            436   81  517\nMrs            26   99  125\nMs              0    1    1\nRev             6    0    6\nSir             0    1    1\nthe Countess    0    1    1\nAll           549  342  891",
      "text/html": "<div>\n<style scoped>\n    .dataframe tbody tr th:only-of-type {\n        vertical-align: middle;\n    }\n\n    .dataframe tbody tr th {\n        vertical-align: top;\n    }\n\n    .dataframe thead th {\n        text-align: right;\n    }\n</style>\n<table border=\"1\" class=\"dataframe\">\n  <thead>\n    <tr style=\"text-align: right;\">\n      <th>Survived</th>\n      <th>0</th>\n      <th>1</th>\n      <th>All</th>\n    </tr>\n    <tr>\n      <th>Title</th>\n      <th></th>\n      <th></th>\n      <th></th>\n    </tr>\n  </thead>\n  <tbody>\n    <tr>\n      <th>Capt</th>\n      <td>1</td>\n      <td>0</td>\n      <td>1</td>\n    </tr>\n    <tr>\n      <th>Col</th>\n      <td>1</td>\n      <td>1</td>\n      <td>2</td>\n    </tr>\n    <tr>\n      <th>Don</th>\n      <td>1</td>\n      <td>0</td>\n      <td>1</td>\n    </tr>\n    <tr>\n      <th>Dr</th>\n      <td>4</td>\n      <td>3</td>\n      <td>7</td>\n    </tr>\n    <tr>\n      <th>Jonkheer</th>\n      <td>1</td>\n      <td>0</td>\n      <td>1</td>\n    </tr>\n    <tr>\n      <th>Lady</th>\n      <td>0</td>\n      <td>1</td>\n      <td>1</td>\n    </tr>\n    <tr>\n      <th>Major</th>\n      <td>1</td>\n      <td>1</td>\n      <td>2</td>\n    </tr>\n    <tr>\n      <th>Master</th>\n      <td>17</td>\n      <td>23</td>\n      <td>40</td>\n    </tr>\n    <tr>\n      <th>Miss</th>\n      <td>55</td>\n      <td>127</td>\n      <td>182</td>\n    </tr>\n    <tr>\n      <th>Mlle</th>\n      <td>0</td>\n      <td>2</td>\n      <td>2</td>\n    </tr>\n    <tr>\n      <th>Mme</th>\n      <td>0</td>\n      <td>1</td>\n      <td>1</td>\n    </tr>\n    <tr>\n      <th>Mr</th>\n      <td>436</td>\n      <td>81</td>\n      <td>517</td>\n    </tr>\n    <tr>\n      <th>Mrs</th>\n      <td>26</td>\n      <td>99</td>\n      <td>125</td>\n    </tr>\n    <tr>\n      <th>Ms</th>\n      <td>0</td>\n      <td>1</td>\n      <td>1</td>\n    </tr>\n    <tr>\n      <th>Rev</th>\n      <td>6</td>\n      <td>0</td>\n      <td>6</td>\n    </tr>\n    <tr>\n      <th>Sir</th>\n      <td>0</td>\n      <td>1</td>\n      <td>1</td>\n    </tr>\n    <tr>\n      <th>the Countess</th>\n      <td>0</td>\n      <td>1</td>\n      <td>1</td>\n    </tr>\n    <tr>\n      <th>All</th>\n      <td>549</td>\n      <td>342</td>\n      <td>891</td>\n    </tr>\n  </tbody>\n</table>\n</div>"
     },
     "metadata": {},
     "execution_count": 60
    }
   ],
   "source": [
    "# crosstab을 활용하여 각 호칭(Title)별 생존자의 총 인원수와 사망자의 총 인원수를 출력합니다.\n",
    "pd.crosstab(train[\"Title\"], train[\"Survived\"], margins=True)"
   ]
  },
  {
   "cell_type": "code",
   "execution_count": 61,
   "metadata": {},
   "outputs": [
    {
     "output_type": "execute_result",
     "data": {
      "text/plain": "<IPython.core.display.HTML object>",
      "text/html": "<!DOCTYPE html>\n<html lang=\"en\">\n<head>\n    <meta charset=\"UTF-8\">\n    <title>Title</title>\n</head>\n<body>\n<table border=\"1\" class=\"dataframe\" style=\"float: left;\">\n    <thead>\n      <tr style=\"text-align: right;\">\n        <th></th>\n\n        <th>Name</th>\n\n        <th>Title</th>\n\n        <th>Title(Clean)</th>\n      </tr>\n\n      <tr>\n        <th>PassengerId</th>\n\n        <th></th>\n\n        <th></th>\n\n        <th></th>\n      </tr>\n    </thead>\n\n    <tbody>\n      <tr>\n        <th>887</th>\n\n        <td>Montvila, Rev. Juozas</td>\n\n        <td>Rev</td>\n\n        <td>Others</td>\n      </tr>\n\n      <tr>\n        <th>888</th>\n\n        <td>Graham, Miss. Margaret Edith</td>\n\n        <td>Miss</td>\n\n        <td>Miss</td>\n      </tr>\n\n      <tr>\n        <th>889</th>\n\n        <td>Johnston, Miss. Catherine Helen \"Carrie\"</td>\n\n        <td>Miss</td>\n\n        <td>Miss</td>\n      </tr>\n\n      <tr>\n        <th>890</th>\n\n        <td>Behr, Mr. Karl Howell</td>\n\n        <td>Mr</td>\n\n        <td>Mr</td>\n      </tr>\n\n      <tr>\n        <th>891</th>\n\n        <td>Dooley, Mr. Patrick</td>\n\n        <td>Mr</td>\n\n        <td>Mr</td>\n      </tr>\n    </tbody>\n  </table>\n</body>\n</html>"
     },
     "metadata": {},
     "execution_count": 61
    }
   ],
   "source": [
    "HTML(filename=\"html/table19.html\")"
   ]
  },
  {
   "cell_type": "code",
   "execution_count": 62,
   "metadata": {},
   "outputs": [
    {
     "output_type": "execute_result",
     "data": {
      "text/plain": "<IPython.core.display.HTML object>",
      "text/html": "<!DOCTYPE html>\n<html lang=\"en\">\n<head>\n    <meta charset=\"UTF-8\">\n    <title>Title</title>\n</head>\n<body>\n<table border=\"1\" class=\"dataframe\" style=\"float: left;\">\n    <thead>\n      <tr style=\"text-align: right;\">\n        <th></th>\n\n        <th>Survived</th>\n      </tr>\n\n      <tr>\n        <th>Title(Clean)</th>\n\n        <th></th>\n      </tr>\n    </thead>\n\n    <tbody>\n      <tr>\n        <th>Master</th>\n\n        <td>0.575000</td>\n      </tr>\n\n      <tr>\n        <th>Miss</th>\n\n        <td>0.697802</td>\n      </tr>\n\n      <tr>\n        <th>Mr</th>\n\n        <td>0.156673</td>\n      </tr>\n\n      <tr>\n        <th>Mrs</th>\n\n        <td>0.792000</td>\n      </tr>\n\n      <tr>\n        <th>Others</th>\n\n        <td>0.444444</td>\n      </tr>\n    </tbody>\n  </table>\n</body>\n</html>"
     },
     "metadata": {},
     "execution_count": 62
    }
   ],
   "source": [
    "HTML(filename=\"html/table20.html\")"
   ]
  },
  {
   "cell_type": "code",
   "execution_count": 63,
   "metadata": {
    "tags": []
   },
   "outputs": [
    {
     "output_type": "stream",
     "name": "stdout",
     "text": "(891, 31)\n"
    },
    {
     "output_type": "execute_result",
     "data": {
      "text/plain": "                                                 Name Title Title(Clean)\nPassengerId                                                             \n887                             Montvila, Rev. Juozas   Rev       Others\n888                      Graham, Miss. Margaret Edith  Miss         Miss\n889          Johnston, Miss. Catherine Helen \"Carrie\"  Miss         Miss\n890                             Behr, Mr. Karl Howell    Mr           Mr\n891                               Dooley, Mr. Patrick    Mr           Mr",
      "text/html": "<div>\n<style scoped>\n    .dataframe tbody tr th:only-of-type {\n        vertical-align: middle;\n    }\n\n    .dataframe tbody tr th {\n        vertical-align: top;\n    }\n\n    .dataframe thead th {\n        text-align: right;\n    }\n</style>\n<table border=\"1\" class=\"dataframe\">\n  <thead>\n    <tr style=\"text-align: right;\">\n      <th></th>\n      <th>Name</th>\n      <th>Title</th>\n      <th>Title(Clean)</th>\n    </tr>\n    <tr>\n      <th>PassengerId</th>\n      <th></th>\n      <th></th>\n      <th></th>\n    </tr>\n  </thead>\n  <tbody>\n    <tr>\n      <th>887</th>\n      <td>Montvila, Rev. Juozas</td>\n      <td>Rev</td>\n      <td>Others</td>\n    </tr>\n    <tr>\n      <th>888</th>\n      <td>Graham, Miss. Margaret Edith</td>\n      <td>Miss</td>\n      <td>Miss</td>\n    </tr>\n    <tr>\n      <th>889</th>\n      <td>Johnston, Miss. Catherine Helen \"Carrie\"</td>\n      <td>Miss</td>\n      <td>Miss</td>\n    </tr>\n    <tr>\n      <th>890</th>\n      <td>Behr, Mr. Karl Howell</td>\n      <td>Mr</td>\n      <td>Mr</td>\n    </tr>\n    <tr>\n      <th>891</th>\n      <td>Dooley, Mr. Patrick</td>\n      <td>Mr</td>\n      <td>Mr</td>\n    </tr>\n  </tbody>\n</table>\n</div>"
     },
     "metadata": {},
     "execution_count": 63
    }
   ],
   "source": [
    "# 이번에는 get_cleaned_title 이름의 함수를 정의합니다.\n",
    "# 이 함수에서는 Mr, Mrs, Miss, Master 가 아닌 호칭은 전부 Other라고 반환합니다.\n",
    "def get_cleaned_title(name):\n",
    "    # 먼저 name을 , 을 기준으로 쪼갭니다. 쪼갠 결과는 0) Braund와 1) Mr. Owen Harris가 됩니다.\n",
    "    # 여기서 1)번을 가져온 뒤 다시 . 을 기준으로 쪼갭니다. 쪼갠 결과는 0) Mr와 1) Owen Harris가 됩니다.\n",
    "    # 여기서 0)번을 반환합니다. 최종적으로는 Mr를 반환하게 됩니다.\n",
    "    # 해당 값을 title이라는 이름의 변수에 할당합니다.\n",
    "    title = name.split(\", \")[1].split('. ')[0]\n",
    "    \n",
    "    # title이라는 변수에 들어간 값이 Mr, Mrs, Miss, Master중에 하나에 해당되면\n",
    "    # title 자기 자신을 반환합니다.\n",
    "    if title in [\"Mr\", \"Mrs\", \"Miss\", \"Master\"]:\n",
    "        return title\n",
    "    # 그렇지 않다면 \"Others\"라는 값을 반환합니다.\n",
    "    else:\n",
    "        return \"Others\"\n",
    "\n",
    "# 모든 Name 컬럼 데이터에 get_cleaned_title 함수를 적용한 뒤\n",
    "# 그 결과를 Title(Clean)이라는 이름의 새로운 컬럼에 대입합니다.\n",
    "train[\"Title(Clean)\"] = train[\"Name\"].apply(get_cleaned_title)\n",
    "\n",
    "# train 변수에 할당된 데이터의 행렬 사이즈를 출력합니다.\n",
    "# 출력은 (row, column) 으로 표시됩니다.\n",
    "print(train.shape)\n",
    "\n",
    "# 이름(Name) 컬럼과 Title 컬럼, 그리고 Title(Clean) 컬럼만을 출력합니다.\n",
    "# 다만 이번에는 head가 아니라 tail을 활용해 마지막 다섯 컬럼만 출력합니다.\n",
    "train[[\"Name\", \"Title\", \"Title(Clean)\"]].tail()"
   ]
  },
  {
   "cell_type": "code",
   "execution_count": 64,
   "metadata": {},
   "outputs": [
    {
     "output_type": "execute_result",
     "data": {
      "text/plain": "              Survived\nTitle(Clean)          \nMaster        0.575000\nMiss          0.697802\nMr            0.156673\nMrs           0.792000\nOthers        0.444444",
      "text/html": "<div>\n<style scoped>\n    .dataframe tbody tr th:only-of-type {\n        vertical-align: middle;\n    }\n\n    .dataframe tbody tr th {\n        vertical-align: top;\n    }\n\n    .dataframe thead th {\n        text-align: right;\n    }\n</style>\n<table border=\"1\" class=\"dataframe\">\n  <thead>\n    <tr style=\"text-align: right;\">\n      <th></th>\n      <th>Survived</th>\n    </tr>\n    <tr>\n      <th>Title(Clean)</th>\n      <th></th>\n    </tr>\n  </thead>\n  <tbody>\n    <tr>\n      <th>Master</th>\n      <td>0.575000</td>\n    </tr>\n    <tr>\n      <th>Miss</th>\n      <td>0.697802</td>\n    </tr>\n    <tr>\n      <th>Mr</th>\n      <td>0.156673</td>\n    </tr>\n    <tr>\n      <th>Mrs</th>\n      <td>0.792000</td>\n    </tr>\n    <tr>\n      <th>Others</th>\n      <td>0.444444</td>\n    </tr>\n  </tbody>\n</table>\n</div>"
     },
     "metadata": {},
     "execution_count": 64
    }
   ],
   "source": [
    "# **** <문제39> ****\n",
    "# pivot_table을 통해 정리한 호칭별 생존률을 출력합니다.\n",
    "# Mr, Mrs, Master, Miss, Others별 생존률을 확인할 수 있습니다.\n",
    "\n",
    "pd.pivot_table(data=train, index='Title(Clean)', values=\"Survived\")"
   ]
  },
  {
   "cell_type": "code",
   "execution_count": 65,
   "metadata": {},
   "outputs": [
    {
     "output_type": "execute_result",
     "data": {
      "text/plain": "<IPython.core.display.HTML object>",
      "text/html": "<!DOCTYPE html>\n<html lang=\"en\">\n<head>\n    <meta charset=\"UTF-8\">\n    <title>Title</title>\n</head>\n<body>\n<table border=\"1\" class=\"dataframe\" style=\"float: left;\">\n    <thead>\n      <tr style=\"text-align: right;\">\n        <th></th>\n\n        <th>Name</th>\n\n        <th>Title</th>\n\n        <th>Married</th>\n      </tr>\n\n      <tr>\n        <th>PassengerId</th>\n\n        <th></th>\n\n        <th></th>\n\n        <th></th>\n      </tr>\n    </thead>\n\n    <tbody>\n      <tr>\n        <th>1</th>\n\n        <td>Braund, Mr. Owen Harris</td>\n\n        <td>Mr</td>\n\n        <td>True</td>\n      </tr>\n\n      <tr>\n        <th>2</th>\n\n        <td>Cumings, Mrs. John Bradley (Florence Briggs Th...</td>\n\n        <td>Mrs</td>\n\n        <td>True</td>\n      </tr>\n\n      <tr>\n        <th>3</th>\n\n        <td>Heikkinen, Miss. Laina</td>\n\n        <td>Miss</td>\n\n        <td>False</td>\n      </tr>\n\n      <tr>\n        <th>4</th>\n\n        <td>Futrelle, Mrs. Jacques Heath (Lily May Peel)</td>\n\n        <td>Mrs</td>\n\n        <td>True</td>\n      </tr>\n\n      <tr>\n        <th>5</th>\n\n        <td>Allen, Mr. William Henry</td>\n\n        <td>Mr</td>\n\n        <td>True</td>\n      </tr>\n\n      <tr>\n        <th>6</th>\n\n        <td>Moran, Mr. James</td>\n\n        <td>Mr</td>\n\n        <td>True</td>\n      </tr>\n\n      <tr>\n        <th>7</th>\n\n        <td>McCarthy, Mr. Timothy J</td>\n\n        <td>Mr</td>\n\n        <td>True</td>\n      </tr>\n\n      <tr>\n        <th>8</th>\n\n        <td>Palsson, Master. Gosta Leonard</td>\n\n        <td>Master</td>\n\n        <td>False</td>\n      </tr>\n\n      <tr>\n        <th>9</th>\n\n        <td>Johnson, Mrs. Oscar W (Elisabeth Vilhelmina Berg)</td>\n\n        <td>Mrs</td>\n\n        <td>True</td>\n      </tr>\n\n      <tr>\n        <th>10</th>\n\n        <td>Nasser, Mrs. Nicholas (Adele Achem)</td>\n\n        <td>Mrs</td>\n\n        <td>True</td>\n      </tr>\n    </tbody>\n  </table>\n</body>\n</html>"
     },
     "metadata": {},
     "execution_count": 65
    }
   ],
   "source": [
    "HTML(filename=\"html/table21.html\")"
   ]
  },
  {
   "cell_type": "code",
   "execution_count": 66,
   "metadata": {},
   "outputs": [
    {
     "output_type": "execute_result",
     "data": {
      "text/plain": "<IPython.core.display.HTML object>",
      "text/html": "<!DOCTYPE html>\n<html lang=\"en\">\n<head>\n    <meta charset=\"UTF-8\">\n    <title>Title</title>\n</head>\n<body>\n<table border=\"1\" class=\"dataframe\" style=\"float: left;\">\n    <thead>\n      <tr style=\"text-align: right;\">\n        <th></th>\n\n        <th>Survived</th>\n      </tr>\n\n      <tr>\n        <th>Married</th>\n\n        <th></th>\n      </tr>\n    </thead>\n\n    <tbody>\n      <tr>\n        <th>False</th>\n\n        <td>0.675676</td>\n      </tr>\n\n      <tr>\n        <th>True</th>\n\n        <td>0.280374</td>\n      </tr>\n    </tbody>\n  </table>\n</body>\n</html>"
     },
     "metadata": {},
     "execution_count": 66
    }
   ],
   "source": [
    "HTML(filename=\"html/table22.html\")"
   ]
  },
  {
   "cell_type": "code",
   "execution_count": 67,
   "metadata": {
    "tags": []
   },
   "outputs": [
    {
     "output_type": "stream",
     "name": "stdout",
     "text": "(891, 32)\n"
    },
    {
     "output_type": "execute_result",
     "data": {
      "text/plain": "                                                          Name   Title  \\\nPassengerId                                                              \n1                                      Braund, Mr. Owen Harris      Mr   \n2            Cumings, Mrs. John Bradley (Florence Briggs Th...     Mrs   \n3                                       Heikkinen, Miss. Laina    Miss   \n4                 Futrelle, Mrs. Jacques Heath (Lily May Peel)     Mrs   \n5                                     Allen, Mr. William Henry      Mr   \n6                                             Moran, Mr. James      Mr   \n7                                      McCarthy, Mr. Timothy J      Mr   \n8                               Palsson, Master. Gosta Leonard  Master   \n9            Johnson, Mrs. Oscar W (Elisabeth Vilhelmina Berg)     Mrs   \n10                         Nasser, Mrs. Nicholas (Adele Achem)     Mrs   \n\n             Married  \nPassengerId           \n1               True  \n2               True  \n3              False  \n4               True  \n5               True  \n6               True  \n7               True  \n8              False  \n9               True  \n10              True  ",
      "text/html": "<div>\n<style scoped>\n    .dataframe tbody tr th:only-of-type {\n        vertical-align: middle;\n    }\n\n    .dataframe tbody tr th {\n        vertical-align: top;\n    }\n\n    .dataframe thead th {\n        text-align: right;\n    }\n</style>\n<table border=\"1\" class=\"dataframe\">\n  <thead>\n    <tr style=\"text-align: right;\">\n      <th></th>\n      <th>Name</th>\n      <th>Title</th>\n      <th>Married</th>\n    </tr>\n    <tr>\n      <th>PassengerId</th>\n      <th></th>\n      <th></th>\n      <th></th>\n    </tr>\n  </thead>\n  <tbody>\n    <tr>\n      <th>1</th>\n      <td>Braund, Mr. Owen Harris</td>\n      <td>Mr</td>\n      <td>True</td>\n    </tr>\n    <tr>\n      <th>2</th>\n      <td>Cumings, Mrs. John Bradley (Florence Briggs Th...</td>\n      <td>Mrs</td>\n      <td>True</td>\n    </tr>\n    <tr>\n      <th>3</th>\n      <td>Heikkinen, Miss. Laina</td>\n      <td>Miss</td>\n      <td>False</td>\n    </tr>\n    <tr>\n      <th>4</th>\n      <td>Futrelle, Mrs. Jacques Heath (Lily May Peel)</td>\n      <td>Mrs</td>\n      <td>True</td>\n    </tr>\n    <tr>\n      <th>5</th>\n      <td>Allen, Mr. William Henry</td>\n      <td>Mr</td>\n      <td>True</td>\n    </tr>\n    <tr>\n      <th>6</th>\n      <td>Moran, Mr. James</td>\n      <td>Mr</td>\n      <td>True</td>\n    </tr>\n    <tr>\n      <th>7</th>\n      <td>McCarthy, Mr. Timothy J</td>\n      <td>Mr</td>\n      <td>True</td>\n    </tr>\n    <tr>\n      <th>8</th>\n      <td>Palsson, Master. Gosta Leonard</td>\n      <td>Master</td>\n      <td>False</td>\n    </tr>\n    <tr>\n      <th>9</th>\n      <td>Johnson, Mrs. Oscar W (Elisabeth Vilhelmina Berg)</td>\n      <td>Mrs</td>\n      <td>True</td>\n    </tr>\n    <tr>\n      <th>10</th>\n      <td>Nasser, Mrs. Nicholas (Adele Achem)</td>\n      <td>Mrs</td>\n      <td>True</td>\n    </tr>\n  </tbody>\n</table>\n</div>"
     },
     "metadata": {},
     "execution_count": 67
    }
   ],
   "source": [
    "# **** <문제40> ****\n",
    "# 호칭(Title)이 Mr인 데이터를 가져와서, 결혼 유무(Married)라는 새로운 컬럼에 True라는 값을 대입합니다.\n",
    "Mr_true = train['Title'] == 'Mr'\n",
    "train['Married'] = Mr_true\n",
    "# 비슷하게 호칭(Title)이 Mrs인 데이터를 가져와서 결혼 유무(Married) 컬럼에 True라는 값을 대입합니다.\n",
    "Mrs_true = train['Title'] == 'Mrs'\n",
    "train['Married'] = (Mr_true | Mrs_true)\n",
    "# 호칭(Title)이 Master인 데이터를 가져와서 결혼 유무(Married) 컬럼에 False라는 값을 대입합니다.\n",
    "\n",
    "\n",
    "# 호칭(Title)이 Miss인 데이터를 가져와서 결혼 유무(Married) 컬럼에 False라는 값을 대입합니다.\n",
    "\n",
    "\n",
    "# train 변수에 할당된 데이터의 행렬 사이즈를 출력합니다.\n",
    "# 출력은 (row, column) 으로 표시됩니다.\n",
    "print(train.shape)\n",
    "\n",
    "# 이름(Name) 컬럼과 호칭(Title) 컬럼, 그리고 결혼 유무(Married) 컬럼을 출력합니다.\n",
    "train[[\"Name\", \"Title\", \"Married\"]].head(10)"
   ]
  },
  {
   "cell_type": "code",
   "execution_count": 68,
   "metadata": {
    "tags": []
   },
   "outputs": [
    {
     "output_type": "stream",
     "name": "stdout",
     "text": "(891, 32)\n"
    },
    {
     "output_type": "execute_result",
     "data": {
      "text/plain": "                                                          Name   Title  \\\nPassengerId                                                              \n1                                      Braund, Mr. Owen Harris      Mr   \n2            Cumings, Mrs. John Bradley (Florence Briggs Th...     Mrs   \n3                                       Heikkinen, Miss. Laina    Miss   \n4                 Futrelle, Mrs. Jacques Heath (Lily May Peel)     Mrs   \n5                                     Allen, Mr. William Henry      Mr   \n6                                             Moran, Mr. James      Mr   \n7                                      McCarthy, Mr. Timothy J      Mr   \n8                               Palsson, Master. Gosta Leonard  Master   \n9            Johnson, Mrs. Oscar W (Elisabeth Vilhelmina Berg)     Mrs   \n10                         Nasser, Mrs. Nicholas (Adele Achem)     Mrs   \n\n             Married  \nPassengerId           \n1               True  \n2               True  \n3              False  \n4               True  \n5               True  \n6               True  \n7               True  \n8              False  \n9               True  \n10              True  ",
      "text/html": "<div>\n<style scoped>\n    .dataframe tbody tr th:only-of-type {\n        vertical-align: middle;\n    }\n\n    .dataframe tbody tr th {\n        vertical-align: top;\n    }\n\n    .dataframe thead th {\n        text-align: right;\n    }\n</style>\n<table border=\"1\" class=\"dataframe\">\n  <thead>\n    <tr style=\"text-align: right;\">\n      <th></th>\n      <th>Name</th>\n      <th>Title</th>\n      <th>Married</th>\n    </tr>\n    <tr>\n      <th>PassengerId</th>\n      <th></th>\n      <th></th>\n      <th></th>\n    </tr>\n  </thead>\n  <tbody>\n    <tr>\n      <th>1</th>\n      <td>Braund, Mr. Owen Harris</td>\n      <td>Mr</td>\n      <td>True</td>\n    </tr>\n    <tr>\n      <th>2</th>\n      <td>Cumings, Mrs. John Bradley (Florence Briggs Th...</td>\n      <td>Mrs</td>\n      <td>True</td>\n    </tr>\n    <tr>\n      <th>3</th>\n      <td>Heikkinen, Miss. Laina</td>\n      <td>Miss</td>\n      <td>False</td>\n    </tr>\n    <tr>\n      <th>4</th>\n      <td>Futrelle, Mrs. Jacques Heath (Lily May Peel)</td>\n      <td>Mrs</td>\n      <td>True</td>\n    </tr>\n    <tr>\n      <th>5</th>\n      <td>Allen, Mr. William Henry</td>\n      <td>Mr</td>\n      <td>True</td>\n    </tr>\n    <tr>\n      <th>6</th>\n      <td>Moran, Mr. James</td>\n      <td>Mr</td>\n      <td>True</td>\n    </tr>\n    <tr>\n      <th>7</th>\n      <td>McCarthy, Mr. Timothy J</td>\n      <td>Mr</td>\n      <td>True</td>\n    </tr>\n    <tr>\n      <th>8</th>\n      <td>Palsson, Master. Gosta Leonard</td>\n      <td>Master</td>\n      <td>False</td>\n    </tr>\n    <tr>\n      <th>9</th>\n      <td>Johnson, Mrs. Oscar W (Elisabeth Vilhelmina Berg)</td>\n      <td>Mrs</td>\n      <td>True</td>\n    </tr>\n    <tr>\n      <th>10</th>\n      <td>Nasser, Mrs. Nicholas (Adele Achem)</td>\n      <td>Mrs</td>\n      <td>True</td>\n    </tr>\n  </tbody>\n</table>\n</div>"
     },
     "metadata": {},
     "execution_count": 68
    }
   ],
   "source": [
    "# **** <문제41> ****\n",
    "# 호칭(Title)이 Mr이거나 Mrs인 데이터를 가져옵니다.\n",
    "# 이후 결혼 유무(Married)라는 새로운 컬럼에 True라는 값을 대입합니다.\n",
    "train['Married'] = ((train['Title'] == 'Mr') | (train['Title'] == 'Mrs'))\n",
    "\n",
    "# 비슷하게 호칭(Title)이 Master이거나 Miss인 데이터를 가져옵니다.\n",
    "# 마찬가지로 결혼 유무(Married)라는 컬럼에 False라는 값을 대입합니다.\n",
    "\n",
    "\n",
    "# train 변수에 할당된 데이터의 행렬 사이즈를 출력합니다.\n",
    "# 출력은 (row, column) 으로 표시됩니다.\n",
    "print(train.shape)\n",
    "\n",
    "# 이름(Name) 컬럼과 호칭(Title) 컬럼, 그리고 결혼 유무(Married) 컬럼을 출력합니다.\n",
    "train[[\"Name\", \"Title\", \"Married\"]].head(10)"
   ]
  },
  {
   "cell_type": "code",
   "execution_count": 69,
   "metadata": {},
   "outputs": [
    {
     "output_type": "execute_result",
     "data": {
      "text/plain": "         Survived\nMarried          \nFalse    0.650602\nTrue     0.280374",
      "text/html": "<div>\n<style scoped>\n    .dataframe tbody tr th:only-of-type {\n        vertical-align: middle;\n    }\n\n    .dataframe tbody tr th {\n        vertical-align: top;\n    }\n\n    .dataframe thead th {\n        text-align: right;\n    }\n</style>\n<table border=\"1\" class=\"dataframe\">\n  <thead>\n    <tr style=\"text-align: right;\">\n      <th></th>\n      <th>Survived</th>\n    </tr>\n    <tr>\n      <th>Married</th>\n      <th></th>\n    </tr>\n  </thead>\n  <tbody>\n    <tr>\n      <th>False</th>\n      <td>0.650602</td>\n    </tr>\n    <tr>\n      <th>True</th>\n      <td>0.280374</td>\n    </tr>\n  </tbody>\n</table>\n</div>"
     },
     "metadata": {},
     "execution_count": 69
    }
   ],
   "source": [
    "# **** <문제42> ****\n",
    "# pivot_table을 통해 결혼 유무(Married)별 따른 생존률을 출력합니다.\n",
    "# 결혼을 한 승객(True)와 하지 않은 승객(False)간의 생존률의 차이를 볼 수 있습니다.\n",
    "\n",
    "pd.pivot_table(data=train, index='Married', values='Survived')"
   ]
  },
  {
   "cell_type": "code",
   "execution_count": 70,
   "metadata": {
    "tags": []
   },
   "outputs": [
    {
     "output_type": "execute_result",
     "data": {
      "text/plain": "             Survived  Pclass                                           Name  \\\nPassengerId                                                                    \n269                 1       1  Graham, Mrs. William Thompson (Edith Junkins)   \n333                 0       1                      Graham, Mr. George Edward   \n888                 1       1                   Graham, Miss. Margaret Edith   \n\n                Sex   Age  SibSp  Parch    Ticket      Fare Cabin  ...  \\\nPassengerId                                                        ...   \n269          female  58.0      0      1  PC 17582  153.4625  C125  ...   \n333            male  38.0      0      1  PC 17582  153.4625   C91  ...   \n888          female  19.0      0      0    112053   30.0000   B42  ...   \n\n            Age(fill) Single FamilySize FamilyType  FamilyType(Single)  \\\nPassengerId                                                              \n269              58.0  False          2    Nuclear               False   \n333              38.0  False          2    Nuclear               False   \n888              19.0   True          1     Single                True   \n\n             FamilyType(Nuclear)  FamilyType(Big)  Title  Title(Clean)  \\\nPassengerId                                                              \n269                         True            False    Mrs           Mrs   \n333                         True            False     Mr            Mr   \n888                        False            False   Miss          Miss   \n\n             Married  \nPassengerId           \n269             True  \n333             True  \n888            False  \n\n[3 rows x 32 columns]",
      "text/html": "<div>\n<style scoped>\n    .dataframe tbody tr th:only-of-type {\n        vertical-align: middle;\n    }\n\n    .dataframe tbody tr th {\n        vertical-align: top;\n    }\n\n    .dataframe thead th {\n        text-align: right;\n    }\n</style>\n<table border=\"1\" class=\"dataframe\">\n  <thead>\n    <tr style=\"text-align: right;\">\n      <th></th>\n      <th>Survived</th>\n      <th>Pclass</th>\n      <th>Name</th>\n      <th>Sex</th>\n      <th>Age</th>\n      <th>SibSp</th>\n      <th>Parch</th>\n      <th>Ticket</th>\n      <th>Fare</th>\n      <th>Cabin</th>\n      <th>...</th>\n      <th>Age(fill)</th>\n      <th>Single</th>\n      <th>FamilySize</th>\n      <th>FamilyType</th>\n      <th>FamilyType(Single)</th>\n      <th>FamilyType(Nuclear)</th>\n      <th>FamilyType(Big)</th>\n      <th>Title</th>\n      <th>Title(Clean)</th>\n      <th>Married</th>\n    </tr>\n    <tr>\n      <th>PassengerId</th>\n      <th></th>\n      <th></th>\n      <th></th>\n      <th></th>\n      <th></th>\n      <th></th>\n      <th></th>\n      <th></th>\n      <th></th>\n      <th></th>\n      <th></th>\n      <th></th>\n      <th></th>\n      <th></th>\n      <th></th>\n      <th></th>\n      <th></th>\n      <th></th>\n      <th></th>\n      <th></th>\n      <th></th>\n    </tr>\n  </thead>\n  <tbody>\n    <tr>\n      <th>269</th>\n      <td>1</td>\n      <td>1</td>\n      <td>Graham, Mrs. William Thompson (Edith Junkins)</td>\n      <td>female</td>\n      <td>58.0</td>\n      <td>0</td>\n      <td>1</td>\n      <td>PC 17582</td>\n      <td>153.4625</td>\n      <td>C125</td>\n      <td>...</td>\n      <td>58.0</td>\n      <td>False</td>\n      <td>2</td>\n      <td>Nuclear</td>\n      <td>False</td>\n      <td>True</td>\n      <td>False</td>\n      <td>Mrs</td>\n      <td>Mrs</td>\n      <td>True</td>\n    </tr>\n    <tr>\n      <th>333</th>\n      <td>0</td>\n      <td>1</td>\n      <td>Graham, Mr. George Edward</td>\n      <td>male</td>\n      <td>38.0</td>\n      <td>0</td>\n      <td>1</td>\n      <td>PC 17582</td>\n      <td>153.4625</td>\n      <td>C91</td>\n      <td>...</td>\n      <td>38.0</td>\n      <td>False</td>\n      <td>2</td>\n      <td>Nuclear</td>\n      <td>False</td>\n      <td>True</td>\n      <td>False</td>\n      <td>Mr</td>\n      <td>Mr</td>\n      <td>True</td>\n    </tr>\n    <tr>\n      <th>888</th>\n      <td>1</td>\n      <td>1</td>\n      <td>Graham, Miss. Margaret Edith</td>\n      <td>female</td>\n      <td>19.0</td>\n      <td>0</td>\n      <td>0</td>\n      <td>112053</td>\n      <td>30.0000</td>\n      <td>B42</td>\n      <td>...</td>\n      <td>19.0</td>\n      <td>True</td>\n      <td>1</td>\n      <td>Single</td>\n      <td>True</td>\n      <td>False</td>\n      <td>False</td>\n      <td>Miss</td>\n      <td>Miss</td>\n      <td>False</td>\n    </tr>\n  </tbody>\n</table>\n<p>3 rows × 32 columns</p>\n</div>"
     },
     "metadata": {},
     "execution_count": 70
    }
   ],
   "source": [
    "# **** <문제43> ****\n",
    "# 이름(Name) 컬럼에서 Graham이라는 성이 포함된 승객만을 색인합니다.\n",
    "# 이 결과를 graham이라는 이름의 변수에 저장한 후 출력합니다.\n",
    "graham = train.Name.str.contains('^Graham')\n",
    "train.loc[graham, :]"
   ]
  },
  {
   "cell_type": "code",
   "execution_count": 71,
   "metadata": {},
   "outputs": [
    {
     "output_type": "execute_result",
     "data": {
      "text/plain": "                                                      Name  SibSp  Parch  \\\nPassengerId                                                                \n269          Graham, Mrs. William Thompson (Edith Junkins)      0      1   \n333                              Graham, Mr. George Edward      0      1   \n888                           Graham, Miss. Margaret Edith      0      0   \n\n             FamilySize  \nPassengerId              \n269                   2  \n333                   2  \n888                   1  ",
      "text/html": "<div>\n<style scoped>\n    .dataframe tbody tr th:only-of-type {\n        vertical-align: middle;\n    }\n\n    .dataframe tbody tr th {\n        vertical-align: top;\n    }\n\n    .dataframe thead th {\n        text-align: right;\n    }\n</style>\n<table border=\"1\" class=\"dataframe\">\n  <thead>\n    <tr style=\"text-align: right;\">\n      <th></th>\n      <th>Name</th>\n      <th>SibSp</th>\n      <th>Parch</th>\n      <th>FamilySize</th>\n    </tr>\n    <tr>\n      <th>PassengerId</th>\n      <th></th>\n      <th></th>\n      <th></th>\n      <th></th>\n    </tr>\n  </thead>\n  <tbody>\n    <tr>\n      <th>269</th>\n      <td>Graham, Mrs. William Thompson (Edith Junkins)</td>\n      <td>0</td>\n      <td>1</td>\n      <td>2</td>\n    </tr>\n    <tr>\n      <th>333</th>\n      <td>Graham, Mr. George Edward</td>\n      <td>0</td>\n      <td>1</td>\n      <td>2</td>\n    </tr>\n    <tr>\n      <th>888</th>\n      <td>Graham, Miss. Margaret Edith</td>\n      <td>0</td>\n      <td>0</td>\n      <td>1</td>\n    </tr>\n  </tbody>\n</table>\n</div>"
     },
     "metadata": {},
     "execution_count": 71
    }
   ],
   "source": [
    "# **** <문제44> ****\n",
    "# graham이라는 변수에 저장된 데이터에서\n",
    "# 이름(Name), 형제, 자매, 배우자(SibSp), 부모, 자식(Parch), 그리고 가족 수(FamilySize)를 출력합니다.\n",
    "\n",
    "train.loc[graham, ['Name', 'SibSp', 'Parch', 'FamilySize']]"
   ]
  },
  {
   "cell_type": "code",
   "execution_count": 72,
   "metadata": {},
   "outputs": [
    {
     "output_type": "execute_result",
     "data": {
      "text/plain": "<IPython.core.display.HTML object>",
      "text/html": "<!DOCTYPE html>\n<html lang=\"en\">\n<head>\n    <meta charset=\"UTF-8\">\n    <title>Title</title>\n</head>\n<body>\n<table border=\"1\" class=\"dataframe\" style=\"float: left;\">\n    <thead>\n      <tr style=\"text-align: right;\">\n        <th></th>\n\n        <th>Name</th>\n\n        <th>Surname</th>\n\n        <th>FamilySize</th>\n\n        <th>FamilyID</th>\n      </tr>\n\n      <tr>\n        <th>PassengerId</th>\n\n        <th></th>\n\n        <th></th>\n\n        <th></th>\n\n        <th></th>\n      </tr>\n    </thead>\n\n    <tbody>\n      <tr>\n        <th>1</th>\n\n        <td>Braund, Mr. Owen Harris</td>\n\n        <td>Braund</td>\n\n        <td>2</td>\n\n        <td>Braund2</td>\n      </tr>\n\n      <tr>\n        <th>2</th>\n\n        <td>Cumings, Mrs. John Bradley (Florence Briggs Th...</td>\n\n        <td>Cumings</td>\n\n        <td>2</td>\n\n        <td>Cumings2</td>\n      </tr>\n\n      <tr>\n        <th>3</th>\n\n        <td>Heikkinen, Miss. Laina</td>\n\n        <td>Heikkinen</td>\n\n        <td>1</td>\n\n        <td>Heikkinen1</td>\n      </tr>\n\n      <tr>\n        <th>4</th>\n\n        <td>Futrelle, Mrs. Jacques Heath (Lily May Peel)</td>\n\n        <td>Futrelle</td>\n\n        <td>2</td>\n\n        <td>Futrelle2</td>\n      </tr>\n\n      <tr>\n        <th>5</th>\n\n        <td>Allen, Mr. William Henry</td>\n\n        <td>Allen</td>\n\n        <td>1</td>\n\n        <td>Allen1</td>\n      </tr>\n    </tbody>\n  </table>\n</body>\n</html>"
     },
     "metadata": {},
     "execution_count": 72
    }
   ],
   "source": [
    "HTML(filename=\"html/table23.html\")"
   ]
  },
  {
   "cell_type": "code",
   "execution_count": 73,
   "metadata": {
    "tags": []
   },
   "outputs": [
    {
     "output_type": "stream",
     "name": "stdout",
     "text": "(891, 33)\n"
    },
    {
     "output_type": "execute_result",
     "data": {
      "text/plain": "                                                          Name    Surname\nPassengerId                                                              \n1                                      Braund, Mr. Owen Harris     Braund\n2            Cumings, Mrs. John Bradley (Florence Briggs Th...    Cumings\n3                                       Heikkinen, Miss. Laina  Heikkinen\n4                 Futrelle, Mrs. Jacques Heath (Lily May Peel)   Futrelle\n5                                     Allen, Mr. William Henry      Allen",
      "text/html": "<div>\n<style scoped>\n    .dataframe tbody tr th:only-of-type {\n        vertical-align: middle;\n    }\n\n    .dataframe tbody tr th {\n        vertical-align: top;\n    }\n\n    .dataframe thead th {\n        text-align: right;\n    }\n</style>\n<table border=\"1\" class=\"dataframe\">\n  <thead>\n    <tr style=\"text-align: right;\">\n      <th></th>\n      <th>Name</th>\n      <th>Surname</th>\n    </tr>\n    <tr>\n      <th>PassengerId</th>\n      <th></th>\n      <th></th>\n    </tr>\n  </thead>\n  <tbody>\n    <tr>\n      <th>1</th>\n      <td>Braund, Mr. Owen Harris</td>\n      <td>Braund</td>\n    </tr>\n    <tr>\n      <th>2</th>\n      <td>Cumings, Mrs. John Bradley (Florence Briggs Th...</td>\n      <td>Cumings</td>\n    </tr>\n    <tr>\n      <th>3</th>\n      <td>Heikkinen, Miss. Laina</td>\n      <td>Heikkinen</td>\n    </tr>\n    <tr>\n      <th>4</th>\n      <td>Futrelle, Mrs. Jacques Heath (Lily May Peel)</td>\n      <td>Futrelle</td>\n    </tr>\n    <tr>\n      <th>5</th>\n      <td>Allen, Mr. William Henry</td>\n      <td>Allen</td>\n    </tr>\n  </tbody>\n</table>\n</div>"
     },
     "metadata": {},
     "execution_count": 73
    }
   ],
   "source": [
    "# get_surname이라는 이름의 함수를 만듭니다. 이 함수에는 name이라는 이름의 변수가 인자로 들어갑니다.\n",
    "# 이 함수는 이름을 받았을 때 이름에서 타이틀을 반환해줍니다.\n",
    "# 가령 name에 \"Braund, Mr. Owen Harris\"가 들어오면 최종 결과는 Braund를 반환해줍니다.\n",
    "def get_surname(name):\n",
    "    # 먼저 name을 , 을 기준으로 쪼갭니다. 쪼갠 결과는 0) Braund와 1) Mr. Owen Harris가 됩니다.\n",
    "    # 여기서 0)번을 반환합니다. 최종적으로는 Braund를 반환하게 됩니다.\n",
    "    # 해당 값을 surname이라는 이름의 변수에 할당합니다.\n",
    "    surname = name.split(\", \")[0]\n",
    "    \n",
    "    # surname을 반환합니다.\n",
    "    return surname\n",
    "\n",
    "# 모든 Name 컬럼 데이터에 get_surname 함수를 적용한 뒤\n",
    "# 그 결과를 Surname이라는 이름의 새로운 컬럼에 대입합니다.\n",
    "train[\"Surname\"] = train[\"Name\"].apply(get_surname)\n",
    "\n",
    "# train 변수에 할당된 데이터의 행렬 사이즈를 출력합니다.\n",
    "# 출력은 (row, column) 으로 표시됩니다.\n",
    "print(train.shape)\n",
    "\n",
    "# 이름(Name) 컬럼과 성(Surname) 컬럼만을 출력합니다.\n",
    "train[[\"Name\", \"Surname\"]].head()"
   ]
  },
  {
   "cell_type": "code",
   "execution_count": 74,
   "metadata": {
    "tags": []
   },
   "outputs": [
    {
     "output_type": "stream",
     "name": "stdout",
     "text": "(891, 34)\n"
    },
    {
     "output_type": "execute_result",
     "data": {
      "text/plain": "                                                          Name    Surname  \\\nPassengerId                                                                 \n1                                      Braund, Mr. Owen Harris     Braund   \n2            Cumings, Mrs. John Bradley (Florence Briggs Th...    Cumings   \n3                                       Heikkinen, Miss. Laina  Heikkinen   \n4                 Futrelle, Mrs. Jacques Heath (Lily May Peel)   Futrelle   \n5                                     Allen, Mr. William Henry      Allen   \n\n            FamilySize    FamilyID  \nPassengerId                         \n1                    2     Braund2  \n2                    2    Cumings2  \n3                    1  Heikkinen1  \n4                    2   Futrelle2  \n5                    1      Allen1  ",
      "text/html": "<div>\n<style scoped>\n    .dataframe tbody tr th:only-of-type {\n        vertical-align: middle;\n    }\n\n    .dataframe tbody tr th {\n        vertical-align: top;\n    }\n\n    .dataframe thead th {\n        text-align: right;\n    }\n</style>\n<table border=\"1\" class=\"dataframe\">\n  <thead>\n    <tr style=\"text-align: right;\">\n      <th></th>\n      <th>Name</th>\n      <th>Surname</th>\n      <th>FamilySize</th>\n      <th>FamilyID</th>\n    </tr>\n    <tr>\n      <th>PassengerId</th>\n      <th></th>\n      <th></th>\n      <th></th>\n      <th></th>\n    </tr>\n  </thead>\n  <tbody>\n    <tr>\n      <th>1</th>\n      <td>Braund, Mr. Owen Harris</td>\n      <td>Braund</td>\n      <td>2</td>\n      <td>Braund2</td>\n    </tr>\n    <tr>\n      <th>2</th>\n      <td>Cumings, Mrs. John Bradley (Florence Briggs Th...</td>\n      <td>Cumings</td>\n      <td>2</td>\n      <td>Cumings2</td>\n    </tr>\n    <tr>\n      <th>3</th>\n      <td>Heikkinen, Miss. Laina</td>\n      <td>Heikkinen</td>\n      <td>1</td>\n      <td>Heikkinen1</td>\n    </tr>\n    <tr>\n      <th>4</th>\n      <td>Futrelle, Mrs. Jacques Heath (Lily May Peel)</td>\n      <td>Futrelle</td>\n      <td>2</td>\n      <td>Futrelle2</td>\n    </tr>\n    <tr>\n      <th>5</th>\n      <td>Allen, Mr. William Henry</td>\n      <td>Allen</td>\n      <td>1</td>\n      <td>Allen1</td>\n    </tr>\n  </tbody>\n</table>\n</div>"
     },
     "metadata": {},
     "execution_count": 74
    }
   ],
   "source": [
    "# **** <문제45> ****\n",
    "# 성(Surname)과 가족 수(FamilySize)를 앞뒤로 붙입니다.\n",
    "# 다만 문자열(str)과 정수형(int)는 덧셈이 되지 않기 때문에,\n",
    "# 정수형에 해당하는 가족 수(FamilySize) 컬럼을 .astype 함수를 이용하여 문자열로 변환합니다.\n",
    "# 그리고 덧셈의 결과를 가족 아이디(FamilyID)라는 이름의 컬럼에 할당합니다.\n",
    "train['FamilySize'] = train['FamilySize'].astype(str)\n",
    "train['FamilyID'] = train['Surname'] + train['FamilySize']\n",
    "# train 변수에 할당된 데이터의 행렬 사이즈를 출력합니다.\n",
    "# 출력은 (row, column) 으로 표시됩니다.\n",
    "print(train.shape)\n",
    "\n",
    "# 이름(Name) 컬럼과 성(Surname) 컬럼, 가족 수(FamilySize) 컬럼, 그리고 가족 아이디(FamilyID) 컬럼을 출력합니다.\n",
    "train[[\"Name\", \"Surname\", \"FamilySize\", \"FamilyID\"]].head()"
   ]
  },
  {
   "cell_type": "code",
   "execution_count": 75,
   "metadata": {},
   "outputs": [
    {
     "output_type": "execute_result",
     "data": {
      "text/plain": "<IPython.core.display.HTML object>",
      "text/html": "<!DOCTYPE html>\n<html lang=\"en\">\n<head>\n    <meta charset=\"UTF-8\">\n    <title>Title</title>\n</head>\n<body>\n<table border=\"1\" class=\"dataframe\">\n    <thead>\n      <tr style=\"text-align: right;\">\n        <th></th>\n\n        <th>Survived</th>\n\n        <th>Pclass</th>\n\n        <th>Name</th>\n\n        <th>Sex</th>\n\n        <th>Age</th>\n\n        <th>SibSp</th>\n\n        <th>Parch</th>\n\n        <th>Ticket</th>\n\n        <th>Fare</th>\n\n        <th>Cabin</th>\n\n        <th>...</th>\n\n        <th>Yousseff1</th>\n\n        <th>Yrois1</th>\n\n        <th>Zabour2</th>\n\n        <th>Zimmerman1</th>\n\n        <th>de Messemaeker2</th>\n\n        <th>de Mulder1</th>\n\n        <th>de Pelsmaeker1</th>\n\n        <th>del Carlo2</th>\n\n        <th>van Billiard3</th>\n\n        <th>van Melkebeke1</th>\n      </tr>\n\n      <tr>\n        <th>PassengerId</th>\n\n        <th></th>\n\n        <th></th>\n\n        <th></th>\n\n        <th></th>\n\n        <th></th>\n\n        <th></th>\n\n        <th></th>\n\n        <th></th>\n\n        <th></th>\n\n        <th></th>\n\n        <th></th>\n\n        <th></th>\n\n        <th></th>\n\n        <th></th>\n\n        <th></th>\n\n        <th></th>\n\n        <th></th>\n\n        <th></th>\n\n        <th></th>\n\n        <th></th>\n\n        <th></th>\n      </tr>\n    </thead>\n\n    <tbody>\n      <tr>\n        <th>1</th>\n\n        <td>0</td>\n\n        <td>3</td>\n\n        <td>Braund, Mr. Owen Harris</td>\n\n        <td>male</td>\n\n        <td>22.0</td>\n\n        <td>1</td>\n\n        <td>0</td>\n\n        <td>A/5 21171</td>\n\n        <td>7.2500</td>\n\n        <td>NaN</td>\n\n        <td>...</td>\n\n        <td>0</td>\n\n        <td>0</td>\n\n        <td>0</td>\n\n        <td>0</td>\n\n        <td>0</td>\n\n        <td>0</td>\n\n        <td>0</td>\n\n        <td>0</td>\n\n        <td>0</td>\n\n        <td>0</td>\n      </tr>\n\n      <tr>\n        <th>2</th>\n\n        <td>1</td>\n\n        <td>1</td>\n\n        <td>Cumings, Mrs. John Bradley (Florence Briggs Th...</td>\n\n        <td>female</td>\n\n        <td>38.0</td>\n\n        <td>1</td>\n\n        <td>0</td>\n\n        <td>PC 17599</td>\n\n        <td>71.2833</td>\n\n        <td>C85</td>\n\n        <td>...</td>\n\n        <td>0</td>\n\n        <td>0</td>\n\n        <td>0</td>\n\n        <td>0</td>\n\n        <td>0</td>\n\n        <td>0</td>\n\n        <td>0</td>\n\n        <td>0</td>\n\n        <td>0</td>\n\n        <td>0</td>\n      </tr>\n\n      <tr>\n        <th>3</th>\n\n        <td>1</td>\n\n        <td>3</td>\n\n        <td>Heikkinen, Miss. Laina</td>\n\n        <td>female</td>\n\n        <td>26.0</td>\n\n        <td>0</td>\n\n        <td>0</td>\n\n        <td>STON/O2. 3101282</td>\n\n        <td>7.9250</td>\n\n        <td>NaN</td>\n\n        <td>...</td>\n\n        <td>0</td>\n\n        <td>0</td>\n\n        <td>0</td>\n\n        <td>0</td>\n\n        <td>0</td>\n\n        <td>0</td>\n\n        <td>0</td>\n\n        <td>0</td>\n\n        <td>0</td>\n\n        <td>0</td>\n      </tr>\n\n      <tr>\n        <th>4</th>\n\n        <td>1</td>\n\n        <td>1</td>\n\n        <td>Futrelle, Mrs. Jacques Heath (Lily May Peel)</td>\n\n        <td>female</td>\n\n        <td>35.0</td>\n\n        <td>1</td>\n\n        <td>0</td>\n\n        <td>113803</td>\n\n        <td>53.1000</td>\n\n        <td>C123</td>\n\n        <td>...</td>\n\n        <td>0</td>\n\n        <td>0</td>\n\n        <td>0</td>\n\n        <td>0</td>\n\n        <td>0</td>\n\n        <td>0</td>\n\n        <td>0</td>\n\n        <td>0</td>\n\n        <td>0</td>\n\n        <td>0</td>\n      </tr>\n\n      <tr>\n        <th>5</th>\n\n        <td>0</td>\n\n        <td>3</td>\n\n        <td>Allen, Mr. William Henry</td>\n\n        <td>male</td>\n\n        <td>35.0</td>\n\n        <td>0</td>\n\n        <td>0</td>\n\n        <td>373450</td>\n\n        <td>8.0500</td>\n\n        <td>NaN</td>\n\n        <td>...</td>\n\n        <td>0</td>\n\n        <td>0</td>\n\n        <td>0</td>\n\n        <td>0</td>\n\n        <td>0</td>\n\n        <td>0</td>\n\n        <td>0</td>\n\n        <td>0</td>\n\n        <td>0</td>\n\n        <td>0</td>\n      </tr>\n    </tbody>\n  </table>\n</body>\n</html>"
     },
     "metadata": {},
     "execution_count": 75
    }
   ],
   "source": [
    "HTML(filename=\"html/table24.html\")"
   ]
  },
  {
   "cell_type": "code",
   "execution_count": 76,
   "metadata": {},
   "outputs": [
    {
     "output_type": "execute_result",
     "data": {
      "text/plain": "array(['Braund2', 'Cumings2', 'Heikkinen1', 'Futrelle2', 'Allen1',\n       'Moran1', 'McCarthy1', 'Palsson5', 'Johnson3', 'Nasser2'],\n      dtype=object)"
     },
     "metadata": {},
     "execution_count": 76
    }
   ],
   "source": [
    "# **** <문제46> ****\n",
    "# 가족 아이디(FamilyID) 컬럼에서 중복을 제거합니다.\n",
    "# 그리고 그 결과를 family_ids라는 이름의 변수에 할당합니다.\n",
    "family_ids = train['FamilyID'].unique()\n",
    "\n",
    "\n",
    "# family_ids 변수에 할당된 데이터의 갯수를 출력합니다.\n",
    "\n",
    "\n",
    "# family_ids 변수에 할당된 리스트의 상위 10개만을 출력합니다.\n",
    "family_ids[0:10]"
   ]
  },
  {
   "cell_type": "code",
   "execution_count": 77,
   "metadata": {
    "tags": []
   },
   "outputs": [
    {
     "output_type": "stream",
     "name": "stdout",
     "text": "(891, 735)\n"
    },
    {
     "output_type": "execute_result",
     "data": {
      "text/plain": "             Survived  Pclass  \\\nPassengerId                     \n1                   0       3   \n2                   1       1   \n3                   1       3   \n4                   1       1   \n5                   0       3   \n\n                                                          Name     Sex   Age  \\\nPassengerId                                                                    \n1                                      Braund, Mr. Owen Harris    male  22.0   \n2            Cumings, Mrs. John Bradley (Florence Briggs Th...  female  38.0   \n3                                       Heikkinen, Miss. Laina  female  26.0   \n4                 Futrelle, Mrs. Jacques Heath (Lily May Peel)  female  35.0   \n5                                     Allen, Mr. William Henry    male  35.0   \n\n             SibSp  Parch            Ticket     Fare Cabin  ... Potter2  \\\nPassengerId                                                 ...           \n1                1      0         A/5 21171   7.2500   NaN  ...   False   \n2                1      0          PC 17599  71.2833   C85  ...   False   \n3                0      0  STON/O2. 3101282   7.9250   NaN  ...   False   \n4                1      0            113803  53.1000  C123  ...   False   \n5                0      0            373450   8.0500   NaN  ...   False   \n\n            Shelley2 Markun1 Dahlberg1  Banfield1  Sutehall1  Montvila1  \\\nPassengerId                                                               \n1              False   False     False      False      False      False   \n2              False   False     False      False      False      False   \n3              False   False     False      False      False      False   \n4              False   False     False      False      False      False   \n5              False   False     False      False      False      False   \n\n             Graham1  Behr1  Dooley1  \nPassengerId                           \n1              False  False    False  \n2              False  False    False  \n3              False  False    False  \n4              False  False    False  \n5              False  False    False  \n\n[5 rows x 735 columns]",
      "text/html": "<div>\n<style scoped>\n    .dataframe tbody tr th:only-of-type {\n        vertical-align: middle;\n    }\n\n    .dataframe tbody tr th {\n        vertical-align: top;\n    }\n\n    .dataframe thead th {\n        text-align: right;\n    }\n</style>\n<table border=\"1\" class=\"dataframe\">\n  <thead>\n    <tr style=\"text-align: right;\">\n      <th></th>\n      <th>Survived</th>\n      <th>Pclass</th>\n      <th>Name</th>\n      <th>Sex</th>\n      <th>Age</th>\n      <th>SibSp</th>\n      <th>Parch</th>\n      <th>Ticket</th>\n      <th>Fare</th>\n      <th>Cabin</th>\n      <th>...</th>\n      <th>Potter2</th>\n      <th>Shelley2</th>\n      <th>Markun1</th>\n      <th>Dahlberg1</th>\n      <th>Banfield1</th>\n      <th>Sutehall1</th>\n      <th>Montvila1</th>\n      <th>Graham1</th>\n      <th>Behr1</th>\n      <th>Dooley1</th>\n    </tr>\n    <tr>\n      <th>PassengerId</th>\n      <th></th>\n      <th></th>\n      <th></th>\n      <th></th>\n      <th></th>\n      <th></th>\n      <th></th>\n      <th></th>\n      <th></th>\n      <th></th>\n      <th></th>\n      <th></th>\n      <th></th>\n      <th></th>\n      <th></th>\n      <th></th>\n      <th></th>\n      <th></th>\n      <th></th>\n      <th></th>\n      <th></th>\n    </tr>\n  </thead>\n  <tbody>\n    <tr>\n      <th>1</th>\n      <td>0</td>\n      <td>3</td>\n      <td>Braund, Mr. Owen Harris</td>\n      <td>male</td>\n      <td>22.0</td>\n      <td>1</td>\n      <td>0</td>\n      <td>A/5 21171</td>\n      <td>7.2500</td>\n      <td>NaN</td>\n      <td>...</td>\n      <td>False</td>\n      <td>False</td>\n      <td>False</td>\n      <td>False</td>\n      <td>False</td>\n      <td>False</td>\n      <td>False</td>\n      <td>False</td>\n      <td>False</td>\n      <td>False</td>\n    </tr>\n    <tr>\n      <th>2</th>\n      <td>1</td>\n      <td>1</td>\n      <td>Cumings, Mrs. John Bradley (Florence Briggs Th...</td>\n      <td>female</td>\n      <td>38.0</td>\n      <td>1</td>\n      <td>0</td>\n      <td>PC 17599</td>\n      <td>71.2833</td>\n      <td>C85</td>\n      <td>...</td>\n      <td>False</td>\n      <td>False</td>\n      <td>False</td>\n      <td>False</td>\n      <td>False</td>\n      <td>False</td>\n      <td>False</td>\n      <td>False</td>\n      <td>False</td>\n      <td>False</td>\n    </tr>\n    <tr>\n      <th>3</th>\n      <td>1</td>\n      <td>3</td>\n      <td>Heikkinen, Miss. Laina</td>\n      <td>female</td>\n      <td>26.0</td>\n      <td>0</td>\n      <td>0</td>\n      <td>STON/O2. 3101282</td>\n      <td>7.9250</td>\n      <td>NaN</td>\n      <td>...</td>\n      <td>False</td>\n      <td>False</td>\n      <td>False</td>\n      <td>False</td>\n      <td>False</td>\n      <td>False</td>\n      <td>False</td>\n      <td>False</td>\n      <td>False</td>\n      <td>False</td>\n    </tr>\n    <tr>\n      <th>4</th>\n      <td>1</td>\n      <td>1</td>\n      <td>Futrelle, Mrs. Jacques Heath (Lily May Peel)</td>\n      <td>female</td>\n      <td>35.0</td>\n      <td>1</td>\n      <td>0</td>\n      <td>113803</td>\n      <td>53.1000</td>\n      <td>C123</td>\n      <td>...</td>\n      <td>False</td>\n      <td>False</td>\n      <td>False</td>\n      <td>False</td>\n      <td>False</td>\n      <td>False</td>\n      <td>False</td>\n      <td>False</td>\n      <td>False</td>\n      <td>False</td>\n    </tr>\n    <tr>\n      <th>5</th>\n      <td>0</td>\n      <td>3</td>\n      <td>Allen, Mr. William Henry</td>\n      <td>male</td>\n      <td>35.0</td>\n      <td>0</td>\n      <td>0</td>\n      <td>373450</td>\n      <td>8.0500</td>\n      <td>NaN</td>\n      <td>...</td>\n      <td>False</td>\n      <td>False</td>\n      <td>False</td>\n      <td>False</td>\n      <td>False</td>\n      <td>False</td>\n      <td>False</td>\n      <td>False</td>\n      <td>False</td>\n      <td>False</td>\n    </tr>\n  </tbody>\n</table>\n<p>5 rows × 735 columns</p>\n</div>"
     },
     "metadata": {},
     "execution_count": 77
    }
   ],
   "source": [
    "# family_ids 리스트 안에 있는 모든 값을 반복문을 통해 꺼내옵니다.\n",
    "# 꺼내온 값을 family_id라는 이름의 변수에 할당합니다.\n",
    "for family_id in family_ids:\n",
    "    # 가족 아이디(FamilyID) 컬럼값이 family_id 변수에 할당된 값과 일치하면 True, 그렇지 않으면 False를 반환합니다.\n",
    "    # 그 결과를 family_id 변수에 할당된 값을 이름으로 하는 새로운 컬럼에 추가합니다.\n",
    "\n",
    "    # 가령 family_id 변수에 Braund2가 할당되어 있을 경우,\n",
    "    # 가족 아이디(FamilyID) 가 Braund2인 경우에는 True, 아니면 False를 반환하는 리스트를 만들고\n",
    "    # 그 결과를 Braund2 이름의 새로운 컬럼에 할당합니다.\n",
    "    train[family_id] = train[\"FamilyID\"] == family_id\n",
    "    \n",
    "# train 변수에 할당된 데이터의 행렬 사이즈를 출력합니다.\n",
    "# 출력은 (row, column) 으로 표시됩니다.\n",
    "print(train.shape)\n",
    "\n",
    "# train 데이터의 상위 5개를 출력합니다.\n",
    "train.head()"
   ]
  },
  {
   "cell_type": "code",
   "execution_count": 78,
   "metadata": {},
   "outputs": [
    {
     "output_type": "execute_result",
     "data": {
      "text/plain": "             Abbing1  Abbott3  Abelson2  Adahl1  Adams1  Ahlin2  Aks2  \\\nPassengerId                                                             \n1                  0        0         0       0       0       0     0   \n2                  0        0         0       0       0       0     0   \n3                  0        0         0       0       0       0     0   \n4                  0        0         0       0       0       0     0   \n5                  0        0         0       0       0       0     0   \n\n             Albimona1  Alexander1  Alhomaki1  ...  Yousseff1  Yrois1  \\\nPassengerId                                    ...                      \n1                    0           0          0  ...          0       0   \n2                    0           0          0  ...          0       0   \n3                    0           0          0  ...          0       0   \n4                    0           0          0  ...          0       0   \n5                    0           0          0  ...          0       0   \n\n             Zabour2  Zimmerman1  de Messemaeker2  de Mulder1  de Pelsmaeker1  \\\nPassengerId                                                                     \n1                  0           0                0           0               0   \n2                  0           0                0           0               0   \n3                  0           0                0           0               0   \n4                  0           0                0           0               0   \n5                  0           0                0           0               0   \n\n             del Carlo2  van Billiard3  van Melkebeke1  \nPassengerId                                             \n1                     0              0               0  \n2                     0              0               0  \n3                     0              0               0  \n4                     0              0               0  \n5                     0              0               0  \n\n[5 rows x 701 columns]",
      "text/html": "<div>\n<style scoped>\n    .dataframe tbody tr th:only-of-type {\n        vertical-align: middle;\n    }\n\n    .dataframe tbody tr th {\n        vertical-align: top;\n    }\n\n    .dataframe thead th {\n        text-align: right;\n    }\n</style>\n<table border=\"1\" class=\"dataframe\">\n  <thead>\n    <tr style=\"text-align: right;\">\n      <th></th>\n      <th>Abbing1</th>\n      <th>Abbott3</th>\n      <th>Abelson2</th>\n      <th>Adahl1</th>\n      <th>Adams1</th>\n      <th>Ahlin2</th>\n      <th>Aks2</th>\n      <th>Albimona1</th>\n      <th>Alexander1</th>\n      <th>Alhomaki1</th>\n      <th>...</th>\n      <th>Yousseff1</th>\n      <th>Yrois1</th>\n      <th>Zabour2</th>\n      <th>Zimmerman1</th>\n      <th>de Messemaeker2</th>\n      <th>de Mulder1</th>\n      <th>de Pelsmaeker1</th>\n      <th>del Carlo2</th>\n      <th>van Billiard3</th>\n      <th>van Melkebeke1</th>\n    </tr>\n    <tr>\n      <th>PassengerId</th>\n      <th></th>\n      <th></th>\n      <th></th>\n      <th></th>\n      <th></th>\n      <th></th>\n      <th></th>\n      <th></th>\n      <th></th>\n      <th></th>\n      <th></th>\n      <th></th>\n      <th></th>\n      <th></th>\n      <th></th>\n      <th></th>\n      <th></th>\n      <th></th>\n      <th></th>\n      <th></th>\n      <th></th>\n    </tr>\n  </thead>\n  <tbody>\n    <tr>\n      <th>1</th>\n      <td>0</td>\n      <td>0</td>\n      <td>0</td>\n      <td>0</td>\n      <td>0</td>\n      <td>0</td>\n      <td>0</td>\n      <td>0</td>\n      <td>0</td>\n      <td>0</td>\n      <td>...</td>\n      <td>0</td>\n      <td>0</td>\n      <td>0</td>\n      <td>0</td>\n      <td>0</td>\n      <td>0</td>\n      <td>0</td>\n      <td>0</td>\n      <td>0</td>\n      <td>0</td>\n    </tr>\n    <tr>\n      <th>2</th>\n      <td>0</td>\n      <td>0</td>\n      <td>0</td>\n      <td>0</td>\n      <td>0</td>\n      <td>0</td>\n      <td>0</td>\n      <td>0</td>\n      <td>0</td>\n      <td>0</td>\n      <td>...</td>\n      <td>0</td>\n      <td>0</td>\n      <td>0</td>\n      <td>0</td>\n      <td>0</td>\n      <td>0</td>\n      <td>0</td>\n      <td>0</td>\n      <td>0</td>\n      <td>0</td>\n    </tr>\n    <tr>\n      <th>3</th>\n      <td>0</td>\n      <td>0</td>\n      <td>0</td>\n      <td>0</td>\n      <td>0</td>\n      <td>0</td>\n      <td>0</td>\n      <td>0</td>\n      <td>0</td>\n      <td>0</td>\n      <td>...</td>\n      <td>0</td>\n      <td>0</td>\n      <td>0</td>\n      <td>0</td>\n      <td>0</td>\n      <td>0</td>\n      <td>0</td>\n      <td>0</td>\n      <td>0</td>\n      <td>0</td>\n    </tr>\n    <tr>\n      <th>4</th>\n      <td>0</td>\n      <td>0</td>\n      <td>0</td>\n      <td>0</td>\n      <td>0</td>\n      <td>0</td>\n      <td>0</td>\n      <td>0</td>\n      <td>0</td>\n      <td>0</td>\n      <td>...</td>\n      <td>0</td>\n      <td>0</td>\n      <td>0</td>\n      <td>0</td>\n      <td>0</td>\n      <td>0</td>\n      <td>0</td>\n      <td>0</td>\n      <td>0</td>\n      <td>0</td>\n    </tr>\n    <tr>\n      <th>5</th>\n      <td>0</td>\n      <td>0</td>\n      <td>0</td>\n      <td>0</td>\n      <td>0</td>\n      <td>0</td>\n      <td>0</td>\n      <td>0</td>\n      <td>0</td>\n      <td>0</td>\n      <td>...</td>\n      <td>0</td>\n      <td>0</td>\n      <td>0</td>\n      <td>0</td>\n      <td>0</td>\n      <td>0</td>\n      <td>0</td>\n      <td>0</td>\n      <td>0</td>\n      <td>0</td>\n    </tr>\n  </tbody>\n</table>\n<p>5 rows × 701 columns</p>\n</div>"
     },
     "metadata": {},
     "execution_count": 78
    }
   ],
   "source": [
    "# **** <문제47> ****\n",
    "# pandas의 get_dummies를 활용합니다.\n",
    "# 이 함수를 사용하면 가족 아이디(FamilyID)에 있는 모든 값을 자동으로 One Hot Encoding 해줍니다.\n",
    "family_ids = pd.get_dummies(train['FamilyID'])\n",
    "\n",
    "# family_ids 변수에 할당된 데이터의 행렬 사이즈를 출력합니다.\n",
    "# 출력은 (row, column) 으로 표시됩니다.\n",
    "\n",
    "\n",
    "\n",
    "# family_ids 데이터의 상위 5개를 출력합니다.\n",
    "family_ids.head()"
   ]
  },
  {
   "cell_type": "code",
   "execution_count": 79,
   "metadata": {
    "tags": []
   },
   "outputs": [
    {
     "output_type": "execute_result",
     "data": {
      "text/plain": "             Survived  Pclass  \\\nPassengerId                     \n1                   0       3   \n2                   1       1   \n3                   1       3   \n4                   1       1   \n5                   0       3   \n\n                                                          Name     Sex   Age  \\\nPassengerId                                                                    \n1                                      Braund, Mr. Owen Harris    male  22.0   \n2            Cumings, Mrs. John Bradley (Florence Briggs Th...  female  38.0   \n3                                       Heikkinen, Miss. Laina  female  26.0   \n4                 Futrelle, Mrs. Jacques Heath (Lily May Peel)  female  35.0   \n5                                     Allen, Mr. William Henry    male  35.0   \n\n             SibSp  Parch            Ticket     Fare Cabin  ... Yousseff1  \\\nPassengerId                                                 ...             \n1                1      0         A/5 21171   7.2500   NaN  ...         0   \n2                1      0          PC 17599  71.2833   C85  ...         0   \n3                0      0  STON/O2. 3101282   7.9250   NaN  ...         0   \n4                1      0            113803  53.1000  C123  ...         0   \n5                0      0            373450   8.0500   NaN  ...         0   \n\n            Yrois1 Zabour2 Zimmerman1  de Messemaeker2  de Mulder1  \\\nPassengerId                                                          \n1                0       0          0                0           0   \n2                0       0          0                0           0   \n3                0       0          0                0           0   \n4                0       0          0                0           0   \n5                0       0          0                0           0   \n\n             de Pelsmaeker1  del Carlo2  van Billiard3  van Melkebeke1  \nPassengerId                                                             \n1                         0           0              0               0  \n2                         0           0              0               0  \n3                         0           0              0               0  \n4                         0           0              0               0  \n5                         0           0              0               0  \n\n[5 rows x 1436 columns]",
      "text/html": "<div>\n<style scoped>\n    .dataframe tbody tr th:only-of-type {\n        vertical-align: middle;\n    }\n\n    .dataframe tbody tr th {\n        vertical-align: top;\n    }\n\n    .dataframe thead th {\n        text-align: right;\n    }\n</style>\n<table border=\"1\" class=\"dataframe\">\n  <thead>\n    <tr style=\"text-align: right;\">\n      <th></th>\n      <th>Survived</th>\n      <th>Pclass</th>\n      <th>Name</th>\n      <th>Sex</th>\n      <th>Age</th>\n      <th>SibSp</th>\n      <th>Parch</th>\n      <th>Ticket</th>\n      <th>Fare</th>\n      <th>Cabin</th>\n      <th>...</th>\n      <th>Yousseff1</th>\n      <th>Yrois1</th>\n      <th>Zabour2</th>\n      <th>Zimmerman1</th>\n      <th>de Messemaeker2</th>\n      <th>de Mulder1</th>\n      <th>de Pelsmaeker1</th>\n      <th>del Carlo2</th>\n      <th>van Billiard3</th>\n      <th>van Melkebeke1</th>\n    </tr>\n    <tr>\n      <th>PassengerId</th>\n      <th></th>\n      <th></th>\n      <th></th>\n      <th></th>\n      <th></th>\n      <th></th>\n      <th></th>\n      <th></th>\n      <th></th>\n      <th></th>\n      <th></th>\n      <th></th>\n      <th></th>\n      <th></th>\n      <th></th>\n      <th></th>\n      <th></th>\n      <th></th>\n      <th></th>\n      <th></th>\n      <th></th>\n    </tr>\n  </thead>\n  <tbody>\n    <tr>\n      <th>1</th>\n      <td>0</td>\n      <td>3</td>\n      <td>Braund, Mr. Owen Harris</td>\n      <td>male</td>\n      <td>22.0</td>\n      <td>1</td>\n      <td>0</td>\n      <td>A/5 21171</td>\n      <td>7.2500</td>\n      <td>NaN</td>\n      <td>...</td>\n      <td>0</td>\n      <td>0</td>\n      <td>0</td>\n      <td>0</td>\n      <td>0</td>\n      <td>0</td>\n      <td>0</td>\n      <td>0</td>\n      <td>0</td>\n      <td>0</td>\n    </tr>\n    <tr>\n      <th>2</th>\n      <td>1</td>\n      <td>1</td>\n      <td>Cumings, Mrs. John Bradley (Florence Briggs Th...</td>\n      <td>female</td>\n      <td>38.0</td>\n      <td>1</td>\n      <td>0</td>\n      <td>PC 17599</td>\n      <td>71.2833</td>\n      <td>C85</td>\n      <td>...</td>\n      <td>0</td>\n      <td>0</td>\n      <td>0</td>\n      <td>0</td>\n      <td>0</td>\n      <td>0</td>\n      <td>0</td>\n      <td>0</td>\n      <td>0</td>\n      <td>0</td>\n    </tr>\n    <tr>\n      <th>3</th>\n      <td>1</td>\n      <td>3</td>\n      <td>Heikkinen, Miss. Laina</td>\n      <td>female</td>\n      <td>26.0</td>\n      <td>0</td>\n      <td>0</td>\n      <td>STON/O2. 3101282</td>\n      <td>7.9250</td>\n      <td>NaN</td>\n      <td>...</td>\n      <td>0</td>\n      <td>0</td>\n      <td>0</td>\n      <td>0</td>\n      <td>0</td>\n      <td>0</td>\n      <td>0</td>\n      <td>0</td>\n      <td>0</td>\n      <td>0</td>\n    </tr>\n    <tr>\n      <th>4</th>\n      <td>1</td>\n      <td>1</td>\n      <td>Futrelle, Mrs. Jacques Heath (Lily May Peel)</td>\n      <td>female</td>\n      <td>35.0</td>\n      <td>1</td>\n      <td>0</td>\n      <td>113803</td>\n      <td>53.1000</td>\n      <td>C123</td>\n      <td>...</td>\n      <td>0</td>\n      <td>0</td>\n      <td>0</td>\n      <td>0</td>\n      <td>0</td>\n      <td>0</td>\n      <td>0</td>\n      <td>0</td>\n      <td>0</td>\n      <td>0</td>\n    </tr>\n    <tr>\n      <th>5</th>\n      <td>0</td>\n      <td>3</td>\n      <td>Allen, Mr. William Henry</td>\n      <td>male</td>\n      <td>35.0</td>\n      <td>0</td>\n      <td>0</td>\n      <td>373450</td>\n      <td>8.0500</td>\n      <td>NaN</td>\n      <td>...</td>\n      <td>0</td>\n      <td>0</td>\n      <td>0</td>\n      <td>0</td>\n      <td>0</td>\n      <td>0</td>\n      <td>0</td>\n      <td>0</td>\n      <td>0</td>\n      <td>0</td>\n    </tr>\n  </tbody>\n</table>\n<p>5 rows × 1436 columns</p>\n</div>"
     },
     "metadata": {},
     "execution_count": 79
    }
   ],
   "source": [
    "# **** <문제48> ****\n",
    "# .concat 함수를 사용하여 train 데이터와 family_ids 데이터를 하나로 합칩니다.\n",
    "# 여기서 axis=0을 주면 두 개의 데이터를 위-아래로 합치고, axis=1을 주면 두 개의 데이터를 왼쪽-오른쪽으로 합칩니다.\n",
    "# 그 결과를 다시 train 변수에 할당합니다.\n",
    "train = pd.concat([train, family_ids], axis=1)\n",
    "\n",
    "# train 변수에 할당된 데이터의 행렬 사이즈를 출력합니다.\n",
    "# 출력은 (row, column) 으로 표시됩니다.\n",
    "\n",
    "\n",
    "\n",
    "# train 데이터의 상위 5개를 출력합니다.\n",
    "train.head()"
   ]
  }
 ]
}