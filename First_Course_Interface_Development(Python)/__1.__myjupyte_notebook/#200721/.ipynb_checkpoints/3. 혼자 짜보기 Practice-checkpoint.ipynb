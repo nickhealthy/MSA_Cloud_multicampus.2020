{
 "cells": [
  {
   "cell_type": "code",
   "execution_count": 50,
   "metadata": {},
   "outputs": [
    {
     "name": "stdout",
     "output_type": "stream",
     "text": [
      "a 태그 개수 6\n"
     ]
    },
    {
     "data": {
      "text/plain": [
       "[{'title': '패밀리 사이즈',\n",
       "  'link': 'https://comic.naver.com/webtoon/list.nhn?titleId=626906'},\n",
       " {'title': '마음의소리',\n",
       "  'link': 'https://comic.naver.com/webtoon/list.nhn?titleId=20853'},\n",
       " {'title': '윌유메리미',\n",
       "  'link': 'https://comic.naver.com/webtoon/list.nhn?titleId=616239'},\n",
       " {'title': '오늘의 순정망화',\n",
       "  'link': 'https://comic.naver.com/webtoon/list.nhn?titleId=716857'},\n",
       " {'title': '자판귀',\n",
       "  'link': 'https://comic.naver.com/webtoon/list.nhn?titleId=703850'},\n",
       " {'title': '한림체육관',\n",
       "  'link': 'https://comic.naver.com/webtoon/list.nhn?titleId=743139'}]"
      ]
     },
     "execution_count": 50,
     "metadata": {},
     "output_type": "execute_result"
    }
   ],
   "source": [
    "import requests\n",
    "from bs4 import BeautifulSoup\n",
    "from urllib.parse import urljoin # 절대경로가 아니여서 해줘야함  ex) /webtoon/list.nhn?titleId=626906 << 앞에 http: 등의 URL이 정확히 되있지않음\n",
    "import os\n",
    "\n",
    "# 통신 설정\n",
    "main_url = 'https://comic.naver.com/index.nhn'\n",
    "res = requests.get(main_url) # requests.get = 서버에 페이지를 요청를 하는거임\n",
    "# print(response, response.status_code)     http 상태 코드 확인\n",
    "html = res.text          # 페이지 소스보기 창임 = HTML 코드 전체를 불러온다고 봐도 무방\n",
    "soup = BeautifulSoup(html, 'html.parser') # 필요없는거 다 지우고 'html' - parsing 작업 // soup = BeautifulSoup object 생성 = (객체생성)\n",
    "# print(type(soup.select('#genreRecommand li > a'))) # '#'를 써줘서 ul 태그를 제외하고 고유 ID로 대체함 // .select 함수를 쓰면 LIST 화 됌\n",
    "# print(len(soup.select('#genreRecommand li')))  # #genreRecommand' 밑에 있는 list 숫자들\n",
    "print('a 태그 개수', len(soup.select('#genreRecommand h6 a')))  # '#genreRecommand h6 a' 있는 a의 태그 숫자들\n",
    "webtoon_list = [] # 리스트 안에 ditc 로 이중 리스트화\n",
    "for a_tag in soup.select('#genreRecommand h6 a'): # '#genreRecommand h6 a' 태그 안에 있는 정보들만 가져옴\n",
    "    title = a_tag.text.strip() # 공백제거 strip()\n",
    "    # link = a_tag['href'] # href 속성 = 키워드로 값만 뽑아내기\n",
    "    link = urljoin(main_url, a_tag['href']) # http:// 같은 URL 들을 join 함수로 서로 (refrer) 연결\n",
    "    # print(title, link) 타이틀이랑 링크 값만 뽑아낸거 확인\n",
    "    webtoon_list.append({'title':title, 'link':link})\n",
    "\n",
    "webtoon_list"
   ]
  },
  {
   "cell_type": "markdown",
   "metadata": {},
   "source": []
  }
 ],
 "metadata": {
  "kernelspec": {
   "display_name": "Python 3",
   "language": "python",
   "name": "python3"
  },
  "language_info": {
   "codemirror_mode": {
    "name": "ipython",
    "version": 3
   },
   "file_extension": ".py",
   "mimetype": "text/x-python",
   "name": "python",
   "nbconvert_exporter": "python",
   "pygments_lexer": "ipython3",
   "version": "3.7.0"
  }
 },
 "nbformat": 4,
 "nbformat_minor": 2
}
