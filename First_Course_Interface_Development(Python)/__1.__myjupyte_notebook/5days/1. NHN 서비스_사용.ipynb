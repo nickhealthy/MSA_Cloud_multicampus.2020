{ 
 "cells": [
  {
   "cell_type": "markdown",
   "metadata": {},
   "source": [
    "### 1. NHN 뉴스 제목 검색\n",
    "* requests, beautifulsoup 사용\n",
    "* css selector - attribute 선택자 사용"
   ]
  },
  {
   "cell_type": "code",
   "execution_count": 31,
   "metadata": {},
   "outputs": [],
   "source": [
    "import requests\n",
    "from bs4 import BeautifulSoup\n",
    "from urllib.parse import urljoin         # urllib 모듈을 이용해 join 함수 사용"
   ]
  },
  {
   "cell_type": "code",
   "execution_count": 32,
   "metadata": {},
   "outputs": [
    {
     "name": "stdout",
     "output_type": "stream",
     "text": [
      "status code : 200\n",
      "response header :  {'date': 'Mon, 20 Jul 2020 06:48:34 GMT', 'cache-control': 'no-cache', 'expires': 'Thu, 01 Jan 1970 00:00:00 GMT', 'set-cookie': 'JSESSIONID=4C9C739A241BD9F8E0732CBAEBC1A64E; Path=/main; HttpOnly', 'content-language': 'ko-KR', 'vary': 'Accept-Encoding', 'content-encoding': 'gzip', 'transfer-encoding': 'chunked', 'content-type': 'text/html;charset=EUC-KR', 'referrer-policy': 'unsafe-url', 'server': 'nfront'}\n"
     ]
    },
    {
     "data": {
      "text/plain": [
       "'text/html;charset=EUC-KR'"
      ]
     },
     "execution_count": 32,
     "metadata": {},
     "output_type": "execute_result"
    }
   ],
   "source": [
    "url = 'https://news.naver.com/'\n",
    "response = requests.get(url)\n",
    "print('status code :', response.status_code)\n",
    "print('response header : ', response.headers) # network.Headers 정보들(설정 값)을 보여줌\n",
    "response.headers['content-type'] # headers 의 많은 정보들중 원하는 정보만 출력"
   ]
  },
  {
   "cell_type": "code",
   "execution_count": 33,
   "metadata": {},
   "outputs": [],
   "source": [
    "# 응답 데이터 텍스트\n",
    "html = response.text # 페이지 소스보기랑 동일한 값"
   ]
  },
  {
   "cell_type": "code",
   "execution_count": 39,
   "metadata": {},
   "outputs": [
    {
     "name": "stdout",
     "output_type": "stream",
     "text": [
      "<class 'list'> 109\n",
      "0 :  '수돗물 공포' 인천·서울·부산 확산…샤워필터… https://news.naver.com/main/read.nhn?mode=LSD&mid=shm&sid1=102&oid=025&aid=0003019021\n",
      "------\n",
      "1 :  한동훈측 \"KBS, 허위정보 취재원 안 밝히면 고… https://news.naver.com/main/read.nhn?mode=LSD&mid=shm&sid1=102&oid=421&aid=0004765485\n",
      "------\n",
      "2 :  '검언유착 의혹' 구속된 전 채널A 기자 검찰 조사(종합) https://news.naver.com/main/read.nhn?mode=LSD&mid=shm&sid1=102&oid=001&aid=0011757251\n",
      "------\n",
      "3 :  \"고마워, 화물\"…대한항공·아시아나 '깜짝 실적' https://news.naver.com/main/read.nhn?mode=LSD&mid=shm&sid1=101&oid=015&aid=0004383768\n",
      "------\n",
      "4 :  서울 대원·영훈, '국제중' 지위 박탈…교육부 \"교육청 평가 적정\"(종합) https://news.naver.com/main/read.nhn?mode=LSD&mid=shm&sid1=102&oid=421&aid=0004765466\n",
      "------\n",
      "5 :  문 대통령·정 총리 \"그린벨트 계속 보존\" https://news.naver.com/main/read.nhn?mode=LSD&mid=shm&sid1=100&oid=052&aid=0001467042\n",
      "------\n",
      "6 :  '감당못할 수준 방위비' 강요하는 美…주한미군 감축설 까지 https://news.naver.com/main/read.nhn?mode=LSD&mid=shm&sid1=100&oid=421&aid=0004765512\n",
      "------\n",
      "7 :   https://news.naver.com/main/read.nhn?mode=LSD&mid=shm&sid1=100&oid=006&aid=0000103634\n",
      "------\n",
      "8 :  한상혁 방통위원장 청문회에서 난타당한 KBS 보도 https://news.naver.com/main/read.nhn?mode=LSD&mid=shm&sid1=100&oid=006&aid=0000103634\n",
      "------\n",
      "9 :  \"재보궐서 유권자 심판 당당히 받겠다\"는 김두관···진중권 \"원래 사기성 농후\" https://news.naver.com/main/read.nhn?mode=LSD&mid=shm&sid1=100&oid=011&aid=0003771117\n",
      "------\n",
      "10 :  \"일하는 국회하자더니\"…박원순·검언유착 상임위 곳곳 격돌 https://news.naver.com/main/read.nhn?mode=LSD&mid=shm&sid1=100&oid=421&aid=0004765580\n",
      "------\n",
      "11 :  주한미군 감축설, 현실화 된다면 어떻게 이뤄질까 https://news.naver.com/main/read.nhn?mode=LSD&mid=shm&sid1=100&oid=081&aid=0003108816\n",
      "------\n",
      "12 :  \"진보·호남도 분노\"…통합당이 '부동산 올인'하는 이유 https://news.naver.com/main/read.nhn?mode=LSD&mid=shm&sid1=100&oid=015&aid=0004383754\n",
      "------\n",
      "13 :  김정은 '전쟁억제력' 천명 다음날 한반도에 정찰기 투입한 美 https://news.naver.com/main/read.nhn?mode=LSD&mid=shm&sid1=100&oid=011&aid=0003771112\n",
      "------\n",
      "14 :   https://news.naver.com/main/read.nhn?mode=LSD&mid=shm&sid1=101&oid=029&aid=0002612034\n",
      "------\n",
      "15 :  결국 물 건너간 강남 그린벨트 해제…정부 플랜B는 있을까 https://news.naver.com/main/read.nhn?mode=LSD&mid=shm&sid1=101&oid=029&aid=0002612034\n",
      "------\n",
      "16 :  “8월 17일 임시공휴일 검토”…피로감·경제 상황 고려 https://news.naver.com/main/read.nhn?mode=LSD&mid=shm&sid1=101&oid=449&aid=0000194985\n",
      "------\n",
      "17 :  셀트리온 코로나19 항체치료제, 올 9월 '상업생산' 간다 https://news.naver.com/main/read.nhn?mode=LSD&mid=shm&sid1=101&oid=417&aid=0000570442\n",
      "------\n",
      "18 :  열흘새 8억 급등...파크리오 전셋값 '미스터리' https://news.naver.com/main/read.nhn?mode=LSD&mid=shm&sid1=101&oid=023&aid=0003547793\n",
      "------\n",
      "19 :  \"형이 왜 거기서 나와\"···정용진, 강릉 이마트 깜짝 방문한 사연은 https://news.naver.com/main/read.nhn?mode=LSD&mid=shm&sid1=101&oid=011&aid=0003771119\n",
      "------\n",
      "20 :  \"고마워, 화물\"…대한항공·아시아나 '깜짝 실적' https://news.naver.com/main/read.nhn?mode=LSD&mid=shm&sid1=101&oid=015&aid=0004383768\n",
      "------\n",
      "21 :  동영상 기사 https://news.naver.com/main/read.nhn?mode=LSD&mid=shm&sid1=102&oid=422&aid=0000438751\n",
      "------\n",
      "22 :  [사건큐브] 경찰 '박원순 사건' 수사…피해자 측 2차 회견 예고 https://news.naver.com/main/read.nhn?mode=LSD&mid=shm&sid1=102&oid=422&aid=0000438751\n",
      "------\n",
      "23 :  \"무직\" 거짓말에 '7차 감염'까지···구속된 인천 학원강사 \"감염된 이들에게 죄송\" https://news.naver.com/main/read.nhn?mode=LSD&mid=shm&sid1=102&oid=011&aid=0003771123\n",
      "------\n",
      "24 :  이재명 \"민주당, 서울·부산시장 재보궐 무공천해야\" https://news.naver.com/main/read.nhn?mode=LSD&mid=shm&sid1=102&oid=006&aid=0000103633\n",
      "------\n",
      "25 :  김창룡 \"박원순 성추행 고소 사실 경찰서 유출된 것 아냐\" https://news.naver.com/main/read.nhn?mode=LSD&mid=shm&sid1=102&oid=366&aid=0000557164\n",
      "------\n",
      "26 :  [세상터치]이번 주말부터 ‘빈집털이’ 조심…‘새벽’·‘창문’ 노린다 https://news.naver.com/main/read.nhn?mode=LSD&mid=shm&sid1=102&oid=449&aid=0000194984\n",
      "------\n",
      "27 :  허위신고 후 경찰에 칼 휘두른 40대 남성, 2심서 형량 반토막 왜? https://news.naver.com/main/read.nhn?mode=LSD&mid=shm&sid1=102&oid=018&aid=0004694301\n",
      "------\n",
      "28 :   https://news.naver.com/main/read.nhn?mode=LSD&mid=shm&sid1=103&oid=346&aid=0000033068\n",
      "------\n",
      "29 :  감염병 옮기는 '두 모기' 생김새 알아두세요 https://news.naver.com/main/read.nhn?mode=LSD&mid=shm&sid1=103&oid=346&aid=0000033068\n",
      "------\n",
      "30 :  \"디젤車, 내년부터 안 팔아요\"…친환경 가는 볼보 https://news.naver.com/main/read.nhn?mode=LSD&mid=shm&sid1=103&oid=015&aid=0004383728\n",
      "------\n",
      "31 :  [더오래]사랑, 은지가 자장면 먹고 싶다 할 때 같이 먹는 것 https://news.naver.com/main/read.nhn?mode=LSD&mid=shm&sid1=103&oid=025&aid=0003019041\n",
      "------\n",
      "32 :  연봉 ‘0’ 일론 머스크 CEO, 2조원 스톡옵션 터진다 https://news.naver.com/main/read.nhn?mode=LSD&mid=shm&sid1=103&oid=018&aid=0004694239\n",
      "------\n",
      "33 :  이순신이 관노와 동침? 난중일기 완역자가 답했다 https://news.naver.com/main/read.nhn?mode=LSD&mid=shm&sid1=103&oid=023&aid=0003547781\n",
      "------\n",
      "34 :  중고차‘책임보험 논란’에… 허위 성능상태점검 없도록 제도 손 본다 https://news.naver.com/main/read.nhn?mode=LSD&mid=shm&sid1=103&oid=417&aid=0000570400\n",
      "------\n",
      "35 :   https://news.naver.com/main/read.nhn?mode=LSD&mid=shm&sid1=104&oid=008&aid=0004442464\n",
      "------\n",
      "36 :  볼턴 \"주한미군 철수? 독재 국가에 잘못된 메시지 줄 것\" https://news.naver.com/main/read.nhn?mode=LSD&mid=shm&sid1=104&oid=008&aid=0004442464\n",
      "------\n",
      "37 :  세계은행, 日 국채 가치 급락 경고… “외국인 보유 비중 높아져” https://news.naver.com/main/read.nhn?mode=LSD&mid=shm&sid1=104&oid=366&aid=0000557152\n",
      "------\n",
      "38 :  중동의 ‘소국’ UAE, 아랍권 첫 화성탐사선 ‘아말’ 발사 https://news.naver.com/main/read.nhn?mode=LSD&mid=shm&sid1=104&oid=022&aid=0003486083\n",
      "------\n",
      "39 :  美中, 미얀마에서 뜬금없는 '설전' 왜? https://news.naver.com/main/read.nhn?mode=LSD&mid=shm&sid1=104&oid=469&aid=0000517539\n",
      "------\n",
      "40 :  32시간 교도소 머물며 두 사형수 집행 지켜본 기자의 르포 https://news.naver.com/main/read.nhn?mode=LSD&mid=shm&sid1=104&oid=081&aid=0003108807\n",
      "------\n",
      "41 :  뉴저지서 현직 판사 자택에 총격…아들 사망·남편 부상(종합) https://news.naver.com/main/read.nhn?mode=LSD&mid=shm&sid1=104&oid=003&aid=0009977245\n",
      "------\n",
      "42 :   https://news.naver.com/main/read.nhn?mode=LSD&mid=shm&sid1=105&oid=014&aid=0004463997\n",
      "------\n",
      "43 :  코로나19, 모기로 전염 안된다 https://news.naver.com/main/read.nhn?mode=LSD&mid=shm&sid1=105&oid=014&aid=0004463997\n",
      "------\n",
      "44 :  '디지털 뉴딜' 가속 페달…네이버·카카오 전략은? https://news.naver.com/main/read.nhn?mode=LSD&mid=shm&sid1=105&oid=031&aid=0000548428\n",
      "------\n",
      "45 :  2차 유료방송 재편 신호탄...현대HCN M&A D-3 https://news.naver.com/main/read.nhn?mode=LSD&mid=shm&sid1=105&oid=014&aid=0004463994\n",
      "------\n",
      "46 :  네이버 뉴스, ‘언론사 출처’ 강조...기사 제목 위 배치 https://news.naver.com/main/read.nhn?mode=LSD&mid=shm&sid1=105&oid=119&aid=0002415885\n",
      "------\n",
      "47 :  [단독]삼성·롯데·현대부터 KISTI까지 국내 290여곳 '정보탈취' 악성코드 감염 https://news.naver.com/main/read.nhn?mode=LSD&mid=shm&sid1=105&oid=030&aid=0002894210\n",
      "------\n",
      "48 :  김영배 \"네이버, 이용자 옷 치수·가족사진 등 정보 홍콩 저장\"(종합) https://news.naver.com/main/read.nhn?mode=LSD&mid=shm&sid1=105&oid=001&aid=0011757245\n",
      "------\n",
      "49 :  [단독] 볼턴 \"주한미군 감축하면 독재국가들에 잘못된 메시지\" https://news.naver.com/main/ranking/read.nhn?mid=etc&sid1=111&rankingType=popular_day&oid=009&aid=0004618489&date=20200720&type=1&rankingSeq=1&rankingSectionId=100\n",
      "------\n",
      "50 :  \"책임일꾼 싹 바꿔라\" 못마땅한 김정은 사진 보란듯 내보낸 北 https://news.naver.com/main/ranking/read.nhn?mid=etc&sid1=111&rankingType=popular_day&oid=025&aid=0003019017&date=20200720&type=1&rankingSeq=2&rankingSectionId=100\n",
      "------\n",
      "51 :  [1보] 문대통령 \"그린벨트, 해제 않고 보존하기로\" https://news.naver.com/main/ranking/read.nhn?mid=etc&sid1=111&rankingType=popular_day&oid=001&aid=0011756897&date=20200720&type=1&rankingSeq=3&rankingSectionId=100\n",
      "------\n",
      "52 :  [2보] 문대통령 \"그린벨트, 해제 않고 보존하기로\" https://news.naver.com/main/ranking/read.nhn?mid=etc&sid1=111&rankingType=popular_day&oid=001&aid=0011756924&date=20200720&type=1&rankingSeq=4&rankingSectionId=100\n",
      "------\n",
      "53 :  문 대통령-정 총리 “그린벨트, 해제하지 않고 보존” https://news.naver.com/main/ranking/read.nhn?mid=etc&sid1=111&rankingType=popular_day&oid=056&aid=0010871702&date=20200720&type=1&rankingSeq=5&rankingSectionId=100\n",
      "------\n",
      "54 :  文대통령 \"그린벨트, 해제 않고 보존키로\" https://news.naver.com/main/ranking/read.nhn?mid=etc&sid1=111&rankingType=popular_day&oid=023&aid=0003547771&date=20200720&type=1&rankingSeq=6&rankingSectionId=100\n",
      "------\n",
      "55 :  그린벨트 논란 종지부…文 \"미래세대 위해 해제않고 보존 결정\" https://news.naver.com/main/ranking/read.nhn?mid=etc&sid1=111&rankingType=popular_day&oid=025&aid=0003019019&date=20200720&type=1&rankingSeq=7&rankingSectionId=100\n",
      "------\n",
      "56 :  지상욱 \"이승만 박사? 그럼 문재인 변호사로 부르자\" https://news.naver.com/main/ranking/read.nhn?mid=etc&sid1=111&rankingType=popular_day&oid=023&aid=0003547732&date=20200720&type=1&rankingSeq=8&rankingSectionId=100\n",
      "------\n",
      "57 :  \"주한미군, 조심히 안다루면 재앙\" 우려 쏟아내는 미국 https://news.naver.com/main/ranking/read.nhn?mid=etc&sid1=111&rankingType=popular_day&oid=023&aid=0003547746&date=20200720&type=1&rankingSeq=9&rankingSectionId=100\n",
      "------\n",
      "58 :  [속보] 文대통령 \"그린벨트, 해제 안 한다\" https://news.naver.com/main/ranking/read.nhn?mid=etc&sid1=111&rankingType=popular_day&oid=629&aid=0000033852&date=20200720&type=1&rankingSeq=10&rankingSectionId=100\n",
      "------\n",
      "59 :  [집코노미] 60억 건물 매각한 류승범의 '신통방통 절세법' https://news.naver.com/main/ranking/read.nhn?mid=etc&sid1=111&rankingType=popular_day&oid=015&aid=0004383441&date=20200720&type=1&rankingSeq=1&rankingSectionId=101\n",
      "------\n",
      "60 :  \"보험 가입하고 렌터카 빌렸는데…수리비 4200만원 내라?\" https://news.naver.com/main/ranking/read.nhn?mid=etc&sid1=111&rankingType=popular_day&oid=015&aid=0004383545&date=20200720&type=1&rankingSeq=2&rankingSectionId=101\n",
      "------\n",
      "61 :  저축은행 정기예금 '문어발 가입' 가능해진다 https://news.naver.com/main/ranking/read.nhn?mid=etc&sid1=111&rankingType=popular_day&oid=025&aid=0003018988&date=20200720&type=1&rankingSeq=3&rankingSectionId=101\n",
      "------\n",
      "62 :  [속보]문 대통령 \"개발제한구역은 미래세대를 위해 계속 보존\" https://news.naver.com/main/ranking/read.nhn?mid=etc&sid1=111&rankingType=popular_day&oid=008&aid=0004442386&date=20200720&type=1&rankingSeq=4&rankingSectionId=101\n",
      "------\n",
      "63 :  [속보] 문 대통령 \"그린벨트, 해제 않고 보존하기로\" https://news.naver.com/main/ranking/read.nhn?mid=etc&sid1=111&rankingType=popular_day&oid=015&aid=0004383656&date=20200720&type=1&rankingSeq=5&rankingSectionId=101\n",
      "------\n",
      "64 :  갤럭시폴드2, 전작보다 싸다…\"폴더블폰 대중화 목적\" https://news.naver.com/main/ranking/read.nhn?mid=etc&sid1=111&rankingType=popular_day&oid=025&aid=0003018978&date=20200720&type=2&rankingSeq=6&rankingSectionId=101\n",
      "------\n",
      "65 :  [속보] 문대통령 “그린벨트, 해제 않고 보존하기로\" https://news.naver.com/main/ranking/read.nhn?mid=etc&sid1=111&rankingType=popular_day&oid=011&aid=0003771048&date=20200720&type=1&rankingSeq=7&rankingSectionId=101\n",
      "------\n",
      "66 :  420억에 강남아파트 통째로 사들인 사모펀드 논란 https://news.naver.com/main/ranking/read.nhn?mid=etc&sid1=111&rankingType=popular_day&oid=008&aid=0004442369&date=20200720&type=1&rankingSeq=8&rankingSectionId=101\n",
      "------\n",
      "67 :  그린벨트 당정청 혼선 1주일만에…침묵 깬 文대통령 \"계속 보존\" https://news.naver.com/main/ranking/read.nhn?mid=etc&sid1=111&rankingType=popular_day&oid=009&aid=0004618591&date=20200720&type=1&rankingSeq=9&rankingSectionId=101\n",
      "------\n",
      "68 :  문재인-정세균, 그린벨트 보존 뜻 모았다…\"태릉 골프장 등 활용\" https://news.naver.com/main/ranking/read.nhn?mid=etc&sid1=111&rankingType=popular_day&oid=008&aid=0004442398&date=20200720&type=1&rankingSeq=10&rankingSectionId=101\n",
      "------\n",
      "69 :  거짓말 학원강사에게 왜 그랬느냐고 물었더니 https://news.naver.com/main/ranking/read.nhn?mid=etc&sid1=111&rankingType=popular_day&oid=005&aid=0001343589&date=20200720&type=0&rankingSeq=1&rankingSectionId=102\n",
      "------\n",
      "70 :  “시속 30㎞ 이하지만…민식이법 적용” 2세 덮친 불법유턴 50대 https://news.naver.com/main/ranking/read.nhn?mid=etc&sid1=111&rankingType=popular_day&oid=081&aid=0003108766&date=20200720&type=1&rankingSeq=2&rankingSectionId=102\n",
      "------\n",
      "71 :  ‘슈퍼 전파자’ 인천 거짓말 학원강사 구속…“충격받아 거짓말”(종합) https://news.naver.com/main/ranking/read.nhn?mid=etc&sid1=111&rankingType=popular_day&oid=081&aid=0003108759&date=20200720&type=1&rankingSeq=3&rankingSectionId=102\n",
      "------\n",
      "72 :  \"박원순 피해자, 실습기간 '시보'때 비서실 발령···극히 이례적\" https://news.naver.com/main/ranking/read.nhn?mid=etc&sid1=111&rankingType=popular_day&oid=025&aid=0003018998&date=20200720&type=1&rankingSeq=4&rankingSectionId=102\n",
      "------\n",
      "73 :  한동훈 측 \"KBS, 오보 취재원 안 밝히면 고소 취하 없다\" https://news.naver.com/main/ranking/read.nhn?mid=etc&sid1=111&rankingType=popular_day&oid=023&aid=0003547762&date=20200720&type=1&rankingSeq=5&rankingSectionId=102\n",
      "------\n",
      "74 :  스쿨존서 두살배기 치어 숨지게 한 50대, ‘민식이법’ 적용 https://news.naver.com/main/ranking/read.nhn?mid=etc&sid1=111&rankingType=popular_day&oid=005&aid=0001343568&date=20200720&type=1&rankingSeq=6&rankingSectionId=102\n",
      "------\n",
      "75 :  경찰청장 후보자 \" 박원순 피소 유출 수사, 검찰 판단 지켜봐야\" https://news.naver.com/main/ranking/read.nhn?mid=etc&sid1=111&rankingType=popular_day&oid=001&aid=0011756844&date=20200720&type=1&rankingSeq=7&rankingSectionId=102\n",
      "------\n",
      "76 :  5년 뒤엔 누구나 실업급여 받는다 https://news.naver.com/main/ranking/read.nhn?mid=etc&sid1=111&rankingType=popular_day&oid=008&aid=0004442392&date=20200720&type=1&rankingSeq=8&rankingSectionId=102\n",
      "------\n",
      "77 :  '수돗물 공포' 인천·서울·부산 확산…샤워필터 매출 987% 급증 https://news.naver.com/main/ranking/read.nhn?mid=etc&sid1=111&rankingType=popular_day&oid=025&aid=0003019021&date=20200720&type=1&rankingSeq=9&rankingSectionId=102\n",
      "------\n",
      "78 :  [속보] 역삼동V빌딩-한화생명, '강남구 사무실' 감염으로 분류…총 24명 https://news.naver.com/main/ranking/read.nhn?mid=etc&sid1=111&rankingType=popular_day&oid=277&aid=0004721688&date=20200720&type=0&rankingSeq=10&rankingSectionId=102\n",
      "------\n",
      "79 :  “편도수술 받은 6살 아들 싸늘하게…” 암투병 아빠의 호소 https://news.naver.com/main/ranking/read.nhn?mid=etc&sid1=111&rankingType=popular_day&oid=005&aid=0001343489&date=20200720&type=1&rankingSeq=1&rankingSectionId=103\n",
      "------\n",
      "80 :  '할인 논란' 반문한 아우디 사장…\"그래서, 싫어요?\" https://news.naver.com/main/ranking/read.nhn?mid=etc&sid1=111&rankingType=popular_day&oid=015&aid=0004383567&date=20200720&type=1&rankingSeq=2&rankingSectionId=103\n",
      "------\n",
      "81 :  나영석 신작 ‘여름방학’, 일본게임 표절?…제작진 “전혀 아냐” https://news.naver.com/main/ranking/read.nhn?mid=etc&sid1=111&rankingType=popular_day&oid=025&aid=0003018748&date=20200719&type=1&rankingSeq=3&rankingSectionId=103\n",
      "------\n",
      "82 :  바닷가 배경에 그림일기...나영석, 日게임 표절 논란 https://news.naver.com/main/ranking/read.nhn?mid=etc&sid1=111&rankingType=popular_day&oid=023&aid=0003547556&date=20200719&type=1&rankingSeq=4&rankingSectionId=103\n",
      "------\n",
      "83 :  뇌경색 생사 고비 넘기고…27년 만에 신작 들고 돌아온 손무현 https://news.naver.com/main/ranking/read.nhn?mid=etc&sid1=111&rankingType=popular_day&oid=020&aid=0003298692&date=20200720&type=1&rankingSeq=5&rankingSectionId=103\n",
      "------\n",
      "84 :  [이래도 되나요] \"25개월 딸 성폭행 당했다\" 청와대 청원 알고보니 거짓말 https://news.naver.com/main/ranking/read.nhn?mid=etc&sid1=111&rankingType=popular_day&oid=001&aid=0011755743&date=20200720&type=1&rankingSeq=6&rankingSectionId=103\n",
      "------\n",
      "85 :  \"아들에 드레스 권한 우리 엄마 '네가 이긴다는 걸 보여줘'\" https://news.naver.com/main/ranking/read.nhn?mid=etc&sid1=111&rankingType=popular_day&oid=025&aid=0003018964&date=20200720&type=1&rankingSeq=7&rankingSectionId=103\n",
      "------\n",
      "86 :  \"천륜이기에\"… 한소희는 엄마의 빚에 시달렸다 [전문] https://news.naver.com/main/ranking/read.nhn?mid=etc&sid1=111&rankingType=popular_day&oid=023&aid=0003547737&date=20200720&type=1&rankingSeq=8&rankingSectionId=103\n",
      "------\n",
      "87 :  상어 닮은 쌍용차의 첫 전기차…부활 신호탄 될까 https://news.naver.com/main/ranking/read.nhn?mid=etc&sid1=111&rankingType=popular_day&oid=009&aid=0004618558&date=20200720&type=1&rankingSeq=9&rankingSectionId=103\n",
      "------\n",
      "88 :  신윤복의 '조선판 모나리자'는 누구의 미소일까…46억 화소로 본 산수풍속화 등 역대 최다 국보 보물 196점 한자리 https://news.naver.com/main/ranking/read.nhn?mid=etc&sid1=111&rankingType=popular_day&oid=032&aid=0003021721&date=20200720&type=1&rankingSeq=10&rankingSectionId=103\n",
      "------\n",
      "89 :  중국, 물 방류 위해 댐 폭파…세계 최대 싼샤댐 아래 지역 대피해야? https://news.naver.com/main/ranking/read.nhn?mid=etc&sid1=111&rankingType=popular_day&oid=437&aid=0000243130&date=20200720&type=1&rankingSeq=1&rankingSectionId=104\n",
      "------\n",
      "90 :  '부끄러운 아빠' 앤드루 왕자는 딸 결혼식 사진에도 없었다 https://news.naver.com/main/ranking/read.nhn?mid=etc&sid1=111&rankingType=popular_day&oid=023&aid=0003547758&date=20200720&type=1&rankingSeq=2&rankingSectionId=104\n",
      "------\n",
      "91 :  \"미국이 때려도 우릴 동정하는 나라 없다\" 中의 통절한 반성 https://news.naver.com/main/ranking/read.nhn?mid=etc&sid1=111&rankingType=popular_day&oid=025&aid=0003018942&date=20200720&type=1&rankingSeq=3&rankingSectionId=104\n",
      "------\n",
      "92 :  美영아 무더기 감염, 시체 자리도 없는데···트럼프 \"잘 대응\" https://news.naver.com/main/ranking/read.nhn?mid=etc&sid1=111&rankingType=popular_day&oid=025&aid=0003018990&date=20200720&type=1&rankingSeq=4&rankingSectionId=104\n",
      "------\n",
      "93 :  인증사진이 뭐길래…가파른 절벽에 어린 아들 매단 中 아빠 https://news.naver.com/main/ranking/read.nhn?mid=etc&sid1=111&rankingType=popular_day&oid=081&aid=0003108758&date=20200720&type=1&rankingSeq=5&rankingSectionId=104\n",
      "------\n",
      "94 :  호주 청소년 \"삼성 불매\" 예고에···삼성 \"호주 석탄터미널 손 떼겠다\" https://news.naver.com/main/ranking/read.nhn?mid=etc&sid1=111&rankingType=popular_day&oid=032&aid=0003021747&date=20200720&type=1&rankingSeq=6&rankingSectionId=104\n",
      "------\n",
      "95 :  이란 “한국, 원유 대금 안 갚으면 국제 소송할 것” https://news.naver.com/main/ranking/read.nhn?mid=etc&sid1=111&rankingType=popular_day&oid=056&aid=0010871673&date=20200720&type=2&rankingSeq=7&rankingSectionId=104\n",
      "------\n",
      "96 :  한 달째 쏟아진 폭우에 중국 싼샤댐 ‘최대수위 -10m’ https://news.naver.com/main/ranking/read.nhn?mid=etc&sid1=111&rankingType=popular_day&oid=028&aid=0002505602&date=20200720&type=1&rankingSeq=8&rankingSectionId=104\n",
      "------\n",
      "97 :  [영상] 홍수에 비상 걸린 中…댐까지 폭파 https://news.naver.com/main/ranking/read.nhn?mid=etc&sid1=111&rankingType=popular_day&oid=015&aid=0004383556&date=20200720&type=1&rankingSeq=9&rankingSectionId=104\n",
      "------\n",
      "98 :  日아베의 굴욕…자신이 가장 싫어하는 라이벌에게 지지자들 대거 이동 https://news.naver.com/main/ranking/read.nhn?mid=etc&sid1=111&rankingType=popular_day&oid=081&aid=0003108789&date=20200720&type=1&rankingSeq=10&rankingSectionId=104\n",
      "------\n",
      "99 :  성공 모델서 실패 사례로…반 토막 난 ‘배달의명수’ [IT선빵!] https://news.naver.com/main/ranking/read.nhn?mid=etc&sid1=111&rankingType=popular_day&oid=016&aid=0001701523&date=20200720&type=1&rankingSeq=1&rankingSectionId=105\n",
      "------\n",
      "100 :  서정진 셀트리온 회장 \"9월부터 코로나19 치료제 생산 시작\" https://news.naver.com/main/ranking/read.nhn?mid=etc&sid1=111&rankingType=popular_day&oid=015&aid=0004383639&date=20200720&type=1&rankingSeq=2&rankingSectionId=105\n",
      "------\n",
      "101 :  보너스 5000만원·한달 휴가…요즘 기업 '그들' 모시기 경쟁 https://news.naver.com/main/ranking/read.nhn?mid=etc&sid1=111&rankingType=popular_day&oid=008&aid=0004442099&date=20200720&type=1&rankingSeq=3&rankingSectionId=105\n",
      "------\n",
      "102 :  한상혁 \"공영방송 재원 문제 심각…KBS 수신료 인상에 동의\" https://news.naver.com/main/ranking/read.nhn?mid=etc&sid1=111&rankingType=popular_day&oid=001&aid=0011756989&date=20200720&type=1&rankingSeq=4&rankingSectionId=105\n",
      "------\n",
      "103 :  [달콤한 사이언스] 하수구에 무심코 버린 약이 수돗물로 다시 돌아온다 https://news.naver.com/main/ranking/read.nhn?mid=etc&sid1=111&rankingType=popular_day&oid=081&aid=0003108765&date=20200720&type=1&rankingSeq=5&rankingSectionId=105\n",
      "------\n",
      "104 :  낙동강에 간질약 떠다닌다.. \"독성 연구 필요\" https://news.naver.com/main/ranking/read.nhn?mid=etc&sid1=111&rankingType=popular_day&oid=277&aid=0004721311&date=20200720&type=1&rankingSeq=6&rankingSectionId=105\n",
      "------\n",
      "105 :  예상 밖 선전 '갤럭시Z플립' https://news.naver.com/main/ranking/read.nhn?mid=etc&sid1=111&rankingType=popular_day&oid=277&aid=0004721331&date=20200720&type=1&rankingSeq=7&rankingSectionId=105\n",
      "------\n",
      "106 :  '바람의 나라: 연' 흥행…조직 쇄신하니 성과↑ https://news.naver.com/main/ranking/read.nhn?mid=etc&sid1=111&rankingType=popular_day&oid=031&aid=0000548407&date=20200720&type=1&rankingSeq=8&rankingSectionId=105\n",
      "------\n",
      "107 :  [달콤한 사이언스] 자녀 학업성적 높이려면 꾸준한 글쓰기, 독서 지도하세요 https://news.naver.com/main/ranking/read.nhn?mid=etc&sid1=111&rankingType=popular_day&oid=081&aid=0003108574&date=20200719&type=1&rankingSeq=9&rankingSectionId=105\n",
      "------\n",
      "108 :  갤폴드2 로즈골드 입는다...8월 5일 언팩 공개 확실시 https://news.naver.com/main/ranking/read.nhn?mid=etc&sid1=111&rankingType=popular_day&oid=011&aid=0003770868&date=20200720&type=1&rankingSeq=10&rankingSectionId=105\n",
      "------\n"
     ]
    }
   ],
   "source": [
    "# BeautifulSoup\n",
    "soup = BeautifulSoup(html, 'html.parser')#\n",
    "tag_list = soup.select(\"a[href*=read.nhn]\") # 태그 선택자, attribute 선택자\n",
    "print(type(tag_list), len(tag_list))\n",
    "for idx, a_tag in enumerate(tag_list):\n",
    "    # print(a_tag)\n",
    "    title = a_tag.text.strip() # .text 는 문자만 출력을 해라\n",
    "    link = urljoin(url, a_tag['href'])  # ['href'] = 변수가 아니니까 ' ' 로 막아줘야한다\n",
    "    print(idx,': ', title, link)\n",
    "    print('------')  # <a> 태그 마다 구분 지어서 출력\n",
    "# a tag가 109개 있다는 뜻[<a> <a> <a> <a>]"
   ]
  },
  {
   "cell_type": "markdown",
   "metadata": {},
   "source": [
    "### 2. NHN 번역 서비스 Papago 사용하기\n",
    "* urllib 를 사용하기\n",
    "* requests를 사용하기"
   ]
  },
  {
   "cell_type": "code",
   "execution_count": 42,
   "metadata": {},
   "outputs": [
    {
     "name": "stdout",
     "output_type": "stream",
     "text": [
      "{\"message\":{\"@type\":\"response\",\"@service\":\"naverservice.nmt.proxy\",\"@version\":\"1.0.0\",\"result\":{\"srcLangType\":\"en\",\"tarLangType\":\"ko\",\"translatedText\":\"어제 나의 모든 고민들은 너무나 멀리 떨어져 있는 것 같았다.\",\"engineType\":\"N2MT\",\"pivot\":null}}}\n"
     ]
    }
   ],
   "source": [
    "# 네이버 Papago NMT API 예제\n",
    "# urllib\n",
    "import os                                   # \n",
    "import sys                                  # \n",
    "import urllib.request                       #\n",
    "\n",
    "client_id = \"Zo1vTslyKxKYskf_qfUk\"\n",
    "client_secret = \"X5kGpbWEbv\"\n",
    "\n",
    "encText = urllib.parse.quote(\"Yesterday all my troubles seemed so far away.\")\n",
    "# query string\n",
    "data = \"source=en&target=ko&text=\" + encText                                  # 영어에서 한글로 번역\n",
    "url = \"https://openapi.naver.com/v1/papago/n2mt\"\n",
    "\n",
    "\n",
    "request = urllib.request.Request(url)\n",
    "request.add_header(\"X-Naver-Client-Id\",client_id)                      # header 에 정해준 값을 넣어야 실행됌\n",
    "request.add_header(\"X-Naver-Client-Secret\",client_secret)              # header 에 정해준 값을 넣어야 실행됌\n",
    "response = urllib.request.urlopen(request, data=data.encode(\"utf-8\"))\n",
    "rescode = response.getcode()\n",
    "if(rescode==200):\n",
    "    response_body = response.read()\n",
    "    print(response_body.decode('utf-8'))\n",
    "else:\n",
    "    print(\"Error Code:\" + rescode)"
   ]
  },
  {
   "cell_type": "markdown",
   "metadata": {},
   "source": [
    "### requests 예제로 변환하기"
   ]
  },
  {
   "cell_type": "code",
   "execution_count": 49,
   "metadata": {},
   "outputs": [
    {
     "name": "stdout",
     "output_type": "stream",
     "text": [
      "응답헤더값들 {'Server': 'nginx', 'Date': 'Mon, 20 Jul 2020 07:29:00 GMT', 'Content-Type': 'application/json; charset=UTF-8', 'Content-Length': '245', 'Connection': 'keep-alive', 'Keep-Alive': 'timeout=5', 'X-QUOTA': '45', 'Content-Encoding': 'gzip'}\n",
      "요청헤더값들 {'User-Agent': 'python-requests/2.19.1', 'Accept-Encoding': 'gzip, deflate', 'Accept': '*/*', 'Connection': 'keep-alive', 'X-Naver-Client-Id': 'Zo1vTslyKxKYskf_qfUk', 'X-Naver-Client-Secret': 'X5kGpbWEbv', 'Content-Length': '70', 'Content-Type': 'application/x-www-form-urlencoded'}\n",
      "status code 200\n",
      "{\"message\":{\"@type\":\"response\",\"@service\":\"naverservice.nmt.proxy\",\"@version\":\"1.0.0\",\"result\":{\"srcLangType\":\"en\",\"tarLangType\":\"ko\",\"translatedText\":\"어제 나의 모든 고민들은 너무나 멀리 떨어져 있는 것 같았다.\",\"engineType\":\"N2MT\",\"pivot\":null}}}\n"
     ]
    }
   ],
   "source": [
    "import requests\n",
    "\n",
    "client_id = \"Zo1vTslyKxKYskf_qfUk\"\n",
    "client_secret = \"X5kGpbWEbv\"\n",
    "\n",
    "url = \"https://openapi.naver.com/v1/papago/n2mt\"\n",
    "encText = \"Yesterday all my troubles seemed so far away.\"\n",
    "\n",
    "req_headers = {\n",
    "    \"X-Naver-Client-Id\": client_id,\n",
    "    \"X-Naver-Client-Secret\" : client_secret\n",
    "}\n",
    "parmas = {\n",
    "    'source' : 'en',\n",
    "    'target' : 'ko',\n",
    "    'text' : encText           # encText 는 변수라 막으면 안됌\n",
    "}\n",
    "# parmas\n",
    "response = requests.post(url, headers=req_headers, data=parmas) # req_headers = 정해져 있는 속성 , parmas = 정해져 있는 속성\n",
    "print('응답헤더값들', response.headers)\n",
    "print('요청헤더값들', response.request.headers)           # \n",
    "print('status code', response.status_code)                # http 상태 코드\n",
    "\n",
    "if response.status_code == 200:\n",
    "    print(response.text)\n",
    "else:\n",
    "    print('Error Code', response.status_code)"
   ]
  },
  {
   "cell_type": "code",
   "execution_count": 51,
   "metadata": {},
   "outputs": [
    {
     "name": "stdout",
     "output_type": "stream",
     "text": [
      "<class 'dict'> {'message': {'@type': 'response', '@service': 'naverservice.nmt.proxy', '@version': '1.0.0', 'result': {'srcLangType': 'en', 'tarLangType': 'ko', 'translatedText': '어제 나의 모든 고민들은 너무나 멀리 떨어져 있는 것 같았다.', 'engineType': 'N2MT', 'pivot': None}}}\n"
     ]
    }
   ],
   "source": [
    "myjson = response.json()\n",
    "print(type(myjson), myjson)"
   ]
  },
  {
   "cell_type": "code",
   "execution_count": 52,
   "metadata": {},
   "outputs": [
    {
     "data": {
      "text/plain": [
       "'어제 나의 모든 고민들은 너무나 멀리 떨어져 있는 것 같았다.'"
      ]
     },
     "execution_count": 52,
     "metadata": {},
     "output_type": "execute_result"
    }
   ],
   "source": [
    "myjson['message']['result']['translatedText']"
   ]
  },
  {
   "cell_type": "markdown",
   "metadata": {},
   "source": [
    "### requests의 Request, Session 객체를 사용하는 방식으로 변환"
   ]
  },
  {
   "cell_type": "code",
   "execution_count": 56,
   "metadata": {},
   "outputs": [
    {
     "name": "stdout",
     "output_type": "stream",
     "text": [
      "어제 나의 모든 고민들은 너무나 멀리 떨어져 있는 것 같았다.\n"
     ]
    }
   ],
   "source": [
    "import requests\n",
    "# Request 와 Session 클래스를 import\n",
    "from requests import Request, Session\n",
    "\n",
    "client_id = \"Zo1vTslyKxKYskf_qfUk\"\n",
    "client_secret = \"X5kGpbWEbv\"\n",
    "\n",
    "url = \"https://openapi.naver.com/v1/papago/n2mt\"\n",
    "encText = \"Yesterday all my troubles seemed so far away.\"\n",
    "\n",
    "req_headers = {\n",
    "    \"X-Naver-Client-Id\": client_id,\n",
    "    \"X-Naver-Client-Secret\" : client_secret\n",
    "}\n",
    "parmas = {\n",
    "    'source' : 'en',\n",
    "    'target' : 'ko',\n",
    "    'text' : encText           # encText 는 변수라 막으면 안됌\n",
    "}\n",
    "# parmas\n",
    "\n",
    "# Session 객체 생성\n",
    "session = Session()\n",
    "# Request 객체 생성\n",
    "request = Request('POST', url, headers=req_headers, data=parmas) # req_headers = 정해져 있는 속성 , parmas = 정해져 있는 속성\n",
    "# requests의 prepare() 함수 호출\n",
    "prepped = request.prepare()\n",
    "\n",
    "# session의 send() 함수를 호출해서 서버에 요청\n",
    "response = session.send(prepped)\n",
    "\n",
    "# print('응답헤더값들', response.headers)\n",
    "# print('요청헤더값들', response.request.headers)           # \n",
    "# print('status code', response.status_code)                # http 상태 코드\n",
    "\n",
    "if response.status_code == 200:\n",
    "    print(response.json()['message']['result']['translatedText'])\n",
    "else:\n",
    "    print('Error Code', response.status_code)"
   ]
  },
  {
   "cell_type": "code",
   "execution_count": null,
   "metadata": {},
   "outputs": [],
   "source": []
  }
 ],
 "metadata": {
  "kernelspec": {
   "display_name": "Python 3",
   "language": "python",
   "name": "python3"
  },
  "language_info": {
   "codemirror_mode": {
    "name": "ipython",
    "version": 3
   },
   "file_extension": ".py",
   "mimetype": "text/x-python",
   "name": "python",
   "nbconvert_exporter": "python",
   "pygments_lexer": "ipython3",
   "version": "3.7.0"
  }
 },
 "nbformat": 4,
 "nbformat_minor": 2
}
