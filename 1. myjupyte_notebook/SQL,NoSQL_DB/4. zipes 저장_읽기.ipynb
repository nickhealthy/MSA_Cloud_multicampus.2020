{
 "metadata": {
  "language_info": {
   "codemirror_mode": {
    "name": "ipython",
    "version": 3
   },
   "file_extension": ".py",
   "mimetype": "text/x-python",
   "name": "python",
   "nbconvert_exporter": "python",
   "pygments_lexer": "ipython3",
   "version": "3.7.0-final"
  },
  "orig_nbformat": 2,
  "kernelspec": {
   "name": "python3",
   "display_name": "Python 3"
  }
 },
 "nbformat": 4,
 "nbformat_minor": 2,
 "cells": [
  {
   "cell_type": "code",
   "execution_count": 1,
   "metadata": {},
   "outputs": [],
   "source": [
    "import json\n",
    "import pymongo"
   ]
  },
  {
   "cell_type": "code",
   "execution_count": 2,
   "metadata": {},
   "outputs": [],
   "source": [
    "with open('data/zip.json','r',encoding='utf8') as file:\n",
    "    contents = file.read()\n",
    "    json_data = json.loads(contents)"
   ]
  },
  {
   "cell_type": "code",
   "execution_count": 5,
   "metadata": {
    "tags": []
   },
   "outputs": [
    {
     "output_type": "stream",
     "name": "stdout",
     "text": "MongoClient(host=['localhost:27017'], document_class=dict, tz_aware=False, connect=True)\nDatabase(MongoClient(host=['localhost:27017'], document_class=dict, tz_aware=False, connect=True), 'zipes')\nCollection(Database(MongoClient(host=['localhost:27017'], document_class=dict, tz_aware=False, connect=True), 'zipes'), 'zipes')\n"
    }
   ],
   "source": [
    "conn = pymongo.MongoClient()\n",
    "print(conn)\n",
    "zipes_db = conn.zipes\n",
    "print(zipes_db)\n",
    "zipes = zipes_db.zipes\n",
    "print(zipes)"
   ]
  },
  {
   "cell_type": "code",
   "execution_count": 6,
   "metadata": {},
   "outputs": [
    {
     "output_type": "execute_result",
     "data": {
      "text/plain": "<pymongo.results.InsertManyResult at 0x2975aa19cc8>"
     },
     "metadata": {},
     "execution_count": 6
    }
   ],
   "source": [
    "zipes.insert_many(json_data)"
   ]
  },
  {
   "cell_type": "code",
   "execution_count": null,
   "metadata": {},
   "outputs": [],
   "source": []
  }
 ]
}