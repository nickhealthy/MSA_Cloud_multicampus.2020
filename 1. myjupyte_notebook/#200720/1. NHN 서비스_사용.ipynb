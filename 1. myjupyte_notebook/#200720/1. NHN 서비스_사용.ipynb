{
 "cells": [
  {
   "cell_type": "markdown",
   "metadata": {},
   "source": [
    "### 1. NHN 뉴스 제목 검색\n",
    "* requests, beautifulsoup 사용\n",
    "* css selector - attribute 선택자 사용"
   ]
  },
  {
   "cell_type": "code",
   "execution_count": 1,
   "metadata": {},
   "outputs": [],
   "source": [
    "import requests\n",
    "from bs4 import BeautifulSoup\n",
    "from urllib.parse import urljoin         # urllib 모듈을 이용해 join 함수 사용"
   ]
  },
  {
   "cell_type": "code",
   "execution_count": 13,
   "metadata": {
    "tags": []
   },
   "outputs": [
    {
     "output_type": "stream",
     "name": "stdout",
     "text": "status code : 200\nresponse header :  {'date': 'Mon, 03 Aug 2020 06:22:43 GMT', 'cache-control': 'no-cache', 'expires': 'Thu, 01 Jan 1970 00:00:00 GMT', 'set-cookie': 'JSESSIONID=62872270F1C457DC4A7EE26D586A35AE; Path=/main; HttpOnly', 'content-language': 'ko-KR', 'vary': 'Accept-Encoding', 'content-encoding': 'gzip', 'transfer-encoding': 'chunked', 'content-type': 'text/html;charset=EUC-KR', 'referrer-policy': 'unsafe-url', 'server': 'nfront'}\n"
    },
    {
     "output_type": "execute_result",
     "data": {
      "text/plain": "'text/html;charset=EUC-KR'"
     },
     "metadata": {},
     "execution_count": 13
    }
   ],
   "source": [
    "url = 'https://news.naver.com/' \n",
    "response = requests.get(url)\n",
    "print('status code :', response.status_code) # 상태 코드 확인\n",
    "print('response header : ', response.headers) # network.Headers 정보들(설정 값)을 보여줌\n",
    "response.headers['content-type'] # headers 의 많은 정보들중 원하는 정보만 출력"
   ]
  },
  {
   "cell_type": "code",
   "execution_count": 17,
   "metadata": {},
   "outputs": [
    {
     "output_type": "execute_result",
     "data": {
      "text/plain": "트20 대신 싼 갤노트10 사자!”…반짝 특수 [IT선빵!]\">“갤노트20 대신 싼 갤노트10 사자!”…반짝 특수 [IT선빵!]</a> </li> \\n   <li><span class=\"rank num6\"><em>6</em></span> <a href=\"/main/ranking/read.nhn?mid=etc&amp;sid1=111&amp;rankingType=popular_day&amp;oid=092&amp;aid=0002195462&amp;date=20200803&amp;type=1&amp;rankingSeq=6&amp;rankingSectionId=105\" class=\"nclicks(rig.ranksci)\" title=\"美 첫 민간 유인우주선 지구 귀환, 우주에서 봤더니…\">美 첫 민간 유인우주선 지구 귀환, 우주에서 봤더니…</a> </li> \\n   <li><span class=\"rank num7\"><em>7</em></span> <a href=\"/main/ranking/read.nhn?mid=etc&amp;sid1=111&amp;rankingType=popular_day&amp;oid=215&amp;aid=0000890611&amp;date=20200803&amp;type=1&amp;rankingSeq=7&amp;rankingSectionId=105\" class=\"nclicks(rig.ranksci)\" title=\"일론 머스크도 감탄…미국 우주인, 45년 만에 해상 귀환\">일론 머스크도 감탄…미국 우주인, 45년 만에 해상 귀환</a> </li> \\n   <li><span class=\"rank num8\"><em>8</em></span> <a href=\"/main/ranking/read.nhn?mid=etc&amp;sid1=111&amp;rankingType=popular_day&amp;oid=028&amp;aid=0002507356&amp;date=20200803&amp;type=1&amp;rankingSeq=8&amp;rankingSectionId=105\" class=\"nclicks(rig.ranksci)\" title=\"“누가 콜록했는지 다 압니다”…‘기침 인식 카메라’ 국내 개발\">“누가 콜록했는지 다 압니다”…‘기침 인식 카메라’ 국내 개발</a> </li> \\n   <li><span class=\"rank num9\"><em>9</em></span> <a href=\"/main/ranking/read.nhn?mid=etc&amp;sid1=111&amp;rankingType=popular_day&amp;oid=366&amp;aid=0000564412&amp;date=20200803&amp;type=1&amp;rankingSeq=9&amp;rankingSectionId=105\" class=\"nclicks(rig.ranksci)\" title=\"보령제약, 소세포폐암 신약 ‘러비넥테딘’ 희귀의약품 지정\">보령제약, 소세포폐암 신약 ‘러비넥테딘’ 희귀의약품 지정</a> </li> \\n   <li><span class=\"rank num10\"><em>10</em></span> <a href=\"/main/ranking/read.nhn?mid=etc&amp;sid1=111&amp;rankingType=popular_day&amp;oid=020&amp;aid=0003301199&amp;date=20200803&amp;type=1&amp;rankingSeq=10&amp;rankingSectionId=105\" class=\"nclicks(rig.ranksci)\" title=\"“반갑다 중력아!”…美 첫 유인우주선 ‘크루드래건’ 귀환 성공[청계천 옆 사진관]\">“반갑다 중력아!”…美 첫 유인우주선 ‘크루드래건’ 귀환 성공[청계천 옆 사진관]</a> </li> \\n  </ul> \\n  <a href=\"/main/ranking/popularDay.nhn\" class=\"more_link\"><span class=\"blind\">가장 많이 본 뉴스</span>더보기</a> \\n </div> \\n</div> \\n<div class=\"da\" id=\"doubleDA\"></div> \\n<script type=\"text/javascript\">\\nvar ranking_selectedSectionId = \\'\\';\\nvar ranking_listAllSection = jindo.$A([\\'100\\', \\'101\\', \\'102\\', \\'103\\', \\'104\\', \\'105\\']);\\nfunction ranking_select_tab(sectionId) {\\njindo.$(\\'right.ranking_tab_\\' + sectionId).innerHTML = \"<strong>\" + ranking_select_section_name(sectionId) + \"</strong>\";\\njindo.$Element(\\'right.ranking_tab_\\' + sectionId).addClass(\\'is_click\\').attr(\\'aria-selected\\', true);\\nif (ranking_selectedSectionId) {\\njindo.$(\\'right.ranking_tab_\\' + ranking_selectedSectionId).innerHTML = ranking_select_section_name(ranking_selectedSectionId);\\njindo.$Element(\\'right.ranking_tab_\\' + ranking_selectedSectionId).removeClass(\\'is_click\\').attr(\\'aria-selected\\', false);\\n}\\nif (ranking_selectedSectionId == sectionId) {\\njindo.$(\\'right.ranking_tab_\\' + sectionId).innerHTML = \"<strong>\" + ranking_select_section_name(sectionId) + \"</strong>\";\\njindo.$Element(\\'right.ranking_tab_\\' + ranking_selectedSectionId).addClass(\\'is_click\\').attr(\\'aria-selected\\', true);\\n}\\nranking_selectedSectionId = sectionId;\\n}\\nfunction ranking_select_section(sectionId) {\\nif (!ranking_listAllSection.has(sectionId)) {\\nsectionId = \\'100\\';\\n}\\njindo.$(\\'right.ranking_contents\\').innerHTML = jindo.$(\\'ranking_\\' + sectionId).innerHTML;\\nranking_select_tab(sectionId);\\n}\\nfunction ranking_select_section_name(sectionId) {\\nvar selectSectionName = \"정치\";\\nswitch (sectionId) {\\ncase \\'100\\' : selectSectionName = \"정치\"; break;\\ncase \\'101\\' : selectSectionName = \"경제\"; break;\\ncase \\'102\\' : selectSectionName = \"사회\"; break;\\ncase \\'103\\' : selectSectionName = \"생활/문화\"; break;\\ncase \\'104\\' : selectSectionName = \"세계\"; break;\\ncase \\'105\\' : selectSectionName = \"IT/과학\"; break;\\ndefault : selectSectionName = \"정치\";\\n}\\nreturn selectSectionName;\\n}\\nfunction ranking_tab_handler(event) {\\nvar sectionId = jindo.$Event(event).element.id.replace(\\'right\\\\.ranking_tab_\\', \\'\\');\\nif (sectionId) {\\nranking_select_section(sectionId);\\n}\\n}\\nranking_listAllSection.forEach(function (v, i, o) {\\njindo.$Fn(ranking_tab_handler, window).attach(jindo.$Element(jindo.$(\\'right.ranking_tab_\\' + v)), \\'mouseover\\');\\n});\\nranking_select_section(\\'200\\');\\n</script> \\n<div class=\"section\" style=\"margin-bottom:20px;\"> \\n <h4 class=\"eng_tit\">TODAY</h4> \\n <em class=\"today_info\">08.03<span class=\"today_info_day\">(월)</span></em> \\n <div class=\"today\" id=\"today_content\"> \\n  <div class=\"today_inner\"> \\n   <h5> <a href=\"https://news.naver.com/main/ombudsman/index.nhn?#position\" class=\"nclicks(rig.today)\">공지</a> </h5> \\n   <ul> \\n    <li> <a href=\"https://news.naver.com/main/ombudsman/readView.nhn?notiId=493\" class=\"nclicks(rig.today)\"> <strong>\\'VOICE NEWS\\' 베타서비스 오픈</strong> <i class=\"list_ico_new\">NEW</i> </a> </li> \\n    <li> <a href=\"https://news.naver.com/main/ombudsman/readView.nhn?notiId=491\" class=\"nclicks(rig.today)\"> <strong>뉴스 댓글 \\'AI클린봇\\' 업그레이드 안내</strong> </a> </li> \\n   </ul> \\n  </div> \\n  <div class=\"today_inner\"> \\n   <h5> <a href=\"https://search.naver.com/search.naver?where=nexearch&amp;sm=nws_nex&amp;fbm=1&amp;ie=utf8&amp;query=%EC%98%A4%EB%8A%98+%EB%82%A0%EC%94%A8\" class=\"nclicks(rig.today)\">날씨</a> </h5> \\n   <ul> \\n    <li> <a href=\"https://search.naver.com/search.naver?where=nexearch&amp;sm=mns_nex&amp;fbm=1&amp;ie=utf8&amp;query=%EC%98%A4%EB%8A%98+%EB%82%A0%EC%94%A8\" class=\"nclicks(rig.today)\" target=\"_blank\"> 실시간 기상 정보 확인하기 <i class=\"ico_link_arrow\" aria-hidden=\"true\"></i> </a> </li> \\n   </ul> \\n  </div> \\n  <div class=\"today_inner\"> \\n   <h5> <a href=\"https://search.naver.com/search.naver?sm=tab_hty.top&amp;where=nexearch&amp;query=%EB%84%A4%EC%9D%B4%EB%B2%84+%EB%9D%A0%EB%B3%84+%EC%9A%B4%EC%84%B8&amp;oquery=%EB%9D%A0%EB%B3%84+%EC%9A%B4%EC%84%B8&amp;tqi=UZ%2FB6dpySDVssZJtRR8ssssssE8-265238\" class=\"nclicks(rig.today)\">운세</a> </h5> \\n   <ul> \\n    <li> <a href=\"https://search.naver.com/search.naver?sm=tab_hty.top&amp;where=nexearch&amp;query=%EB%84%A4%EC%9D%B4%EB%B2%84+%EB%9D%A0%EB%B3%84+%EC%9A%B4%EC%84%B8&amp;oquery=%EB%9D%A0%EB%B3%84+%EC%9A%B4%EC%84%B8&amp;tqi=UZ%2FB6dpySDVssZJtRR8ssssssE8-265238\" class=\"nclicks(rig.today)\" target=\"_blank\"> 오늘의 띠별 운세 확인하기 <i class=\"ico_link_arrow\" aria-hidden=\"true\"></i> </a> </li> \\n   </ul> \\n  </div> \\n  <div class=\"today_finance\"> \\n   <h5 class=\"blind\">코스피,코스닥 지수</h5> \\n   <ul> \\n    <li> <a href=\"https://finance.naver.com/sise/sise_index.nhn?code=KOSPI\" target=\"_blank\" class=\"b nclicks(rig.today)\"> <strong>코스피</strong> \\n      <div class=\"num\">\\n       2,252.93\\n      </div> \\n      <div class=\"num up\">\\n       <i>상승</i>3.56\\n      </div> </a> </li> \\n    <li> <a href=\"https://finance.naver.com/sise/sise_index.nhn?code=KOSDAQ\" target=\"_blank\" class=\"b nclicks(rig.today)\"> <strong>코스닥</strong> \\n      <div class=\"num\">\\n       827.65\\n      </div> \\n      <div class=\"num up\">\\n       <i>상승</i>12.35\\n      </div> </a> </li> \\n   </ul> \\n  </div> \\n  <form name=\"right.today.stockForm\" action=\"https://finance.naver.com/search/search.nhn\" method=\"get\" onsubmit=\"return stock_search_1078898(); return false;\" id=\"stockForm\" target=\"_blank\"> \\n   <fieldset> \\n    <legend>증권 종목검색</legend> \\n    <label for=\"stockTodaySearchQuery_1078898\" class=\"blind\">검색어 입력</label> \\n    <input type=\"text\" id=\"stockTodaySearchQuery_1078898\" class=\"finance_search_input\" name=\"query\" placeholder=\"종목검색\" /> \\n    <button class=\"finance_search_btn nclicks(rig.today)\">종목검색</button> \\n   </fieldset> \\n  </form> \\n </div> \\n</div> \\n<script type=\"text/javascript\">\\nfunction stock_search_1078898() {\\nvar stockObj = jindo.$(\\'stockTodaySearchQuery_1078898\\');\\nvar searchQuery = stockObj.value.replace(/[ ]/g, \"\");\\nstockObj.value = searchQuery;\\nif (searchQuery == \\'\\') {\\nalert(\"검색 조건이 없습니다.\");\\nreturn false;\\n}\\n}\\n</script> \\n<div class=\"section\"> \\n <div class=\"banner\"> \\n  <a href=\"https://news.naver.com/main/ombudsman/guidecenter.nhn?mid=omb\" class=\"nclicks(rig.banner)\" target=\"_blank\"> <img src=\"https://imgnews.pstatic.net/image/upload/item/2018/08/29/182956245_%25BD%25C5%25B0%25ED%25B9%25E8%25B3%25CA.png\" width=\"300\" alt=\"뉴스 기사와 댓글로 인한 문제 발생 시 24시간 센터로 접수해주세요\" /> </a> \\n </div> \\n</div> \\n<div class=\"section\"> \\n <h4>만평</h4> \\n <div class=\"img_rolling v1\" id=\"rightOpinionCartoonPhoto4_1078954\"> \\n  <div style=\"display: none;\" class=\"_1\"> \\n   <a href=\"/main/cartoongallery/index.nhn?mid=pho&amp;sid2=307#032_0003024390\"> <img src=\"https://mimgnews.pstatic.net/image/origin/032/2020/08/02/3024390.jpg?type=nf300_180_q90\" width=\"300\" height=\"180\" alt=\"2020년 8월 3일 [장도리]\" /> <span class=\"trans_border\"></span> <span class=\"text_inner\"> <span class=\"text_area\"></span> <span class=\"text\"> <span class=\"dsc\">경향신문</span> </span> </span> </a> \\n  </div> \\n  <div style=\"display: none;\" class=\"_2\"> \\n   <a href=\"/main/cartoongallery/index.nhn?mid=pho&amp;sid2=307#081_0003112469\"> <img src=\"https://mimgnews.pstatic.net/image/origin/081/2020/08/03/3112469.jpg?type=nf300_180_q90\" width=\"300\" height=\"180\" alt=\"[만평] 조기영 세상터치 2020년 8월 3일\" /> <span class=\"trans_border\"></span> <span class=\"text_inner\"> <span class=\"text_area\"></span> <span class=\"text\"> <span class=\"dsc\">서울신문</span> </span> </span> </a> \\n  </div> \\n  <div style=\"display: none;\" class=\"_3\"> \\n   <a href=\"/main/cartoongallery/index.nhn?mid=pho&amp;sid2=307#047_0002279215\"> <img src=\"https://mimgnews.pstatic.net/image/origin/047/2020/08/03/2279215.jpg?type=nf300_180_q90\" width=\"300\" height=\"180\" alt=\"1이닝 던지는데 30분...선수&middot;심판&middot;팬 지치게 만든 …\" /> <span class=\"trans_border\"></span> <span class=\"text_inner\"> <span class=\"text_area\"></span> <span class=\"text\"> <span class=\"dsc\">오마이뉴스</span> </span> </span> </a> \\n  </div> \\n  <div style=\"display: none;\" class=\"_4\"> \\n   <a href=\"/main/cartoongallery/index.nhn?mid=pho&amp;sid2=307#088_0000658390\"> <img src=\"https://mimgnews.pstatic.net/image/origin/088/2020/08/02/658390.jpg?type=nf300_180_q90\" width=\"300\" height=\"180\" alt=\"[매일희평] 어느 법관출신의 판결문 같은 돌려까기\" /> <span class=\"trans_border\"></span> <span class=\"text_inner\"> <span class=\"text_area\"></span> <span class=\"text\"> <span class=\"dsc\">매일신문</span> </span> </span> </a> \\n  </div> \\n  <ul style=\"display: none;\"> \\n  </ul> \\n  <ul style=\"display: none;\" class=\"_temp\">\\n   shuffle 이전 위치 \\n   <li class=\"_1\"> <a href=\"/main/cartoongallery/index.nhn?mid=pho&amp;sid2=307#032_0003024390\"> <img src=\"https://mimgnews.pstatic.net/image/origin/032/2020/08/02/3024390.jpg?type=nf74_45\" width=\"74\" height=\"45\" alt=\"2020년 8월 3일 [장도리]\" /> <span class=\"trans_border2\"></span> </a> </li> \\n   <li class=\"_2\"> <a href=\"/main/cartoongallery/index.nhn?mid=pho&amp;sid2=307#081_0003112469\"> <img src=\"https://mimgnews.pstatic.net/image/origin/081/2020/08/03/3112469.jpg?type=nf73_45\" width=\"73\" height=\"45\" alt=\"[만평] 조기영 세상터치 2020년 8월 3일\" /> <span class=\"trans_border2\"></span> </a> </li> \\n   <li class=\"_3\"> <a href=\"/main/cartoongallery/index.nhn?mid=pho&amp;sid2=307#047_0002279215\"> <img src=\"https://mimgnews.pstatic.net/image/origin/047/2020/08/03/2279215.jpg?type=nf73_45\" width=\"73\" height=\"45\" alt=\"1이닝 던지는데 30분...선수&middot;심판&middot;팬 지치게 만든 이 선수\" /> <span class=\"trans_border2\"></span> </a> </li> \\n   <li class=\"_4\"> <a href=\"/main/cartoongallery/index.nhn?mid=pho&amp;sid2=307#088_0000658390\"> <img src=\"https://mimgnews.pstatic.net/image/origin/088/2020/08/02/658390.jpg?type=nf74_45\" width=\"74\" height=\"45\" alt=\"[매일희평] 어느 법관출신의 판결문 같은 돌려까기\" /> <span class=\"trans_border2\"></span> </a> </li> \\n  </ul> \\n </div> \\n <a href=\"/main/cartoongallery/index.nhn?mid=pho&amp;sid2=307\" class=\"more_link\" title=\"만평 더보기\"><span class=\"blind\">만평</span>더보기</a> \\n</div> \\n<script type=\"text/javascript\">\\n(function () {\\nrightOpinionCartoonPhoto4 = {\\n_weHighLighted: null,\\n_nIntervarlId: null,\\ninit: function (sId) {\\nthis.elContainer = jindo.$(sId);\\nif (!this.elContainer) {\\nreturn;\\n}\\nthis.assign();\\nthis.shuffle();\\nthis.attach();\\n},\\nassign: function () {\\nthis.waDiv = jindo.$ElementList(jindo.$$(\\'div\\', this.elContainer));\\nthis.weUl = jindo.$Element(jindo.$$.getSingle(\\'ul\\', this.elContainer));\\n},\\nshuffle: function () {\\nvar weUl = this.weUl;\\nvar waLiTemp = jindo.$A(jindo.$$(\\'ul._temp li\\', this.elContainer));\\nvar waShuffledLi = waLiTemp.shuffle();\\nwaShuffledLi.forEach(function (v, i, a) {\\nweUl.append(v);\\n});\\nthis.change(waShuffledLi.get(0));\\nweUl.show();\\n},\\nattach: function () {\\nvar aLi = jindo.$$(\\'li\\', this.weUl.$value());\\njindo.$Fn(this.choose, this).attach(aLi, \\'mouseenter\\');\\n},\\nchoose: function (event) {\\nthis.change(event.currentElement);\\n},\\nchange: function (el) {\\nthis.showDivByClassName(jindo.$S(el.className.replace(\\'on\\', \\'\\')).trim().toString());\\nthis.toggleHighlight(el);\\n},\\nshowDivByClassName: function (sClassName) {\\nvar sCssQuery = \\'div.\\' + sClassName;\\nvar weDiv = jindo.$Element(jindo.$$.getSingle(sCssQuery, this.elContainer));\\nthis.waDiv.hide();\\nweDiv.show();\\n},\\ntoggleHighlight: function (el) {\\nif (this._weHighLighted) {\\nthis._weHighLighted.removeClass(\\'on\\');\\n}\\nthis._weHighLighted = jindo.$Element(el);\\nthis._weHighLighted.addClass(\\'on\\');\\n},\\nnext: function () {\\nvar weLi = this.weUl.child(function (v) {\\nreturn v.hasClass(\\'on\\');\\n})[0];\\nvar weNextLi = weLi.next();\\nif (!weNextLi) {\\nweNextLi = this.weUl.first();\\n}\\nthis.change(weNextLi.$value());\\n}\\n}\\nrightOpinionCartoonPhoto4.init(\\'rightOpinionCartoonPhoto4_1078954\\');\\n})();\\n</script> \\n<div class=\"section\"> \\n <h4> <a href=\"https://news.naver.com/main/ombudsman/index.nhn\" class=\"nclicks(rig.text)\"> 서비스 안내 </a> </h4> \\n <ul class=\"list_txt\"> \\n  <li> <a href=\"https://news.naver.com/main/ombudsman/errorArticleList.nhn?mid=omb\" class=\"nclicks(rig.text)\"> 고침 기사 모음 </a> </li> \\n  <li> <a href=\"https://news.naver.com/main/ombudsman/revisionArticleList.nhn?mid=omb\" class=\"nclicks(rig.text)\"> 정정&middot;반론&middot;추후 보도 기사 모음 </a> </li> \\n  <li> <a href=\"https://news.naver.com/main/hotissue/sectionList.nhn?mid=hot&amp;sid1=100&amp;cid=909906&amp;decorator=ombudsman&amp;confirm=true\" class=\"nclicks(rig.text)\"> 불공정 선거 보도 기사 모음 </a> </li> \\n </ul> \\n <a href=\"https://news.naver.com/main/ombudsman/index.nhn\" class=\"more_link nclicks(rig.text)\"><span class=\"blind\">서비스 안내</span>더보기</a> \\n</div> \\n<div class=\"section\"> \\n <div class=\"banner\"> \\n  <a href=\"https://m.news.naver.com/hotissue/main.nhn?sid1=110&amp;cid=1083360\" class=\"nclicks(rig.banner)\" target=\"_blank\"> <img src=\"https://imgnews.pstatic.net/image/upload/item/2018/11/28/182525091_%25B1%25B8%25B5%25B6_%25C0%25CC%25BA%25A5%25C6%25AE_%25B9%25E8%25B3%25CA.png\" width=\"300\" alt=\"언론사 헤드라인 구독하고 이벤트 선물 받으세요!\" /> </a> \\n </div> \\n</div>\\n\\r\\n\\r\\n        \\r\\n        <div class=\"da\" id=\"rightDoubleDA\" style=\"display: none\"></div>\\r\\n        <script type=\"text/javascript\">\\r\\n            try{\\r\\n                jindo.$(\"doubleDA\").innerHTML = \\'<div id=\"daHome_300250\" name=\"daHome_300250\" style=\"width: 300px; height: 250px;\"><iframe id=\"home300250\" name=\"home300250\" src=\"https://veta.naver.com/fxshow?su=SU10306&calp=home\" width=\"300\" height=\"250\" marginheight=\"0\" marginwidth=\"0\" border=\"0\" frameborder=\"0\" scrolling=\"no\" align=\"center\" title=\"우측_뉴스홈_더블플레이광고\" data-veta-preview=\"news_home_02\"></iframe></div>\\';\\r\\n            }catch(e){}\\r\\n        </script>\\r\\n\\r\\n        \\r\\n        <div class=\"rightBottomDouble\" style=\"margin-top:36px;\"><div id=\"doubleHome300250\" name=\"doubleHome300250\" data-dom-type=\"doubleplay_bottom\" title=\"더블플레이하단광고\"></div></div>\\r\\n    \\r\\n    \\r\\n    \\r\\n\\r\\n\\r\\n\\r\\n\\n\\t\\t\\t\\t</div>\\n\\t\\t\\t</div>\\n\\t\\t</div>\\n\\n\\t\\t<hr>\\r\\n<div class=\"index\">\\r\\n\\t\\n\\n<div class=\"index_inner\">\\n\\n\\t<div class=\"floating_btn\" >\\n\\t\\t<div class=\"floating_inner\">\\n\\t\\t\\t<a href=\"javascript:history.back();\" class=\"floating_btn_back\"><span class=\"blind\">이젠 페이지</span></a>\\n\\t\\t\\t<a href=\"#\" onclick=\"window.scrollTo(0,0);oWebAccessibilityUtil.moveFocus(document.getElementById(\\'da_base\\'));return false;\" class=\"floating_btn_top\"><span class=\"blind\">맨위로</span></a>\\n\\t\\t</div>\\n\\t</div>\\n\\t<div id=\"index.press_category\" class=\"index_tab\">\\n\\t\\t<a id=\"index.press.btn\" href=\"#\" class=\"spr stit nclicks(fot.press)\">언론사 목록<span class=\"_stit_tab_arrow stit_arrow\"><span class=\"blind\">열기</span></span><span class=\"loading\" style=\"display:none;\">로딩 중</span></a>\\n\\t\\t<div id=\"index.press.area\" class=\"index_content is_hidden\"></div>\\n\\t\\t<a id=\"index.category.btn\" href=\"#\" class=\"spr stit2 nclicks(fot.section)\">분야별 목록<span class=\"_stit_tab_arrow stit_arrow\"><span class=\"blind\">열기</span></span><span class=\"loading\" style=\"display:none;\">로딩 중</span></a>\\n\\t\\t<div id=\"index.category.area\" class=\"index_content02 is_hidden\"></div>\\n\\t</div>\\n\\t<div class=\"index_myscrap\">\\n\\t\\t<a href=\"/main/scrap/index.nhn\" class=\"spr nclicks(fot.scrap)\">마이스크랩</a>\\n\\t</div>\\n</div>\\n\\n\\r\\n</div>\\r\\n<hr>\\r\\n<div id=\"footer\">\\r\\n\\r\\n<ul>\\r\\n<li class=\"first\"><a href=\"http://www.naver.com/rules/service.html\" class=\"nclicks(fot.agreement)\">이용약관</a></li>\\r\\n<li><a href=\"/main/ombudsman/index.nhn\" class=\"nclicks(fot.guide)\">서비스 안내</a></li>\\r\\n<li><a href=\"/main/ombudsman/edit.nhn?mid=omb\" class=\"nclicks(fot.editor)\">기사배열 원칙 책임자 : 유봉석</a></li>\\r\\n<li>청소년 보호 책임자 : 정연아</li>\\r\\n<li><strong><a href=\"http://www.naver.com/rules/privacy.html\" class=\"nclicks(fot.privacy)\">개인정보처리방침</a></strong></li>\\r\\n<li><a href=\"http://www.naver.com/rules/disclaimer.html\" class=\"nclicks(fot.disclaimer)\">책임의 한계와 법적고지</a></li>\\r\\n<li><a href=\"#\" title=\"새창\" onclick=\"news.external.OPS.helpNews(); return false;\" class=\"nclicks(fot.help)\">뉴스 고객센터</a></li>\\r\\n</ul>\\r\\n<p class=\"copyright\">본 콘텐츠의 저작권은 제공처 또는 네이버에 있으며 이를 무단 이용하는 경우 저작권법 등에 따라 법적책임을 질 수 있습니다.</p>\\r\\n\\r\\n\\r\\n<address class=\"address_nhn\">\\r\\n\\t<a href=\"https://www.navercorp.com/\" target=\"_blank\" class=\"logo nclicks(fot.naver)\"><span class=\"blind\">NAVER</span></a>\\r\\n\\t<em>Copyright &copy;</em>\\r\\n\\t<a href=\"https://www.navercorp.com/\" target=\"_blank\" class=\"nclicks(fot.navercorp)\">NAVER Corp.</a>\\r\\n\\t<span>All Rights Reserved.</span>\\r\\n</address>\\r\\n<!-- -->\\r\\n\\r\\n\\r\\n</div>\\r\\n<script type=\"text/javascript\">\\r\\n\\r\\n\\r\\n\\r\\nnew news.lnb.NewsSearchController(\\'lnb.searchForm\\');\\r\\n\\r\\n\\r\\n\\r\\n//var lnb_weatherRolling = new news.lnb.LineRolling(\\'lnb.weather\\',{size:26,moveSize:3,moveInterval:30});\\r\\nvar lnb_mainnewsRolling = new news.lnb.LineRolling(\\'lnb.mainnews\\',{size:17,moveSize:2,moveInterval:30,isRandomStart:true});\\r\\nvar lnb_Rolling = new news.lnb.SynchronizedRolling({interval:3000});\\r\\n//lnb_Rolling.push(lnb_weatherRolling);\\r\\nlnb_Rolling.push(lnb_mainnewsRolling);\\r\\nlnb_Rolling.start();\\r\\n\\r\\n\\r\\nvar index_tab = new news.index.TabController(\\'index.press_category\\');\\r\\nindex_tab.add(new news.index.Tab(\\'index.press.btn\\',\\'stit\\',\\'index.press.area\\',\\'/main/ajax/bottomIndex/press.nhn\\'));\\r\\nindex_tab.add(new news.index.Tab(\\'index.category.btn\\',\\'stit2\\',\\'index.category.area\\',\\'/main/ajax/bottomIndex/category.nhn\\'));\\r\\njindo.$Fn(index_tab.toggle, index_tab).attach(index_tab.tabs.keys(), \\'click\\');\\r\\n\\r\\n\\r\\n(function() {\\r\\n\\tnews.right.RightSideFloatingManager.init();\\r\\n})();\\r\\n\\r\\n\\r\\n\\r\\n\\r\\n\\r\\n\\r\\nnews.home.DragController.init();\\r\\n\\r\\n\\r\\n\\r\\n\\r\\n\\r\\n\\r\\n\\r\\n\\r\\n\\r\\n\\r\\n\\r\\n\\r\\n\\r\\n\\r\\n\\r\\n\\r\\n\\r\\n\\r\\n\\r\\n\\r\\n\\r\\n\\r\\n\\r\\n\\r\\n\\r\\n\\r\\n\\r\\n\\r\\n\\r\\n\\r\\n\\r\\n\\r\\n\\r\\n\\r\\n\\r\\n\\r\\n\\r\\n\\r\\n;(function(){\\r\\n    var eventType = \"onpageshow\" in window ? \"pageshow\" : \"load\";\\r\\n    jindo.$Fn(function(){\\r\\n\\r\\n\\t\\r\\n\\tlcs_do();\\r\\n\\r\\n    }).attach(window, eventType);\\r\\n})();\\r\\n\\r\\n\\r\\n\\r\\n\\r\\n\\r\\n\\r\\n\\r\\n\\r\\nnews.startup();\\r\\n\\r\\n\\r\\njindo.$Fn(function(){\\r\\n    var welSkip = jindo.$Element(\"u_skip\");\\r\\n    if (welSkip === null) {\\r\\n        return;\\r\\n    }\\r\\n    welSkip.delegate(\"click\", \"a\", function(weEvent){\\r\\n        weEvent.stopDefault();\\r\\n        var elTarget = jindo.$(weEvent.element.href.split(\"#\")[1]);\\r\\n        oWebAccessibilityUtil.moveFocus(elTarget);\\r\\n    });\\r\\n}).attach(window, \"load\");\\r\\n\\r\\n\\r\\ndocument.documentElement.setAttribute(\\'data-useragent\\',navigator.userAgent);\\r\\n</script>\\n\\t</div>\\n</body>\\n</html>'"
     },
     "metadata": {},
     "execution_count": 17
    }
   ],
   "source": [
    "# 응답 데이터 텍스트\n",
    "html = response.text # 페이지 소스보기랑 동일한 값\n",
    "html"
   ]
  },
  {
   "cell_type": "code",
   "execution_count": 38,
   "metadata": {
    "tags": []
   },
   "outputs": [
    {
     "output_type": "stream",
     "name": "stdout",
     "text": "<class 'bs4.element.ResultSet'> 109\n1 :  경실련 \"文정부 3년, 서울아파트 509조 52% 올랐… https://news.naver.com/main/read.nhn?mode=LSD&mid=shm&sid1=100&oid=006&aid=0000103875\n------\n2 :  국세청 \"아파트 42채 갭투자 미국인 등 세무조사… https://news.naver.com/main/read.nhn?mode=LSD&mid=shm&sid1=101&oid=009&aid=0004627840\n------\n3 :  전공의 전면파업 임박하자, 그제서야 \"대화로 풀자\"는 박능후 https://news.naver.com/main/read.nhn?mode=LSD&mid=shm&sid1=102&oid=025&aid=0003023041\n------\n4 :  '시간당 80㎜ 비' 가평 펜션에 토사 덮쳐…3명 매몰 추정(종합) https://news.naver.com/main/read.nhn?mode=LSD&mid=shm&sid1=102&oid=001&aid=0011788470\n------\n5 :  '성소수자 차별 반대' 신촌역 광고판 훼손한 20대 남성 검거(종합) https://news.naver.com/main/read.nhn?mode=LSD&mid=shm&sid1=102&oid=001&aid=0011788175\n------\n6 :  징용기업 자산매각 절차 임박…일본, 어떤 보복 카드 꺼낼까 https://news.naver.com/main/read.nhn?mode=LSD&mid=shm&sid1=102&oid=057&aid=0001484754\n------\n7 :  트럼프 칼에 MS로 회사 넘길 판…속타는 틱톡 장이밍 CEO https://news.naver.com/main/read.nhn?mode=LSD&mid=shm&sid1=101&oid=025&aid=0003023038\n------\n8 :   https://news.naver.com/main/read.nhn?mode=LSD&mid=shm&sid1=100&oid=023&aid=0003551235\n------\n9 :  586 이광재 \"절름발이 정책\"… 정의당 장혜영 \"장애인 비하\" https://news.naver.com/main/read.nhn?mode=LSD&mid=shm&sid1=100&oid=023&aid=0003551235\n------\n10 :  '다주택자' 꼬리표 억울한 윤준병 \"사무실 용도인데…\" https://news.naver.com/main/read.nhn?mode=LSD&mid=shm&sid1=100&oid=469&aid=0000521943\n------\n11 :  “오죽하면 여성가족부가 아닌 ‘여당가족부’라고 하겠냐” https://news.naver.com/main/read.nhn?mode=LSD&mid=shm&sid1=100&oid=081&aid=0003112600\n------\n12 :  김근식 \"'조로남불' 조국, 쫌스럽다…공산주의자 발언도 오바\" https://news.naver.com/main/read.nhn?mode=LSD&mid=shm&sid1=100&oid=277&aid=0004729908\n------\n13 :  심상정 \"고위공직자 1가구1주택 제한법 발의…36%가 다주택자\" https://news.naver.com/main/read.nhn?mode=LSD&mid=shm&sid1=100&oid=421&aid=0004792814\n------\n14 :  윤준병, 법안 낼 때는 ‘월세 부담’…야당 공격엔 ‘월세 찬양’ https://news.naver.com/main/read.nhn?mode=LSD&mid=shm&sid1=100&oid=081&aid=0003112598\n------\n15 :   https://news.naver.com/main/read.nhn?mode=LSD&mid=shm&sid1=101&oid=374&aid=0000217439\n------\n16 :  네이버, SM엔터 그룹에 1000억원대 투자…틱톡 '위협' https://news.naver.com/main/read.nhn?mode=LSD&mid=shm&sid1=101&oid=374&aid=0000217439\n------\n17 :  폭염 대신 역대급 장마…아이스크림·에어컨 특수 `실종` https://news.naver.com/main/read.nhn?mode=LSD&mid=shm&sid1=101&oid=009&aid=0004627907\n------\n18 :  '1명이 집 42채 보유'…외국인 다주택자에 칼 빼든 정부 https://news.naver.com/main/read.nhn?mode=LSD&mid=shm&sid1=101&oid=629&aid=0000035770\n------\n19 :  제넥신 관계사 네오이뮨텍 IPO에 쏠린 눈 https://news.naver.com/main/read.nhn?mode=LSD&mid=shm&sid1=101&oid=008&aid=0004449502\n------\n20 :  \"작년, 올해 서울 주택 40% 이상은 대출 안 쓴 현금 거래\" https://news.naver.com/main/read.nhn?mode=LSD&mid=shm&sid1=101&oid=469&aid=0000521941\n------\n21 :  '한미약품 2세' 임종윤 체제 시작… 관전 포인트는 https://news.naver.com/main/read.nhn?mode=LSD&mid=shm&sid1=101&oid=417&aid=0000576181\n------\n22 :   https://news.naver.com/main/read.nhn?mode=LSD&mid=shm&sid1=102&oid=421&aid=0004792900\n------\n23 :  긴 장마에 약해진 지반 위험…\"적은 비에도 큰 피해 우려\" https://news.naver.com/main/read.nhn?mode=LSD&mid=shm&sid1=102&oid=421&aid=0004792900\n------\n24 :  구리-남양주 도심하천 왕숙천, 오전 한때 홍수경보…여전히 '위험' https://news.naver.com/main/read.nhn?mode=LSD&mid=shm&sid1=102&oid=008&aid=0004449508\n------\n25 :  인천 무의도 여행가방 주검, 범인은 친구들…경찰에 자수 https://news.naver.com/main/read.nhn?mode=LSD&mid=shm&sid1=102&oid=020&aid=0003301214\n------\n26 :  방귀 뀐 승객에게 흉기 휘두른 택시기사 https://news.naver.com/main/read.nhn?mode=LSD&mid=shm&sid1=102&oid=469&aid=0000521945\n------\n27 :  서병수, 가덕신공항 지지 민주당 대표 후보들에 \"표 놀음 그만하라\" https://news.naver.com/main/read.nhn?mode=LSD&mid=shm&sid1=102&oid=002&aid=0002144674\n------\n28 :  고 최숙현 폭행 혐의 경주 트라이애슬론팀 선배 선수 구속영장 https://news.naver.com/main/read.nhn?mode=LSD&mid=shm&sid1=102&oid=081&aid=0003112603\n------\n29 :   https://news.naver.com/main/read.nhn?mode=LSD&mid=shm&sid1=103&oid=025&aid=0003023045\n------\n30 :  [더오래]\"학교 안 다녀요\" 엄마의 용기에 아이 표정 밝아져 https://news.naver.com/main/read.nhn?mode=LSD&mid=shm&sid1=103&oid=025&aid=0003023045\n------\n31 :  “전기차부터 오프로드까지”…하반기 수입 신차 몰려온다 https://news.naver.com/main/read.nhn?mode=LSD&mid=shm&sid1=103&oid=029&aid=0002615059\n------\n32 :  가임기 여성 90% 경험하는 '월경 전 증후군' 원인은? https://news.naver.com/main/read.nhn?mode=LSD&mid=shm&sid1=103&oid=015&aid=0004391606\n------\n33 :  [앵커리포트] 폭우 또는 폭염...둘로 나뉜 한반도 https://news.naver.com/main/read.nhn?mode=LSD&mid=shm&sid1=103&oid=052&aid=0001472911\n------\n34 :  스마트폰으로 눈 찍으면 “병원 가세요” 알려준다 https://news.naver.com/main/read.nhn?mode=LSD&mid=shm&sid1=103&oid=005&aid=0001348214\n------\n35 :  장마 언제 끝나나…기상청 달력 보니 13일까지 '비' 빼곡 https://news.naver.com/main/read.nhn?mode=LSD&mid=shm&sid1=103&oid=421&aid=0004792760\n------\n36 :   https://news.naver.com/main/read.nhn?mode=LSD&mid=shm&sid1=104&oid=009&aid=0004627895\n------\n37 :  `코로나 청정국` 자신하던 베트남, 사망자 숫자가 는다 https://news.naver.com/main/read.nhn?mode=LSD&mid=shm&sid1=104&oid=009&aid=0004627895\n------\n38 :  일본인 46% \"일제 전쟁은 침략전쟁\"…84% \"이미 사죄했다\" https://news.naver.com/main/read.nhn?mode=LSD&mid=shm&sid1=104&oid=001&aid=0011788510\n------\n39 :  英 해변서 4.5m 괴생명체 사체 발견…“고래로 추정” https://news.naver.com/main/read.nhn?mode=LSD&mid=shm&sid1=104&oid=081&aid=0003112589\n------\n40 :  中싼샤댐 위험수위 여전…이번엔 4호 태풍 폭우 뿌리나 https://news.naver.com/main/read.nhn?mode=LSD&mid=shm&sid1=104&oid=029&aid=0002615044\n------\n41 :  나폴레옹 여동생 조각상 파손하고 도망간 '셀카족' https://news.naver.com/main/read.nhn?mode=LSD&mid=shm&sid1=104&oid=008&aid=0004449473\n------\n42 :  추락하는 아베…'고정 지지층' 30대 유권자 등 돌렸다 https://news.naver.com/main/read.nhn?mode=LSD&mid=shm&sid1=104&oid=001&aid=0011788358\n------\n43 :   https://news.naver.com/main/read.nhn?mode=LSD&mid=shm&sid1=105&oid=008&aid=0004449497\n------\n44 :  IPTV 月1만원, 넷플릭스엔 1만3000원…'코드커팅' 현실화 https://news.naver.com/main/read.nhn?mode=LSD&mid=shm&sid1=105&oid=008&aid=0004449497\n------\n45 :  삼성전자, 시스코·구글 반도체 만든다...파운드리 사업부 '가속 페달' https://news.naver.com/main/read.nhn?mode=LSD&mid=shm&sid1=105&oid=030&aid=0002896370\n------\n46 :  폴더블폰, 삼성 선점 효과 '톡톡'…화웨이 '고전'·애플 '미지수' https://news.naver.com/main/read.nhn?mode=LSD&mid=shm&sid1=105&oid=138&aid=0002089630\n------\n47 :  [한경 팩트체크] '씨젠 효과'로 급등하는 진단키트주…\"2분기가 실적 피크\" https://news.naver.com/main/read.nhn?mode=LSD&mid=shm&sid1=105&oid=015&aid=0004391605\n------\n48 :  \"미디어 주권 상실\"vs \"아이폰 들였다고 나라 팔았나\" https://news.naver.com/main/read.nhn?mode=LSD&mid=shm&sid1=105&oid=008&aid=0004449488\n------\n49 :  삼성전자, 애플 제쳤다…인도 프리미엄 스마트폰 시장 2위 https://news.naver.com/main/read.nhn?mode=LSD&mid=shm&sid1=105&oid=015&aid=0004391600\n------\n50 :  “조국은 파렴치한” 비장해진 국대떡볶이 대표 페북 상황 https://news.naver.com/main/ranking/read.nhn?mid=etc&sid1=111&rankingType=popular_day&oid=005&aid=0001348190&date=20200803&type=1&rankingSeq=1&rankingSectionId=100\n------\n51 :  [단독] 월세 몸소 실천한다던 윤준병, 알고보니 정읍 지역구 https://news.naver.com/main/ranking/read.nhn?mid=etc&sid1=111&rankingType=popular_day&oid=023&aid=0003551166&date=20200803&type=1&rankingSeq=2&rankingSectionId=100\n------\n52 :  \"오거돈·박원순 성범죄 맞나\" 묻자… 끝까지 입닫은 여가부 장관 https://news.naver.com/main/ranking/read.nhn?mid=etc&sid1=111&rankingType=popular_day&oid=023&aid=0003551227&date=20200803&type=1&rankingSeq=3&rankingSectionId=100\n------\n53 :  윤준병 “정읍에서 월세 산다…큰 금액 내고 있지는 않아” https://news.naver.com/main/ranking/read.nhn?mid=etc&sid1=111&rankingType=popular_day&oid=005&aid=0001348185&date=20200803&type=1&rankingSeq=4&rankingSectionId=100\n------\n54 :  [속보] ‘월세예찬’ 논란 윤준병, 선거법 위반 혐의 기소 https://news.naver.com/main/ranking/read.nhn?mid=etc&sid1=111&rankingType=popular_day&oid=022&aid=0003490198&date=20200803&type=1&rankingSeq=5&rankingSectionId=100\n------\n55 :  \"오거돈·박원순, 권력형 성범죄 맞냐\" 물음에 끝까지 답 못한 여가부 장관 https://news.naver.com/main/ranking/read.nhn?mid=etc&sid1=111&rankingType=popular_day&oid=469&aid=0000521888&date=20200803&type=1&rankingSeq=6&rankingSectionId=100\n------\n56 :  잠자던 '야성' 깨운 윤희숙…통합당 \"합리적 '대안 야당' 되자\" https://news.naver.com/main/ranking/read.nhn?mid=etc&sid1=111&rankingType=popular_day&oid=015&aid=0004391547&date=20200803&type=1&rankingSeq=7&rankingSectionId=100\n------\n57 :  \"부동산 폭등은 MB·박근혜 정부 때문\"…오늘도 '남탓'한 與 https://news.naver.com/main/ranking/read.nhn?mid=etc&sid1=111&rankingType=popular_day&oid=015&aid=0004391479&date=20200803&type=1&rankingSeq=8&rankingSectionId=100\n------\n58 :  [레이더P] 바뀐 서울 민심…정당지지율 서울서 통합당이 민주당 앞서 https://news.naver.com/main/ranking/read.nhn?mid=etc&sid1=111&rankingType=popular_day&oid=009&aid=0004627658&date=20200803&type=1&rankingSeq=9&rankingSectionId=100\n------\n59 :  [1보] 외교부 \"성추행 의혹 외교관 오늘부로 즉각 귀임 발령\" https://news.naver.com/main/ranking/read.nhn?mid=etc&sid1=111&rankingType=popular_day&oid=001&aid=0011788427&date=20200803&type=1&rankingSeq=10&rankingSectionId=100\n------\n60 :  미국인이 42채 '싹쓸이' 中유학생은 8채 사서 임대... 만만했던 한국 부동산 https://news.naver.com/main/ranking/read.nhn?mid=etc&sid1=111&rankingType=popular_day&oid=469&aid=0000521902&date=20200803&type=1&rankingSeq=1&rankingSectionId=101\n------\n61 :  갭투자로 아파트 42채 쓸어 담은 미국인, 세무조사 착수 https://news.naver.com/main/ranking/read.nhn?mid=etc&sid1=111&rankingType=popular_day&oid=023&aid=0003551211&date=20200803&type=1&rankingSeq=2&rankingSectionId=101\n------\n62 :  일회용마스크 4종 피부염 유발 우려… 리콜 권고 https://news.naver.com/main/ranking/read.nhn?mid=etc&sid1=111&rankingType=popular_day&oid=032&aid=0003024464&date=20200803&type=1&rankingSeq=3&rankingSectionId=101\n------\n63 :  2년만에 아파트 42채 갭투자 미국인…외국인 다주택자 세무조사 https://news.naver.com/main/ranking/read.nhn?mid=etc&sid1=111&rankingType=popular_day&oid=001&aid=0011787910&date=20200803&type=1&rankingSeq=4&rankingSectionId=101\n------\n64 :  미국인이 갭투자로 42채 구입…외국인도 아파트 쓸어담았다 https://news.naver.com/main/ranking/read.nhn?mid=etc&sid1=111&rankingType=popular_day&oid=025&aid=0003022999&date=20200803&type=1&rankingSeq=5&rankingSectionId=101\n------\n65 :  미국 \"일본의 수출규제는 WTO 심리 대상 아니다\"…일본 편들어 https://news.naver.com/main/ranking/read.nhn?mid=etc&sid1=111&rankingType=popular_day&oid=001&aid=0011787924&date=20200803&type=1&rankingSeq=6&rankingSectionId=101\n------\n66 :  [단독] 文 정부 3년 집값 급등 상위 지역 보니…충청권 '싹쓸이' https://news.naver.com/main/ranking/read.nhn?mid=etc&sid1=111&rankingType=popular_day&oid=015&aid=0004391534&date=20200803&type=1&rankingSeq=7&rankingSectionId=101\n------\n67 :  부모가 집 있으면 미혼 20대에 취득세 폭탄?… \"중위소득 40% 이상은 독립가구 인정\" https://news.naver.com/main/ranking/read.nhn?mid=etc&sid1=111&rankingType=popular_day&oid=277&aid=0004729825&date=20200803&type=1&rankingSeq=8&rankingSectionId=101\n------\n68 :  김현아 “임대차법 최대 수혜자, 강남 10억 고액 전세자” https://news.naver.com/main/ranking/read.nhn?mid=etc&sid1=111&rankingType=popular_day&oid=081&aid=0003112561&date=20200803&type=1&rankingSeq=9&rankingSectionId=101\n------\n69 :  ‘갭투자’로 42채…외국인 집주인들 세무조사 착수 https://news.naver.com/main/ranking/read.nhn?mid=etc&sid1=111&rankingType=popular_day&oid=056&aid=0010879130&date=20200803&type=2&rankingSeq=10&rankingSectionId=101\n------\n70 :  천안 ‘집중호우경보’ 발령…‘침수 우려’ 성정지하차도 통제 https://news.naver.com/main/ranking/read.nhn?mid=etc&sid1=111&rankingType=popular_day&oid=020&aid=0003301200&date=20200803&type=1&rankingSeq=1&rankingSectionId=102\n------\n71 :  친구 살해 뒤 무의도에 버렸다…'가방 시신' 사건 20대들 자수 https://news.naver.com/main/ranking/read.nhn?mid=etc&sid1=111&rankingType=popular_day&oid=025&aid=0003023007&date=20200803&type=1&rankingSeq=2&rankingSectionId=102\n------\n72 :  [속보] 강원 홍천군 캠핑장 확진자, 강남 커피숍 머물러...방역당국 \"관련성 확인 중\" https://news.naver.com/main/ranking/read.nhn?mid=etc&sid1=111&rankingType=popular_day&oid=469&aid=0000521914&date=20200803&type=1&rankingSeq=3&rankingSectionId=102\n------\n73 :  [속보] 가평 펜션에 토사 밀려 들어와… 어린이 등 3명 실종 https://news.naver.com/main/ranking/read.nhn?mid=etc&sid1=111&rankingType=popular_day&oid=469&aid=0000521905&date=20200803&type=1&rankingSeq=4&rankingSectionId=102\n------\n74 :  \"승객 방귀에 이성 잃었다\" 흉기 10여차례 휘두른 택시기사 https://news.naver.com/main/ranking/read.nhn?mid=etc&sid1=111&rankingType=popular_day&oid=025&aid=0003022980&date=20200803&type=1&rankingSeq=5&rankingSectionId=102\n------\n75 :  가평서 토사에 펜션 매몰돼 구조작업중…\"3명 대피 못 해\" https://news.naver.com/main/ranking/read.nhn?mid=etc&sid1=111&rankingType=popular_day&oid=001&aid=0011788202&date=20200803&type=1&rankingSeq=6&rankingSectionId=102\n------\n76 :  [속보] 서울 집중호우로 올림픽대로 염창IC~동작대교 교통통제 https://news.naver.com/main/ranking/read.nhn?mid=etc&sid1=111&rankingType=popular_day&oid=032&aid=0003024492&date=20200803&type=1&rankingSeq=7&rankingSectionId=102\n------\n77 :  친구 살해 후 인천 무의도에 시신 유기 20대 2명 체포 https://news.naver.com/main/ranking/read.nhn?mid=etc&sid1=111&rankingType=popular_day&oid=469&aid=0000521892&date=20200803&type=1&rankingSeq=8&rankingSectionId=102\n------\n78 :  평택 공장에 토사 덮쳐 3명 사망·1명 중상(종합) https://news.naver.com/main/ranking/read.nhn?mid=etc&sid1=111&rankingType=popular_day&oid=001&aid=0011788086&date=20200803&type=1&rankingSeq=9&rankingSectionId=102\n------\n79 :  [단독] '한 방' 못찾은 채널A 수사팀, 기소 전날 또 노트북 포렌식 https://news.naver.com/main/ranking/read.nhn?mid=etc&sid1=111&rankingType=popular_day&oid=023&aid=0003551217&date=20200803&type=1&rankingSeq=10&rankingSectionId=102\n------\n80 :  'IQ 164' 3살 영재의 놀라운 성장…비결은 부모다 https://news.naver.com/main/ranking/read.nhn?mid=etc&sid1=111&rankingType=popular_day&oid=055&aid=0000832053&date=20200803&type=2&rankingSeq=1&rankingSectionId=103\n------\n81 :  \"오히려 기분 나빠\"…영재 망치는 '독'되는 칭찬 https://news.naver.com/main/ranking/read.nhn?mid=etc&sid1=111&rankingType=popular_day&oid=055&aid=0000832054&date=20200803&type=2&rankingSeq=2&rankingSectionId=103\n------\n82 :  `장대비 내려도 나는 달린다`…위험천만 러닝族 \"뿌듯하다\" https://news.naver.com/main/ranking/read.nhn?mid=etc&sid1=111&rankingType=popular_day&oid=009&aid=0004627628&date=20200803&type=1&rankingSeq=3&rankingSectionId=103\n------\n83 :  진로 바뀐 4호 태풍 '하구핏'...우리나라로 올 가능성은? https://news.naver.com/main/ranking/read.nhn?mid=etc&sid1=111&rankingType=popular_day&oid=052&aid=0001472759&date=20200803&type=2&rankingSeq=4&rankingSectionId=103\n------\n84 :  “병 생긴 뒤 후회한다” 당장 토마토가 필요한 사람들 5 https://news.naver.com/main/ranking/read.nhn?mid=etc&sid1=111&rankingType=popular_day&oid=296&aid=0000045890&date=20200803&type=1&rankingSeq=5&rankingSectionId=103\n------\n85 :  폭우로 침수된 KTX천안아산역 인근 지하도 https://news.naver.com/main/ranking/read.nhn?mid=etc&sid1=111&rankingType=popular_day&oid=001&aid=0011788124&date=20200803&type=1&rankingSeq=6&rankingSectionId=103\n------\n86 :  [뉴스피처] \"남자 만날 수 있다\" 영상 올렸다가…감옥 가게 된 여대생 https://news.naver.com/main/ranking/read.nhn?mid=etc&sid1=111&rankingType=popular_day&oid=001&aid=0011786953&date=20200803&type=1&rankingSeq=7&rankingSectionId=103\n------\n87 :  [더오래]모기가 얼마나 싫었으면…정약용이 남긴 시 ‘증문’ https://news.naver.com/main/ranking/read.nhn?mid=etc&sid1=111&rankingType=popular_day&oid=025&aid=0003023010&date=20200803&type=1&rankingSeq=8&rankingSectionId=103\n------\n88 :  '돌밥돌밥' 이제 못하겠어요... 밥 프리를 선언합니다 https://news.naver.com/main/ranking/read.nhn?mid=etc&sid1=111&rankingType=popular_day&oid=047&aid=0002279185&date=20200803&type=1&rankingSeq=9&rankingSectionId=103\n------\n89 :  그때 그 감성 그대로…'추억 소환' 뉴트로 게임 열풍｜아침& 라이프 https://news.naver.com/main/ranking/read.nhn?mid=etc&sid1=111&rankingType=popular_day&oid=437&aid=0000244183&date=20200803&type=2&rankingSeq=10&rankingSectionId=103\n------\n90 :  34살 세계 최연소 핀란드 총리, 코로나 꺾이자 드디어 결혼 https://news.naver.com/main/ranking/read.nhn?mid=etc&sid1=111&rankingType=popular_day&oid=023&aid=0003551212&date=20200803&type=1&rankingSeq=1&rankingSectionId=104\n------\n91 :  틱톡 퇴출 이갈더니 MS 인수 사실상 승인…트럼프 돌변, 왜 https://news.naver.com/main/ranking/read.nhn?mid=etc&sid1=111&rankingType=popular_day&oid=025&aid=0003023003&date=20200803&type=1&rankingSeq=2&rankingSectionId=104\n------\n92 :  美 곳곳으로 배달된 중국발 '의문의 씨앗' 정체 밝혀져 https://news.naver.com/main/ranking/read.nhn?mid=etc&sid1=111&rankingType=popular_day&oid=052&aid=0001472887&date=20200803&type=1&rankingSeq=3&rankingSectionId=104\n------\n93 :  태풍 하구핏, 중국 향한다…샨샤댐 수위 조절에 초긴장 https://news.naver.com/main/ranking/read.nhn?mid=etc&sid1=111&rankingType=popular_day&oid=215&aid=0000890782&date=20200803&type=1&rankingSeq=4&rankingSectionId=104\n------\n94 :  “피라미드 외계인이 만들었다”는 머스크에게 이집트가 통 큰 초청장을 날렸다 https://news.naver.com/main/ranking/read.nhn?mid=etc&sid1=111&rankingType=popular_day&oid=028&aid=0002507337&date=20200803&type=1&rankingSeq=5&rankingSectionId=104\n------\n95 :  교도관 쓰러지자 60명이 일제히 철문 두드려…美 수감자들 화제 https://news.naver.com/main/ranking/read.nhn?mid=etc&sid1=111&rankingType=popular_day&oid=022&aid=0003490185&date=20200803&type=1&rankingSeq=6&rankingSectionId=104\n------\n96 :  英 해변서 4.5m 괴생명체 사체 발견…“고래로 추정” https://news.naver.com/main/ranking/read.nhn?mid=etc&sid1=111&rankingType=popular_day&oid=081&aid=0003112589&date=20200803&type=1&rankingSeq=7&rankingSectionId=104\n------\n97 :  한국인은 돈 내고 물 마셔라?…日 유명 초밥집의 혐한 https://news.naver.com/main/ranking/read.nhn?mid=etc&sid1=111&rankingType=popular_day&oid=079&aid=0003390684&date=20200803&type=1&rankingSeq=8&rankingSectionId=104\n------\n98 :  212년 된 조각상 발가락이 똑, 셀카 찍고 도망간 남성 https://news.naver.com/main/ranking/read.nhn?mid=etc&sid1=111&rankingType=popular_day&oid=023&aid=0003551206&date=20200803&type=1&rankingSeq=9&rankingSectionId=104\n------\n99 :  美, WTO 회의장서 \"수출규제는 日 안보조치\" 발언 파문 https://news.naver.com/main/ranking/read.nhn?mid=etc&sid1=111&rankingType=popular_day&oid=025&aid=0003023022&date=20200803&type=1&rankingSeq=10&rankingSectionId=104\n------\n100 :  “갤노트20 대신 싼 노트10 사자!”…‘반짝’ 특수 [IT선빵!] https://news.naver.com/main/ranking/read.nhn?mid=etc&sid1=111&rankingType=popular_day&oid=016&aid=0001707231&date=20200803&type=1&rankingSeq=1&rankingSectionId=105\n------\n101 :  27만명→3만명… 네이버통장 ‘한달천하’ [IT선빵!] https://news.naver.com/main/ranking/read.nhn?mid=etc&sid1=111&rankingType=popular_day&oid=016&aid=0001707186&date=20200803&type=1&rankingSeq=2&rankingSectionId=105\n------\n102 :  '괴짜 천재' 일론 머스크가 막 올린 민간 우주여행 시대 https://news.naver.com/main/ranking/read.nhn?mid=etc&sid1=111&rankingType=popular_day&oid=008&aid=0004449443&date=20200803&type=1&rankingSeq=3&rankingSectionId=105\n------\n103 :  ‘배터리 전쟁’ 韓 잰걸음 vs 日·中 뒷걸음…승자는 LG화학 https://news.naver.com/main/ranking/read.nhn?mid=etc&sid1=111&rankingType=popular_day&oid=138&aid=0002089610&date=20200803&type=1&rankingSeq=4&rankingSectionId=105\n------\n104 :  “갤노트20 대신 싼 갤노트10 사자!”…반짝 특수 [IT선빵!] https://news.naver.com/main/ranking/read.nhn?mid=etc&sid1=111&rankingType=popular_day&oid=016&aid=0001707363&date=20200803&type=1&rankingSeq=5&rankingSectionId=105\n------\n105 :  美 첫 민간 유인우주선 지구 귀환, 우주에서 봤더니… https://news.naver.com/main/ranking/read.nhn?mid=etc&sid1=111&rankingType=popular_day&oid=092&aid=0002195462&date=20200803&type=1&rankingSeq=6&rankingSectionId=105\n------\n106 :  일론 머스크도 감탄…미국 우주인, 45년 만에 해상 귀환 https://news.naver.com/main/ranking/read.nhn?mid=etc&sid1=111&rankingType=popular_day&oid=215&aid=0000890611&date=20200803&type=1&rankingSeq=7&rankingSectionId=105\n------\n107 :  “누가 콜록했는지 다 압니다”…‘기침 인식 카메라’ 국내 개발 https://news.naver.com/main/ranking/read.nhn?mid=etc&sid1=111&rankingType=popular_day&oid=028&aid=0002507356&date=20200803&type=1&rankingSeq=8&rankingSectionId=105\n------\n108 :  보령제약, 소세포폐암 신약 ‘러비넥테딘’ 희귀의약품 지정 https://news.naver.com/main/ranking/read.nhn?mid=etc&sid1=111&rankingType=popular_day&oid=366&aid=0000564412&date=20200803&type=1&rankingSeq=9&rankingSectionId=105\n------\n109 :  “반갑다 중력아!”…美 첫 유인우주선 ‘크루드래건’ 귀환 성공[청계천 옆 사진관] https://news.naver.com/main/ranking/read.nhn?mid=etc&sid1=111&rankingType=popular_day&oid=020&aid=0003301199&date=20200803&type=1&rankingSeq=10&rankingSectionId=105\n------\n"
    }
   ],
   "source": [
    "# BeautifulSoup\n",
    "soup = BeautifulSoup(html, 'html.parser')\n",
    "tag_list = soup.select(\"a[href*='read.nhn']\") # a 태그들의 href에 read.nhn 값들만 파싱해서 tag_list에 저장\n",
    "print(type(tag_list), len(tag_list)) # <class 'bs4.element.ResultSet'> 109\n",
    "for idx, a_tag in enumerate(tag_list):  # a tag가 109개 있다는 뜻[<a> <a> <a> <a>]\n",
    "    #print(a_tag)\n",
    "    title = a_tag.text.strip() # .text 는 문자만 출력을 해라\n",
    "     # ['href'] = 변수가 아니니까 ' ' 로 막아줘야한다\n",
    "    link = urljoin(url, a_tag['href'])\n",
    "    print(idx+1,': ', title, link)\n",
    "    print('------') "
   ]
  },
  {
   "cell_type": "markdown",
   "metadata": {},
   "source": [
    "### 2. NHN 번역 서비스 Papago 사용하기\n",
    "* urllib 를 사용하기\n",
    "* requests를 사용하기"
   ]
  },
  {
   "cell_type": "code",
   "execution_count": 39,
   "metadata": {
    "tags": []
   },
   "outputs": [
    {
     "output_type": "stream",
     "name": "stdout",
     "text": "{\"message\":{\"@type\":\"response\",\"@service\":\"naverservice.nmt.proxy\",\"@version\":\"1.0.0\",\"result\":{\"srcLangType\":\"en\",\"tarLangType\":\"ko\",\"translatedText\":\"어제 나의 모든 고민들은 너무나 멀리 떨어져 있는 것 같았다.\",\"engineType\":\"N2MT\",\"pivot\":null}}}\n"
    }
   ],
   "source": [
    "# 네이버 Papago NMT API 예제\n",
    "# urllib\n",
    "import os                                 \n",
    "import sys                                   \n",
    "import urllib.request                       \n",
    "\n",
    "client_id = \"Zo1vTslyKxKYskf_qfUk\"\n",
    "client_secret = \"X5kGpbWEbv\"\n",
    "\n",
    "encText = urllib.parse.quote(\"Yesterday all my troubles seemed so far away.\")\n",
    "# query string\n",
    "data = \"source=en&target=ko&text=\" + encText                                  # 영어에서 한글로 번역\n",
    "url = \"https://openapi.naver.com/v1/papago/n2mt\"\n",
    "\n",
    "\n",
    "request = urllib.request.Request(url)\n",
    "request.add_header(\"X-Naver-Client-Id\",client_id)                      # header 에 정해준 값을 넣어야 실행됌\n",
    "request.add_header(\"X-Naver-Client-Secret\",client_secret)              # header 에 정해준 값을 넣어야 실행됌\n",
    "response = urllib.request.urlopen(request, data=data.encode(\"utf-8\"))\n",
    "rescode = response.getcode()\n",
    "if(rescode==200):\n",
    "    response_body = response.read()\n",
    "    print(response_body.decode('utf-8'))\n",
    "else:\n",
    "    print(\"Error Code:\" + rescode)"
   ]
  },
  {
   "cell_type": "markdown",
   "metadata": {},
   "source": [
    "### requests 예제로 변환하기"
   ]
  },
  {
   "cell_type": "code",
   "execution_count": 40,
   "metadata": {
    "tags": []
   },
   "outputs": [
    {
     "output_type": "stream",
     "name": "stdout",
     "text": "응답헤더값들 {'Server': 'nginx', 'Date': 'Mon, 03 Aug 2020 07:29:52 GMT', 'Content-Type': 'application/json; charset=UTF-8', 'Content-Length': '245', 'Connection': 'keep-alive', 'Keep-Alive': 'timeout=5', 'X-QUOTA': '45', 'Content-Encoding': 'gzip'}\n요청헤더값들 {'User-Agent': 'python-requests/2.22.0', 'Accept-Encoding': 'gzip, deflate', 'Accept': '*/*', 'Connection': 'keep-alive', 'X-Naver-Client-Id': 'Zo1vTslyKxKYskf_qfUk', 'X-Naver-Client-Secret': 'X5kGpbWEbv', 'Content-Length': '70', 'Content-Type': 'application/x-www-form-urlencoded'}\nstatus code 200\n{\"message\":{\"@type\":\"response\",\"@service\":\"naverservice.nmt.proxy\",\"@version\":\"1.0.0\",\"result\":{\"srcLangType\":\"en\",\"tarLangType\":\"ko\",\"translatedText\":\"어제 나의 모든 고민들은 너무나 멀리 떨어져 있는 것 같았다.\",\"engineType\":\"N2MT\",\"pivot\":null}}}\n"
    }
   ],
   "source": [
    "import requests\n",
    "\n",
    "client_id = \"Zo1vTslyKxKYskf_qfUk\"\n",
    "client_secret = \"X5kGpbWEbv\"\n",
    "\n",
    "url = \"https://openapi.naver.com/v1/papago/n2mt\"\n",
    "encText = \"Yesterday all my troubles seemed so far away.\"\n",
    "\n",
    "req_headers = {\n",
    "    \"X-Naver-Client-Id\": client_id,\n",
    "    \"X-Naver-Client-Secret\" : client_secret\n",
    "}\n",
    "params = {\n",
    "    'source' : 'en',\n",
    "    'target' : 'ko',\n",
    "    'text' : encText           # encText 는 변수라 막으면 안됌\n",
    "}\n",
    "# params\n",
    "response = requests.post(url, headers=req_headers, data=params) # req_headers = 정해져 있는 속성 , params = 정해져 있는 속성\n",
    "print('응답헤더값들', response.headers)\n",
    "print('요청헤더값들', response.request.headers)\n",
    "print('status code', response.status_code)  \n",
    "\n",
    "if response.status_code == 200:\n",
    "    print(response.text)\n",
    "else:\n",
    "    print('Error Code', response.status_code)"
   ]
  },
  {
   "cell_type": "code",
   "execution_count": 7,
   "metadata": {},
   "outputs": [
    {
     "name": "stdout",
     "output_type": "stream",
     "text": [
      "<class 'dict'> {'message': {'@type': 'response', '@service': 'naverservice.nmt.proxy', '@version': '1.0.0', 'result': {'srcLangType': 'en', 'tarLangType': 'ko', 'translatedText': '어제 나의 모든 고민들은 너무나 멀리 떨어져 있는 것 같았다.', 'engineType': 'N2MT', 'pivot': None}}}\n"
     ]
    }
   ],
   "source": [
    "myjson = response.json()\n",
    "print(type(myjson), myjson)"
   ]
  },
  {
   "cell_type": "code",
   "execution_count": 8,
   "metadata": {},
   "outputs": [
    {
     "data": {
      "text/plain": [
       "'어제 나의 모든 고민들은 너무나 멀리 떨어져 있는 것 같았다.'"
      ]
     },
     "execution_count": 8,
     "metadata": {},
     "output_type": "execute_result"
    }
   ],
   "source": [
    "myjson['message']['result']['translatedText']"
   ]
  },
  {
   "cell_type": "markdown",
   "metadata": {},
   "source": [
    "### requests의 Request, Session 객체를 사용하는 방식으로 변환"
   ]
  },
  {
   "cell_type": "code",
   "execution_count": 9,
   "metadata": {},
   "outputs": [
    {
     "name": "stdout",
     "output_type": "stream",
     "text": [
      "어제 나의 모든 고민들은 너무나 멀리 떨어져 있는 것 같았다.\n"
     ]
    }
   ],
   "source": [
    "import requests\n",
    "# Request 와 Session 클래스를 import\n",
    "from requests import Request, Session\n",
    "\n",
    "client_id = \"Zo1vTslyKxKYskf_qfUk\"\n",
    "client_secret = \"X5kGpbWEbv\"\n",
    "\n",
    "url = \"https://openapi.naver.com/v1/papago/n2mt\"\n",
    "encText = \"Yesterday all my troubles seemed so far away.\"\n",
    "\n",
    "req_headers = {\n",
    "    \"X-Naver-Client-Id\": client_id,\n",
    "    \"X-Naver-Client-Secret\" : client_secret\n",
    "}\n",
    "parmas = {\n",
    "    'source' : 'en',\n",
    "    'target' : 'ko',\n",
    "    'text' : encText\n",
    "}\n",
    "# parmas\n",
    "\n",
    "# Session 객체 생성\n",
    "session = Session()\n",
    "# Request 객체 생성\n",
    "request = Request('POST', url, headers=req_headers, data=parmas) # req_headers = 정해져 있는 속성 , parmas = 정해져 있는 속성\n",
    "# requests의 prepare() 함수 호출\n",
    "prepped = request.prepare()\n",
    "\n",
    "# session의 send() 함수를 호출해서 서버에 요청\n",
    "response = session.send(prepped)\n",
    "\n",
    "# print('응답헤더값들', response.headers)\n",
    "# print('요청헤더값들', response.request.headers)           # \n",
    "# print('status code', response.status_code)                # http 상태 코드\n",
    "\n",
    "if response.status_code == 200:\n",
    "    print(response.json()['message']['result']['translatedText'])\n",
    "else:\n",
    "    print('Error Code', response.status_code)"
   ]
  },
  {
   "cell_type": "code",
   "execution_count": null,
   "metadata": {},
   "outputs": [],
   "source": []
  }
 ],
 "metadata": {
  "kernelspec": {
   "display_name": "Python 3",
   "language": "python",
   "name": "python3"
  },
  "language_info": {
   "codemirror_mode": {
    "name": "ipython",
    "version": 3
   },
   "file_extension": ".py",
   "mimetype": "text/x-python",
   "name": "python",
   "nbconvert_exporter": "python",
   "pygments_lexer": "ipython3",
   "version": "3.7.0"
  }
 },
 "nbformat": 4,
 "nbformat_minor": 2
}